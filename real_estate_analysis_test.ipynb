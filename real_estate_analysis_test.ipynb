{
 "cells": [
  {
   "cell_type": "code",
   "execution_count": 15,
   "metadata": {},
   "outputs": [],
   "source": [
    "import pandas as pd\n",
    "import numpy as np\n",
    "import tidyxbrl\n",
    "import plotly.express as px\n",
    "import plotly.graph_objects as go\n",
    "\n",
    "\n",
    "from src.tidyxbrl.xbrl_apikey import *\n",
    "from src.tidyxbrl.xbrl_query import *\n",
    "from src.tidyxbrl.xbrl_parse import *\n",
    "from src.tidyxbrl.edgar_query import *\n",
    "from src.tidyxbrl.edgar_cik import *\n",
    "from src.tidyxbrl.edgar_frames import *\n",
    "\n",
    "pd.set_option(\"display.max_colwidth\", None)"
   ]
  },
  {
   "cell_type": "code",
   "execution_count": 16,
   "metadata": {},
   "outputs": [
    {
     "name": "stdout",
     "output_type": "stream",
     "text": [
      "Start Row: 0 - Avison Young (Canada) Inc.\n",
      "Start Row: 0 - BROOKFIELD Corp /ON/SIC: 6512 - OPERATORS OF NONRESIDENTIAL BUILDINGS\n",
      "Start Row: 0 - JONES LANG LASALLE INCSIC: 6531 - REAL ESTATE AGENTS & MANAGERS (FOR OTHERS)\n",
      "Start Row: 0 - BROOKFIELD Corp /ON/SIC: 6512 - OPERATORS OF NONRESIDENTIAL BUILDINGS\n",
      "Start Row: 0 - AMERICAN TOWER CORPSIC: 3669 - COMMUNICATIONS EQUIPMENT, NEC\n",
      "Start Row: 0 - PROLOGISSIC: 6798 - REAL ESTATE INVESTMENT TRUSTS\n",
      "Start Row: 0 - WEYERHAEUSER COSIC: 6798 - REAL ESTATE INVESTMENT TRUSTS\n",
      "Start Row: 0 - Equinix Europe 2 Financing Corp LLC\n",
      "Start Row: 0 - EQUITY RESIDENTIALSIC: 6798 - REAL ESTATE INVESTMENT TRUSTS\n",
      "Start Row: 0 - Public StorageSIC: 6798 - REAL ESTATE INVESTMENT TRUSTS\n",
      "Start Row: 0 - ALEXANDRIA REAL ESTATE EQUITIES, INC.SIC: 6798 - REAL ESTATE INVESTMENT TRUSTS\n",
      "Start Row: 0 - DIGITAL REALTY TRUST, INC.SIC: 6798 - REAL ESTATE INVESTMENT TRUSTS\n",
      "Start Row: 0 - BOSTON PROPERTIES INCSIC: 6798 - REAL ESTATE INVESTMENT TRUSTS\n",
      "Final Row Reached At 0\n",
      "Start Row: 0 - VICI PROPERTIES 1 LLCSIC: 7011 - HOTELS & MOTELS\n",
      "Start Row: 0 - Ventas Broadway MOB, LLC\n",
      "Start Row: 0 - WELLTOWER INC.SIC: 6798 - REAL ESTATE INVESTMENT TRUSTS\n",
      "Final Row Reached At 0\n",
      "         cik     cik_str                                                                                   company state\n",
      "0    1682683  0001682683                                                                Avison Young (Canada) Inc.    IL\n",
      "1    1543444  0001543444                                           Avison Young Apartment Co-Investment Fund, L.P.    IL\n",
      "2    1665570  0001665570                                                     Avison Young Apartment Holdings, L.P.    IL\n",
      "3    1001085  0001001085                     BROOKFIELD Corp /ON/SIC: 6512 - OPERATORS OF NONRESIDENTIAL BUILDINGS    A6\n",
      "4    1895231  0001895231                                         Brookfield Asset Management Insurance Advisor LLC    NY\n",
      "5    1937926  0001937926                             Brookfield Asset Management Ltd.SIC: 6282 - INVESTMENT ADVICE    A6\n",
      "6    1474505  0001474505                                                Brookfield Asset Management PLC Canada, LP    A6\n",
      "7    1504716  0001504716             Brookfield Asset Management Private Institutional Capital Adviser (Canada) LP    A6\n",
      "8    1621735  0001621735           Brookfield Asset Management Private Institutional Capital Adviser (Credit), LLC    NY\n",
      "9    1666925  0001666925  Brookfield Asset Management Private Institutional Capital Adviser (Private Equity), L.P.    A6\n",
      "10   1590912  0001590912                 Brookfield Asset Management Private Institutional Capital Adviser US, LLC    NY\n",
      "11   1837429  0001837429                            Brookfield Reinsurance Ltd.SIC: 6399 - INSURANCE CARRIERS, NEC    D0\n",
      "12   1962420  0001962420                                                           Brookfield Asset Management ULC    A6\n",
      "13   1037976  0001037976              JONES LANG LASALLE INCSIC: 6531 - REAL ESTATE AGENTS & MANAGERS (FOR OTHERS)    IL\n",
      "14   1314152  0001314152                  JLL Income Property Trust, Inc.SIC: 6798 - REAL ESTATE INVESTMENT TRUSTS    IL\n",
      "15   1138118  0001138118                                                                         CBRE GROUP, INC.     TX\n",
      "16   1628369  0001628369                                                                  Cushman & Wakefield plc     X0\n",
      "17   1690680  0001690680                                                                      NEWMARK GROUP, INC.     NY\n",
      "18    913353  0000913353                                                        Colliers International Group Inc.     A6\n",
      "29    932455  0000932455                              AMERICAN TOWER CORPSIC: 3669 - COMMUNICATIONS EQUIPMENT, NEC    TX\n",
      "30   1053507  0001053507                         AMERICAN TOWER CORP /MA/SIC: 6798 - REAL ESTATE INVESTMENT TRUSTS    MA\n",
      "31   1221058  0001221058                                                              AMERICAN TOWER DELAWARE CORP    MA\n",
      "32   1732638  0001732638                                                         American Tower Depositor Sub, LLC    MA\n",
      "33   1221072  0001221072                                                          AMERICAN TOWER INTERNATIONAL INC    MA\n",
      "34   1221074  0001221074                                                                        AMERICAN TOWER LLC    MA\n",
      "35   1221088  0001221088                                                                         AMERICAN TOWER LP    MA\n",
      "36   1221060  0001221060                                                             AMERICAN TOWER MANAGEMENT LLC    MA\n",
      "37   1221076  0001221076                                                                     AMERICAN TOWER PA LLC    MA\n",
      "38   1521952  0001521952                        American Tower REIT, Inc.SIC: 6798 - REAL ESTATE INVESTMENT TRUSTS    MA\n",
      "39   1221091  0001221091                                                                    AMERICAN TOWER TRUST 1    MA\n",
      "40   1221092  0001221092                                                                    AMERICAN TOWER TRUST 2    MA\n",
      "41   1732636  0001732636                                                                    American Tower Trust I    MA\n",
      "42   1221054  0001221054         AMERICAN TOWERS INCSIC: 3663 - RADIO & TV BROADCASTING & COMMUNICATIONS EQUIPMENT    MA\n",
      "43    899881  0000899881                                         PROLOGISSIC: 6798 - REAL ESTATE INVESTMENT TRUSTS    CO\n",
      "44   1796122  0001796122                                                    Prologis China Core Logistics Fund, LP    U0\n",
      "45   1747565  0001747565                        Prologis Euro Finance LLCSIC: 6798 - REAL ESTATE INVESTMENT TRUSTS    CO\n",
      "46   1589134  0001589134                                                          Prologis European Logistics Fund    N4\n",
      "47   1301074  0001301074                                                                        ProLogis Fraser LP    CO\n",
      "48   2008333  0002008333                                                                  Prologis Fund I REIT LLC    CO\n",
      "49   2008298  0002008298                                                                 Prologis Fund II REIT LLC    CO\n",
      "50   1412182  0001412182                                                                       ProLogis MX Fund LP    CO\n",
      "51   1357739  0001357739                                               PROLOGIS NORTH AMERICAN INDUSTRIAL FUND L P    CO\n",
      "52   1807388  0001807388                                                             Prologis Sterling Finance LLC    CO\n",
      "53   1406152  0001406152                                          Prologis Targeted Europe Logistics Fund, FCP-FIS    N4\n",
      "54   1713082  0001713082                                        Prologis Targeted U.S. Logistics Holdings II, L.P.    CA\n",
      "55   1460242  0001460242                                           Prologis Targeted U.S. Logistics Holdings, L.P.    CA\n",
      "56   1714283  0001714283                                            Prologis Targeted U.S. Logistics REIT II, Inc.    CA\n",
      "57   1308526  0001308526                                               Prologis Targeted U.S. Logistics REIT, Inc.    CA\n",
      "58   1597656  0001597656                                                                  Prologis USLV REIT, Inc.    CO\n",
      "59   1664161  0001664161                                                              Prologis USLV SubREIT 1, LLC    CO\n",
      "60   1664163  0001664163                                                              Prologis USLV SubREIT 2, LLC    CO\n",
      "61   1664164  0001664164                                                              Prologis USLV SubREIT 3, LLC    CO\n",
      "62   1664165  0001664165                                                              Prologis USLV SubREIT 4, LLC    CO\n",
      "63   1749944  0001749944                                                                  Prologis Yen Finance LLC    CO\n",
      "64   1045609  0001045609                                   Prologis, Inc.SIC: 6798 - REAL ESTATE INVESTMENT TRUSTS    CA\n",
      "65   1045610  0001045610                                                     Prologis, L.P.SIC: 6500 - REAL ESTATE    CA\n",
      "66   1051470  0001051470                                                                        CROWN CASTLE INC.     TX\n",
      "67    106535  0000106535                                  WEYERHAEUSER COSIC: 6798 - REAL ESTATE INVESTMENT TRUSTS    WA\n",
      "68   1098470  0001098470                                                                      WEYERHAEUSER DAVID M    WA\n",
      "69   1056913  0001056913                                                                  WEYERHAEUSER FREDERICK T      \n",
      "70   1056914  0001056914                                                                     WEYERHAEUSER GEORGE H    WA\n",
      "71   1183852  0001183852                                                               WEYERHAEUSER GEORGE HUNT JR      \n",
      "72   1098543  0001098543                                                                    WEYERHAEUSER JOHN P IV    WA\n",
      "73   1183850  0001183850                                                              PIASECKI NICOLE WEYERHAEUSER      \n",
      "74   1593910  0001593910                                 Weyerhaeuser Real Estate CoSIC: 1531 - OPERATIVE BUILDERS    WA\n",
      "75   1899345  0001899345                                                        Weyerhaeuser Timber Holdings, Inc.    WA\n",
      "76   1056916  0001056916                                                                    WEYERHAEUSER WILLIAM T      \n",
      "77   2015000  0002015000                                                       Equinix Europe 2 Financing Corp LLC    CA\n",
      "78   1101239  0001101239                                      EQUINIX INCSIC: 6798 - REAL ESTATE INVESTMENT TRUSTS    CA\n",
      "79    906107  0000906107                               EQUITY RESIDENTIALSIC: 6798 - REAL ESTATE INVESTMENT TRUSTS    IL\n",
      "80    778875  0000778875                                               EQUITY RESIDENTIAL PROPERTIES ASSOCIATES LP      \n",
      "81   1393311  0001393311                                   Public StorageSIC: 6798 - REAL ESTATE INVESTMENT TRUSTS    CA\n",
      "82    318380  0000318380                           PUBLIC STORAGE INC /CASIC: 6798 - REAL ESTATE INVESTMENT TRUSTS    CA\n",
      "83   1989278  0001989278                                                               Public Storage Operating Co    CA\n",
      "84    275915  0000275915                   PUBLIC STORAGE PARTNERS II LTDSIC: 6519 - LESSORS OF REAL PROPERTY, NEC    CA\n",
      "85    225775  0000225775                 PUBLIC STORAGE PROPERTIES IV LTDSIC: 6519 - LESSORS OF REAL PROPERTY, NEC    CA\n",
      "86    202953  0000202953                    PUBLIC STORAGE PROPERTIES LTDSIC: 6519 - LESSORS OF REAL PROPERTY, NEC    CA\n",
      "87    277925  0000277925                  PUBLIC STORAGE PROPERTIES V LTDSIC: 6519 - LESSORS OF REAL PROPERTY, NEC    CA\n",
      "88    864337  0000864337                  PUBLIC STORAGE PROPERTIES X INCSIC: 6519 - LESSORS OF REAL PROPERTY, NEC    CA\n",
      "89    866368  0000866368                       PS BUSINESS PARKS, INC./MDSIC: 6798 - REAL ESTATE INVESTMENT TRUSTS    CA\n",
      "90    869795  0000869795                PUBLIC STORAGE PROPERTIES XII INCSIC: 6798 - REAL ESTATE INVESTMENT TRUSTS    CA\n",
      "91    869624  0000869624                PUBLIC STORAGE PROPERTIES XIV INCSIC: 6798 - REAL ESTATE INVESTMENT TRUSTS    CA\n",
      "92    870905  0000870905                PUBLIC STORAGE PROPERTIES XIX INCSIC: 6798 - REAL ESTATE INVESTMENT TRUSTS    CA\n",
      "93    870499  0000870499                 PUBLIC STORAGE PROPERTIES XV INCSIC: 6798 - REAL ESTATE INVESTMENT TRUSTS    CA\n",
      "94    870179  0000870179                PUBLIC STORAGE PROPERTIES XVI INCSIC: 6798 - REAL ESTATE INVESTMENT TRUSTS    CA\n",
      "95    869805  0000869805               PUBLIC STORAGE PROPERTIES XVII INCSIC: 6798 - REAL ESTATE INVESTMENT TRUSTS    CA\n",
      "96    870376  0000870376              PUBLIC STORAGE PROPERTIES XVIII INCSIC: 6798 - REAL ESTATE INVESTMENT TRUSTS    CA\n",
      "97    870541  0000870541                 PUBLIC STORAGE PROPERTIES XX INCSIC: 6798 - REAL ESTATE INVESTMENT TRUSTS    GA\n",
      "98   1035443  0001035443            ALEXANDRIA REAL ESTATE EQUITIES, INC.SIC: 6798 - REAL ESTATE INVESTMENT TRUSTS    CA\n",
      "99   1542693  0001542693            Alexandria Real Estate Equities, L.P.SIC: 6798 - REAL ESTATE INVESTMENT TRUSTS    CA\n",
      "100   915912  0000915912                                                                AVALONBAY COMMUNITIES INC     VA\n",
      "101  1297996  0001297996                       DIGITAL REALTY TRUST, INC.SIC: 6798 - REAL ESTATE INVESTMENT TRUSTS    TX\n",
      "102  1494877  0001494877                                         DIGITAL REALTY TRUST, L.P.SIC: 6500 - REAL ESTATE    TX\n",
      "103  1037540  0001037540                            BOSTON PROPERTIES INCSIC: 6798 - REAL ESTATE INVESTMENT TRUSTS    MA\n",
      "104  1073765  0001073765                                                                     BOSTON PROPERTIES L P    MA\n",
      "105  1043121  0001043121                BOSTON PROPERTIES LTD PARTNERSHIPSIC: 6798 - REAL ESTATE INVESTMENT TRUSTS    MA\n",
      "106  1538252  0001538252                                                          Boston Properties Management LLC    MA\n",
      "107  1309452  0001309452                                             Boston Properties Office Value-Added Fund L P    MA\n",
      "108  1678185  0001678185                                          VICI PROPERTIES 1 LLCSIC: 7011 - HOTELS & MOTELS    NV\n",
      "109  1705696  0001705696                             VICI PROPERTIES INC.SIC: 6798 - REAL ESTATE INVESTMENT TRUSTS    NY\n",
      "110  1920791  0001920791                             VICI Properties L.P.SIC: 6798 - REAL ESTATE INVESTMENT TRUSTS    NY\n",
      "111  1399630  0001399630                                                                  Ventas Broadway MOB, LLC    KY\n",
      "112  1331200  0001331200                                                                        Ventas Cal Sun LLC    KY\n",
      "113  1174175  0001174175         ElderTrust Operating Limited PartnershipSIC: 6798 - REAL ESTATE INVESTMENT TRUSTS    KY\n",
      "114  1043956  0001043956                              Ventas Capital CorpSIC: 6798 - REAL ESTATE INVESTMENT TRUSTS    KY\n",
      "115  1451670  0001451670                                                                   Ventas Carroll MOB, LLC    KY\n",
      "116  1399629  0001399629                                                               Ventas Casper Holdings, LLC    KY\n",
      "117  1451550  0001451550                                                                    Ventas Center MOB, LLC    KY\n",
      "118  1451548  0001451548                                                                     Ventas Dasco MOB, LLC    KY\n",
      "119  1347864  0001347864                                                                    Ventas Finance I, Inc.    KY\n",
      "120  1347865  0001347865                                                                     Ventas Finance I, LLC    KY\n",
      "121  1311338  0001311338                                                                    Ventas Framingham, LLC    KY\n",
      "122  1399608  0001399608                                                                   Ventas Grantor Trust #1    KY\n",
      "123  1399617  0001399617                                                                   Ventas Grantor Trust #2    KY\n",
      "124  1208680  0001208680                                                          VENTAS HEALTHCARE PROPERTIES INC      \n",
      "125   740260  0000740260                                     Ventas, Inc.SIC: 6798 - REAL ESTATE INVESTMENT TRUSTS    IL\n",
      "126  1805621  0001805621                                   Ventas Life Science & Healthcare Real Estate Fund, L.P.    IL\n",
      "127  1174176  0001174176                                                                      VENTAS LP REALTY LLC    KY\n",
      "128  1311355  0001311355                                                                    Ventas Management, LLC    KY\n",
      "129  1451907  0001451907                                                                   Ventas MO Holdings, LLC    KY\n",
      "130  1399632  0001399632                                                                  Ventas MOB Holdings, LLC    KY\n",
      "131  1399631  0001399631                                                              Ventas Nexcore Holdings, LLC    KY\n",
      "132  1399613  0001399613                                                                   Ventas of Vancouver Ltd    KY\n",
      "133  1331198  0001331198                                                                     Ventas Provident, LLC    KY\n",
      "134  1174174  0001174174               Ventas Realty, Limited PartnershipSIC: 6798 - REAL ESTATE INVESTMENT TRUSTS    KY\n",
      "135  1399601  0001399601                                                             Ventas REIT US Holdings, Inc.    KY\n",
      "136  1347862  0001347862                                                                  Ventas Specialty I, Inc.    KY\n",
      "137  1347863  0001347863                                                                   Ventas Specialty I, LLC    KY\n",
      "138  1399622  0001399622                                                               Ventas SSL Beacon Hill,Inc.    KY\n",
      "139  1399718  0001399718                                                                 Ventas SSL Holdings, Inc.    KY\n",
      "140  1399605  0001399605                                                                  Ventas SSL Holdings, LLC    KY\n",
      "141  1399625  0001399625                                                              Ventas SSL Lynn Valley, Inc.    KY\n",
      "142  1399619  0001399619                                                               Ventas SSL Ontario II, Inc.    KY\n",
      "143  1399628  0001399628                                                              Ventas SSL Ontario III, Inc.    KY\n",
      "144  1399614  0001399614                                                                Ventas SSL Vancouver, Inc.    KY\n",
      "145  1399606  0001399606                                                                          Ventas SSL, Inc.    KY\n",
      "146  1331199  0001331199                                                                            Ventas Sun LLC    KY\n",
      "147  1208682  0001208682                                                                            VENTAS TRS LLC      \n",
      "148  1451543  0001451543                                                                Ventas University MOB, LLC    KY\n",
      "149  1254034  0001254034                                                                               VENTASO INC    CA\n",
      "150   766704  0000766704                                   WELLTOWER INC.SIC: 6798 - REAL ESTATE INVESTMENT TRUSTS    OH\n",
      "151  1726934  0001726934                                                              Welltower OM Member REIT LLC    OH\n",
      "152  1917598  0001917598                                 Welltower OP LLCSIC: 6798 - REAL ESTATE INVESTMENT TRUSTS    OH\n",
      "153  1043219  0001043219                                                            ANNALY CAPITAL MANAGEMENT INC     NY\n",
      "154   920522  0000920522                                                               ESSEX PROPERTY TRUST, INC.     CA\n"
     ]
    }
   ],
   "source": [
    "companylist = [\n",
    "    \"avison young\",\n",
    "    \"brookfield asset management\",\n",
    "    \"jones lang lasalle inc\",\n",
    "    \"cbre group, inc.\",\n",
    "    \"cushman & wakefield plc\",\n",
    "    \"newmark group, inc\",\n",
    "    \"colliers international group inc.\",\n",
    "    \"brookfield asset management\",\n",
    "    \"american tower\",\n",
    "    \"prologis\",\n",
    "    \"crown castle international\",\n",
    "    \"weyerhaeuser\",\n",
    "    \"equinix\",\n",
    "    \"equity residential\",\n",
    "    \"public storage\",\n",
    "    \"alexandria real estate\",\n",
    "    \"avalonbay communities\",\n",
    "    \"digital realty trust\",\n",
    "    \"boston properties\",\n",
    "    \"segro\",\n",
    "    \"vici properties\",\n",
    "    \"ventas\",\n",
    "    \"welltower\",\n",
    "    \"realty income corporation\",\n",
    "    \"annaly capital management\",\n",
    "    \"essex property trust\"\n",
    "]\n",
    "\n",
    "company_cik_list = pd.DataFrame()\n",
    "for company in companylist:\n",
    "    company_cik_list = pd.concat([\n",
    "        company_cik_list,\n",
    "        edgar_cik(company, comprehensive=False)\n",
    "        ]\n",
    "    )\n",
    "\n",
    "company_cik_list =company_cik_list.reset_index(drop=True).drop_duplicates()\n",
    "\n",
    "print(company_cik_list.to_string())"
   ]
  },
  {
   "cell_type": "code",
   "execution_count": 17,
   "metadata": {},
   "outputs": [
    {
     "data": {
      "text/html": [
       "<div>\n",
       "<style scoped>\n",
       "    .dataframe tbody tr th:only-of-type {\n",
       "        vertical-align: middle;\n",
       "    }\n",
       "\n",
       "    .dataframe tbody tr th {\n",
       "        vertical-align: top;\n",
       "    }\n",
       "\n",
       "    .dataframe thead th {\n",
       "        text-align: right;\n",
       "    }\n",
       "</style>\n",
       "<table border=\"1\" class=\"dataframe\">\n",
       "  <thead>\n",
       "    <tr style=\"text-align: right;\">\n",
       "      <th></th>\n",
       "      <th>cik</th>\n",
       "      <th>cik_str</th>\n",
       "      <th>company</th>\n",
       "      <th>state</th>\n",
       "    </tr>\n",
       "  </thead>\n",
       "  <tbody>\n",
       "    <tr>\n",
       "      <th>0</th>\n",
       "      <td>1682683</td>\n",
       "      <td>0001682683</td>\n",
       "      <td>Avison Young (Canada) Inc.</td>\n",
       "      <td>IL</td>\n",
       "    </tr>\n",
       "    <tr>\n",
       "      <th>1</th>\n",
       "      <td>1543444</td>\n",
       "      <td>0001543444</td>\n",
       "      <td>Avison Young Apartment Co-Investment Fund, L.P.</td>\n",
       "      <td>IL</td>\n",
       "    </tr>\n",
       "    <tr>\n",
       "      <th>2</th>\n",
       "      <td>1665570</td>\n",
       "      <td>0001665570</td>\n",
       "      <td>Avison Young Apartment Holdings, L.P.</td>\n",
       "      <td>IL</td>\n",
       "    </tr>\n",
       "    <tr>\n",
       "      <th>3</th>\n",
       "      <td>1001085</td>\n",
       "      <td>0001001085</td>\n",
       "      <td>BROOKFIELD Corp /ON/SIC: 6512 - OPERATORS OF NONRESIDENTIAL BUILDINGS</td>\n",
       "      <td>A6</td>\n",
       "    </tr>\n",
       "    <tr>\n",
       "      <th>4</th>\n",
       "      <td>1895231</td>\n",
       "      <td>0001895231</td>\n",
       "      <td>Brookfield Asset Management Insurance Advisor LLC</td>\n",
       "      <td>NY</td>\n",
       "    </tr>\n",
       "    <tr>\n",
       "      <th>...</th>\n",
       "      <td>...</td>\n",
       "      <td>...</td>\n",
       "      <td>...</td>\n",
       "      <td>...</td>\n",
       "    </tr>\n",
       "    <tr>\n",
       "      <th>150</th>\n",
       "      <td>766704</td>\n",
       "      <td>0000766704</td>\n",
       "      <td>WELLTOWER INC.SIC: 6798 - REAL ESTATE INVESTMENT TRUSTS</td>\n",
       "      <td>OH</td>\n",
       "    </tr>\n",
       "    <tr>\n",
       "      <th>151</th>\n",
       "      <td>1726934</td>\n",
       "      <td>0001726934</td>\n",
       "      <td>Welltower OM Member REIT LLC</td>\n",
       "      <td>OH</td>\n",
       "    </tr>\n",
       "    <tr>\n",
       "      <th>152</th>\n",
       "      <td>1917598</td>\n",
       "      <td>0001917598</td>\n",
       "      <td>Welltower OP LLCSIC: 6798 - REAL ESTATE INVESTMENT TRUSTS</td>\n",
       "      <td>OH</td>\n",
       "    </tr>\n",
       "    <tr>\n",
       "      <th>153</th>\n",
       "      <td>1043219</td>\n",
       "      <td>0001043219</td>\n",
       "      <td>ANNALY CAPITAL MANAGEMENT INC</td>\n",
       "      <td>NY</td>\n",
       "    </tr>\n",
       "    <tr>\n",
       "      <th>154</th>\n",
       "      <td>920522</td>\n",
       "      <td>0000920522</td>\n",
       "      <td>ESSEX PROPERTY TRUST, INC.</td>\n",
       "      <td>CA</td>\n",
       "    </tr>\n",
       "  </tbody>\n",
       "</table>\n",
       "<p>145 rows × 4 columns</p>\n",
       "</div>"
      ],
      "text/plain": [
       "         cik     cik_str  \\\n",
       "0    1682683  0001682683   \n",
       "1    1543444  0001543444   \n",
       "2    1665570  0001665570   \n",
       "3    1001085  0001001085   \n",
       "4    1895231  0001895231   \n",
       "..       ...         ...   \n",
       "150   766704  0000766704   \n",
       "151  1726934  0001726934   \n",
       "152  1917598  0001917598   \n",
       "153  1043219  0001043219   \n",
       "154   920522  0000920522   \n",
       "\n",
       "                                                                   company  \\\n",
       "0                                               Avison Young (Canada) Inc.   \n",
       "1                          Avison Young Apartment Co-Investment Fund, L.P.   \n",
       "2                                    Avison Young Apartment Holdings, L.P.   \n",
       "3    BROOKFIELD Corp /ON/SIC: 6512 - OPERATORS OF NONRESIDENTIAL BUILDINGS   \n",
       "4                        Brookfield Asset Management Insurance Advisor LLC   \n",
       "..                                                                     ...   \n",
       "150                WELLTOWER INC.SIC: 6798 - REAL ESTATE INVESTMENT TRUSTS   \n",
       "151                                           Welltower OM Member REIT LLC   \n",
       "152              Welltower OP LLCSIC: 6798 - REAL ESTATE INVESTMENT TRUSTS   \n",
       "153                                         ANNALY CAPITAL MANAGEMENT INC    \n",
       "154                                            ESSEX PROPERTY TRUST, INC.    \n",
       "\n",
       "    state  \n",
       "0      IL  \n",
       "1      IL  \n",
       "2      IL  \n",
       "3      A6  \n",
       "4      NY  \n",
       "..    ...  \n",
       "150    OH  \n",
       "151    OH  \n",
       "152    OH  \n",
       "153    NY  \n",
       "154    CA  \n",
       "\n",
       "[145 rows x 4 columns]"
      ]
     },
     "execution_count": 17,
     "metadata": {},
     "output_type": "execute_result"
    }
   ],
   "source": [
    "company_cik_list"
   ]
  },
  {
   "cell_type": "code",
   "execution_count": 18,
   "metadata": {},
   "outputs": [
    {
     "name": "stdout",
     "output_type": "stream",
     "text": [
      "cik                           1682683\n",
      "cik_str                    0001682683\n",
      "company    Avison Young (Canada) Inc.\n",
      "state                              IL\n",
      "Name: 0, dtype: object\n"
     ]
    },
    {
     "name": "stderr",
     "output_type": "stream",
     "text": [
      "100%|██████████| 45/45 [00:00<00:00, 6504.59it/s]\n"
     ]
    },
    {
     "name": "stdout",
     "output_type": "stream",
     "text": [
      "cik                                                1543444\n",
      "cik_str                                         0001543444\n",
      "company    Avison Young Apartment Co-Investment Fund, L.P.\n",
      "state                                                   IL\n",
      "Name: 1, dtype: object\n"
     ]
    },
    {
     "name": "stderr",
     "output_type": "stream",
     "text": [
      "100%|██████████| 45/45 [00:00<00:00, 6204.59it/s]\n"
     ]
    },
    {
     "name": "stdout",
     "output_type": "stream",
     "text": [
      "cik                                      1665570\n",
      "cik_str                               0001665570\n",
      "company    Avison Young Apartment Holdings, L.P.\n",
      "state                                         IL\n",
      "Name: 2, dtype: object\n"
     ]
    },
    {
     "name": "stderr",
     "output_type": "stream",
     "text": [
      "100%|██████████| 45/45 [00:00<00:00, 9495.58it/s]\n"
     ]
    },
    {
     "name": "stdout",
     "output_type": "stream",
     "text": [
      "cik                                                                      1001085\n",
      "cik_str                                                               0001001085\n",
      "company    BROOKFIELD Corp /ON/SIC: 6512 - OPERATORS OF NONRESIDENTIAL BUILDINGS\n",
      "state                                                                         A6\n",
      "Name: 3, dtype: object\n"
     ]
    },
    {
     "name": "stderr",
     "output_type": "stream",
     "text": [
      "100%|██████████| 45/45 [00:00<00:00, 1818.83it/s]\n",
      "100%|██████████| 759/759 [00:00<00:00, 2751.41it/s]\n"
     ]
    },
    {
     "name": "stdout",
     "output_type": "stream",
     "text": [
      "cik                                                  1895231\n",
      "cik_str                                           0001895231\n",
      "company    Brookfield Asset Management Insurance Advisor LLC\n",
      "state                                                     NY\n",
      "Name: 4, dtype: object\n"
     ]
    },
    {
     "name": "stderr",
     "output_type": "stream",
     "text": [
      "100%|██████████| 45/45 [00:00<00:00, 4715.88it/s]\n"
     ]
    },
    {
     "name": "stdout",
     "output_type": "stream",
     "text": [
      "cik                                                              1937926\n",
      "cik_str                                                       0001937926\n",
      "company    Brookfield Asset Management Ltd.SIC: 6282 - INVESTMENT ADVICE\n",
      "state                                                                 A6\n",
      "Name: 5, dtype: object\n"
     ]
    },
    {
     "name": "stderr",
     "output_type": "stream",
     "text": [
      "100%|██████████| 45/45 [00:00<00:00, 6143.20it/s]\n",
      "100%|██████████| 237/237 [00:00<00:00, 2892.14it/s]\n"
     ]
    },
    {
     "name": "stdout",
     "output_type": "stream",
     "text": [
      "cik                                           1474505\n",
      "cik_str                                    0001474505\n",
      "company    Brookfield Asset Management PLC Canada, LP\n",
      "state                                              A6\n",
      "Name: 6, dtype: object\n"
     ]
    },
    {
     "name": "stderr",
     "output_type": "stream",
     "text": [
      "100%|██████████| 45/45 [00:00<00:00, 9788.59it/s]\n"
     ]
    },
    {
     "name": "stdout",
     "output_type": "stream",
     "text": [
      "cik                                                                              1504716\n",
      "cik_str                                                                       0001504716\n",
      "company    Brookfield Asset Management Private Institutional Capital Adviser (Canada) LP\n",
      "state                                                                                 A6\n",
      "Name: 7, dtype: object\n"
     ]
    },
    {
     "name": "stderr",
     "output_type": "stream",
     "text": [
      "100%|██████████| 45/45 [00:00<00:00, 5074.16it/s]\n"
     ]
    },
    {
     "name": "stdout",
     "output_type": "stream",
     "text": [
      "cik                                                                                1621735\n",
      "cik_str                                                                         0001621735\n",
      "company    Brookfield Asset Management Private Institutional Capital Adviser (Credit), LLC\n",
      "state                                                                                   NY\n",
      "Name: 8, dtype: object\n"
     ]
    },
    {
     "name": "stderr",
     "output_type": "stream",
     "text": [
      "100%|██████████| 45/45 [00:00<00:00, 7799.33it/s]\n"
     ]
    },
    {
     "name": "stdout",
     "output_type": "stream",
     "text": [
      "cik                                                                                         1666925\n",
      "cik_str                                                                                  0001666925\n",
      "company    Brookfield Asset Management Private Institutional Capital Adviser (Private Equity), L.P.\n",
      "state                                                                                            A6\n",
      "Name: 9, dtype: object\n"
     ]
    },
    {
     "name": "stderr",
     "output_type": "stream",
     "text": [
      "100%|██████████| 45/45 [00:00<00:00, 6457.19it/s]\n"
     ]
    },
    {
     "name": "stdout",
     "output_type": "stream",
     "text": [
      "cik                                                                          1590912\n",
      "cik_str                                                                   0001590912\n",
      "company    Brookfield Asset Management Private Institutional Capital Adviser US, LLC\n",
      "state                                                                             NY\n",
      "Name: 10, dtype: object\n"
     ]
    },
    {
     "name": "stderr",
     "output_type": "stream",
     "text": [
      "100%|██████████| 45/45 [00:00<00:00, 5648.98it/s]\n"
     ]
    },
    {
     "name": "stdout",
     "output_type": "stream",
     "text": [
      "cik                                                               1837429\n",
      "cik_str                                                        0001837429\n",
      "company    Brookfield Reinsurance Ltd.SIC: 6399 - INSURANCE CARRIERS, NEC\n",
      "state                                                                  D0\n",
      "Name: 11, dtype: object\n"
     ]
    },
    {
     "name": "stderr",
     "output_type": "stream",
     "text": [
      "100%|██████████| 45/45 [00:00<00:00, 4614.31it/s]\n",
      "100%|██████████| 1738/1738 [00:00<00:00, 2628.24it/s]\n"
     ]
    },
    {
     "name": "stdout",
     "output_type": "stream",
     "text": [
      "cik                                1962420\n",
      "cik_str                         0001962420\n",
      "company    Brookfield Asset Management ULC\n",
      "state                                   A6\n",
      "Name: 12, dtype: object\n"
     ]
    },
    {
     "name": "stderr",
     "output_type": "stream",
     "text": [
      "100%|██████████| 45/45 [00:00<00:00, 6259.95it/s]\n"
     ]
    },
    {
     "name": "stdout",
     "output_type": "stream",
     "text": [
      "cik                                                                             1037976\n",
      "cik_str                                                                      0001037976\n",
      "company    JONES LANG LASALLE INCSIC: 6531 - REAL ESTATE AGENTS & MANAGERS (FOR OTHERS)\n",
      "state                                                                                IL\n",
      "Name: 13, dtype: object\n"
     ]
    },
    {
     "name": "stderr",
     "output_type": "stream",
     "text": [
      "100%|██████████| 45/45 [00:00<00:00, 2124.37it/s]\n",
      "100%|██████████| 1516/1516 [00:00<00:00, 2748.21it/s]\n"
     ]
    },
    {
     "name": "stdout",
     "output_type": "stream",
     "text": [
      "cik                                                                         1314152\n",
      "cik_str                                                                  0001314152\n",
      "company    JLL Income Property Trust, Inc.SIC: 6798 - REAL ESTATE INVESTMENT TRUSTS\n",
      "state                                                                            IL\n",
      "Name: 14, dtype: object\n"
     ]
    },
    {
     "name": "stderr",
     "output_type": "stream",
     "text": [
      "100%|██████████| 45/45 [00:00<00:00, 2436.75it/s]\n",
      "100%|██████████| 1052/1052 [00:00<00:00, 2650.19it/s]\n"
     ]
    },
    {
     "name": "stdout",
     "output_type": "stream",
     "text": [
      "cik                  1138118\n",
      "cik_str           0001138118\n",
      "company    CBRE GROUP, INC. \n",
      "state                     TX\n",
      "Name: 15, dtype: object\n"
     ]
    },
    {
     "name": "stderr",
     "output_type": "stream",
     "text": [
      "100%|██████████| 45/45 [00:00<00:00, 1890.88it/s]\n",
      "100%|██████████| 2240/2240 [00:00<00:00, 2741.48it/s]\n"
     ]
    },
    {
     "name": "stdout",
     "output_type": "stream",
     "text": [
      "cik                         1628369\n",
      "cik_str                  0001628369\n",
      "company    Cushman & Wakefield plc \n",
      "state                            X0\n",
      "Name: 16, dtype: object\n"
     ]
    },
    {
     "name": "stderr",
     "output_type": "stream",
     "text": [
      "100%|██████████| 45/45 [00:00<00:00, 3213.10it/s]\n",
      "100%|██████████| 1246/1246 [00:00<00:00, 2113.39it/s]\n"
     ]
    },
    {
     "name": "stdout",
     "output_type": "stream",
     "text": [
      "cik                     1690680\n",
      "cik_str              0001690680\n",
      "company    NEWMARK GROUP, INC. \n",
      "state                        NY\n",
      "Name: 17, dtype: object\n"
     ]
    },
    {
     "name": "stderr",
     "output_type": "stream",
     "text": [
      "100%|██████████| 45/45 [00:00<00:00, 4099.11it/s]\n",
      "100%|██████████| 1209/1209 [00:00<00:00, 2802.14it/s]\n"
     ]
    },
    {
     "name": "stdout",
     "output_type": "stream",
     "text": [
      "cik                                    913353\n",
      "cik_str                            0000913353\n",
      "company    Colliers International Group Inc. \n",
      "state                                      A6\n",
      "Name: 18, dtype: object\n"
     ]
    },
    {
     "name": "stderr",
     "output_type": "stream",
     "text": [
      "100%|██████████| 45/45 [00:00<00:00, 3320.20it/s]\n",
      "100%|██████████| 1624/1624 [00:00<00:00, 2941.14it/s]\n"
     ]
    },
    {
     "name": "stdout",
     "output_type": "stream",
     "text": [
      "cik                                                              932455\n",
      "cik_str                                                      0000932455\n",
      "company    AMERICAN TOWER CORPSIC: 3669 - COMMUNICATIONS EQUIPMENT, NEC\n",
      "state                                                                TX\n",
      "Name: 29, dtype: object\n"
     ]
    },
    {
     "name": "stderr",
     "output_type": "stream",
     "text": [
      "100%|██████████| 45/45 [00:00<00:00, 5976.12it/s]\n"
     ]
    },
    {
     "name": "stdout",
     "output_type": "stream",
     "text": [
      "cik                                                                  1053507\n",
      "cik_str                                                           0001053507\n",
      "company    AMERICAN TOWER CORP /MA/SIC: 6798 - REAL ESTATE INVESTMENT TRUSTS\n",
      "state                                                                     MA\n",
      "Name: 30, dtype: object\n"
     ]
    },
    {
     "name": "stderr",
     "output_type": "stream",
     "text": [
      "100%|██████████| 45/45 [00:00<00:00, 2303.83it/s]\n",
      "100%|██████████| 2023/2023 [00:00<00:00, 2657.73it/s]\n"
     ]
    },
    {
     "name": "stdout",
     "output_type": "stream",
     "text": [
      "cik                             1221058\n",
      "cik_str                      0001221058\n",
      "company    AMERICAN TOWER DELAWARE CORP\n",
      "state                                MA\n",
      "Name: 31, dtype: object\n"
     ]
    },
    {
     "name": "stderr",
     "output_type": "stream",
     "text": [
      "100%|██████████| 45/45 [00:00<00:00, 7341.54it/s]\n"
     ]
    },
    {
     "name": "stdout",
     "output_type": "stream",
     "text": [
      "cik                                  1732638\n",
      "cik_str                           0001732638\n",
      "company    American Tower Depositor Sub, LLC\n",
      "state                                     MA\n",
      "Name: 32, dtype: object\n"
     ]
    },
    {
     "name": "stderr",
     "output_type": "stream",
     "text": [
      "100%|██████████| 45/45 [00:00<00:00, 6093.03it/s]\n"
     ]
    },
    {
     "name": "stdout",
     "output_type": "stream",
     "text": [
      "cik                                 1221072\n",
      "cik_str                          0001221072\n",
      "company    AMERICAN TOWER INTERNATIONAL INC\n",
      "state                                    MA\n",
      "Name: 33, dtype: object\n"
     ]
    },
    {
     "name": "stderr",
     "output_type": "stream",
     "text": [
      "100%|██████████| 45/45 [00:00<00:00, 6152.41it/s]\n"
     ]
    },
    {
     "name": "stdout",
     "output_type": "stream",
     "text": [
      "cik                   1221074\n",
      "cik_str            0001221074\n",
      "company    AMERICAN TOWER LLC\n",
      "state                      MA\n",
      "Name: 34, dtype: object\n"
     ]
    },
    {
     "name": "stderr",
     "output_type": "stream",
     "text": [
      "100%|██████████| 45/45 [00:00<00:00, 6905.85it/s]\n"
     ]
    },
    {
     "name": "stdout",
     "output_type": "stream",
     "text": [
      "cik                  1221088\n",
      "cik_str           0001221088\n",
      "company    AMERICAN TOWER LP\n",
      "state                     MA\n",
      "Name: 35, dtype: object\n"
     ]
    },
    {
     "name": "stderr",
     "output_type": "stream",
     "text": [
      "100%|██████████| 45/45 [00:00<00:00, 6620.03it/s]\n"
     ]
    },
    {
     "name": "stdout",
     "output_type": "stream",
     "text": [
      "cik                              1221060\n",
      "cik_str                       0001221060\n",
      "company    AMERICAN TOWER MANAGEMENT LLC\n",
      "state                                 MA\n",
      "Name: 36, dtype: object\n"
     ]
    },
    {
     "name": "stderr",
     "output_type": "stream",
     "text": [
      "100%|██████████| 45/45 [00:00<00:00, 6147.00it/s]\n"
     ]
    },
    {
     "name": "stdout",
     "output_type": "stream",
     "text": [
      "cik                      1221076\n",
      "cik_str               0001221076\n",
      "company    AMERICAN TOWER PA LLC\n",
      "state                         MA\n",
      "Name: 37, dtype: object\n"
     ]
    },
    {
     "name": "stderr",
     "output_type": "stream",
     "text": [
      "100%|██████████| 45/45 [00:00<00:00, 7069.05it/s]\n"
     ]
    },
    {
     "name": "stdout",
     "output_type": "stream",
     "text": [
      "cik                                                                   1521952\n",
      "cik_str                                                            0001521952\n",
      "company    American Tower REIT, Inc.SIC: 6798 - REAL ESTATE INVESTMENT TRUSTS\n",
      "state                                                                      MA\n",
      "Name: 38, dtype: object\n"
     ]
    },
    {
     "name": "stderr",
     "output_type": "stream",
     "text": [
      "100%|██████████| 45/45 [00:00<00:00, 6598.74it/s]\n"
     ]
    },
    {
     "name": "stdout",
     "output_type": "stream",
     "text": [
      "cik                       1221091\n",
      "cik_str                0001221091\n",
      "company    AMERICAN TOWER TRUST 1\n",
      "state                          MA\n",
      "Name: 39, dtype: object\n"
     ]
    },
    {
     "name": "stderr",
     "output_type": "stream",
     "text": [
      "100%|██████████| 45/45 [00:00<00:00, 6841.02it/s]\n"
     ]
    },
    {
     "name": "stdout",
     "output_type": "stream",
     "text": [
      "cik                       1221092\n",
      "cik_str                0001221092\n",
      "company    AMERICAN TOWER TRUST 2\n",
      "state                          MA\n",
      "Name: 40, dtype: object\n"
     ]
    },
    {
     "name": "stderr",
     "output_type": "stream",
     "text": [
      "100%|██████████| 45/45 [00:00<00:00, 6803.29it/s]\n"
     ]
    },
    {
     "name": "stdout",
     "output_type": "stream",
     "text": [
      "cik                       1732636\n",
      "cik_str                0001732636\n",
      "company    American Tower Trust I\n",
      "state                          MA\n",
      "Name: 41, dtype: object\n"
     ]
    },
    {
     "name": "stderr",
     "output_type": "stream",
     "text": [
      "100%|██████████| 45/45 [00:00<00:00, 11256.85it/s]\n"
     ]
    },
    {
     "name": "stdout",
     "output_type": "stream",
     "text": [
      "cik                                                                                  1221054\n",
      "cik_str                                                                           0001221054\n",
      "company    AMERICAN TOWERS INCSIC: 3663 - RADIO & TV BROADCASTING & COMMUNICATIONS EQUIPMENT\n",
      "state                                                                                     MA\n",
      "Name: 42, dtype: object\n"
     ]
    },
    {
     "name": "stderr",
     "output_type": "stream",
     "text": [
      "100%|██████████| 45/45 [00:00<00:00, 6078.31it/s]\n"
     ]
    },
    {
     "name": "stdout",
     "output_type": "stream",
     "text": [
      "cik                                                   899881\n",
      "cik_str                                           0000899881\n",
      "company    PROLOGISSIC: 6798 - REAL ESTATE INVESTMENT TRUSTS\n",
      "state                                                     CO\n",
      "Name: 43, dtype: object\n"
     ]
    },
    {
     "name": "stderr",
     "output_type": "stream",
     "text": [
      "100%|██████████| 45/45 [00:00<00:00, 2103.11it/s]\n",
      "100%|██████████| 588/588 [00:00<00:00, 2738.95it/s]\n"
     ]
    },
    {
     "name": "stdout",
     "output_type": "stream",
     "text": [
      "cik                                       1796122\n",
      "cik_str                                0001796122\n",
      "company    Prologis China Core Logistics Fund, LP\n",
      "state                                          U0\n",
      "Name: 44, dtype: object\n"
     ]
    },
    {
     "name": "stderr",
     "output_type": "stream",
     "text": [
      "100%|██████████| 45/45 [00:00<00:00, 6133.82it/s]\n"
     ]
    },
    {
     "name": "stdout",
     "output_type": "stream",
     "text": [
      "cik                                                                   1747565\n",
      "cik_str                                                            0001747565\n",
      "company    Prologis Euro Finance LLCSIC: 6798 - REAL ESTATE INVESTMENT TRUSTS\n",
      "state                                                                      CO\n",
      "Name: 45, dtype: object\n"
     ]
    },
    {
     "name": "stderr",
     "output_type": "stream",
     "text": [
      "100%|██████████| 45/45 [00:00<00:00, 6229.16it/s]\n"
     ]
    },
    {
     "name": "stdout",
     "output_type": "stream",
     "text": [
      "cik                                 1589134\n",
      "cik_str                          0001589134\n",
      "company    Prologis European Logistics Fund\n",
      "state                                    N4\n",
      "Name: 46, dtype: object\n"
     ]
    },
    {
     "name": "stderr",
     "output_type": "stream",
     "text": [
      "100%|██████████| 45/45 [00:00<00:00, 6791.54it/s]\n"
     ]
    },
    {
     "name": "stdout",
     "output_type": "stream",
     "text": [
      "cik                   1301074\n",
      "cik_str            0001301074\n",
      "company    ProLogis Fraser LP\n",
      "state                      CO\n",
      "Name: 47, dtype: object\n"
     ]
    },
    {
     "name": "stderr",
     "output_type": "stream",
     "text": [
      "100%|██████████| 45/45 [00:00<00:00, 8220.90it/s]\n"
     ]
    },
    {
     "name": "stdout",
     "output_type": "stream",
     "text": [
      "cik                         2008333\n",
      "cik_str                  0002008333\n",
      "company    Prologis Fund I REIT LLC\n",
      "state                            CO\n",
      "Name: 48, dtype: object\n"
     ]
    },
    {
     "name": "stderr",
     "output_type": "stream",
     "text": [
      "100%|██████████| 45/45 [00:00<00:00, 9291.31it/s]\n"
     ]
    },
    {
     "name": "stdout",
     "output_type": "stream",
     "text": [
      "cik                          2008298\n",
      "cik_str                   0002008298\n",
      "company    Prologis Fund II REIT LLC\n",
      "state                             CO\n",
      "Name: 49, dtype: object\n"
     ]
    },
    {
     "name": "stderr",
     "output_type": "stream",
     "text": [
      "100%|██████████| 45/45 [00:00<00:00, 9530.58it/s]\n"
     ]
    },
    {
     "name": "stdout",
     "output_type": "stream",
     "text": [
      "cik                    1412182\n",
      "cik_str             0001412182\n",
      "company    ProLogis MX Fund LP\n",
      "state                       CO\n",
      "Name: 50, dtype: object\n"
     ]
    },
    {
     "name": "stderr",
     "output_type": "stream",
     "text": [
      "100%|██████████| 45/45 [00:00<00:00, 10227.79it/s]\n"
     ]
    },
    {
     "name": "stdout",
     "output_type": "stream",
     "text": [
      "cik                                            1357739\n",
      "cik_str                                     0001357739\n",
      "company    PROLOGIS NORTH AMERICAN INDUSTRIAL FUND L P\n",
      "state                                               CO\n",
      "Name: 51, dtype: object\n"
     ]
    },
    {
     "name": "stderr",
     "output_type": "stream",
     "text": [
      "100%|██████████| 45/45 [00:00<00:00, 9644.05it/s]\n"
     ]
    },
    {
     "name": "stdout",
     "output_type": "stream",
     "text": [
      "cik                              1807388\n",
      "cik_str                       0001807388\n",
      "company    Prologis Sterling Finance LLC\n",
      "state                                 CO\n",
      "Name: 52, dtype: object\n"
     ]
    },
    {
     "name": "stderr",
     "output_type": "stream",
     "text": [
      "100%|██████████| 45/45 [00:00<00:00, 6531.60it/s]\n"
     ]
    },
    {
     "name": "stdout",
     "output_type": "stream",
     "text": [
      "cik                                                 1406152\n",
      "cik_str                                          0001406152\n",
      "company    Prologis Targeted Europe Logistics Fund, FCP-FIS\n",
      "state                                                    N4\n",
      "Name: 53, dtype: object\n"
     ]
    },
    {
     "name": "stderr",
     "output_type": "stream",
     "text": [
      "100%|██████████| 45/45 [00:00<00:00, 5963.65it/s]\n"
     ]
    },
    {
     "name": "stdout",
     "output_type": "stream",
     "text": [
      "cik                                                   1713082\n",
      "cik_str                                            0001713082\n",
      "company    Prologis Targeted U.S. Logistics Holdings II, L.P.\n",
      "state                                                      CA\n",
      "Name: 54, dtype: object\n"
     ]
    },
    {
     "name": "stderr",
     "output_type": "stream",
     "text": [
      "100%|██████████| 45/45 [00:00<00:00, 6569.11it/s]\n"
     ]
    },
    {
     "name": "stdout",
     "output_type": "stream",
     "text": [
      "cik                                                1460242\n",
      "cik_str                                         0001460242\n",
      "company    Prologis Targeted U.S. Logistics Holdings, L.P.\n",
      "state                                                   CA\n",
      "Name: 55, dtype: object\n"
     ]
    },
    {
     "name": "stderr",
     "output_type": "stream",
     "text": [
      "100%|██████████| 45/45 [00:00<00:00, 5797.69it/s]\n"
     ]
    },
    {
     "name": "stdout",
     "output_type": "stream",
     "text": [
      "cik                                               1714283\n",
      "cik_str                                        0001714283\n",
      "company    Prologis Targeted U.S. Logistics REIT II, Inc.\n",
      "state                                                  CA\n",
      "Name: 56, dtype: object\n"
     ]
    },
    {
     "name": "stderr",
     "output_type": "stream",
     "text": [
      "100%|██████████| 45/45 [00:00<00:00, 5589.92it/s]\n"
     ]
    },
    {
     "name": "stdout",
     "output_type": "stream",
     "text": [
      "cik                                            1308526\n",
      "cik_str                                     0001308526\n",
      "company    Prologis Targeted U.S. Logistics REIT, Inc.\n",
      "state                                               CA\n",
      "Name: 57, dtype: object\n"
     ]
    },
    {
     "name": "stderr",
     "output_type": "stream",
     "text": [
      "100%|██████████| 45/45 [00:00<00:00, 5866.34it/s]\n"
     ]
    },
    {
     "name": "stdout",
     "output_type": "stream",
     "text": [
      "cik                         1597656\n",
      "cik_str                  0001597656\n",
      "company    Prologis USLV REIT, Inc.\n",
      "state                            CO\n",
      "Name: 58, dtype: object\n"
     ]
    },
    {
     "name": "stderr",
     "output_type": "stream",
     "text": [
      "100%|██████████| 45/45 [00:00<00:00, 9052.02it/s]\n"
     ]
    },
    {
     "name": "stdout",
     "output_type": "stream",
     "text": [
      "cik                             1664161\n",
      "cik_str                      0001664161\n",
      "company    Prologis USLV SubREIT 1, LLC\n",
      "state                                CO\n",
      "Name: 59, dtype: object\n"
     ]
    },
    {
     "name": "stderr",
     "output_type": "stream",
     "text": [
      "100%|██████████| 45/45 [00:00<00:00, 9827.84it/s]\n"
     ]
    },
    {
     "name": "stdout",
     "output_type": "stream",
     "text": [
      "cik                             1664163\n",
      "cik_str                      0001664163\n",
      "company    Prologis USLV SubREIT 2, LLC\n",
      "state                                CO\n",
      "Name: 60, dtype: object\n"
     ]
    },
    {
     "name": "stderr",
     "output_type": "stream",
     "text": [
      "100%|██████████| 45/45 [00:00<00:00, 8312.87it/s]\n"
     ]
    },
    {
     "name": "stdout",
     "output_type": "stream",
     "text": [
      "cik                             1664164\n",
      "cik_str                      0001664164\n",
      "company    Prologis USLV SubREIT 3, LLC\n",
      "state                                CO\n",
      "Name: 61, dtype: object\n"
     ]
    },
    {
     "name": "stderr",
     "output_type": "stream",
     "text": [
      "100%|██████████| 45/45 [00:00<00:00, 7944.76it/s]\n"
     ]
    },
    {
     "name": "stdout",
     "output_type": "stream",
     "text": [
      "cik                             1664165\n",
      "cik_str                      0001664165\n",
      "company    Prologis USLV SubREIT 4, LLC\n",
      "state                                CO\n",
      "Name: 62, dtype: object\n"
     ]
    },
    {
     "name": "stderr",
     "output_type": "stream",
     "text": [
      "100%|██████████| 45/45 [00:00<00:00, 9703.55it/s]\n"
     ]
    },
    {
     "name": "stdout",
     "output_type": "stream",
     "text": [
      "cik                         1749944\n",
      "cik_str                  0001749944\n",
      "company    Prologis Yen Finance LLC\n",
      "state                            CO\n",
      "Name: 63, dtype: object\n"
     ]
    },
    {
     "name": "stderr",
     "output_type": "stream",
     "text": [
      "100%|██████████| 45/45 [00:00<00:00, 5958.57it/s]\n"
     ]
    },
    {
     "name": "stdout",
     "output_type": "stream",
     "text": [
      "cik                                                        1045609\n",
      "cik_str                                                 0001045609\n",
      "company    Prologis, Inc.SIC: 6798 - REAL ESTATE INVESTMENT TRUSTS\n",
      "state                                                           CA\n",
      "Name: 64, dtype: object\n"
     ]
    },
    {
     "name": "stderr",
     "output_type": "stream",
     "text": [
      "100%|██████████| 45/45 [00:00<00:00, 2084.09it/s]\n",
      "100%|██████████| 1761/1761 [00:00<00:00, 2586.78it/s]\n"
     ]
    },
    {
     "name": "stdout",
     "output_type": "stream",
     "text": [
      "cik                                      1045610\n",
      "cik_str                               0001045610\n",
      "company    Prologis, L.P.SIC: 6500 - REAL ESTATE\n",
      "state                                         CA\n",
      "Name: 65, dtype: object\n"
     ]
    },
    {
     "name": "stderr",
     "output_type": "stream",
     "text": [
      "100%|██████████| 45/45 [00:00<00:00, 2878.46it/s]\n"
     ]
    },
    {
     "name": "stdout",
     "output_type": "stream",
     "text": [
      "cik                   1051470\n",
      "cik_str            0001051470\n",
      "company    CROWN CASTLE INC. \n",
      "state                      TX\n",
      "Name: 66, dtype: object\n"
     ]
    },
    {
     "name": "stderr",
     "output_type": "stream",
     "text": [
      "100%|██████████| 45/45 [00:00<00:00, 2074.13it/s]\n",
      "100%|██████████| 1515/1515 [00:00<00:00, 2438.89it/s]\n"
     ]
    },
    {
     "name": "stdout",
     "output_type": "stream",
     "text": [
      "cik                                                          106535\n",
      "cik_str                                                  0000106535\n",
      "company    WEYERHAEUSER COSIC: 6798 - REAL ESTATE INVESTMENT TRUSTS\n",
      "state                                                            WA\n",
      "Name: 67, dtype: object\n"
     ]
    },
    {
     "name": "stderr",
     "output_type": "stream",
     "text": [
      "100%|██████████| 45/45 [00:00<00:00, 2240.79it/s]\n",
      "100%|██████████| 1946/1946 [00:00<00:00, 2659.16it/s]\n"
     ]
    },
    {
     "name": "stdout",
     "output_type": "stream",
     "text": [
      "cik                     1098470\n",
      "cik_str              0001098470\n",
      "company    WEYERHAEUSER DAVID M\n",
      "state                        WA\n",
      "Name: 68, dtype: object\n"
     ]
    },
    {
     "name": "stderr",
     "output_type": "stream",
     "text": [
      "100%|██████████| 45/45 [00:00<00:00, 7111.94it/s]\n"
     ]
    },
    {
     "name": "stdout",
     "output_type": "stream",
     "text": [
      "cik                         1056913\n",
      "cik_str                  0001056913\n",
      "company    WEYERHAEUSER FREDERICK T\n",
      "state                              \n",
      "Name: 69, dtype: object\n"
     ]
    },
    {
     "name": "stderr",
     "output_type": "stream",
     "text": [
      "100%|██████████| 45/45 [00:00<00:00, 5470.67it/s]\n"
     ]
    },
    {
     "name": "stdout",
     "output_type": "stream",
     "text": [
      "cik                      1056914\n",
      "cik_str               0001056914\n",
      "company    WEYERHAEUSER GEORGE H\n",
      "state                         WA\n",
      "Name: 70, dtype: object\n"
     ]
    },
    {
     "name": "stderr",
     "output_type": "stream",
     "text": [
      "100%|██████████| 45/45 [00:00<00:00, 5298.37it/s]\n"
     ]
    },
    {
     "name": "stdout",
     "output_type": "stream",
     "text": [
      "cik                            1183852\n",
      "cik_str                     0001183852\n",
      "company    WEYERHAEUSER GEORGE HUNT JR\n",
      "state                                 \n",
      "Name: 71, dtype: object\n"
     ]
    },
    {
     "name": "stderr",
     "output_type": "stream",
     "text": [
      "100%|██████████| 45/45 [00:00<00:00, 6776.67it/s]\n"
     ]
    },
    {
     "name": "stdout",
     "output_type": "stream",
     "text": [
      "cik                       1098543\n",
      "cik_str                0001098543\n",
      "company    WEYERHAEUSER JOHN P IV\n",
      "state                          WA\n",
      "Name: 72, dtype: object\n"
     ]
    },
    {
     "name": "stderr",
     "output_type": "stream",
     "text": [
      "100%|██████████| 45/45 [00:00<00:00, 7007.12it/s]\n"
     ]
    },
    {
     "name": "stdout",
     "output_type": "stream",
     "text": [
      "cik                             1183850\n",
      "cik_str                      0001183850\n",
      "company    PIASECKI NICOLE WEYERHAEUSER\n",
      "state                                  \n",
      "Name: 73, dtype: object\n"
     ]
    },
    {
     "name": "stderr",
     "output_type": "stream",
     "text": [
      "100%|██████████| 45/45 [00:00<00:00, 4853.64it/s]\n"
     ]
    },
    {
     "name": "stdout",
     "output_type": "stream",
     "text": [
      "cik                                                          1593910\n",
      "cik_str                                                   0001593910\n",
      "company    Weyerhaeuser Real Estate CoSIC: 1531 - OPERATIVE BUILDERS\n",
      "state                                                             WA\n",
      "Name: 74, dtype: object\n"
     ]
    },
    {
     "name": "stderr",
     "output_type": "stream",
     "text": [
      "100%|██████████| 45/45 [00:00<00:00, 5776.39it/s]\n"
     ]
    },
    {
     "name": "stdout",
     "output_type": "stream",
     "text": [
      "cik                                   1899345\n",
      "cik_str                            0001899345\n",
      "company    Weyerhaeuser Timber Holdings, Inc.\n",
      "state                                      WA\n",
      "Name: 75, dtype: object\n"
     ]
    },
    {
     "name": "stderr",
     "output_type": "stream",
     "text": [
      "100%|██████████| 45/45 [00:00<00:00, 8260.12it/s]\n"
     ]
    },
    {
     "name": "stdout",
     "output_type": "stream",
     "text": [
      "cik                       1056916\n",
      "cik_str                0001056916\n",
      "company    WEYERHAEUSER WILLIAM T\n",
      "state                            \n",
      "Name: 76, dtype: object\n"
     ]
    },
    {
     "name": "stderr",
     "output_type": "stream",
     "text": [
      "100%|██████████| 45/45 [00:00<00:00, 4746.12it/s]\n"
     ]
    },
    {
     "name": "stdout",
     "output_type": "stream",
     "text": [
      "cik                                    2015000\n",
      "cik_str                             0002015000\n",
      "company    Equinix Europe 2 Financing Corp LLC\n",
      "state                                       CA\n",
      "Name: 77, dtype: object\n"
     ]
    },
    {
     "name": "stderr",
     "output_type": "stream",
     "text": [
      "100%|██████████| 45/45 [00:00<00:00, 6145.00it/s]\n"
     ]
    },
    {
     "name": "stdout",
     "output_type": "stream",
     "text": [
      "cik                                                     1101239\n",
      "cik_str                                              0001101239\n",
      "company    EQUINIX INCSIC: 6798 - REAL ESTATE INVESTMENT TRUSTS\n",
      "state                                                        CA\n",
      "Name: 78, dtype: object\n"
     ]
    },
    {
     "name": "stderr",
     "output_type": "stream",
     "text": [
      "100%|██████████| 45/45 [00:00<00:00, 1948.78it/s]\n",
      "100%|██████████| 2296/2296 [00:00<00:00, 2591.85it/s]\n"
     ]
    },
    {
     "name": "stdout",
     "output_type": "stream",
     "text": [
      "cik                                                             906107\n",
      "cik_str                                                     0000906107\n",
      "company    EQUITY RESIDENTIALSIC: 6798 - REAL ESTATE INVESTMENT TRUSTS\n",
      "state                                                               IL\n",
      "Name: 79, dtype: object\n"
     ]
    },
    {
     "name": "stderr",
     "output_type": "stream",
     "text": [
      "100%|██████████| 45/45 [00:00<00:00, 2170.39it/s]\n",
      "100%|██████████| 1768/1768 [00:00<00:00, 2536.23it/s]\n"
     ]
    },
    {
     "name": "stdout",
     "output_type": "stream",
     "text": [
      "cik                                             778875\n",
      "cik_str                                     0000778875\n",
      "company    EQUITY RESIDENTIAL PROPERTIES ASSOCIATES LP\n",
      "state                                                 \n",
      "Name: 80, dtype: object\n"
     ]
    },
    {
     "name": "stderr",
     "output_type": "stream",
     "text": [
      "100%|██████████| 45/45 [00:00<00:00, 8374.84it/s]\n"
     ]
    },
    {
     "name": "stdout",
     "output_type": "stream",
     "text": [
      "cik                                                        1393311\n",
      "cik_str                                                 0001393311\n",
      "company    Public StorageSIC: 6798 - REAL ESTATE INVESTMENT TRUSTS\n",
      "state                                                           CA\n",
      "Name: 81, dtype: object\n"
     ]
    },
    {
     "name": "stderr",
     "output_type": "stream",
     "text": [
      "100%|██████████| 45/45 [00:00<00:00, 1749.83it/s]\n",
      "100%|██████████| 1267/1267 [00:00<00:00, 2380.27it/s]\n"
     ]
    },
    {
     "name": "stdout",
     "output_type": "stream",
     "text": [
      "cik                                                                 318380\n",
      "cik_str                                                         0000318380\n",
      "company    PUBLIC STORAGE INC /CASIC: 6798 - REAL ESTATE INVESTMENT TRUSTS\n",
      "state                                                                   CA\n",
      "Name: 82, dtype: object\n"
     ]
    },
    {
     "name": "stderr",
     "output_type": "stream",
     "text": [
      "100%|██████████| 45/45 [00:00<00:00, 2154.93it/s]\n"
     ]
    },
    {
     "name": "stdout",
     "output_type": "stream",
     "text": [
      "cik                            1989278\n",
      "cik_str                     0001989278\n",
      "company    Public Storage Operating Co\n",
      "state                               CA\n",
      "Name: 83, dtype: object\n"
     ]
    },
    {
     "name": "stderr",
     "output_type": "stream",
     "text": [
      "100%|██████████| 45/45 [00:00<00:00, 5476.39it/s]\n"
     ]
    },
    {
     "name": "stdout",
     "output_type": "stream",
     "text": [
      "cik                                                                         275915\n",
      "cik_str                                                                 0000275915\n",
      "company    PUBLIC STORAGE PARTNERS II LTDSIC: 6519 - LESSORS OF REAL PROPERTY, NEC\n",
      "state                                                                           CA\n",
      "Name: 84, dtype: object\n"
     ]
    },
    {
     "name": "stderr",
     "output_type": "stream",
     "text": [
      "100%|██████████| 45/45 [00:00<00:00, 6198.28it/s]\n"
     ]
    },
    {
     "name": "stdout",
     "output_type": "stream",
     "text": [
      "cik                                                                           225775\n",
      "cik_str                                                                   0000225775\n",
      "company    PUBLIC STORAGE PROPERTIES IV LTDSIC: 6519 - LESSORS OF REAL PROPERTY, NEC\n",
      "state                                                                             CA\n",
      "Name: 85, dtype: object\n"
     ]
    },
    {
     "name": "stderr",
     "output_type": "stream",
     "text": [
      "100%|██████████| 45/45 [00:00<00:00, 4050.90it/s]\n"
     ]
    },
    {
     "name": "stdout",
     "output_type": "stream",
     "text": [
      "cik                                                                        202953\n",
      "cik_str                                                                0000202953\n",
      "company    PUBLIC STORAGE PROPERTIES LTDSIC: 6519 - LESSORS OF REAL PROPERTY, NEC\n",
      "state                                                                          CA\n",
      "Name: 86, dtype: object\n"
     ]
    },
    {
     "name": "stderr",
     "output_type": "stream",
     "text": [
      "100%|██████████| 45/45 [00:00<00:00, 5897.87it/s]\n"
     ]
    },
    {
     "name": "stdout",
     "output_type": "stream",
     "text": [
      "cik                                                                          277925\n",
      "cik_str                                                                  0000277925\n",
      "company    PUBLIC STORAGE PROPERTIES V LTDSIC: 6519 - LESSORS OF REAL PROPERTY, NEC\n",
      "state                                                                            CA\n",
      "Name: 87, dtype: object\n"
     ]
    },
    {
     "name": "stderr",
     "output_type": "stream",
     "text": [
      "100%|██████████| 45/45 [00:00<00:00, 5697.75it/s]\n"
     ]
    },
    {
     "name": "stdout",
     "output_type": "stream",
     "text": [
      "cik                                                                          864337\n",
      "cik_str                                                                  0000864337\n",
      "company    PUBLIC STORAGE PROPERTIES X INCSIC: 6519 - LESSORS OF REAL PROPERTY, NEC\n",
      "state                                                                            CA\n",
      "Name: 88, dtype: object\n"
     ]
    },
    {
     "name": "stderr",
     "output_type": "stream",
     "text": [
      "100%|██████████| 45/45 [00:00<00:00, 6191.77it/s]\n"
     ]
    },
    {
     "name": "stdout",
     "output_type": "stream",
     "text": [
      "cik                                                                     866368\n",
      "cik_str                                                             0000866368\n",
      "company    PS BUSINESS PARKS, INC./MDSIC: 6798 - REAL ESTATE INVESTMENT TRUSTS\n",
      "state                                                                       CA\n",
      "Name: 89, dtype: object\n"
     ]
    },
    {
     "name": "stderr",
     "output_type": "stream",
     "text": [
      "100%|██████████| 45/45 [00:00<00:00, 1863.34it/s]\n",
      "100%|██████████| 1134/1134 [00:00<00:00, 2746.99it/s]\n"
     ]
    },
    {
     "name": "stdout",
     "output_type": "stream",
     "text": [
      "cik                                                                            869795\n",
      "cik_str                                                                    0000869795\n",
      "company    PUBLIC STORAGE PROPERTIES XII INCSIC: 6798 - REAL ESTATE INVESTMENT TRUSTS\n",
      "state                                                                              CA\n",
      "Name: 90, dtype: object\n"
     ]
    },
    {
     "name": "stderr",
     "output_type": "stream",
     "text": [
      "100%|██████████| 45/45 [00:00<00:00, 6646.14it/s]\n"
     ]
    },
    {
     "name": "stdout",
     "output_type": "stream",
     "text": [
      "cik                                                                            869624\n",
      "cik_str                                                                    0000869624\n",
      "company    PUBLIC STORAGE PROPERTIES XIV INCSIC: 6798 - REAL ESTATE INVESTMENT TRUSTS\n",
      "state                                                                              CA\n",
      "Name: 91, dtype: object\n"
     ]
    },
    {
     "name": "stderr",
     "output_type": "stream",
     "text": [
      "100%|██████████| 45/45 [00:00<00:00, 6793.98it/s]\n"
     ]
    },
    {
     "name": "stdout",
     "output_type": "stream",
     "text": [
      "cik                                                                            870905\n",
      "cik_str                                                                    0000870905\n",
      "company    PUBLIC STORAGE PROPERTIES XIX INCSIC: 6798 - REAL ESTATE INVESTMENT TRUSTS\n",
      "state                                                                              CA\n",
      "Name: 92, dtype: object\n"
     ]
    },
    {
     "name": "stderr",
     "output_type": "stream",
     "text": [
      "100%|██████████| 45/45 [00:00<00:00, 5704.12it/s]\n"
     ]
    },
    {
     "name": "stdout",
     "output_type": "stream",
     "text": [
      "cik                                                                           870499\n",
      "cik_str                                                                   0000870499\n",
      "company    PUBLIC STORAGE PROPERTIES XV INCSIC: 6798 - REAL ESTATE INVESTMENT TRUSTS\n",
      "state                                                                             CA\n",
      "Name: 93, dtype: object\n"
     ]
    },
    {
     "name": "stderr",
     "output_type": "stream",
     "text": [
      "100%|██████████| 45/45 [00:00<00:00, 4406.81it/s]\n"
     ]
    },
    {
     "name": "stdout",
     "output_type": "stream",
     "text": [
      "cik                                                                            870179\n",
      "cik_str                                                                    0000870179\n",
      "company    PUBLIC STORAGE PROPERTIES XVI INCSIC: 6798 - REAL ESTATE INVESTMENT TRUSTS\n",
      "state                                                                              CA\n",
      "Name: 94, dtype: object\n"
     ]
    },
    {
     "name": "stderr",
     "output_type": "stream",
     "text": [
      "100%|██████████| 45/45 [00:00<00:00, 6100.71it/s]\n"
     ]
    },
    {
     "name": "stdout",
     "output_type": "stream",
     "text": [
      "cik                                                                             869805\n",
      "cik_str                                                                     0000869805\n",
      "company    PUBLIC STORAGE PROPERTIES XVII INCSIC: 6798 - REAL ESTATE INVESTMENT TRUSTS\n",
      "state                                                                               CA\n",
      "Name: 95, dtype: object\n"
     ]
    },
    {
     "name": "stderr",
     "output_type": "stream",
     "text": [
      "100%|██████████| 45/45 [00:00<00:00, 5661.52it/s]\n"
     ]
    },
    {
     "name": "stdout",
     "output_type": "stream",
     "text": [
      "cik                                                                              870376\n",
      "cik_str                                                                      0000870376\n",
      "company    PUBLIC STORAGE PROPERTIES XVIII INCSIC: 6798 - REAL ESTATE INVESTMENT TRUSTS\n",
      "state                                                                                CA\n",
      "Name: 96, dtype: object\n"
     ]
    },
    {
     "name": "stderr",
     "output_type": "stream",
     "text": [
      "100%|██████████| 45/45 [00:00<00:00, 5095.81it/s]\n"
     ]
    },
    {
     "name": "stdout",
     "output_type": "stream",
     "text": [
      "cik                                                                           870541\n",
      "cik_str                                                                   0000870541\n",
      "company    PUBLIC STORAGE PROPERTIES XX INCSIC: 6798 - REAL ESTATE INVESTMENT TRUSTS\n",
      "state                                                                             GA\n",
      "Name: 97, dtype: object\n"
     ]
    },
    {
     "name": "stderr",
     "output_type": "stream",
     "text": [
      "100%|██████████| 45/45 [00:00<00:00, 5066.67it/s]\n"
     ]
    },
    {
     "name": "stdout",
     "output_type": "stream",
     "text": [
      "cik                                                                               1035443\n",
      "cik_str                                                                        0001035443\n",
      "company    ALEXANDRIA REAL ESTATE EQUITIES, INC.SIC: 6798 - REAL ESTATE INVESTMENT TRUSTS\n",
      "state                                                                                  CA\n",
      "Name: 98, dtype: object\n"
     ]
    },
    {
     "name": "stderr",
     "output_type": "stream",
     "text": [
      "100%|██████████| 45/45 [00:00<00:00, 2060.95it/s]\n",
      "100%|██████████| 1493/1493 [00:00<00:00, 2602.62it/s]\n"
     ]
    },
    {
     "name": "stdout",
     "output_type": "stream",
     "text": [
      "cik                                                                               1542693\n",
      "cik_str                                                                        0001542693\n",
      "company    Alexandria Real Estate Equities, L.P.SIC: 6798 - REAL ESTATE INVESTMENT TRUSTS\n",
      "state                                                                                  CA\n",
      "Name: 99, dtype: object\n"
     ]
    },
    {
     "name": "stderr",
     "output_type": "stream",
     "text": [
      "100%|██████████| 45/45 [00:00<00:00, 6693.28it/s]\n"
     ]
    },
    {
     "name": "stdout",
     "output_type": "stream",
     "text": [
      "cik                            915912\n",
      "cik_str                    0000915912\n",
      "company    AVALONBAY COMMUNITIES INC \n",
      "state                              VA\n",
      "Name: 100, dtype: object\n"
     ]
    },
    {
     "name": "stderr",
     "output_type": "stream",
     "text": [
      "100%|██████████| 45/45 [00:00<00:00, 2339.03it/s]\n",
      "100%|██████████| 1251/1251 [00:00<00:00, 2588.60it/s]\n"
     ]
    },
    {
     "name": "stdout",
     "output_type": "stream",
     "text": [
      "cik                                                                    1297996\n",
      "cik_str                                                             0001297996\n",
      "company    DIGITAL REALTY TRUST, INC.SIC: 6798 - REAL ESTATE INVESTMENT TRUSTS\n",
      "state                                                                       TX\n",
      "Name: 101, dtype: object\n"
     ]
    },
    {
     "name": "stderr",
     "output_type": "stream",
     "text": [
      "100%|██████████| 45/45 [00:00<00:00, 2493.51it/s]\n",
      "100%|██████████| 1703/1703 [00:00<00:00, 2648.85it/s]\n"
     ]
    },
    {
     "name": "stdout",
     "output_type": "stream",
     "text": [
      "cik                                                  1494877\n",
      "cik_str                                           0001494877\n",
      "company    DIGITAL REALTY TRUST, L.P.SIC: 6500 - REAL ESTATE\n",
      "state                                                     TX\n",
      "Name: 102, dtype: object\n"
     ]
    },
    {
     "name": "stderr",
     "output_type": "stream",
     "text": [
      "100%|██████████| 45/45 [00:00<00:00, 2626.00it/s]\n"
     ]
    },
    {
     "name": "stdout",
     "output_type": "stream",
     "text": [
      "cik                                                               1037540\n",
      "cik_str                                                        0001037540\n",
      "company    BOSTON PROPERTIES INCSIC: 6798 - REAL ESTATE INVESTMENT TRUSTS\n",
      "state                                                                  MA\n",
      "Name: 103, dtype: object\n"
     ]
    },
    {
     "name": "stderr",
     "output_type": "stream",
     "text": [
      "100%|██████████| 45/45 [00:00<00:00, 2053.64it/s]\n",
      "100%|██████████| 1552/1552 [00:00<00:00, 2619.36it/s]\n"
     ]
    },
    {
     "name": "stdout",
     "output_type": "stream",
     "text": [
      "cik                      1073765\n",
      "cik_str               0001073765\n",
      "company    BOSTON PROPERTIES L P\n",
      "state                         MA\n",
      "Name: 104, dtype: object\n"
     ]
    },
    {
     "name": "stderr",
     "output_type": "stream",
     "text": [
      "100%|██████████| 45/45 [00:00<00:00, 6361.22it/s]\n"
     ]
    },
    {
     "name": "stdout",
     "output_type": "stream",
     "text": [
      "cik                                                                           1043121\n",
      "cik_str                                                                    0001043121\n",
      "company    BOSTON PROPERTIES LTD PARTNERSHIPSIC: 6798 - REAL ESTATE INVESTMENT TRUSTS\n",
      "state                                                                              MA\n",
      "Name: 105, dtype: object\n"
     ]
    },
    {
     "name": "stderr",
     "output_type": "stream",
     "text": [
      "100%|██████████| 45/45 [00:00<00:00, 2091.27it/s]\n",
      "100%|██████████| 1006/1006 [00:00<00:00, 2663.71it/s]\n"
     ]
    },
    {
     "name": "stdout",
     "output_type": "stream",
     "text": [
      "cik                                 1538252\n",
      "cik_str                          0001538252\n",
      "company    Boston Properties Management LLC\n",
      "state                                    MA\n",
      "Name: 106, dtype: object\n"
     ]
    },
    {
     "name": "stderr",
     "output_type": "stream",
     "text": [
      "100%|██████████| 45/45 [00:00<00:00, 12003.54it/s]\n"
     ]
    },
    {
     "name": "stdout",
     "output_type": "stream",
     "text": [
      "cik                                              1309452\n",
      "cik_str                                       0001309452\n",
      "company    Boston Properties Office Value-Added Fund L P\n",
      "state                                                 MA\n",
      "Name: 107, dtype: object\n"
     ]
    },
    {
     "name": "stderr",
     "output_type": "stream",
     "text": [
      "100%|██████████| 45/45 [00:00<00:00, 10897.44it/s]\n"
     ]
    },
    {
     "name": "stdout",
     "output_type": "stream",
     "text": [
      "cik                                                 1678185\n",
      "cik_str                                          0001678185\n",
      "company    VICI PROPERTIES 1 LLCSIC: 7011 - HOTELS & MOTELS\n",
      "state                                                    NV\n",
      "Name: 108, dtype: object\n"
     ]
    },
    {
     "name": "stderr",
     "output_type": "stream",
     "text": [
      "100%|██████████| 45/45 [00:00<00:00, 6164.87it/s]\n"
     ]
    },
    {
     "name": "stdout",
     "output_type": "stream",
     "text": [
      "cik                                                              1705696\n",
      "cik_str                                                       0001705696\n",
      "company    VICI PROPERTIES INC.SIC: 6798 - REAL ESTATE INVESTMENT TRUSTS\n",
      "state                                                                 NY\n",
      "Name: 109, dtype: object\n"
     ]
    },
    {
     "name": "stderr",
     "output_type": "stream",
     "text": [
      "100%|██████████| 45/45 [00:00<00:00, 3006.48it/s]\n",
      "100%|██████████| 1053/1053 [00:00<00:00, 2723.43it/s]\n"
     ]
    },
    {
     "name": "stdout",
     "output_type": "stream",
     "text": [
      "cik                                                              1920791\n",
      "cik_str                                                       0001920791\n",
      "company    VICI Properties L.P.SIC: 6798 - REAL ESTATE INVESTMENT TRUSTS\n",
      "state                                                                 NY\n",
      "Name: 110, dtype: object\n"
     ]
    },
    {
     "name": "stderr",
     "output_type": "stream",
     "text": [
      "100%|██████████| 45/45 [00:00<00:00, 5687.28it/s]\n"
     ]
    },
    {
     "name": "stdout",
     "output_type": "stream",
     "text": [
      "cik                         1399630\n",
      "cik_str                  0001399630\n",
      "company    Ventas Broadway MOB, LLC\n",
      "state                            KY\n",
      "Name: 111, dtype: object\n"
     ]
    },
    {
     "name": "stderr",
     "output_type": "stream",
     "text": [
      "100%|██████████| 45/45 [00:00<00:00, 10879.85it/s]\n"
     ]
    },
    {
     "name": "stdout",
     "output_type": "stream",
     "text": [
      "cik                   1331200\n",
      "cik_str            0001331200\n",
      "company    Ventas Cal Sun LLC\n",
      "state                      KY\n",
      "Name: 112, dtype: object\n"
     ]
    },
    {
     "name": "stderr",
     "output_type": "stream",
     "text": [
      "100%|██████████| 45/45 [00:00<00:00, 6779.10it/s]\n"
     ]
    },
    {
     "name": "stdout",
     "output_type": "stream",
     "text": [
      "cik                                                                                  1174175\n",
      "cik_str                                                                           0001174175\n",
      "company    ElderTrust Operating Limited PartnershipSIC: 6798 - REAL ESTATE INVESTMENT TRUSTS\n",
      "state                                                                                     KY\n",
      "Name: 113, dtype: object\n"
     ]
    },
    {
     "name": "stderr",
     "output_type": "stream",
     "text": [
      "100%|██████████| 45/45 [00:00<00:00, 5304.17it/s]\n"
     ]
    },
    {
     "name": "stdout",
     "output_type": "stream",
     "text": [
      "cik                                                             1043956\n",
      "cik_str                                                      0001043956\n",
      "company    Ventas Capital CorpSIC: 6798 - REAL ESTATE INVESTMENT TRUSTS\n",
      "state                                                                KY\n",
      "Name: 114, dtype: object\n"
     ]
    },
    {
     "name": "stderr",
     "output_type": "stream",
     "text": [
      "100%|██████████| 45/45 [00:00<00:00, 6712.56it/s]\n"
     ]
    },
    {
     "name": "stdout",
     "output_type": "stream",
     "text": [
      "cik                        1451670\n",
      "cik_str                 0001451670\n",
      "company    Ventas Carroll MOB, LLC\n",
      "state                           KY\n",
      "Name: 115, dtype: object\n"
     ]
    },
    {
     "name": "stderr",
     "output_type": "stream",
     "text": [
      "100%|██████████| 45/45 [00:00<00:00, 9857.61it/s]\n"
     ]
    },
    {
     "name": "stdout",
     "output_type": "stream",
     "text": [
      "cik                            1399629\n",
      "cik_str                     0001399629\n",
      "company    Ventas Casper Holdings, LLC\n",
      "state                               KY\n",
      "Name: 116, dtype: object\n"
     ]
    },
    {
     "name": "stderr",
     "output_type": "stream",
     "text": [
      "100%|██████████| 45/45 [00:00<00:00, 9689.10it/s]\n"
     ]
    },
    {
     "name": "stdout",
     "output_type": "stream",
     "text": [
      "cik                       1451550\n",
      "cik_str                0001451550\n",
      "company    Ventas Center MOB, LLC\n",
      "state                          KY\n",
      "Name: 117, dtype: object\n"
     ]
    },
    {
     "name": "stderr",
     "output_type": "stream",
     "text": [
      "100%|██████████| 45/45 [00:00<00:00, 9149.43it/s]\n"
     ]
    },
    {
     "name": "stdout",
     "output_type": "stream",
     "text": [
      "cik                      1451548\n",
      "cik_str               0001451548\n",
      "company    Ventas Dasco MOB, LLC\n",
      "state                         KY\n",
      "Name: 118, dtype: object\n"
     ]
    },
    {
     "name": "stderr",
     "output_type": "stream",
     "text": [
      "100%|██████████| 45/45 [00:00<00:00, 9460.36it/s]\n"
     ]
    },
    {
     "name": "stdout",
     "output_type": "stream",
     "text": [
      "cik                       1347864\n",
      "cik_str                0001347864\n",
      "company    Ventas Finance I, Inc.\n",
      "state                          KY\n",
      "Name: 119, dtype: object\n"
     ]
    },
    {
     "name": "stderr",
     "output_type": "stream",
     "text": [
      "100%|██████████| 45/45 [00:00<00:00, 5847.44it/s]\n"
     ]
    },
    {
     "name": "stdout",
     "output_type": "stream",
     "text": [
      "cik                      1347865\n",
      "cik_str               0001347865\n",
      "company    Ventas Finance I, LLC\n",
      "state                         KY\n",
      "Name: 120, dtype: object\n"
     ]
    },
    {
     "name": "stderr",
     "output_type": "stream",
     "text": [
      "100%|██████████| 45/45 [00:00<00:00, 7735.71it/s]\n"
     ]
    },
    {
     "name": "stdout",
     "output_type": "stream",
     "text": [
      "cik                       1311338\n",
      "cik_str                0001311338\n",
      "company    Ventas Framingham, LLC\n",
      "state                          KY\n",
      "Name: 121, dtype: object\n"
     ]
    },
    {
     "name": "stderr",
     "output_type": "stream",
     "text": [
      "100%|██████████| 45/45 [00:00<00:00, 6016.69it/s]\n"
     ]
    },
    {
     "name": "stdout",
     "output_type": "stream",
     "text": [
      "cik                        1399608\n",
      "cik_str                 0001399608\n",
      "company    Ventas Grantor Trust #1\n",
      "state                           KY\n",
      "Name: 122, dtype: object\n"
     ]
    },
    {
     "name": "stderr",
     "output_type": "stream",
     "text": [
      "100%|██████████| 45/45 [00:00<00:00, 9353.47it/s]\n"
     ]
    },
    {
     "name": "stdout",
     "output_type": "stream",
     "text": [
      "cik                        1399617\n",
      "cik_str                 0001399617\n",
      "company    Ventas Grantor Trust #2\n",
      "state                           KY\n",
      "Name: 123, dtype: object\n"
     ]
    },
    {
     "name": "stderr",
     "output_type": "stream",
     "text": [
      "100%|██████████| 45/45 [00:00<00:00, 8644.48it/s]\n"
     ]
    },
    {
     "name": "stdout",
     "output_type": "stream",
     "text": [
      "cik                                 1208680\n",
      "cik_str                          0001208680\n",
      "company    VENTAS HEALTHCARE PROPERTIES INC\n",
      "state                                      \n",
      "Name: 124, dtype: object\n"
     ]
    },
    {
     "name": "stderr",
     "output_type": "stream",
     "text": [
      "100%|██████████| 45/45 [00:00<00:00, 6092.63it/s]\n"
     ]
    },
    {
     "name": "stdout",
     "output_type": "stream",
     "text": [
      "cik                                                       740260\n",
      "cik_str                                               0000740260\n",
      "company    Ventas, Inc.SIC: 6798 - REAL ESTATE INVESTMENT TRUSTS\n",
      "state                                                         IL\n",
      "Name: 125, dtype: object\n"
     ]
    },
    {
     "name": "stderr",
     "output_type": "stream",
     "text": [
      "100%|██████████| 45/45 [00:00<00:00, 2332.76it/s]\n",
      "100%|██████████| 1858/1858 [00:00<00:00, 2696.11it/s]\n"
     ]
    },
    {
     "name": "stdout",
     "output_type": "stream",
     "text": [
      "cik                                                        1805621\n",
      "cik_str                                                 0001805621\n",
      "company    Ventas Life Science & Healthcare Real Estate Fund, L.P.\n",
      "state                                                           IL\n",
      "Name: 126, dtype: object\n"
     ]
    },
    {
     "name": "stderr",
     "output_type": "stream",
     "text": [
      "100%|██████████| 45/45 [00:00<00:00, 6469.36it/s]\n"
     ]
    },
    {
     "name": "stdout",
     "output_type": "stream",
     "text": [
      "cik                     1174176\n",
      "cik_str              0001174176\n",
      "company    VENTAS LP REALTY LLC\n",
      "state                        KY\n",
      "Name: 127, dtype: object\n"
     ]
    },
    {
     "name": "stderr",
     "output_type": "stream",
     "text": [
      "100%|██████████| 45/45 [00:00<00:00, 6226.90it/s]\n"
     ]
    },
    {
     "name": "stdout",
     "output_type": "stream",
     "text": [
      "cik                       1311355\n",
      "cik_str                0001311355\n",
      "company    Ventas Management, LLC\n",
      "state                          KY\n",
      "Name: 128, dtype: object\n"
     ]
    },
    {
     "name": "stderr",
     "output_type": "stream",
     "text": [
      "100%|██████████| 45/45 [00:00<00:00, 6503.69it/s]\n"
     ]
    },
    {
     "name": "stdout",
     "output_type": "stream",
     "text": [
      "cik                        1451907\n",
      "cik_str                 0001451907\n",
      "company    Ventas MO Holdings, LLC\n",
      "state                           KY\n",
      "Name: 129, dtype: object\n"
     ]
    },
    {
     "name": "stderr",
     "output_type": "stream",
     "text": [
      "100%|██████████| 45/45 [00:00<00:00, 11262.23it/s]\n"
     ]
    },
    {
     "name": "stdout",
     "output_type": "stream",
     "text": [
      "cik                         1399632\n",
      "cik_str                  0001399632\n",
      "company    Ventas MOB Holdings, LLC\n",
      "state                            KY\n",
      "Name: 130, dtype: object\n"
     ]
    },
    {
     "name": "stderr",
     "output_type": "stream",
     "text": [
      "100%|██████████| 45/45 [00:00<00:00, 10389.94it/s]\n"
     ]
    },
    {
     "name": "stdout",
     "output_type": "stream",
     "text": [
      "cik                             1399631\n",
      "cik_str                      0001399631\n",
      "company    Ventas Nexcore Holdings, LLC\n",
      "state                                KY\n",
      "Name: 131, dtype: object\n"
     ]
    },
    {
     "name": "stderr",
     "output_type": "stream",
     "text": [
      "100%|██████████| 45/45 [00:00<00:00, 8937.15it/s]\n"
     ]
    },
    {
     "name": "stdout",
     "output_type": "stream",
     "text": [
      "cik                        1399613\n",
      "cik_str                 0001399613\n",
      "company    Ventas of Vancouver Ltd\n",
      "state                           KY\n",
      "Name: 132, dtype: object\n"
     ]
    },
    {
     "name": "stderr",
     "output_type": "stream",
     "text": [
      "100%|██████████| 45/45 [00:00<00:00, 11361.20it/s]\n"
     ]
    },
    {
     "name": "stdout",
     "output_type": "stream",
     "text": [
      "cik                      1331198\n",
      "cik_str               0001331198\n",
      "company    Ventas Provident, LLC\n",
      "state                         KY\n",
      "Name: 133, dtype: object\n"
     ]
    },
    {
     "name": "stderr",
     "output_type": "stream",
     "text": [
      "100%|██████████| 45/45 [00:00<00:00, 7496.67it/s]\n"
     ]
    },
    {
     "name": "stdout",
     "output_type": "stream",
     "text": [
      "cik                                                                            1174174\n",
      "cik_str                                                                     0001174174\n",
      "company    Ventas Realty, Limited PartnershipSIC: 6798 - REAL ESTATE INVESTMENT TRUSTS\n",
      "state                                                                               KY\n",
      "Name: 134, dtype: object\n"
     ]
    },
    {
     "name": "stderr",
     "output_type": "stream",
     "text": [
      "100%|██████████| 45/45 [00:00<00:00, 5248.13it/s]\n"
     ]
    },
    {
     "name": "stdout",
     "output_type": "stream",
     "text": [
      "cik                              1399601\n",
      "cik_str                       0001399601\n",
      "company    Ventas REIT US Holdings, Inc.\n",
      "state                                 KY\n",
      "Name: 135, dtype: object\n"
     ]
    },
    {
     "name": "stderr",
     "output_type": "stream",
     "text": [
      "100%|██████████| 45/45 [00:00<00:00, 9248.51it/s]\n"
     ]
    },
    {
     "name": "stdout",
     "output_type": "stream",
     "text": [
      "cik                         1347862\n",
      "cik_str                  0001347862\n",
      "company    Ventas Specialty I, Inc.\n",
      "state                            KY\n",
      "Name: 136, dtype: object\n"
     ]
    },
    {
     "name": "stderr",
     "output_type": "stream",
     "text": [
      "100%|██████████| 45/45 [00:00<00:00, 7125.63it/s]\n"
     ]
    },
    {
     "name": "stdout",
     "output_type": "stream",
     "text": [
      "cik                        1347863\n",
      "cik_str                 0001347863\n",
      "company    Ventas Specialty I, LLC\n",
      "state                           KY\n",
      "Name: 137, dtype: object\n"
     ]
    },
    {
     "name": "stderr",
     "output_type": "stream",
     "text": [
      "100%|██████████| 45/45 [00:00<00:00, 6663.97it/s]\n"
     ]
    },
    {
     "name": "stdout",
     "output_type": "stream",
     "text": [
      "cik                            1399622\n",
      "cik_str                     0001399622\n",
      "company    Ventas SSL Beacon Hill,Inc.\n",
      "state                               KY\n",
      "Name: 138, dtype: object\n"
     ]
    },
    {
     "name": "stderr",
     "output_type": "stream",
     "text": [
      "100%|██████████| 45/45 [00:00<00:00, 10992.64it/s]\n"
     ]
    },
    {
     "name": "stdout",
     "output_type": "stream",
     "text": [
      "cik                          1399718\n",
      "cik_str                   0001399718\n",
      "company    Ventas SSL Holdings, Inc.\n",
      "state                             KY\n",
      "Name: 139, dtype: object\n"
     ]
    },
    {
     "name": "stderr",
     "output_type": "stream",
     "text": [
      "100%|██████████| 45/45 [00:00<00:00, 9091.70it/s]\n"
     ]
    },
    {
     "name": "stdout",
     "output_type": "stream",
     "text": [
      "cik                         1399605\n",
      "cik_str                  0001399605\n",
      "company    Ventas SSL Holdings, LLC\n",
      "state                            KY\n",
      "Name: 140, dtype: object\n"
     ]
    },
    {
     "name": "stderr",
     "output_type": "stream",
     "text": [
      "100%|██████████| 45/45 [00:00<00:00, 9699.56it/s]\n"
     ]
    },
    {
     "name": "stdout",
     "output_type": "stream",
     "text": [
      "cik                             1399625\n",
      "cik_str                      0001399625\n",
      "company    Ventas SSL Lynn Valley, Inc.\n",
      "state                                KY\n",
      "Name: 141, dtype: object\n"
     ]
    },
    {
     "name": "stderr",
     "output_type": "stream",
     "text": [
      "100%|██████████| 45/45 [00:00<00:00, 11477.27it/s]\n"
     ]
    },
    {
     "name": "stdout",
     "output_type": "stream",
     "text": [
      "cik                            1399619\n",
      "cik_str                     0001399619\n",
      "company    Ventas SSL Ontario II, Inc.\n",
      "state                               KY\n",
      "Name: 142, dtype: object\n"
     ]
    },
    {
     "name": "stderr",
     "output_type": "stream",
     "text": [
      "100%|██████████| 45/45 [00:00<00:00, 11096.04it/s]\n"
     ]
    },
    {
     "name": "stdout",
     "output_type": "stream",
     "text": [
      "cik                             1399628\n",
      "cik_str                      0001399628\n",
      "company    Ventas SSL Ontario III, Inc.\n",
      "state                                KY\n",
      "Name: 143, dtype: object\n"
     ]
    },
    {
     "name": "stderr",
     "output_type": "stream",
     "text": [
      "100%|██████████| 45/45 [00:00<00:00, 9420.70it/s]\n"
     ]
    },
    {
     "name": "stdout",
     "output_type": "stream",
     "text": [
      "cik                           1399614\n",
      "cik_str                    0001399614\n",
      "company    Ventas SSL Vancouver, Inc.\n",
      "state                              KY\n",
      "Name: 144, dtype: object\n"
     ]
    },
    {
     "name": "stderr",
     "output_type": "stream",
     "text": [
      "100%|██████████| 45/45 [00:00<00:00, 14859.37it/s]\n"
     ]
    },
    {
     "name": "stdout",
     "output_type": "stream",
     "text": [
      "cik                 1399606\n",
      "cik_str          0001399606\n",
      "company    Ventas SSL, Inc.\n",
      "state                    KY\n",
      "Name: 145, dtype: object\n"
     ]
    },
    {
     "name": "stderr",
     "output_type": "stream",
     "text": [
      "100%|██████████| 45/45 [00:00<00:00, 9099.15it/s]\n"
     ]
    },
    {
     "name": "stdout",
     "output_type": "stream",
     "text": [
      "cik               1331199\n",
      "cik_str        0001331199\n",
      "company    Ventas Sun LLC\n",
      "state                  KY\n",
      "Name: 146, dtype: object\n"
     ]
    },
    {
     "name": "stderr",
     "output_type": "stream",
     "text": [
      "100%|██████████| 45/45 [00:00<00:00, 6681.67it/s]\n"
     ]
    },
    {
     "name": "stdout",
     "output_type": "stream",
     "text": [
      "cik               1208682\n",
      "cik_str        0001208682\n",
      "company    VENTAS TRS LLC\n",
      "state                    \n",
      "Name: 147, dtype: object\n"
     ]
    },
    {
     "name": "stderr",
     "output_type": "stream",
     "text": [
      "100%|██████████| 45/45 [00:00<00:00, 6539.30it/s]\n"
     ]
    },
    {
     "name": "stdout",
     "output_type": "stream",
     "text": [
      "cik                           1451543\n",
      "cik_str                    0001451543\n",
      "company    Ventas University MOB, LLC\n",
      "state                              KY\n",
      "Name: 148, dtype: object\n"
     ]
    },
    {
     "name": "stderr",
     "output_type": "stream",
     "text": [
      "100%|██████████| 45/45 [00:00<00:00, 10110.55it/s]\n"
     ]
    },
    {
     "name": "stdout",
     "output_type": "stream",
     "text": [
      "cik            1254034\n",
      "cik_str     0001254034\n",
      "company    VENTASO INC\n",
      "state               CA\n",
      "Name: 149, dtype: object\n"
     ]
    },
    {
     "name": "stderr",
     "output_type": "stream",
     "text": [
      "100%|██████████| 45/45 [00:00<00:00, 5803.93it/s]\n"
     ]
    },
    {
     "name": "stdout",
     "output_type": "stream",
     "text": [
      "cik                                                         766704\n",
      "cik_str                                                 0000766704\n",
      "company    WELLTOWER INC.SIC: 6798 - REAL ESTATE INVESTMENT TRUSTS\n",
      "state                                                           OH\n",
      "Name: 150, dtype: object\n"
     ]
    },
    {
     "name": "stderr",
     "output_type": "stream",
     "text": [
      "100%|██████████| 45/45 [00:00<00:00, 1853.72it/s]\n",
      "100%|██████████| 1939/1939 [00:00<00:00, 2271.69it/s]\n"
     ]
    },
    {
     "name": "stdout",
     "output_type": "stream",
     "text": [
      "cik                             1726934\n",
      "cik_str                      0001726934\n",
      "company    Welltower OM Member REIT LLC\n",
      "state                                OH\n",
      "Name: 151, dtype: object\n"
     ]
    },
    {
     "name": "stderr",
     "output_type": "stream",
     "text": [
      "100%|██████████| 45/45 [00:00<00:00, 6490.27it/s]\n"
     ]
    },
    {
     "name": "stdout",
     "output_type": "stream",
     "text": [
      "cik                                                          1917598\n",
      "cik_str                                                   0001917598\n",
      "company    Welltower OP LLCSIC: 6798 - REAL ESTATE INVESTMENT TRUSTS\n",
      "state                                                             OH\n",
      "Name: 152, dtype: object\n"
     ]
    },
    {
     "name": "stderr",
     "output_type": "stream",
     "text": [
      "100%|██████████| 45/45 [00:00<00:00, 6727.15it/s]\n"
     ]
    },
    {
     "name": "stdout",
     "output_type": "stream",
     "text": [
      "cik                               1043219\n",
      "cik_str                        0001043219\n",
      "company    ANNALY CAPITAL MANAGEMENT INC \n",
      "state                                  NY\n",
      "Name: 153, dtype: object\n"
     ]
    },
    {
     "name": "stderr",
     "output_type": "stream",
     "text": [
      "100%|██████████| 45/45 [00:00<00:00, 2002.01it/s]\n",
      "100%|██████████| 1654/1654 [00:00<00:00, 2582.78it/s]\n"
     ]
    },
    {
     "name": "stdout",
     "output_type": "stream",
     "text": [
      "cik                             920522\n",
      "cik_str                     0000920522\n",
      "company    ESSEX PROPERTY TRUST, INC. \n",
      "state                               CA\n",
      "Name: 154, dtype: object\n"
     ]
    },
    {
     "name": "stderr",
     "output_type": "stream",
     "text": [
      "100%|██████████| 45/45 [00:00<00:00, 2052.95it/s]\n",
      "100%|██████████| 1523/1523 [00:00<00:00, 2477.66it/s]\n"
     ]
    }
   ],
   "source": [
    "# Series\n",
    "submissions_raw = pd.DataFrame()\n",
    "company_facts_raw = pd.DataFrame()\n",
    "\n",
    "for index, desiredcorp in company_cik_list.iterrows():\n",
    "    print(desiredcorp)\n",
    "    try:\n",
    "        submissions = edgar_query(desiredcorp.cik_str, query_type=\"submissions\", parse_pandas=True)\n",
    "    except:\n",
    "        submissions = pd.DataFrame()\n",
    "    try:\n",
    "        companyfacts = edgar_query(desiredcorp.cik_str, query_type=\"companyfacts\", parse_pandas=True)\n",
    "    except:\n",
    "        companyfacts = pd.DataFrame()\n",
    "    submissions_raw = pd.concat([submissions_raw, submissions])\n",
    "    company_facts_raw = pd.concat([company_facts_raw, companyfacts])\n",
    "\n",
    "submissions = pd.merge(\n",
    "    company_cik_list, submissions_raw, how=\"left\", left_on=[\"cik\"], right_on=[\"cik\"]\n",
    ")\n",
    "company_facts = pd.merge(\n",
    "    company_cik_list,\n",
    "    company_facts_raw,\n",
    "    how=\"left\",\n",
    "    left_on=[\"cik\"],\n",
    "    right_on=[\"cik\"],\n",
    ")\n",
    "\n",
    "\n",
    "\n",
    "# Parallel\n",
    "\n",
    "# import concurrent.futures\n",
    "\n",
    "# # Define a function to process each desiredcorp\n",
    "# def process_desiredcorp(desiredcorp):\n",
    "#     cik = desiredcorp.cik\n",
    "#     try:\n",
    "#         submissions = edgar_query(cik, query_type=\"submissions\", parse_pandas=True)\n",
    "#     except:\n",
    "#         submissions = pd.DataFrame()\n",
    "#     try:\n",
    "#         companyfacts = edgar_query(cik, query_type=\"companyfacts\", parse_pandas=True)\n",
    "#     except:\n",
    "#         companyfacts = pd.DataFrame()\n",
    "#     return submissions, companyfacts\n",
    "\n",
    "# # Create an empty list to store the results\n",
    "# results = []\n",
    "\n",
    "# # Create a ProcessPoolExecutor\n",
    "# with concurrent.futures.ProcessPoolExecutor() as executor:\n",
    "#     # Submit each desiredcorp to the executor\n",
    "#     futures = [executor.submit(process_desiredcorp, desiredcorp) for index, desiredcorp in company_cik_list.iterrows()]\n",
    "    \n",
    "#     # Retrieve the results as they become available\n",
    "#     for future in concurrent.futures.as_completed(futures):\n",
    "#         results.append(future.result())\n",
    "\n",
    "# # Concatenate the results\n",
    "# submissions_raw = pd.concat([result[0] for result in results])\n",
    "# company_facts_raw = pd.concat([result[1] for result in results])\n",
    "\n",
    "# # Merge the dataframes\n",
    "# submissions = pd.merge(company_cik_list, submissions_raw, how=\"left\", left_on=[\"cik\"], right_on=[\"cik\"])\n",
    "# company_facts = pd.merge(company_cik_list, company_facts_raw, how=\"left\", left_on=[\"cik\"], right_on=[\"cik\"])\n"
   ]
  },
  {
   "cell_type": "code",
   "execution_count": 19,
   "metadata": {},
   "outputs": [
    {
     "name": "stdout",
     "output_type": "stream",
     "text": [
      "                                                                                                                                        cik  cik_str  company  state  value\n",
      "variable                                                                                                                                                                   \n",
      "facts.us-gaap.CashAndCashEquivalentsAtCarryingValue.units.USD                                                                            27       27       27     27     27\n",
      "facts.us-gaap.StockholdersEquityIncludingPortionAttributableToNoncontrollingInterest.units.USD                                           27       27       27     27     27\n",
      "facts.us-gaap.NetCashProvidedByUsedInOperatingActivities.units.USD                                                                       27       27       27     27     27\n",
      "facts.us-gaap.NetCashProvidedByUsedInInvestingActivities.units.USD                                                                       27       27       27     27     27\n",
      "facts.us-gaap.NetCashProvidedByUsedInFinancingActivities.units.USD                                                                       27       27       27     27     27\n",
      "facts.us-gaap.LiabilitiesAndStockholdersEquity.units.USD                                                                                 27       27       27     27     27\n",
      "facts.us-gaap.NetIncomeLoss.units.USD                                                                                                    27       27       27     27     27\n",
      "facts.us-gaap.Assets.units.USD                                                                                                           27       27       27     27     27\n",
      "facts.us-gaap.ComprehensiveIncomeNetOfTax.units.USD                                                                                      26       26       26     26     26\n",
      "facts.us-gaap.AccumulatedOtherComprehensiveIncomeLossNetOfTax.units.USD                                                                  26       26       26     26     26\n",
      "facts.us-gaap.ProfitLoss.units.USD                                                                                                       26       26       26     26     26\n",
      "facts.us-gaap.EarningsPerShareBasic.units.USD/shares                                                                                     26       26       26     26     26\n",
      "facts.us-gaap.EarningsPerShareDiluted.units.USD/shares                                                                                   26       26       26     26     26\n",
      "facts.us-gaap.Liabilities.units.USD                                                                                                      26       26       26     26     26\n",
      "facts.us-gaap.IncomeLossFromEquityMethodInvestments.units.USD                                                                            26       26       26     26     26\n",
      "facts.us-gaap.StockIssuedDuringPeriodValueNewIssues.units.USD                                                                            25       25       25     25     25\n",
      "facts.us-gaap.InterestExpense.units.USD                                                                                                  25       25       25     25     25\n",
      "facts.us-gaap.InterestPaidNet.units.USD                                                                                                  25       25       25     25     25\n",
      "facts.us-gaap.MinorityInterest.units.USD                                                                                                 25       25       25     25     25\n",
      "facts.us-gaap.StockholdersEquity.units.USD                                                                                               25       25       25     25     25\n",
      "facts.us-gaap.LongTermDebt.units.USD                                                                                                     25       25       25     25     25\n",
      "facts.us-gaap.RetainedEarningsAccumulatedDeficit.units.USD                                                                               25       25       25     25     25\n",
      "facts.dei.EntityPublicFloat.units.USD                                                                                                    24       24       24     24     24\n",
      "facts.us-gaap.ShareBasedCompensation.units.USD                                                                                           24       24       24     24     24\n",
      "facts.us-gaap.CashAndCashEquivalentsPeriodIncreaseDecrease.units.USD                                                                     24       24       24     24     24\n",
      "facts.us-gaap.NetIncomeLossAttributableToNoncontrollingInterest.units.USD                                                                24       24       24     24     24\n",
      "facts.us-gaap.CommonStockValue.units.USD                                                                                                 24       24       24     24     24\n",
      "facts.us-gaap.CashCashEquivalentsRestrictedCashAndRestrictedCashEquivalents.units.USD                                                    23       23       23     23     23\n",
      "facts.us-gaap.ComprehensiveIncomeNetOfTaxIncludingPortionAttributableToNoncontrollingInterest.units.USD                                  23       23       23     23     23\n",
      "facts.us-gaap.NetIncomeLossAvailableToCommonStockholdersBasic.units.USD                                                                  23       23       23     23     23\n",
      "facts.us-gaap.OperatingIncomeLoss.units.USD                                                                                              23       23       23     23     23\n",
      "facts.us-gaap.IncomeTaxExpenseBenefit.units.USD                                                                                          23       23       23     23     23\n",
      "facts.us-gaap.Revenues.units.USD                                                                                                         23       23       23     23     23\n",
      "facts.us-gaap.LesseeOperatingLeaseLiabilityPaymentsDueAfterYearFive.units.USD                                                            22       22       22     22     22\n",
      "facts.us-gaap.OperatingLeasesFutureMinimumPaymentsDueInTwoYears.units.USD                                                                22       22       22     22     22\n",
      "facts.us-gaap.ProceedsFromIssuanceOfCommonStock.units.USD                                                                                22       22       22     22     22\n",
      "facts.us-gaap.OperatingLeasesFutureMinimumPaymentsDueInThreeYears.units.USD                                                              22       22       22     22     22\n",
      "facts.us-gaap.OperatingLeaseLiability.units.USD                                                                                          22       22       22     22     22\n",
      "facts.us-gaap.LongTermDebtMaturitiesRepaymentsOfPrincipalInYearThree.units.USD                                                           22       22       22     22     22\n",
      "facts.us-gaap.OperatingLeasesFutureMinimumPaymentsDueThereafter.units.USD                                                                22       22       22     22     22\n",
      "facts.us-gaap.OperatingLeaseRightOfUseAsset.units.USD                                                                                    22       22       22     22     22\n",
      "facts.us-gaap.OperatingLeasesFutureMinimumPaymentsDueCurrent.units.USD                                                                   22       22       22     22     22\n",
      "facts.us-gaap.OperatingLeasesFutureMinimumPaymentsDueInFiveYears.units.USD                                                               22       22       22     22     22\n",
      "facts.us-gaap.LongTermDebtMaturitiesRepaymentsOfPrincipalInYearTwo.units.USD                                                             22       22       22     22     22\n",
      "facts.us-gaap.OperatingLeasesFutureMinimumPaymentsDueInFourYears.units.USD                                                               22       22       22     22     22\n",
      "facts.us-gaap.LongTermDebtMaturitiesRepaymentsOfPrincipalInYearFour.units.USD                                                            22       22       22     22     22\n",
      "facts.us-gaap.LongTermDebtMaturitiesRepaymentsOfPrincipalInNextTwelveMonths.units.USD                                                    22       22       22     22     22\n",
      "facts.us-gaap.CommonStockParOrStatedValuePerShare.units.USD/shares                                                                       22       22       22     22     22\n",
      "facts.us-gaap.LesseeOperatingLeaseLiabilityPaymentsDueYearThree.units.USD                                                                21       21       21     21     21\n",
      "facts.us-gaap.LesseeOperatingLeaseLiabilityPaymentsDueYearFour.units.USD                                                                 21       21       21     21     21\n",
      "facts.us-gaap.LesseeOperatingLeaseLiabilityPaymentsDueYearTwo.units.USD                                                                  21       21       21     21     21\n",
      "facts.us-gaap.LesseeOperatingLeaseLiabilityPaymentsDueYearFive.units.USD                                                                 21       21       21     21     21\n",
      "facts.us-gaap.LongTermDebtMaturitiesRepaymentsOfPrincipalInYearFive.units.USD                                                            21       21       21     21     21\n",
      "facts.us-gaap.EquityMethodInvestmentDividendsOrDistributions.units.USD                                                                   21       21       21     21     21\n",
      "facts.us-gaap.LesseeOperatingLeaseLiabilityPaymentsDueNextTwelveMonths.units.USD                                                         21       21       21     21     21\n",
      "facts.us-gaap.ComprehensiveIncomeNetOfTaxAttributableToNoncontrollingInterest.units.USD                                                  21       21       21     21     21\n",
      "facts.us-gaap.LesseeOperatingLeaseLiabilityPaymentsDue.units.USD                                                                         21       21       21     21     21\n",
      "facts.us-gaap.CashCashEquivalentsRestrictedCashAndRestrictedCashEquivalentsPeriodIncreaseDecreaseIncludingExchangeRateEffect.units.USD   20       20       20     20     20\n",
      "facts.us-gaap.LongTermDebtMaturitiesRepaymentsOfPrincipalAfterYearFive.units.USD                                                         20       20       20     20     20\n",
      "facts.us-gaap.CommonStockDividendsPerShareDeclared.units.USD/shares                                                                      20       20       20     20     20\n",
      "facts.us-gaap.PaymentsToMinorityShareholders.units.USD                                                                                   20       20       20     20     20\n",
      "facts.us-gaap.AdditionalPaidInCapital.units.USD                                                                                          20       20       20     20     20\n",
      "facts.us-gaap.LesseeOperatingLeaseLiabilityUndiscountedExcessAmount.units.USD                                                            20       20       20     20     20\n",
      "facts.us-gaap.MinorityInterestDecreaseFromDistributionsToNoncontrollingInterestHolders.units.USD                                         20       20       20     20     20\n",
      "facts.us-gaap.ProceedsFromMinorityShareholders.units.USD                                                                                 20       20       20     20     20\n",
      "facts.us-gaap.DebtInstrumentCarryingAmount.units.USD                                                                                     20       20       20     20     20\n",
      "facts.us-gaap.GainsLossesOnExtinguishmentOfDebt.units.USD                                                                                20       20       20     20     20\n",
      "facts.us-gaap.RealEstateAccumulatedDepreciation.units.USD                                                                                20       20       20     20     20\n",
      "facts.us-gaap.OtherComprehensiveIncomeLossNetOfTax.units.USD                                                                             19       19       19     19     19\n",
      "facts.us-gaap.PreferredStockValue.units.USD                                                                                              19       19       19     19     19\n",
      "facts.us-gaap.GeneralAndAdministrativeExpense.units.USD                                                                                  19       19       19     19     19\n",
      "facts.us-gaap.PaymentsToAcquireBusinessesNetOfCashAcquired.units.USD                                                                     19       19       19     19     19\n",
      "facts.us-gaap.RealEstateGrossAtCarryingValue.units.USD                                                                                   19       19       19     19     19\n",
      "facts.us-gaap.AllocatedShareBasedCompensationExpense.units.USD                                                                           19       19       19     19     19\n",
      "facts.us-gaap.IncomeLossFromContinuingOperationsIncludingPortionAttributableToNoncontrollingInterest.units.USD                           19       19       19     19     19\n",
      "facts.us-gaap.PaymentsOfDividendsCommonStock.units.USD                                                                                   18       18       18     18     18\n",
      "facts.us-gaap.BusinessCombinationAcquisitionRelatedCosts.units.USD                                                                       18       18       18     18     18\n",
      "facts.us-gaap.UnrecognizedTaxBenefits.units.USD                                                                                          18       18       18     18     18\n",
      "facts.us-gaap.RealEstateAndAccumulatedDepreciationAmountOfEncumbrances.units.USD                                                         18       18       18     18     18\n",
      "facts.us-gaap.PaymentsForRepurchaseOfCommonStock.units.USD                                                                               18       18       18     18     18\n",
      "facts.us-gaap.BusinessAcquisitionsProFormaRevenue.units.USD                                                                              18       18       18     18     18\n",
      "facts.us-gaap.FiniteLivedIntangibleAssetsAmortizationExpenseNextTwelveMonths.units.USD                                                   18       18       18     18     18\n",
      "facts.us-gaap.FiniteLivedIntangibleAssetsAmortizationExpenseYearFive.units.USD                                                           18       18       18     18     18\n",
      "facts.us-gaap.FiniteLivedIntangibleAssetsAmortizationExpenseYearFour.units.USD                                                           18       18       18     18     18\n",
      "facts.us-gaap.LesseeOperatingLeaseLiabilityPaymentsRemainderOfFiscalYear.units.USD                                                       18       18       18     18     18\n",
      "facts.us-gaap.CostsAndExpenses.units.USD                                                                                                 18       18       18     18     18\n",
      "facts.us-gaap.FiniteLivedIntangibleAssetsAmortizationExpenseYearThree.units.USD                                                          18       18       18     18     18\n",
      "facts.us-gaap.SECScheduleIIIRealEstateAccumulatedDepreciationDepreciationExpense.units.USD                                               18       18       18     18     18\n",
      "facts.us-gaap.FiniteLivedIntangibleAssetsAmortizationExpenseYearTwo.units.USD                                                            18       18       18     18     18\n",
      "facts.us-gaap.IncomeLossFromContinuingOperationsBeforeIncomeTaxesExtraordinaryItemsNoncontrollingInterest.units.USD                      18       18       18     18     18\n",
      "facts.us-gaap.IncomeLossFromContinuingOperationsPerBasicShare.units.USD/shares                                                           18       18       18     18     18\n",
      "facts.us-gaap.IncomeLossFromDiscontinuedOperationsNetOfTax.units.USD                                                                     18       18       18     18     18\n",
      "facts.us-gaap.DebtInstrumentFaceAmount.units.USD                                                                                         18       18       18     18     18\n",
      "facts.us-gaap.IncomeLossFromContinuingOperationsPerDilutedShare.units.USD/shares                                                         18       18       18     18     18\n",
      "facts.us-gaap.FiniteLivedIntangibleAssetsAccumulatedAmortization.units.USD                                                               18       18       18     18     18\n",
      "facts.us-gaap.PaymentsToAcquireRealEstate.units.USD                                                                                      17       17       17     17     17\n",
      "facts.us-gaap.IncomeLossFromDiscontinuedOperationsNetOfTaxPerDilutedShare.units.USD/shares                                               17       17       17     17     17\n",
      "facts.us-gaap.PreferredStockParOrStatedValuePerShare.units.USD/shares                                                                    17       17       17     17     17\n",
      "facts.us-gaap.IncomeLossFromDiscontinuedOperationsNetOfTaxPerBasicShare.units.USD/shares                                                 17       17       17     17     17\n",
      "facts.us-gaap.CommonStockDividendsPerShareCashPaid.units.USD/shares                                                                      17       17       17     17     17\n",
      "facts.us-gaap.DiscontinuedOperationGainLossOnDisposalOfDiscontinuedOperationNetOfTax.units.USD                                           17       17       17     17     17\n",
      "facts.us-gaap.OperatingLeasePayments.units.USD                                                                                           17       17       17     17     17\n",
      "facts.us-gaap.BusinessAcquisitionsProFormaNetIncomeLoss.units.USD                                                                        17       17       17     17     17\n",
      "facts.us-gaap.MinorityInterestDecreaseFromRedemptions.units.USD                                                                          17       17       17     17     17\n",
      "facts.us-gaap.OtherNonoperatingIncomeExpense.units.USD                                                                                   17       17       17     17     17\n",
      "facts.us-gaap.OperatingLeasesFutureMinimumPaymentsDue.units.USD                                                                          17       17       17     17     17\n",
      "facts.us-gaap.LineOfCreditFacilityMaximumBorrowingCapacity.units.USD                                                                     17       17       17     17     17\n",
      "facts.us-gaap.AssetImpairmentCharges.units.USD                                                                                           17       17       17     17     17\n",
      "facts.us-gaap.ShareBasedCompensationArrangementByShareBasedPaymentAwardOptionsOutstandingWeightedAverageExercisePrice.units.USD/shares   17       17       17     17     17\n",
      "facts.us-gaap.RealEstateAndAccumulatedDepreciationCarryingAmountOfLand.units.USD                                                         17       17       17     17     17\n",
      "facts.us-gaap.RealEstateAndAccumulatedDepreciationInitialCostOfLand.units.USD                                                            17       17       17     17     17\n",
      "facts.us-gaap.RepaymentsOfLinesOfCredit.units.USD                                                                                        17       17       17     17     17\n",
      "facts.us-gaap.ShareBasedCompensationArrangementByShareBasedPaymentAwardOptionsExercisableWeightedAverageExercisePrice.units.USD/shares   17       17       17     17     17\n",
      "facts.us-gaap.ImpairmentOfRealEstate.units.USD                                                                                           16       16       16     16     16\n",
      "facts.us-gaap.Goodwill.units.USD                                                                                                         16       16       16     16     16\n",
      "facts.us-gaap.DepreciationAndAmortization.units.USD                                                                                      16       16       16     16     16\n",
      "facts.us-gaap.RealEstateInvestmentPropertyAccumulatedDepreciation.units.USD                                                              16       16       16     16     16\n",
      "facts.us-gaap.FiniteLivedIntangibleAssetsNet.units.USD                                                                                   16       16       16     16     16\n",
      "facts.us-gaap.IncomeLossFromContinuingOperations.units.USD                                                                               16       16       16     16     16\n",
      "facts.us-gaap.RealEstateInvestmentPropertyNet.units.USD                                                                                  16       16       16     16     16\n",
      "facts.us-gaap.NetIncomeLossAvailableToCommonStockholdersDiluted.units.USD                                                                16       16       16     16     16\n",
      "facts.us-gaap.LineOfCredit.units.USD                                                                                                     16       16       16     16     16\n",
      "facts.us-gaap.RepaymentsOfSecuredDebt.units.USD                                                                                          16       16       16     16     16\n",
      "facts.us-gaap.PaymentsForProceedsFromOtherInvestingActivities.units.USD                                                                  16       16       16     16     16\n",
      "facts.us-gaap.InvestmentsInAffiliatesSubsidiariesAssociatesAndJointVentures.units.USD                                                    16       16       16     16     16\n",
      "facts.us-gaap.Land.units.USD                                                                                                             16       16       16     16     16\n",
      "facts.us-gaap.AmortizationOfFinancingCosts.units.USD                                                                                     16       16       16     16     16\n",
      "facts.us-gaap.DeferredFinanceCostsNet.units.USD                                                                                          16       16       16     16     16\n",
      "facts.us-gaap.IncreaseDecreaseInAccountsPayableAndAccruedLiabilities.units.USD                                                           16       16       16     16     16\n",
      "facts.us-gaap.RealEstateAndAccumulatedDepreciationCarryingAmountOfBuildingsAndImprovements.units.USD                                     16       16       16     16     16\n",
      "facts.us-gaap.OtherAssets.units.USD                                                                                                      16       16       16     16     16\n",
      "facts.us-gaap.RealEstateAndAccumulatedDepreciationInitialCostOfBuildingsAndImprovements.units.USD                                        16       16       16     16     16\n",
      "facts.us-gaap.ProceedsFromIssuanceOfLongTermDebt.units.USD                                                                               16       16       16     16     16\n",
      "facts.us-gaap.InterestPaid.units.USD                                                                                                     15       15       15     15     15\n",
      "facts.us-gaap.LessorOperatingLeasePaymentsToBeReceived.units.USD                                                                         15       15       15     15     15\n",
      "facts.us-gaap.OtherComprehensiveIncomeUnrealizedGainLossOnDerivativesArisingDuringPeriodNetOfTax.units.USD                               15       15       15     15     15\n",
      "facts.us-gaap.OperatingLeasesFutureMinimumPaymentsReceivableInTwoYears.units.USD                                                         15       15       15     15     15\n",
      "facts.us-gaap.RealEstateAccumulatedDepreciationRealEstateSold.units.USD                                                                  15       15       15     15     15\n",
      "facts.us-gaap.OperatingLeasesFutureMinimumPaymentsReceivableInFiveYears.units.USD                                                        15       15       15     15     15\n",
      "facts.us-gaap.OperatingLeasesFutureMinimumPaymentsReceivableInFourYears.units.USD                                                        15       15       15     15     15\n",
      "facts.us-gaap.OperatingLeasesFutureMinimumPaymentsReceivableInThreeYears.units.USD                                                       15       15       15     15     15\n",
      "facts.us-gaap.OperatingLeasesFutureMinimumPaymentsReceivableThereafter.units.USD                                                         15       15       15     15     15\n",
      "facts.us-gaap.NoncontrollingInterestIncreaseFromBusinessCombination.units.USD                                                            15       15       15     15     15\n",
      "facts.us-gaap.OtherComprehensiveIncomeLossForeignCurrencyTransactionAndTranslationAdjustmentNetOfTax.units.USD                           15       15       15     15     15\n",
      "facts.us-gaap.OtherComprehensiveIncomeLossNetOfTaxPortionAttributableToParent.units.USD                                                  15       15       15     15     15\n",
      "facts.us-gaap.ProceedsFromLinesOfCredit.units.USD                                                                                        15       15       15     15     15\n",
      "facts.us-gaap.DeferredTaxAssetsLiabilitiesNet.units.USD                                                                                  15       15       15     15     15\n",
      "facts.us-gaap.ProceedsFromPaymentsForOtherFinancingActivities.units.USD                                                                  15       15       15     15     15\n",
      "facts.us-gaap.PaymentsRelatedToTaxWithholdingForShareBasedCompensation.units.USD                                                         15       15       15     15     15\n",
      "facts.us-gaap.ShareBasedCompensationArrangementByShareBasedPaymentAwardOptionsOutstandingIntrinsicValue.units.USD                        15       15       15     15     15\n",
      "facts.us-gaap.Depreciation.units.USD                                                                                                     15       15       15     15     15\n",
      "facts.us-gaap.AccountsPayableAndAccruedLiabilitiesCurrentAndNoncurrent.units.USD                                                         15       15       15     15     15\n",
      "facts.us-gaap.EmployeeServiceShareBasedCompensationNonvestedAwardsTotalCompensationCostNotYetRecognized.units.USD                        15       15       15     15     15\n",
      "facts.us-gaap.BusinessAcquisitionProFormaEarningsPerShareDiluted.units.USD/shares                                                        15       15       15     15     15\n",
      "facts.us-gaap.PaymentsOfDividends.units.USD                                                                                              15       15       15     15     15\n",
      "facts.us-gaap.AmortizationOfIntangibleAssets.units.USD                                                                                   15       15       15     15     15\n",
      "facts.us-gaap.BusinessAcquisitionProFormaEarningsPerShareBasic.units.USD/shares                                                          15       15       15     15     15\n",
      "facts.us-gaap.AdjustmentsToAdditionalPaidInCapitalSharebasedCompensationRequisiteServicePeriodRecognitionValue.units.USD                 15       15       15     15     15\n",
      "facts.us-gaap.ProceedsFromEquityMethodInvestmentDividendsOrDistributionsReturnOfCapital.units.USD                                        15       15       15     15     15\n",
      "facts.us-gaap.DirectCostsOfLeasedAndRentedPropertyOrEquipment.units.USD                                                                  14       14       14     14     14\n",
      "facts.us-gaap.DeferredTaxAssetsValuationAllowance.units.USD                                                                              14       14       14     14     14\n",
      "facts.us-gaap.NoncontrollingInterestIncreaseFromSubsidiaryEquityIssuance.units.USD                                                       14       14       14     14     14\n",
      "facts.us-gaap.DeferredTaxAssetsNet.units.USD                                                                                             14       14       14     14     14\n",
      "facts.us-gaap.RealEstateAndAccumulatedDepreciationAccumulatedDepreciation.units.USD                                                      14       14       14     14     14\n",
      "facts.us-gaap.RealEstateInvestmentPropertyAtCost.units.USD                                                                               14       14       14     14     14\n",
      "facts.us-gaap.IncomeLossFromDiscontinuedOperationsNetOfTaxAttributableToReportingEntity.units.USD                                        14       14       14     14     14\n",
      "facts.us-gaap.RestrictedCashAndCashEquivalentsAtCarryingValue.units.USD                                                                  14       14       14     14     14\n",
      "facts.us-gaap.SecuredDebt.units.USD                                                                                                      14       14       14     14     14\n",
      "facts.us-gaap.InvestmentBuildingAndBuildingImprovements.units.USD                                                                        14       14       14     14     14\n",
      "facts.us-gaap.IncomeTaxReconciliationOtherAdjustments.units.USD                                                                          14       14       14     14     14\n",
      "facts.us-gaap.IncomeTaxesPaid.units.USD                                                                                                  14       14       14     14     14\n",
      "facts.us-gaap.LessorOperatingLeasePaymentsToBeReceivedFiveYears.units.USD                                                                14       14       14     14     14\n",
      "facts.us-gaap.DividendsPayableCurrentAndNoncurrent.units.USD                                                                             14       14       14     14     14\n",
      "facts.us-gaap.EquityMethodInvestments.units.USD                                                                                          14       14       14     14     14\n",
      "facts.us-gaap.LessorOperatingLeasePaymentsToBeReceivedTwoYears.units.USD                                                                 14       14       14     14     14\n",
      "facts.us-gaap.LessorOperatingLeasePaymentsToBeReceivedThreeYears.units.USD                                                               14       14       14     14     14\n",
      "facts.us-gaap.LessorOperatingLeasePaymentsToBeReceivedThereafter.units.USD                                                               14       14       14     14     14\n",
      "facts.us-gaap.LessorOperatingLeasePaymentsToBeReceivedNextTwelveMonths.units.USD                                                         14       14       14     14     14\n",
      "facts.us-gaap.LessorOperatingLeasePaymentsToBeReceivedFourYears.units.USD                                                                14       14       14     14     14\n",
      "facts.us-gaap.ProceedsFromSaleOfRealEstateHeldforinvestment.units.USD                                                                    14       14       14     14     14\n",
      "facts.us-gaap.OperatingLeasesFutureMinimumPaymentsReceivableCurrent.units.USD                                                            14       14       14     14     14\n"
     ]
    }
   ],
   "source": [
    "print(\n",
    "    company_facts\n",
    "    .query(\"variable.notna()\")\n",
    "    .groupby([\"variable\"])\n",
    "    .count()\n",
    "    .sort_values(by=[\"cik\"], ascending=False)\n",
    "    .query(\"cik >= cik.max()/2 & variable.str.contains('units.USD')\")\n",
    "    .to_string()\n",
    ");"
   ]
  },
  {
   "cell_type": "code",
   "execution_count": 20,
   "metadata": {},
   "outputs": [
    {
     "name": "stderr",
     "output_type": "stream",
     "text": [
      "/tmp/ipykernel_26406/2194889834.py:70: FutureWarning:\n",
      "\n",
      "Not prepending group keys to the result index of transform-like apply. In the future, the group keys will be included in the index, regardless of whether the applied function returns a like-indexed object.\n",
      "To preserve the previous behavior, use\n",
      "\n",
      "\t>>> .groupby(..., group_keys=False)\n",
      "\n",
      "To adopt the future behavior and silence this warning, use \n",
      "\n",
      "\t>>> .groupby(..., group_keys=True)\n",
      "\n",
      "/tmp/ipykernel_26406/2194889834.py:70: FutureWarning:\n",
      "\n",
      "Not prepending group keys to the result index of transform-like apply. In the future, the group keys will be included in the index, regardless of whether the applied function returns a like-indexed object.\n",
      "To preserve the previous behavior, use\n",
      "\n",
      "\t>>> .groupby(..., group_keys=False)\n",
      "\n",
      "To adopt the future behavior and silence this warning, use \n",
      "\n",
      "\t>>> .groupby(..., group_keys=True)\n",
      "\n"
     ]
    }
   ],
   "source": [
    "plotting_values = [\n",
    "    \"facts.us-gaap.InterestExpense.units.USD\",\n",
    "    \"facts.us-gaap.NetIncomeLoss.units.USD\",\n",
    "]  #\n",
    "\n",
    "plotting_data = (\n",
    "    pd.concat(\n",
    "        [\n",
    "            row.value.reset_index(drop=True).assign(\n",
    "                company=row.company, variable=row.variable\n",
    "            )\n",
    "            for _, row in company_facts[\n",
    "                company_facts.variable.isin(plotting_values)\n",
    "            ].iterrows()\n",
    "        ],\n",
    "        ignore_index=True,\n",
    "    )\n",
    "    .reset_index(drop=True)\n",
    "    .assign(filed=lambda x: pd.to_datetime(x.filed))\n",
    "    .query(\"form == '10-Q'\")\n",
    "    .assign(\n",
    "        # fp = lambda x: np.where(x.fp == \"FY\", \"Q4\", x.fp),\n",
    "        date=lambda x: pd.to_datetime(x[\"fy\"].astype(str) + \"-\" + x[\"fp\"].astype(str)),\n",
    "        start=lambda x: pd.to_datetime(x.start),\n",
    "        end=lambda x: pd.to_datetime(x.end),\n",
    "        frame=lambda x: x.frame.fillna(\"months_ended\"),\n",
    "    )\n",
    "    .assign(\n",
    "        frame_date=lambda x: pd.to_datetime(\n",
    "            x.frame.str.replace(\"CY\", \"\"), errors=\"coerce\"\n",
    "        )\n",
    "    )\n",
    "    .query(\"frame_date.isna() | frame_date ==date\")\n",
    ")  # .query(\"date >= frame_date\")\n",
    "\n",
    "plotting_data = (\n",
    "    plotting_data.groupby([\"date\", \"company\", \"variable\", \"frame\"])\n",
    "    .apply(lambda x: x.loc[x.end.idxmax()])\n",
    "    .reset_index(drop=True)\n",
    ")\n",
    "\n",
    "plotting_data = (\n",
    "    plotting_data.pivot(\n",
    "        index=[\"date\", \"accn\", \"fy\", \"fp\", \"form\", \"filed\", \"frame\", \"company\"],\n",
    "        columns=\"variable\",\n",
    "        values=\"val\",\n",
    "    )\n",
    "    .reset_index()\n",
    "    .sort_values(by=[\"date\", \"company\"])\n",
    "    .reset_index(drop=True)\n",
    ")\n",
    "\n",
    "plotting_data = (\n",
    "    plotting_data.sort_values([\"form\", \"company\", \"date\", \"frame\", \"fy\"])\n",
    "    .groupby([\"date\", \"fy\", \"form\", \"company\", \"frame\"])\n",
    "    .agg({value: lambda x: x.sum(min_count=1) for value in plotting_values})\n",
    "    .reset_index(drop=False)\n",
    "    .sort_values([\"form\", \"company\", \"date\", \"frame\", \"fy\"])\n",
    "    .reset_index(drop=False)\n",
    "    .assign(quarter=lambda x: x.date.dt.quarter)\n",
    ")\n",
    "\n",
    "for columnholder in plotting_values:\n",
    "    plotting_data[columnholder] = plotting_data.groupby([\"form\", \"company\", \"date\"])[\n",
    "        columnholder\n",
    "    ].ffill()\n",
    "    plotting_data.loc[\n",
    "        ((plotting_data.frame == \"months_ended\") & (plotting_data.quarter != 1)),\n",
    "        columnholder,\n",
    "    ] = plotting_data.groupby([\"form\", \"company\", \"fy\"])[columnholder].apply(\n",
    "        lambda x: x - x.shift(2).fillna(0)\n",
    "    )\n",
    "\n",
    "plotting_data = plotting_data.assign(\n",
    "    interest_fraction=lambda x: np.where(\n",
    "        (\n",
    "            100\n",
    "            * (x[\"facts.us-gaap.InterestExpense.units.USD\"])\n",
    "            / (\n",
    "                x[\"facts.us-gaap.InterestExpense.units.USD\"]\n",
    "                + x[\"facts.us-gaap.NetIncomeLoss.units.USD\"]\n",
    "            )\n",
    "            > -500\n",
    "        )\n",
    "        & (\n",
    "            100\n",
    "            * (x[\"facts.us-gaap.InterestExpense.units.USD\"])\n",
    "            / (\n",
    "                x[\"facts.us-gaap.InterestExpense.units.USD\"]\n",
    "                + x[\"facts.us-gaap.NetIncomeLoss.units.USD\"]\n",
    "            )\n",
    "            < 500\n",
    "        )\n",
    "        & (\n",
    "            x[\"facts.us-gaap.InterestExpense.units.USD\"].notna()\n",
    "            & x[\"facts.us-gaap.NetIncomeLoss.units.USD\"].notna()\n",
    "        ),\n",
    "        100\n",
    "        * (x[\"facts.us-gaap.InterestExpense.units.USD\"])\n",
    "        / (\n",
    "            x[\"facts.us-gaap.InterestExpense.units.USD\"]\n",
    "            + x[\"facts.us-gaap.NetIncomeLoss.units.USD\"]\n",
    "        ),\n",
    "        np.nan,\n",
    "    )\n",
    ").sort_values([\"form\", \"company\", \"date\", \"fy\"])\n",
    "\n",
    "plotting_values = np.unique(plotting_values + [\"interest_fraction\"])"
   ]
  },
  {
   "cell_type": "code",
   "execution_count": 22,
   "metadata": {},
   "outputs": [
    {
     "data": {
      "application/vnd.plotly.v1+json": {
       "config": {
        "plotlyServerURL": "https://plot.ly"
       },
       "data": [
        {
         "legendgroup": "ALEXANDRIA REAL ESTATE EQUITIES, INC.SIC: 6798 - REAL ESTATE INVESTMENT TRUSTS",
         "line": {
          "color": "#636EFA"
         },
         "mode": "lines+markers",
         "name": "ALEXANDRIA REAL ESTATE EQUITIES, INC.SIC: 6798 - REAL ESTATE INVESTMENT TRUSTS",
         "type": "scatter",
         "visible": true,
         "x": [
          "2010-04-01T00:00:00",
          "2010-07-01T00:00:00",
          "2011-01-01T00:00:00",
          "2011-07-01T00:00:00",
          "2012-01-01T00:00:00",
          "2012-04-01T00:00:00",
          "2012-07-01T00:00:00",
          "2013-01-01T00:00:00",
          "2013-04-01T00:00:00",
          "2013-07-01T00:00:00",
          "2014-01-01T00:00:00",
          "2014-04-01T00:00:00",
          "2014-07-01T00:00:00",
          "2015-01-01T00:00:00",
          "2015-04-01T00:00:00",
          "2015-07-01T00:00:00",
          "2016-01-01T00:00:00",
          "2016-04-01T00:00:00",
          "2016-07-01T00:00:00",
          "2017-01-01T00:00:00",
          "2017-04-01T00:00:00",
          "2017-07-01T00:00:00",
          "2018-01-01T00:00:00",
          "2018-04-01T00:00:00",
          "2018-04-01T00:00:00",
          "2018-07-01T00:00:00",
          "2019-01-01T00:00:00",
          "2019-07-01T00:00:00",
          "2020-01-01T00:00:00",
          "2020-04-01T00:00:00",
          "2020-07-01T00:00:00",
          "2021-01-01T00:00:00",
          "2021-04-01T00:00:00",
          "2021-07-01T00:00:00",
          "2022-01-01T00:00:00",
          "2022-04-01T00:00:00",
          "2022-07-01T00:00:00",
          "2023-01-01T00:00:00",
          "2023-04-01T00:00:00",
          "2023-04-01T00:00:00",
          "2023-07-01T00:00:00",
          "2023-07-01T00:00:00",
          "2024-01-01T00:00:00"
         ],
         "y": [
          36340000,
          52451000,
          17842000,
          48650000,
          16227000,
          34149000,
          35016000,
          18020000,
          33998000,
          16171000,
          19123000,
          17433000,
          57111000,
          23236000,
          49904000,
          54347000,
          24855000,
          49880000,
          50875000,
          29784000,
          61532000,
          62779000,
          36915000,
          38097000,
          38097000,
          79159000,
          39100000,
          128182000,
          45739000,
          90753000,
          88332000,
          36467000,
          71625000,
          70836000,
          29440000,
          53697000,
          47241000,
          13754000,
          17072000,
          17072000,
          11411000,
          11411000,
          40840000
         ]
        },
        {
         "legendgroup": "AMERICAN TOWER CORP /MA/SIC: 6798 - REAL ESTATE INVESTMENT TRUSTS",
         "line": {
          "color": "#EF553B"
         },
         "mode": "lines+markers",
         "name": "AMERICAN TOWER CORP /MA/SIC: 6798 - REAL ESTATE INVESTMENT TRUSTS",
         "type": "scatter",
         "visible": true,
         "x": [
          "2009-04-01T00:00:00",
          "2009-07-01T00:00:00",
          "2010-01-01T00:00:00",
          "2010-04-01T00:00:00",
          "2010-07-01T00:00:00",
          "2011-01-01T00:00:00",
          "2011-04-01T00:00:00",
          "2011-07-01T00:00:00",
          "2012-01-01T00:00:00",
          "2012-04-01T00:00:00",
          "2012-07-01T00:00:00",
          "2013-01-01T00:00:00",
          "2013-04-01T00:00:00",
          "2013-07-01T00:00:00",
          "2014-01-01T00:00:00",
          "2014-04-01T00:00:00",
          "2014-07-01T00:00:00",
          "2015-01-01T00:00:00",
          "2015-01-01T00:00:00",
          "2015-04-01T00:00:00",
          "2015-04-01T00:00:00",
          "2015-07-01T00:00:00",
          "2015-07-01T00:00:00",
          "2017-01-01T00:00:00",
          "2017-01-01T00:00:00",
          "2017-04-01T00:00:00",
          "2017-04-01T00:00:00",
          "2017-07-01T00:00:00",
          "2017-07-01T00:00:00",
          "2019-04-01T00:00:00",
          "2019-07-01T00:00:00",
          "2020-01-01T00:00:00",
          "2020-04-01T00:00:00",
          "2020-07-01T00:00:00",
          "2021-01-01T00:00:00",
          "2021-04-01T00:00:00",
          "2021-07-01T00:00:00",
          "2022-01-01T00:00:00",
          "2022-04-01T00:00:00",
          "2022-07-01T00:00:00",
          "2023-01-01T00:00:00",
          "2023-04-01T00:00:00",
          "2023-04-01T00:00:00",
          "2023-07-01T00:00:00",
          "2023-07-01T00:00:00",
          "2024-01-01T00:00:00"
         ],
         "y": [
          124222000,
          188345000,
          58417000,
          114491000,
          118978000,
          74427000,
          148939000,
          152308000,
          95117000,
          195350000,
          202505000,
          111766000,
          212581000,
          207150000,
          143307000,
          289541000,
          289446000,
          147934000,
          147934000,
          148507000,
          148507000,
          149787000,
          149787000,
          183695000,
          183695000,
          187028000,
          187028000,
          188784000,
          188784000,
          412000000,
          613300000,
          208800000,
          406500000,
          388600000,
          207000000,
          420700000,
          439800000,
          262400000,
          276600000,
          294000000,
          340200000,
          348100000,
          348100000,
          359200000,
          359200000,
          366700000
         ]
        },
        {
         "legendgroup": "ANNALY CAPITAL MANAGEMENT INC ",
         "line": {
          "color": "#00CC96"
         },
         "mode": "lines+markers",
         "name": "ANNALY CAPITAL MANAGEMENT INC ",
         "type": "scatter",
         "visible": true,
         "x": [
          "2009-04-01T00:00:00",
          "2009-07-01T00:00:00",
          "2010-01-01T00:00:00",
          "2010-04-01T00:00:00",
          "2010-07-01T00:00:00",
          "2011-01-01T00:00:00",
          "2011-04-01T00:00:00",
          "2011-07-01T00:00:00",
          "2012-01-01T00:00:00",
          "2012-04-01T00:00:00",
          "2012-07-01T00:00:00",
          "2013-01-01T00:00:00",
          "2013-04-01T00:00:00",
          "2013-07-01T00:00:00",
          "2014-01-01T00:00:00",
          "2014-04-01T00:00:00",
          "2014-07-01T00:00:00",
          "2015-01-01T00:00:00",
          "2015-04-01T00:00:00",
          "2015-07-01T00:00:00",
          "2016-01-01T00:00:00",
          "2016-04-01T00:00:00",
          "2016-07-01T00:00:00",
          "2017-01-01T00:00:00",
          "2017-04-01T00:00:00",
          "2017-07-01T00:00:00",
          "2018-01-01T00:00:00",
          "2018-04-01T00:00:00",
          "2018-07-01T00:00:00",
          "2019-01-01T00:00:00",
          "2019-04-01T00:00:00",
          "2019-07-01T00:00:00",
          "2020-01-01T00:00:00",
          "2020-04-01T00:00:00",
          "2020-07-01T00:00:00",
          "2021-01-01T00:00:00",
          "2021-04-01T00:00:00",
          "2021-07-01T00:00:00",
          "2022-01-01T00:00:00",
          "2022-04-01T00:00:00",
          "2022-07-01T00:00:00",
          "2023-01-01T00:00:00",
          "2023-04-01T00:00:00",
          "2023-04-01T00:00:00",
          "2023-07-01T00:00:00",
          "2023-07-01T00:00:00",
          "2024-01-01T00:00:00"
         ],
         "y": [
          701221000,
          1008998000,
          276509000,
          556751000,
          582810000,
          321604000,
          228776000,
          28589000,
          133345000,
          299788000,
          348336000,
          177590000,
          341845000,
          309731000,
          124971000,
          251078000,
          253176000,
          129420000,
          242492000,
          223369000,
          147447000,
          300202000,
          326909000,
          198425000,
          420706000,
          491218000,
          367421000,
          810113000,
          943665000,
          647695000,
          1397912000,
          1517122000,
          503473000,
          689505000,
          301158000,
          75973000,
          137020000,
          111485000,
          74922000,
          245397000,
          570966000,
          798787000,
          953457000,
          953457000,
          1046819000,
          1046819000,
          1100939000
         ]
        },
        {
         "legendgroup": "AVALONBAY COMMUNITIES INC ",
         "line": {
          "color": "#AB63FA"
         },
         "mode": "lines+markers",
         "name": "AVALONBAY COMMUNITIES INC ",
         "type": "scatter",
         "visible": true,
         "x": [
          "2013-07-01T00:00:00",
          "2014-01-01T00:00:00",
          "2014-04-01T00:00:00",
          "2014-07-01T00:00:00",
          "2015-01-01T00:00:00",
          "2015-04-01T00:00:00",
          "2015-07-01T00:00:00",
          "2016-01-01T00:00:00",
          "2016-04-01T00:00:00",
          "2016-07-01T00:00:00",
          "2017-01-01T00:00:00",
          "2017-04-01T00:00:00",
          "2017-07-01T00:00:00",
          "2018-01-01T00:00:00",
          "2018-04-01T00:00:00",
          "2018-07-01T00:00:00",
          "2019-01-01T00:00:00",
          "2019-04-01T00:00:00",
          "2019-07-01T00:00:00",
          "2020-01-01T00:00:00",
          "2020-04-01T00:00:00",
          "2020-07-01T00:00:00",
          "2021-01-01T00:00:00",
          "2021-04-01T00:00:00",
          "2021-07-01T00:00:00",
          "2022-01-01T00:00:00",
          "2022-04-01T00:00:00",
          "2022-07-01T00:00:00",
          "2023-01-01T00:00:00",
          "2023-04-01T00:00:00",
          "2023-04-01T00:00:00",
          "2023-07-01T00:00:00",
          "2023-07-01T00:00:00",
          "2024-01-01T00:00:00"
         ],
         "y": [
          127772000,
          42533000,
          86255000,
          90098000,
          45573000,
          90164000,
          87825000,
          43410000,
          89991000,
          94452000,
          49295000,
          99397000,
          97843000,
          55113000,
          111698000,
          110682000,
          47892000,
          97902000,
          101503000,
          55914000,
          109313000,
          106648000,
          52613000,
          108717000,
          112091000,
          56526000,
          115323000,
          116087000,
          56821000,
          51585000,
          51585000,
          48115000,
          48115000,
          54766000
         ]
        },
        {
         "legendgroup": "BOSTON PROPERTIES INCSIC: 6798 - REAL ESTATE INVESTMENT TRUSTS",
         "line": {
          "color": "#FFA15A"
         },
         "mode": "lines+markers",
         "name": "BOSTON PROPERTIES INCSIC: 6798 - REAL ESTATE INVESTMENT TRUSTS",
         "type": "scatter",
         "visible": true,
         "x": [
          "2009-04-01T00:00:00",
          "2009-07-01T00:00:00",
          "2010-01-01T00:00:00",
          "2010-04-01T00:00:00",
          "2010-07-01T00:00:00",
          "2011-01-01T00:00:00",
          "2011-04-01T00:00:00",
          "2011-07-01T00:00:00",
          "2012-01-01T00:00:00",
          "2012-04-01T00:00:00",
          "2012-07-01T00:00:00",
          "2013-01-01T00:00:00",
          "2013-04-01T00:00:00",
          "2014-01-01T00:00:00",
          "2014-04-01T00:00:00",
          "2014-07-01T00:00:00",
          "2015-01-01T00:00:00",
          "2015-04-01T00:00:00",
          "2015-07-01T00:00:00",
          "2016-01-01T00:00:00",
          "2016-04-01T00:00:00",
          "2016-07-01T00:00:00",
          "2017-01-01T00:00:00",
          "2017-04-01T00:00:00",
          "2017-07-01T00:00:00",
          "2018-01-01T00:00:00",
          "2018-04-01T00:00:00",
          "2018-07-01T00:00:00",
          "2019-01-01T00:00:00",
          "2019-04-01T00:00:00",
          "2019-07-01T00:00:00",
          "2020-01-01T00:00:00",
          "2020-04-01T00:00:00",
          "2020-07-01T00:00:00",
          "2021-01-01T00:00:00",
          "2021-04-01T00:00:00",
          "2021-07-01T00:00:00",
          "2022-01-01T00:00:00",
          "2022-04-01T00:00:00",
          "2022-07-01T00:00:00",
          "2023-01-01T00:00:00",
          "2023-04-01T00:00:00",
          "2023-04-01T00:00:00",
          "2023-07-01T00:00:00",
          "2023-07-01T00:00:00"
         ],
         "y": [
          157563000,
          234653000,
          92029000,
          188784000,
          193858000,
          99151000,
          194387000,
          191013000,
          103237000,
          203138000,
          204931000,
          100433000,
          203573000,
          113554000,
          224531000,
          224285000,
          108757000,
          217291000,
          217261000,
          105309000,
          210312000,
          209644000,
          95534000,
          190677000,
          187175000,
          90220000,
          182424000,
          187570000,
          101009000,
          203366000,
          208828000,
          101591000,
          208733000,
          218135000,
          107902000,
          214221000,
          212113000,
          101228000,
          205370000,
          215988000,
          134207000,
          142473000,
          142473000,
          147812000,
          147812000
         ]
        },
        {
         "legendgroup": "BOSTON PROPERTIES LTD PARTNERSHIPSIC: 6798 - REAL ESTATE INVESTMENT TRUSTS",
         "line": {
          "color": "#19D3F3"
         },
         "mode": "lines+markers",
         "name": "BOSTON PROPERTIES LTD PARTNERSHIPSIC: 6798 - REAL ESTATE INVESTMENT TRUSTS",
         "type": "scatter",
         "visible": true,
         "x": [
          "2009-04-01T00:00:00",
          "2009-07-01T00:00:00",
          "2010-01-01T00:00:00",
          "2010-04-01T00:00:00",
          "2010-07-01T00:00:00",
          "2011-01-01T00:00:00",
          "2011-04-01T00:00:00",
          "2011-07-01T00:00:00",
          "2012-01-01T00:00:00",
          "2012-04-01T00:00:00",
          "2012-07-01T00:00:00",
          "2013-01-01T00:00:00",
          "2013-04-01T00:00:00",
          "2013-07-01T00:00:00",
          "2014-01-01T00:00:00",
          "2014-04-01T00:00:00",
          "2014-07-01T00:00:00",
          "2015-01-01T00:00:00",
          "2015-04-01T00:00:00",
          "2015-04-01T00:00:00",
          "2015-07-01T00:00:00",
          "2015-07-01T00:00:00"
         ],
         "y": [
          157563000,
          234653000,
          92029000,
          188784000,
          193858000,
          99151000,
          194387000,
          191013000,
          103237000,
          203138000,
          204931000,
          100433000,
          203573000,
          225313000,
          113554000,
          224531000,
          224285000,
          108757000,
          108534000,
          108534000,
          108727000,
          108727000
         ]
        },
        {
         "legendgroup": "CBRE GROUP, INC. ",
         "line": {
          "color": "#FF6692"
         },
         "mode": "lines+markers",
         "name": "CBRE GROUP, INC. ",
         "type": "scatter",
         "visible": true,
         "x": [
          "2010-04-01T00:00:00",
          "2010-07-01T00:00:00",
          "2011-01-01T00:00:00",
          "2011-04-01T00:00:00",
          "2011-07-01T00:00:00",
          "2012-01-01T00:00:00",
          "2012-04-01T00:00:00",
          "2012-07-01T00:00:00",
          "2013-01-01T00:00:00",
          "2013-04-01T00:00:00",
          "2013-07-01T00:00:00",
          "2014-01-01T00:00:00",
          "2014-04-01T00:00:00",
          "2014-07-01T00:00:00",
          "2015-01-01T00:00:00",
          "2015-04-01T00:00:00",
          "2015-07-01T00:00:00",
          "2016-01-01T00:00:00",
          "2016-04-01T00:00:00",
          "2016-07-01T00:00:00",
          "2017-01-01T00:00:00",
          "2017-04-01T00:00:00",
          "2017-07-01T00:00:00",
          "2018-01-01T00:00:00",
          "2018-04-01T00:00:00",
          "2018-04-01T00:00:00",
          "2018-07-01T00:00:00",
          "2018-07-01T00:00:00",
          "2019-01-01T00:00:00",
          "2019-01-01T00:00:00"
         ],
         "y": [
          100067000,
          149822000,
          33718000,
          67934000,
          73296000,
          43981000,
          88392000,
          88062000,
          42395000,
          79927000,
          65315000,
          28015000,
          56485000,
          56311000,
          26214000,
          52368000,
          56853000,
          34790000,
          71777000,
          74260000,
          34010000,
          69440000,
          69913000,
          28858000,
          26885000,
          26885000,
          26651000,
          26651000,
          22726000,
          22726000
         ]
        },
        {
         "legendgroup": "CROWN CASTLE INC. ",
         "line": {
          "color": "#B6E880"
         },
         "mode": "lines+markers",
         "name": "CROWN CASTLE INC. ",
         "type": "scatter",
         "visible": true,
         "x": [
          "2009-07-01T00:00:00",
          "2009-07-01T00:00:00",
          "2013-07-01T00:00:00",
          "2014-01-01T00:00:00",
          "2014-01-01T00:00:00",
          "2014-04-01T00:00:00",
          "2014-04-01T00:00:00",
          "2014-07-01T00:00:00",
          "2014-07-01T00:00:00"
         ],
         "y": [
          111169000,
          327006000,
          48726000,
          16182000,
          16182000,
          16162000,
          16162000,
          15551000,
          15551000
         ]
        },
        {
         "legendgroup": "Cushman & Wakefield plc ",
         "line": {
          "color": "#FF97FF"
         },
         "mode": "lines+markers",
         "name": "Cushman & Wakefield plc ",
         "type": "scatter",
         "visible": true,
         "x": [
          "2018-04-01T00:00:00",
          "2018-07-01T00:00:00",
          "2019-01-01T00:00:00",
          "2019-04-01T00:00:00",
          "2019-07-01T00:00:00",
          "2020-01-01T00:00:00",
          "2020-04-01T00:00:00",
          "2020-07-01T00:00:00",
          "2021-01-01T00:00:00",
          "2021-04-01T00:00:00",
          "2021-07-01T00:00:00",
          "2022-01-01T00:00:00",
          "2022-04-01T00:00:00",
          "2022-07-01T00:00:00",
          "2023-01-01T00:00:00",
          "2023-04-01T00:00:00",
          "2023-04-01T00:00:00",
          "2023-07-01T00:00:00",
          "2023-07-01T00:00:00",
          "2024-01-01T00:00:00"
         ],
         "y": [
          96400000,
          189100000,
          37200000,
          75400000,
          75600000,
          36500000,
          75300000,
          83700000,
          42400000,
          86200000,
          89600000,
          43200000,
          89300000,
          96500000,
          76800000,
          57900000,
          57900000,
          89500000,
          89500000,
          58700000
         ]
        },
        {
         "legendgroup": "DIGITAL REALTY TRUST, INC.SIC: 6798 - REAL ESTATE INVESTMENT TRUSTS",
         "line": {
          "color": "#FECB52"
         },
         "mode": "lines+markers",
         "name": "DIGITAL REALTY TRUST, INC.SIC: 6798 - REAL ESTATE INVESTMENT TRUSTS",
         "type": "scatter",
         "visible": true,
         "x": [
          "2011-04-01T00:00:00",
          "2011-07-01T00:00:00",
          "2012-01-01T00:00:00",
          "2012-04-01T00:00:00",
          "2012-07-01T00:00:00",
          "2013-01-01T00:00:00",
          "2013-04-01T00:00:00",
          "2013-07-01T00:00:00",
          "2014-01-01T00:00:00",
          "2014-04-01T00:00:00",
          "2014-07-01T00:00:00",
          "2015-01-01T00:00:00",
          "2015-04-01T00:00:00",
          "2015-07-01T00:00:00",
          "2016-01-01T00:00:00",
          "2016-04-01T00:00:00",
          "2016-07-01T00:00:00",
          "2017-01-01T00:00:00",
          "2017-04-01T00:00:00",
          "2017-07-01T00:00:00",
          "2018-01-01T00:00:00",
          "2018-04-01T00:00:00",
          "2018-07-01T00:00:00",
          "2019-01-01T00:00:00",
          "2019-04-01T00:00:00",
          "2019-07-01T00:00:00",
          "2020-01-01T00:00:00",
          "2020-04-01T00:00:00",
          "2020-07-01T00:00:00",
          "2021-01-01T00:00:00",
          "2021-04-01T00:00:00",
          "2021-07-01T00:00:00",
          "2022-01-01T00:00:00",
          "2022-04-01T00:00:00",
          "2022-07-01T00:00:00",
          "2023-01-01T00:00:00",
          "2023-04-01T00:00:00",
          "2023-04-01T00:00:00",
          "2023-07-01T00:00:00",
          "2023-07-01T00:00:00",
          "2024-01-01T00:00:00"
         ],
         "y": [
          75416000,
          112494000,
          38030000,
          75711000,
          78728000,
          48078000,
          95661000,
          95325000,
          47374000,
          96520000,
          97315000,
          45466000,
          91580000,
          94252000,
          57261000,
          117170000,
          122993000,
          55450000,
          113032000,
          129203000,
          76985000,
          155795000,
          159661000,
          101552000,
          187603000,
          170625000,
          85800000,
          165674000,
          169373000,
          75653000,
          150667000,
          146431000,
          66725000,
          135748000,
          145525000,
          102220000,
          111116000,
          111116000,
          110767000,
          110767000,
          109535000
         ]
        },
        {
         "legendgroup": "EQUINIX INCSIC: 6798 - REAL ESTATE INVESTMENT TRUSTS",
         "line": {
          "color": "#636EFA"
         },
         "mode": "lines+markers",
         "name": "EQUINIX INCSIC: 6798 - REAL ESTATE INVESTMENT TRUSTS",
         "type": "scatter",
         "visible": true,
         "x": [
          "2010-04-01T00:00:00",
          "2010-07-01T00:00:00",
          "2011-01-01T00:00:00",
          "2011-04-01T00:00:00",
          "2011-07-01T00:00:00",
          "2012-01-01T00:00:00",
          "2012-04-01T00:00:00",
          "2012-07-01T00:00:00",
          "2013-01-01T00:00:00",
          "2013-04-01T00:00:00",
          "2013-07-01T00:00:00",
          "2014-01-01T00:00:00",
          "2014-04-01T00:00:00",
          "2014-07-01T00:00:00",
          "2015-01-01T00:00:00",
          "2015-04-01T00:00:00",
          "2015-07-01T00:00:00",
          "2016-01-01T00:00:00",
          "2016-04-01T00:00:00",
          "2016-07-01T00:00:00",
          "2017-01-01T00:00:00",
          "2017-04-01T00:00:00",
          "2017-07-01T00:00:00",
          "2018-01-01T00:00:00",
          "2018-04-01T00:00:00",
          "2018-07-01T00:00:00",
          "2019-01-01T00:00:00",
          "2019-04-01T00:00:00",
          "2019-07-01T00:00:00",
          "2020-01-01T00:00:00",
          "2020-04-01T00:00:00",
          "2020-07-01T00:00:00",
          "2021-01-01T00:00:00",
          "2021-04-01T00:00:00",
          "2021-07-01T00:00:00",
          "2022-01-01T00:00:00",
          "2022-04-01T00:00:00",
          "2022-07-01T00:00:00",
          "2023-01-01T00:00:00",
          "2023-04-01T00:00:00",
          "2023-04-01T00:00:00",
          "2023-07-01T00:00:00",
          "2023-07-01T00:00:00"
         ],
         "y": [
          63290000,
          101653000,
          37361000,
          75038000,
          88791000,
          52818000,
          99605000,
          96994000,
          60331000,
          121332000,
          122958000,
          68820000,
          135694000,
          130630000,
          68791000,
          143287000,
          150765000,
          100863000,
          201195000,
          192532000,
          111684000,
          230726000,
          240870000,
          126277000,
          260950000,
          265239000,
          122846000,
          243393000,
          239221000,
          107338000,
          215818000,
          208216000,
          89681000,
          176912000,
          166174000,
          79965000,
          170791000,
          182172000,
          97481000,
          99973000,
          99973000,
          101385000,
          101385000
         ]
        },
        {
         "legendgroup": "EQUITY RESIDENTIALSIC: 6798 - REAL ESTATE INVESTMENT TRUSTS",
         "line": {
          "color": "#EF553B"
         },
         "mode": "lines+markers",
         "name": "EQUITY RESIDENTIALSIC: 6798 - REAL ESTATE INVESTMENT TRUSTS",
         "type": "scatter",
         "visible": true,
         "x": [
          "2013-04-01T00:00:00",
          "2013-07-01T00:00:00",
          "2014-04-01T00:00:00",
          "2014-07-01T00:00:00"
         ],
         "y": [
          700000,
          700000,
          1300000,
          1300000
         ]
        },
        {
         "legendgroup": "ESSEX PROPERTY TRUST, INC. ",
         "line": {
          "color": "#00CC96"
         },
         "mode": "lines+markers",
         "name": "ESSEX PROPERTY TRUST, INC. ",
         "type": "scatter",
         "visible": true,
         "x": [
          "2010-04-01T00:00:00",
          "2010-07-01T00:00:00",
          "2011-01-01T00:00:00",
          "2011-04-01T00:00:00",
          "2011-07-01T00:00:00",
          "2012-01-01T00:00:00",
          "2012-04-01T00:00:00",
          "2012-07-01T00:00:00",
          "2013-01-01T00:00:00",
          "2013-04-01T00:00:00",
          "2013-07-01T00:00:00",
          "2014-01-01T00:00:00",
          "2014-04-01T00:00:00",
          "2014-07-01T00:00:00",
          "2015-01-01T00:00:00",
          "2015-04-01T00:00:00",
          "2015-07-01T00:00:00",
          "2016-01-01T00:00:00",
          "2016-04-01T00:00:00",
          "2016-07-01T00:00:00",
          "2017-01-01T00:00:00",
          "2017-04-01T00:00:00",
          "2017-07-01T00:00:00",
          "2018-01-01T00:00:00",
          "2018-04-01T00:00:00",
          "2018-07-01T00:00:00",
          "2019-01-01T00:00:00",
          "2019-04-01T00:00:00",
          "2019-07-01T00:00:00",
          "2020-01-01T00:00:00",
          "2020-04-01T00:00:00",
          "2020-07-01T00:00:00",
          "2021-01-01T00:00:00",
          "2021-04-01T00:00:00",
          "2021-07-01T00:00:00",
          "2022-01-01T00:00:00",
          "2022-04-01T00:00:00",
          "2022-07-01T00:00:00",
          "2023-01-01T00:00:00",
          "2023-04-01T00:00:00",
          "2023-04-01T00:00:00",
          "2023-07-01T00:00:00",
          "2023-07-01T00:00:00",
          "2024-01-01T00:00:00"
         ],
         "y": [
          41841000,
          64043000,
          24662000,
          44518000,
          41950000,
          24658000,
          49316000,
          49722000,
          25211000,
          51536000,
          52513000,
          26055000,
          71192000,
          90966000,
          47546000,
          98348000,
          100855000,
          52466000,
          108034000,
          112261000,
          54583000,
          56812000,
          55938000,
          54861000,
          111139000,
          111474000,
          53643000,
          107755000,
          109008000,
          55147000,
          109594000,
          109877000,
          51649000,
          102620000,
          100990000,
          50377000,
          100854000,
          102122000,
          51045000,
          52600000,
          52600000,
          54161000,
          54161000,
          55933000
         ]
        },
        {
         "legendgroup": "JLL Income Property Trust, Inc.SIC: 6798 - REAL ESTATE INVESTMENT TRUSTS",
         "line": {
          "color": "#AB63FA"
         },
         "mode": "lines+markers",
         "name": "JLL Income Property Trust, Inc.SIC: 6798 - REAL ESTATE INVESTMENT TRUSTS",
         "type": "scatter",
         "visible": true,
         "x": [
          "2011-04-01T00:00:00",
          "2011-07-01T00:00:00",
          "2012-01-01T00:00:00",
          "2012-04-01T00:00:00",
          "2012-07-01T00:00:00",
          "2013-01-01T00:00:00",
          "2013-04-01T00:00:00",
          "2013-07-01T00:00:00",
          "2014-01-01T00:00:00",
          "2014-04-01T00:00:00",
          "2014-07-01T00:00:00",
          "2015-01-01T00:00:00",
          "2015-04-01T00:00:00",
          "2015-07-01T00:00:00",
          "2016-01-01T00:00:00",
          "2016-04-01T00:00:00",
          "2016-07-01T00:00:00",
          "2017-01-01T00:00:00",
          "2017-04-01T00:00:00",
          "2017-07-01T00:00:00",
          "2018-01-01T00:00:00",
          "2018-04-01T00:00:00",
          "2018-07-01T00:00:00",
          "2019-01-01T00:00:00",
          "2019-04-01T00:00:00",
          "2019-07-01T00:00:00",
          "2020-01-01T00:00:00",
          "2020-01-01T00:00:00",
          "2020-04-01T00:00:00",
          "2020-07-01T00:00:00",
          "2021-01-01T00:00:00",
          "2021-04-01T00:00:00",
          "2021-07-01T00:00:00",
          "2022-01-01T00:00:00",
          "2022-04-01T00:00:00",
          "2022-07-01T00:00:00",
          "2023-04-01T00:00:00",
          "2023-04-01T00:00:00",
          "2023-07-01T00:00:00",
          "2023-07-01T00:00:00"
         ],
         "y": [
          16722000,
          25177000,
          8547000,
          16827000,
          11303000,
          6459000,
          12878000,
          8609000,
          4252000,
          9049000,
          9484000,
          4227000,
          8386000,
          8927000,
          5961000,
          12655000,
          12568000,
          6616000,
          13645000,
          14759000,
          5729000,
          13055000,
          15431000,
          9632000,
          20182000,
          19453000,
          14535000,
          14535000,
          9265000,
          17656000,
          9262000,
          19550000,
          22002000,
          17852000,
          51907000,
          52491000,
          31604000,
          125665000,
          27979000,
          27979000
         ]
        },
        {
         "legendgroup": "JONES LANG LASALLE INCSIC: 6531 - REAL ESTATE AGENTS & MANAGERS (FOR OTHERS)",
         "line": {
          "color": "#FFA15A"
         },
         "mode": "lines+markers",
         "name": "JONES LANG LASALLE INCSIC: 6531 - REAL ESTATE AGENTS & MANAGERS (FOR OTHERS)",
         "type": "scatter",
         "visible": true,
         "x": [
          "2010-04-01T00:00:00",
          "2010-07-01T00:00:00",
          "2011-01-01T00:00:00",
          "2011-04-01T00:00:00",
          "2011-07-01T00:00:00",
          "2012-01-01T00:00:00",
          "2012-04-01T00:00:00",
          "2012-07-01T00:00:00",
          "2013-01-01T00:00:00",
          "2013-04-01T00:00:00",
          "2013-07-01T00:00:00",
          "2014-01-01T00:00:00",
          "2014-04-01T00:00:00",
          "2014-07-01T00:00:00",
          "2015-01-01T00:00:00",
          "2015-01-01T00:00:00",
          "2015-04-01T00:00:00",
          "2015-04-01T00:00:00",
          "2015-07-01T00:00:00",
          "2015-07-01T00:00:00"
         ],
         "y": [
          24248000,
          35738000,
          7963000,
          17552000,
          19255000,
          7426000,
          14885000,
          17411000,
          7923000,
          16972000,
          18680000,
          6637000,
          14300000,
          15024000,
          6038000,
          6038000,
          7558000,
          7558000,
          6774000,
          6773000
         ]
        },
        {
         "legendgroup": "NEWMARK GROUP, INC. ",
         "line": {
          "color": "#19D3F3"
         },
         "mode": "lines+markers",
         "name": "NEWMARK GROUP, INC. ",
         "type": "scatter",
         "visible": true,
         "x": [],
         "y": []
        },
        {
         "legendgroup": "PROLOGISSIC: 6798 - REAL ESTATE INVESTMENT TRUSTS",
         "line": {
          "color": "#FF6692"
         },
         "mode": "lines+markers",
         "name": "PROLOGISSIC: 6798 - REAL ESTATE INVESTMENT TRUSTS",
         "type": "scatter",
         "visible": true,
         "x": [
          "2009-04-01T00:00:00",
          "2009-07-01T00:00:00",
          "2010-01-01T00:00:00",
          "2010-04-01T00:00:00",
          "2010-04-01T00:00:00",
          "2010-07-01T00:00:00",
          "2010-07-01T00:00:00",
          "2011-01-01T00:00:00"
         ],
         "y": [
          -175981000,
          -265819000,
          109979000,
          118920000,
          118920000,
          120233000,
          120233000,
          90562000
         ]
        },
        {
         "legendgroup": "PS BUSINESS PARKS, INC./MDSIC: 6798 - REAL ESTATE INVESTMENT TRUSTS",
         "line": {
          "color": "#B6E880"
         },
         "mode": "lines+markers",
         "name": "PS BUSINESS PARKS, INC./MDSIC: 6798 - REAL ESTATE INVESTMENT TRUSTS",
         "type": "scatter",
         "visible": true,
         "x": [
          "2010-04-01T00:00:00",
          "2010-07-01T00:00:00",
          "2011-01-01T00:00:00",
          "2011-04-01T00:00:00",
          "2011-07-01T00:00:00",
          "2012-01-01T00:00:00",
          "2012-04-01T00:00:00",
          "2012-07-01T00:00:00",
          "2013-01-01T00:00:00",
          "2013-01-01T00:00:00",
          "2013-04-01T00:00:00",
          "2013-04-01T00:00:00",
          "2013-07-01T00:00:00",
          "2013-07-01T00:00:00"
         ],
         "y": [
          1711000,
          2586000,
          1215000,
          2360000,
          2406000,
          5348000,
          10561000,
          10385000,
          4588000,
          4588000,
          3961000,
          3961000,
          4017000,
          4017000
         ]
        },
        {
         "legendgroup": "Prologis, Inc.SIC: 6798 - REAL ESTATE INVESTMENT TRUSTS",
         "line": {
          "color": "#FF97FF"
         },
         "mode": "lines+markers",
         "name": "Prologis, Inc.SIC: 6798 - REAL ESTATE INVESTMENT TRUSTS",
         "type": "scatter",
         "visible": true,
         "x": [
          "2011-07-01T00:00:00",
          "2012-01-01T00:00:00",
          "2012-04-01T00:00:00",
          "2012-07-01T00:00:00",
          "2013-01-01T00:00:00",
          "2013-04-01T00:00:00",
          "2013-07-01T00:00:00",
          "2014-01-01T00:00:00",
          "2014-04-01T00:00:00",
          "2014-07-01T00:00:00",
          "2015-01-01T00:00:00",
          "2015-04-01T00:00:00",
          "2015-07-01T00:00:00",
          "2016-01-01T00:00:00",
          "2016-04-01T00:00:00",
          "2016-07-01T00:00:00",
          "2017-01-01T00:00:00",
          "2017-04-01T00:00:00",
          "2017-07-01T00:00:00",
          "2018-01-01T00:00:00",
          "2018-04-01T00:00:00",
          "2018-07-01T00:00:00",
          "2019-01-01T00:00:00",
          "2019-04-01T00:00:00",
          "2019-07-01T00:00:00",
          "2020-01-01T00:00:00",
          "2020-04-01T00:00:00",
          "2020-07-01T00:00:00",
          "2021-01-01T00:00:00",
          "2021-04-01T00:00:00",
          "2021-07-01T00:00:00",
          "2022-01-01T00:00:00",
          "2022-04-01T00:00:00",
          "2022-07-01T00:00:00",
          "2023-01-01T00:00:00",
          "2023-04-01T00:00:00",
          "2023-04-01T00:00:00",
          "2023-07-01T00:00:00",
          "2023-07-01T00:00:00",
          "2024-01-01T00:00:00"
         ],
         "y": [
          339579000,
          133447000,
          261328000,
          251042000,
          115028000,
          207498000,
          177355000,
          85523000,
          165707000,
          149270000,
          68761000,
          137663000,
          149937000,
          80812000,
          157267000,
          151765000,
          72912000,
          148266000,
          139544000,
          47245000,
          102575000,
          119516000,
          60507000,
          119629000,
          119366000,
          75642000,
          156940000,
          162009000,
          71281000,
          139693000,
          132050000,
          64064000,
          124357000,
          124177000,
          136011000,
          149818000,
          149818000,
          181053000,
          181053000,
          193320000
         ]
        },
        {
         "legendgroup": "Public StorageSIC: 6798 - REAL ESTATE INVESTMENT TRUSTS",
         "line": {
          "color": "#FECB52"
         },
         "mode": "lines+markers",
         "name": "Public StorageSIC: 6798 - REAL ESTATE INVESTMENT TRUSTS",
         "type": "scatter",
         "visible": true,
         "x": [
          "2009-07-01T00:00:00",
          "2010-01-01T00:00:00",
          "2010-04-01T00:00:00",
          "2010-07-01T00:00:00",
          "2011-01-01T00:00:00",
          "2011-04-01T00:00:00",
          "2011-07-01T00:00:00",
          "2012-01-01T00:00:00",
          "2012-04-01T00:00:00",
          "2012-07-01T00:00:00",
          "2013-01-01T00:00:00",
          "2013-04-01T00:00:00",
          "2013-07-01T00:00:00",
          "2014-01-01T00:00:00",
          "2014-04-01T00:00:00",
          "2014-07-01T00:00:00",
          "2015-04-01T00:00:00",
          "2015-07-01T00:00:00",
          "2016-01-01T00:00:00",
          "2016-04-01T00:00:00",
          "2016-07-01T00:00:00",
          "2017-01-01T00:00:00",
          "2017-04-01T00:00:00",
          "2017-07-01T00:00:00",
          "2018-01-01T00:00:00",
          "2018-04-01T00:00:00",
          "2018-07-01T00:00:00",
          "2019-01-01T00:00:00",
          "2019-04-01T00:00:00",
          "2019-07-01T00:00:00",
          "2020-01-01T00:00:00",
          "2020-04-01T00:00:00",
          "2020-07-01T00:00:00",
          "2021-01-01T00:00:00",
          "2021-04-01T00:00:00",
          "2021-07-01T00:00:00",
          "2022-01-01T00:00:00",
          "2022-04-01T00:00:00",
          "2022-07-01T00:00:00",
          "2023-01-01T00:00:00",
          "2023-04-01T00:00:00",
          "2023-04-01T00:00:00",
          "2023-07-01T00:00:00",
          "2023-07-01T00:00:00",
          "2024-01-01T00:00:00"
         ],
         "y": [
          22705000,
          7339000,
          14617000,
          15116000,
          6984000,
          12917000,
          11795000,
          5334000,
          10401000,
          9993000,
          3497000,
          4144000,
          1125000,
          3480000,
          5543000,
          3301000,
          5543000,
          6781000,
          711000,
          2089000,
          2599000,
          1048000,
          2164000,
          3505000,
          8107000,
          16495000,
          16482000,
          8143000,
          20397000,
          24851000,
          13621000,
          27766000,
          28427000,
          15250000,
          37244000,
          45730000,
          33124000,
          66065000,
          67054000,
          36101000,
          38079000,
          38079000,
          58350000,
          58350000,
          67778000
         ]
        },
        {
         "legendgroup": "VICI PROPERTIES INC.SIC: 6798 - REAL ESTATE INVESTMENT TRUSTS",
         "line": {
          "color": "#636EFA"
         },
         "mode": "lines+markers",
         "name": "VICI PROPERTIES INC.SIC: 6798 - REAL ESTATE INVESTMENT TRUSTS",
         "type": "scatter",
         "visible": true,
         "x": [
          "2018-01-01T00:00:00",
          "2018-04-01T00:00:00",
          "2018-07-01T00:00:00",
          "2019-01-01T00:00:00",
          "2019-04-01T00:00:00",
          "2019-07-01T00:00:00",
          "2020-01-01T00:00:00",
          "2020-04-01T00:00:00",
          "2020-07-01T00:00:00",
          "2021-01-01T00:00:00",
          "2021-04-01T00:00:00",
          "2021-07-01T00:00:00",
          "2022-01-01T00:00:00",
          "2022-04-01T00:00:00",
          "2022-07-01T00:00:00",
          "2023-01-01T00:00:00",
          "2023-04-01T00:00:00",
          "2023-04-01T00:00:00",
          "2023-07-01T00:00:00",
          "2023-07-01T00:00:00",
          "2024-01-01T00:00:00"
         ],
         "y": [
          52875000,
          104314000,
          105490000,
          53586000,
          108405000,
          123350000,
          76093000,
          153786000,
          155092000,
          77048000,
          156854000,
          244905000,
          68142000,
          201270000,
          302482000,
          204360000,
          203594000,
          203594000,
          204927000,
          204927000,
          204882000
         ]
        },
        {
         "legendgroup": "Ventas, Inc.SIC: 6798 - REAL ESTATE INVESTMENT TRUSTS",
         "line": {
          "color": "#EF553B"
         },
         "mode": "lines+markers",
         "name": "Ventas, Inc.SIC: 6798 - REAL ESTATE INVESTMENT TRUSTS",
         "type": "scatter",
         "visible": true,
         "x": [
          "2009-04-01T00:00:00",
          "2009-07-01T00:00:00",
          "2010-01-01T00:00:00",
          "2010-04-01T00:00:00",
          "2010-07-01T00:00:00",
          "2011-01-01T00:00:00",
          "2011-04-01T00:00:00",
          "2011-07-01T00:00:00",
          "2012-01-01T00:00:00",
          "2012-04-01T00:00:00",
          "2012-07-01T00:00:00",
          "2013-01-01T00:00:00",
          "2013-04-01T00:00:00",
          "2013-07-01T00:00:00",
          "2014-01-01T00:00:00",
          "2014-04-01T00:00:00",
          "2014-07-01T00:00:00",
          "2015-01-01T00:00:00",
          "2015-04-01T00:00:00",
          "2015-07-01T00:00:00",
          "2016-01-01T00:00:00",
          "2016-04-01T00:00:00",
          "2016-07-01T00:00:00",
          "2017-01-01T00:00:00",
          "2017-04-01T00:00:00",
          "2017-07-01T00:00:00",
          "2018-01-01T00:00:00",
          "2018-04-01T00:00:00",
          "2018-07-01T00:00:00",
          "2019-01-01T00:00:00",
          "2019-04-01T00:00:00",
          "2019-07-01T00:00:00",
          "2020-01-01T00:00:00",
          "2020-04-01T00:00:00",
          "2020-07-01T00:00:00",
          "2021-01-01T00:00:00",
          "2021-04-01T00:00:00",
          "2021-07-01T00:00:00",
          "2022-01-01T00:00:00",
          "2022-04-01T00:00:00",
          "2022-07-01T00:00:00",
          "2023-01-01T00:00:00",
          "2023-04-01T00:00:00",
          "2023-04-01T00:00:00",
          "2023-07-01T00:00:00",
          "2023-07-01T00:00:00",
          "2024-01-01T00:00:00"
         ],
         "y": [
          90282000,
          133942000,
          44300000,
          88345000,
          89149000,
          42558000,
          53732000,
          73756000,
          70668000,
          144056000,
          146807000,
          79600000,
          162452000,
          166022000,
          87841000,
          179342000,
          189970000,
          106590000,
          214181000,
          156832000,
          103273000,
          206938000,
          208728000,
          108804000,
          222376000,
          227441000,
          111363000,
          224392000,
          220610000,
          110619000,
          220988000,
          224336000,
          116696000,
          239828000,
          238637000,
          110767000,
          220818000,
          218867000,
          110794000,
          224745000,
          233364000,
          128075000,
          143265000,
          143265000,
          147919000,
          147919000,
          149933000
         ]
        },
        {
         "legendgroup": "WELLTOWER INC.SIC: 6798 - REAL ESTATE INVESTMENT TRUSTS",
         "line": {
          "color": "#00CC96"
         },
         "mode": "lines+markers",
         "name": "WELLTOWER INC.SIC: 6798 - REAL ESTATE INVESTMENT TRUSTS",
         "type": "scatter",
         "visible": true,
         "x": [],
         "y": []
        },
        {
         "legendgroup": "WEYERHAEUSER COSIC: 6798 - REAL ESTATE INVESTMENT TRUSTS",
         "line": {
          "color": "#AB63FA"
         },
         "mode": "lines+markers",
         "name": "WEYERHAEUSER COSIC: 6798 - REAL ESTATE INVESTMENT TRUSTS",
         "type": "scatter",
         "visible": true,
         "x": [
          "2010-07-01T00:00:00",
          "2011-01-01T00:00:00",
          "2011-04-01T00:00:00",
          "2011-07-01T00:00:00",
          "2012-01-01T00:00:00",
          "2012-04-01T00:00:00",
          "2012-07-01T00:00:00",
          "2013-01-01T00:00:00",
          "2013-04-01T00:00:00",
          "2013-07-01T00:00:00",
          "2014-01-01T00:00:00",
          "2014-04-01T00:00:00",
          "2014-07-01T00:00:00",
          "2015-01-01T00:00:00",
          "2015-04-01T00:00:00",
          "2015-07-01T00:00:00",
          "2016-01-01T00:00:00",
          "2016-04-01T00:00:00",
          "2016-07-01T00:00:00",
          "2017-01-01T00:00:00",
          "2017-04-01T00:00:00",
          "2017-07-01T00:00:00",
          "2018-01-01T00:00:00",
          "2018-04-01T00:00:00",
          "2018-07-01T00:00:00",
          "2019-01-01T00:00:00",
          "2019-04-01T00:00:00",
          "2019-07-01T00:00:00",
          "2020-01-01T00:00:00",
          "2020-04-01T00:00:00",
          "2020-07-01T00:00:00",
          "2021-01-01T00:00:00",
          "2021-04-01T00:00:00",
          "2021-07-01T00:00:00",
          "2022-01-01T00:00:00",
          "2022-04-01T00:00:00",
          "2022-07-01T00:00:00",
          "2023-01-01T00:00:00",
          "2023-04-01T00:00:00",
          "2023-04-01T00:00:00",
          "2023-07-01T00:00:00",
          "2023-07-01T00:00:00",
          "2024-01-01T00:00:00"
         ],
         "y": [
          327000000,
          93000000,
          210000000,
          203000000,
          87000000,
          173000000,
          173000000,
          82000000,
          163000000,
          176000000,
          83000000,
          166000000,
          171000000,
          83000000,
          171000000,
          176000000,
          97000000,
          209000000,
          226000000,
          99000000,
          199000000,
          198000000,
          93000000,
          185000000,
          185000000,
          107000000,
          198000000,
          182000000,
          85000000,
          188000000,
          214000000,
          79000000,
          157000000,
          157000000,
          72000000,
          137000000,
          132000000,
          66000000,
          70000000,
          70000000,
          72000000,
          72000000,
          67000000
         ]
        },
        {
         "legendgroup": "ALEXANDRIA REAL ESTATE EQUITIES, INC.SIC: 6798 - REAL ESTATE INVESTMENT TRUSTS",
         "line": {
          "color": "#636EFA"
         },
         "mode": "lines+markers",
         "name": "ALEXANDRIA REAL ESTATE EQUITIES, INC.SIC: 6798 - REAL ESTATE INVESTMENT TRUSTS",
         "type": "scatter",
         "visible": false,
         "x": [
          "2012-01-01T00:00:00",
          "2012-04-01T00:00:00",
          "2012-07-01T00:00:00",
          "2013-01-01T00:00:00",
          "2013-04-01T00:00:00",
          "2013-07-01T00:00:00",
          "2013-07-01T00:00:00",
          "2014-01-01T00:00:00",
          "2014-01-01T00:00:00",
          "2014-04-01T00:00:00",
          "2014-04-01T00:00:00",
          "2016-01-01T00:00:00",
          "2016-04-01T00:00:00",
          "2016-07-01T00:00:00",
          "2017-01-01T00:00:00",
          "2017-04-01T00:00:00",
          "2017-07-01T00:00:00",
          "2018-01-01T00:00:00",
          "2018-04-01T00:00:00",
          "2018-04-01T00:00:00",
          "2018-07-01T00:00:00",
          "2019-01-01T00:00:00",
          "2019-07-01T00:00:00",
          "2020-01-01T00:00:00",
          "2020-04-01T00:00:00",
          "2020-07-01T00:00:00",
          "2021-01-01T00:00:00",
          "2021-04-01T00:00:00",
          "2021-07-01T00:00:00",
          "2022-01-01T00:00:00",
          "2022-04-01T00:00:00",
          "2022-07-01T00:00:00",
          "2023-01-01T00:00:00",
          "2023-04-01T00:00:00",
          "2023-04-01T00:00:00",
          "2023-07-01T00:00:00",
          "2023-07-01T00:00:00",
          "2024-01-01T00:00:00"
         ],
         "y": [
          32093000,
          56513000,
          42002000,
          28441000,
          60555000,
          31557000,
          31557000,
          39716000,
          39716000,
          34956000,
          34956000,
          5936000,
          -105680000,
          -87141000,
          41711000,
          75932000,
          87994000,
          135630000,
          54730000,
          54730000,
          349266000,
          129159000,
          160724000,
          18765000,
          248419000,
          310710000,
          8121000,
          393205000,
          488231000,
          -149569000,
          122645000,
          616910000,
          77862000,
          89937000,
          89937000,
          24269000,
          24269000,
          170545000
         ]
        },
        {
         "legendgroup": "AMERICAN TOWER CORP /MA/SIC: 6798 - REAL ESTATE INVESTMENT TRUSTS",
         "line": {
          "color": "#EF553B"
         },
         "mode": "lines+markers",
         "name": "AMERICAN TOWER CORP /MA/SIC: 6798 - REAL ESTATE INVESTMENT TRUSTS",
         "type": "scatter",
         "visible": false,
         "x": [
          "2009-04-01T00:00:00",
          "2009-07-01T00:00:00",
          "2010-01-01T00:00:00",
          "2010-04-01T00:00:00",
          "2010-07-01T00:00:00",
          "2011-01-01T00:00:00",
          "2011-04-01T00:00:00",
          "2011-07-01T00:00:00",
          "2012-01-01T00:00:00",
          "2012-04-01T00:00:00",
          "2012-07-01T00:00:00",
          "2013-01-01T00:00:00",
          "2013-04-01T00:00:00",
          "2013-07-01T00:00:00",
          "2014-01-01T00:00:00",
          "2014-04-01T00:00:00",
          "2014-07-01T00:00:00",
          "2015-01-01T00:00:00",
          "2015-04-01T00:00:00",
          "2015-07-01T00:00:00",
          "2016-01-01T00:00:00",
          "2016-04-01T00:00:00",
          "2016-07-01T00:00:00",
          "2017-01-01T00:00:00",
          "2017-04-01T00:00:00",
          "2017-07-01T00:00:00",
          "2018-01-01T00:00:00",
          "2018-04-01T00:00:00",
          "2018-07-01T00:00:00",
          "2019-01-01T00:00:00",
          "2019-04-01T00:00:00",
          "2019-07-01T00:00:00",
          "2020-01-01T00:00:00",
          "2020-01-01T00:00:00",
          "2020-04-01T00:00:00",
          "2020-07-01T00:00:00",
          "2021-04-01T00:00:00",
          "2021-07-01T00:00:00",
          "2022-01-01T00:00:00",
          "2022-01-01T00:00:00",
          "2022-04-01T00:00:00",
          "2022-04-01T00:00:00",
          "2022-07-01T00:00:00",
          "2022-07-01T00:00:00"
         ],
         "y": [
          114890000,
          182245000,
          96318000,
          195983000,
          193104000,
          91842000,
          207053000,
          99510000,
          221306000,
          269515000,
          280298000,
          171407000,
          271228000,
          279944000,
          202499000,
          436930000,
          442024000,
          193317000,
          156056000,
          102999000,
          275159000,
          462709000,
          452059000,
          316080000,
          367051000,
          317268000,
          285200000,
          591900000,
          673600000,
          397430000,
          826500000,
          927670000,
          415000000,
          415000000,
          446100000,
          910500000,
          1391300000,
          2114300000,
          711700000,
          711700000,
          898200000,
          898200000,
          839700000,
          839700000
         ]
        },
        {
         "legendgroup": "ANNALY CAPITAL MANAGEMENT INC ",
         "line": {
          "color": "#00CC96"
         },
         "mode": "lines+markers",
         "name": "ANNALY CAPITAL MANAGEMENT INC ",
         "type": "scatter",
         "visible": false,
         "x": [
          "2009-04-01T00:00:00",
          "2009-07-01T00:00:00",
          "2010-01-01T00:00:00",
          "2010-04-01T00:00:00",
          "2010-07-01T00:00:00",
          "2011-01-01T00:00:00",
          "2011-04-01T00:00:00",
          "2011-07-01T00:00:00",
          "2012-01-01T00:00:00",
          "2012-04-01T00:00:00",
          "2012-07-01T00:00:00",
          "2013-01-01T00:00:00",
          "2013-04-01T00:00:00",
          "2013-07-01T00:00:00",
          "2014-01-01T00:00:00",
          "2014-04-01T00:00:00",
          "2014-07-01T00:00:00",
          "2015-01-01T00:00:00",
          "2015-04-01T00:00:00",
          "2015-07-01T00:00:00",
          "2016-01-01T00:00:00",
          "2016-04-01T00:00:00",
          "2016-07-01T00:00:00",
          "2017-01-01T00:00:00",
          "2017-04-01T00:00:00",
          "2017-07-01T00:00:00",
          "2018-01-01T00:00:00",
          "2018-04-01T00:00:00",
          "2018-07-01T00:00:00",
          "2019-01-01T00:00:00",
          "2019-04-01T00:00:00",
          "2019-07-01T00:00:00",
          "2020-01-01T00:00:00",
          "2020-04-01T00:00:00",
          "2020-07-01T00:00:00",
          "2021-01-01T00:00:00",
          "2021-04-01T00:00:00",
          "2021-07-01T00:00:00",
          "2022-01-01T00:00:00",
          "2022-04-01T00:00:00",
          "2022-07-01T00:00:00",
          "2023-01-01T00:00:00",
          "2023-04-01T00:00:00",
          "2023-04-01T00:00:00",
          "2023-07-01T00:00:00",
          "2023-07-01T00:00:00",
          "2024-01-01T00:00:00"
         ],
         "y": [
          946947000,
          1232136000,
          281065000,
          62836000,
          -232289000,
          699895000,
          820712000,
          -800996000,
          901806000,
          810647000,
          133599000,
          870278000,
          2508491000,
          1830671000,
          -203351000,
          -538863000,
          19344000,
          -476409000,
          423811000,
          272926000,
          -867918000,
          -1146030000,
          453104000,
          440511000,
          455135000,
          382171000,
          1327800000,
          1923719000,
          981497000,
          -849150000,
          -2625480000,
          -2523389000,
          -3640255000,
          -2784053000,
          1871876000,
          1750813000,
          1455171000,
          223602000,
          2022255000,
          2888951000,
          591432000,
          -844256000,
          167033000,
          167033000,
          -562205000,
          -562205000,
          462892000
         ]
        },
        {
         "legendgroup": "AVALONBAY COMMUNITIES INC ",
         "line": {
          "color": "#AB63FA"
         },
         "mode": "lines+markers",
         "name": "AVALONBAY COMMUNITIES INC ",
         "type": "scatter",
         "visible": false,
         "x": [
          "2009-04-01T00:00:00",
          "2009-07-01T00:00:00",
          "2010-01-01T00:00:00",
          "2010-04-01T00:00:00",
          "2010-04-01T00:00:00",
          "2010-07-01T00:00:00",
          "2010-07-01T00:00:00",
          "2011-01-01T00:00:00",
          "2011-04-01T00:00:00",
          "2011-07-01T00:00:00",
          "2012-01-01T00:00:00",
          "2012-04-01T00:00:00",
          "2012-07-01T00:00:00",
          "2013-01-01T00:00:00",
          "2013-04-01T00:00:00",
          "2013-07-01T00:00:00",
          "2014-01-01T00:00:00",
          "2014-01-01T00:00:00"
         ],
         "y": [
          65099000,
          123253000,
          72523000,
          51125000,
          51125000,
          24654000,
          24656000,
          30341000,
          73713000,
          88196000,
          57704000,
          214667000,
          243808000,
          75427000,
          111648000,
          25502000,
          141739000,
          141739000
         ]
        },
        {
         "legendgroup": "BOSTON PROPERTIES INCSIC: 6798 - REAL ESTATE INVESTMENT TRUSTS",
         "line": {
          "color": "#FFA15A"
         },
         "mode": "lines+markers",
         "name": "BOSTON PROPERTIES INCSIC: 6798 - REAL ESTATE INVESTMENT TRUSTS",
         "type": "scatter",
         "visible": false,
         "x": [
          "2009-04-01T00:00:00",
          "2009-07-01T00:00:00",
          "2010-01-01T00:00:00",
          "2010-04-01T00:00:00",
          "2010-07-01T00:00:00",
          "2011-01-01T00:00:00",
          "2011-04-01T00:00:00",
          "2011-07-01T00:00:00",
          "2012-01-01T00:00:00",
          "2012-04-01T00:00:00",
          "2012-07-01T00:00:00",
          "2013-01-01T00:00:00",
          "2013-04-01T00:00:00",
          "2014-01-01T00:00:00",
          "2014-04-01T00:00:00",
          "2014-07-01T00:00:00",
          "2015-01-01T00:00:00",
          "2015-04-01T00:00:00",
          "2015-07-01T00:00:00",
          "2016-01-01T00:00:00",
          "2016-04-01T00:00:00",
          "2016-07-01T00:00:00",
          "2017-01-01T00:00:00",
          "2017-04-01T00:00:00",
          "2017-07-01T00:00:00",
          "2018-01-01T00:00:00",
          "2018-04-01T00:00:00",
          "2018-07-01T00:00:00",
          "2019-01-01T00:00:00",
          "2019-04-01T00:00:00",
          "2019-07-01T00:00:00",
          "2020-01-01T00:00:00",
          "2020-04-01T00:00:00",
          "2020-07-01T00:00:00",
          "2021-01-01T00:00:00",
          "2021-04-01T00:00:00",
          "2021-07-01T00:00:00",
          "2022-01-01T00:00:00",
          "2022-04-01T00:00:00",
          "2022-07-01T00:00:00",
          "2023-01-01T00:00:00",
          "2023-04-01T00:00:00",
          "2023-04-01T00:00:00",
          "2023-07-01T00:00:00",
          "2023-07-01T00:00:00"
         ],
         "y": [
          111817000,
          177604000,
          52714000,
          114132000,
          119072000,
          40813000,
          100949000,
          130546000,
          64632000,
          183672000,
          176841000,
          48000000,
          502857000,
          56623000,
          135801000,
          209703000,
          173771000,
          255901000,
          268785000,
          184365000,
          283530000,
          178545000,
          99708000,
          236014000,
          256253000,
          178646000,
          309932000,
          253064000,
          100730000,
          267681000,
          277345000,
          500121000,
          769482000,
          362295000,
          100596000,
          212344000,
          220056000,
          143047000,
          366044000,
          584097000,
          77890000,
          104299000,
          104325000,
          -111826000,
          -111925000
         ]
        },
        {
         "legendgroup": "BOSTON PROPERTIES LTD PARTNERSHIPSIC: 6798 - REAL ESTATE INVESTMENT TRUSTS",
         "line": {
          "color": "#19D3F3"
         },
         "mode": "lines+markers",
         "name": "BOSTON PROPERTIES LTD PARTNERSHIPSIC: 6798 - REAL ESTATE INVESTMENT TRUSTS",
         "type": "scatter",
         "visible": false,
         "x": [
          "2009-04-01T00:00:00",
          "2009-07-01T00:00:00",
          "2010-01-01T00:00:00",
          "2010-04-01T00:00:00",
          "2010-07-01T00:00:00",
          "2011-01-01T00:00:00",
          "2011-04-01T00:00:00",
          "2011-07-01T00:00:00",
          "2012-01-01T00:00:00",
          "2012-04-01T00:00:00",
          "2012-07-01T00:00:00",
          "2013-01-01T00:00:00",
          "2013-04-01T00:00:00",
          "2013-07-01T00:00:00",
          "2014-01-01T00:00:00",
          "2014-04-01T00:00:00",
          "2014-07-01T00:00:00",
          "2015-01-01T00:00:00",
          "2015-04-01T00:00:00",
          "2015-04-01T00:00:00",
          "2015-07-01T00:00:00",
          "2015-07-01T00:00:00"
         ],
         "y": [
          135052000,
          212871000,
          62867000,
          135709000,
          141278000,
          48897000,
          119346000,
          152038000,
          75271000,
          212404000,
          203948000,
          60923000,
          566112000,
          679329000,
          62219000,
          149655000,
          232151000,
          195958000,
          93470000,
          93470000,
          210273000,
          210273000
         ]
        },
        {
         "legendgroup": "CBRE GROUP, INC. ",
         "line": {
          "color": "#FF6692"
         },
         "mode": "lines+markers",
         "name": "CBRE GROUP, INC. ",
         "type": "scatter",
         "visible": false,
         "x": [
          "2010-04-01T00:00:00",
          "2010-07-01T00:00:00",
          "2011-01-01T00:00:00",
          "2011-04-01T00:00:00",
          "2011-07-01T00:00:00",
          "2012-01-01T00:00:00",
          "2012-04-01T00:00:00",
          "2012-07-01T00:00:00",
          "2013-01-01T00:00:00",
          "2013-04-01T00:00:00",
          "2013-07-01T00:00:00",
          "2014-01-01T00:00:00",
          "2014-04-01T00:00:00",
          "2014-07-01T00:00:00",
          "2015-01-01T00:00:00",
          "2015-04-01T00:00:00",
          "2015-07-01T00:00:00",
          "2016-01-01T00:00:00",
          "2016-04-01T00:00:00",
          "2016-07-01T00:00:00",
          "2017-01-01T00:00:00",
          "2017-04-01T00:00:00",
          "2017-07-01T00:00:00",
          "2018-01-01T00:00:00",
          "2018-04-01T00:00:00",
          "2018-07-01T00:00:00",
          "2019-01-01T00:00:00",
          "2019-04-01T00:00:00",
          "2019-07-01T00:00:00",
          "2020-01-01T00:00:00",
          "2020-04-01T00:00:00",
          "2020-07-01T00:00:00",
          "2021-01-01T00:00:00",
          "2021-04-01T00:00:00",
          "2021-07-01T00:00:00",
          "2022-01-01T00:00:00",
          "2022-04-01T00:00:00",
          "2022-07-01T00:00:00",
          "2023-01-01T00:00:00",
          "2023-04-01T00:00:00",
          "2023-04-01T00:00:00",
          "2023-07-01T00:00:00",
          "2023-07-01T00:00:00",
          "2024-01-01T00:00:00"
         ],
         "y": [
          48163000,
          105201000,
          34369000,
          95592000,
          125030000,
          26975000,
          102848000,
          115582000,
          37546000,
          107448000,
          164346000,
          67663000,
          173127000,
          212563000,
          92937000,
          217966000,
          274152000,
          82167000,
          203835000,
          225831000,
          129597000,
          326762000,
          393482000,
          150288000,
          228667000,
          290469000,
          164409000,
          388140000,
          480330000,
          172195000,
          254092000,
          266029000,
          266202000,
          708839000,
          878380000,
          392297000,
          879619000,
          933961000,
          116892000,
          201403000,
          201403000,
          190553000,
          190554000,
          126000000
         ]
        },
        {
         "legendgroup": "CROWN CASTLE INC. ",
         "line": {
          "color": "#B6E880"
         },
         "mode": "lines+markers",
         "name": "CROWN CASTLE INC. ",
         "type": "scatter",
         "visible": false,
         "x": [
          "2009-07-01T00:00:00",
          "2010-01-01T00:00:00",
          "2010-07-01T00:00:00",
          "2011-01-01T00:00:00",
          "2011-04-01T00:00:00",
          "2011-07-01T00:00:00",
          "2012-01-01T00:00:00",
          "2012-04-01T00:00:00",
          "2012-07-01T00:00:00",
          "2013-01-01T00:00:00",
          "2013-04-01T00:00:00",
          "2013-07-01T00:00:00",
          "2014-01-01T00:00:00",
          "2014-04-01T00:00:00",
          "2014-07-01T00:00:00",
          "2015-01-01T00:00:00",
          "2015-04-01T00:00:00",
          "2015-07-01T00:00:00",
          "2016-01-01T00:00:00",
          "2016-04-01T00:00:00",
          "2016-07-01T00:00:00",
          "2023-01-01T00:00:00",
          "2023-04-01T00:00:00",
          "2023-04-01T00:00:00",
          "2023-07-01T00:00:00",
          "2023-07-01T00:00:00",
          "2024-01-01T00:00:00"
         ],
         "y": [
          -132480000,
          -119275000,
          -351813000,
          40017000,
          70888000,
          82149000,
          50031000,
          166044000,
          158058000,
          15462000,
          67821000,
          98195000,
          101497000,
          34009000,
          106937000,
          122787000,
          1276147000,
          1257139000,
          47840000,
          133898000,
          184423000,
          418000000,
          455000000,
          456000000,
          265000000,
          265000000,
          311000000
         ]
        },
        {
         "legendgroup": "Cushman & Wakefield plc ",
         "line": {
          "color": "#FF97FF"
         },
         "mode": "lines+markers",
         "name": "Cushman & Wakefield plc ",
         "type": "scatter",
         "visible": false,
         "x": [
          "2018-04-01T00:00:00",
          "2018-07-01T00:00:00",
          "2019-01-01T00:00:00",
          "2019-04-01T00:00:00",
          "2019-07-01T00:00:00",
          "2020-01-01T00:00:00",
          "2020-04-01T00:00:00",
          "2020-07-01T00:00:00",
          "2021-01-01T00:00:00",
          "2021-04-01T00:00:00",
          "2021-07-01T00:00:00",
          "2022-01-01T00:00:00",
          "2022-04-01T00:00:00",
          "2022-07-01T00:00:00",
          "2023-01-01T00:00:00",
          "2023-04-01T00:00:00",
          "2023-04-01T00:00:00",
          "2023-07-01T00:00:00",
          "2023-07-01T00:00:00",
          "2024-01-01T00:00:00"
         ],
         "y": [
          -124200000,
          -172900000,
          -20900000,
          -14600000,
          18000000,
          -55100000,
          -155900000,
          -138100000,
          -17200000,
          35500000,
          121400000,
          45500000,
          142700000,
          121100000,
          -76400000,
          5100000,
          5100000,
          -33900000,
          -33900000,
          -28800000
         ]
        },
        {
         "legendgroup": "DIGITAL REALTY TRUST, INC.SIC: 6798 - REAL ESTATE INVESTMENT TRUSTS",
         "line": {
          "color": "#FECB52"
         },
         "mode": "lines+markers",
         "name": "DIGITAL REALTY TRUST, INC.SIC: 6798 - REAL ESTATE INVESTMENT TRUSTS",
         "type": "scatter",
         "visible": false,
         "x": [
          "2011-04-01T00:00:00",
          "2011-07-01T00:00:00",
          "2012-01-01T00:00:00",
          "2012-04-01T00:00:00",
          "2012-07-01T00:00:00",
          "2013-01-01T00:00:00",
          "2013-04-01T00:00:00",
          "2013-07-01T00:00:00",
          "2014-01-01T00:00:00",
          "2014-04-01T00:00:00",
          "2014-07-01T00:00:00",
          "2015-01-01T00:00:00",
          "2015-04-01T00:00:00",
          "2015-07-01T00:00:00",
          "2016-01-01T00:00:00",
          "2016-04-01T00:00:00",
          "2016-07-01T00:00:00",
          "2017-01-01T00:00:00",
          "2017-04-01T00:00:00",
          "2017-07-01T00:00:00",
          "2018-01-01T00:00:00",
          "2018-04-01T00:00:00",
          "2018-07-01T00:00:00",
          "2019-01-01T00:00:00",
          "2019-04-01T00:00:00",
          "2019-07-01T00:00:00",
          "2020-01-01T00:00:00",
          "2020-04-01T00:00:00",
          "2020-07-01T00:00:00",
          "2021-01-01T00:00:00",
          "2021-04-01T00:00:00",
          "2021-07-01T00:00:00",
          "2022-01-01T00:00:00",
          "2022-04-01T00:00:00",
          "2022-07-01T00:00:00",
          "2023-01-01T00:00:00",
          "2023-04-01T00:00:00",
          "2023-04-01T00:00:00",
          "2023-07-01T00:00:00",
          "2023-07-01T00:00:00",
          "2024-01-01T00:00:00"
         ],
         "y": [
          74205000,
          110549000,
          48042000,
          100376000,
          -203810000,
          50711000,
          109187000,
          209074000,
          45912000,
          106251000,
          188108000,
          120183000,
          255694000,
          192489000,
          61549000,
          111924000,
          269563000,
          83538000,
          162189000,
          91086000,
          106627000,
          192090000,
          173060000,
          116812000,
          176980000,
          126665000,
          224014000,
          298845000,
          74693000,
          385920000,
          507174000,
          255529000,
          73281000,
          136708000,
          300502000,
          68726000,
          118184000,
          118184000,
          733618000,
          733618000,
          281508000
         ]
        },
        {
         "legendgroup": "EQUINIX INCSIC: 6798 - REAL ESTATE INVESTMENT TRUSTS",
         "line": {
          "color": "#636EFA"
         },
         "mode": "lines+markers",
         "name": "EQUINIX INCSIC: 6798 - REAL ESTATE INVESTMENT TRUSTS",
         "type": "scatter",
         "visible": false,
         "x": [
          "2010-04-01T00:00:00",
          "2010-07-01T00:00:00",
          "2011-01-01T00:00:00",
          "2011-04-01T00:00:00",
          "2011-07-01T00:00:00",
          "2012-01-01T00:00:00",
          "2012-04-01T00:00:00",
          "2012-07-01T00:00:00",
          "2013-01-01T00:00:00",
          "2013-04-01T00:00:00",
          "2013-07-01T00:00:00",
          "2014-01-01T00:00:00",
          "2014-04-01T00:00:00",
          "2014-07-01T00:00:00",
          "2015-01-01T00:00:00",
          "2015-04-01T00:00:00",
          "2015-07-01T00:00:00",
          "2016-04-01T00:00:00",
          "2016-07-01T00:00:00",
          "2017-01-01T00:00:00",
          "2017-04-01T00:00:00",
          "2017-07-01T00:00:00",
          "2018-01-01T00:00:00",
          "2018-04-01T00:00:00",
          "2018-07-01T00:00:00",
          "2019-01-01T00:00:00",
          "2019-04-01T00:00:00",
          "2019-07-01T00:00:00",
          "2020-01-01T00:00:00",
          "2020-04-01T00:00:00",
          "2020-07-01T00:00:00",
          "2021-01-01T00:00:00",
          "2021-04-01T00:00:00",
          "2021-07-01T00:00:00",
          "2022-01-01T00:00:00",
          "2022-04-01T00:00:00",
          "2022-07-01T00:00:00",
          "2023-01-01T00:00:00",
          "2023-04-01T00:00:00",
          "2023-04-01T00:00:00",
          "2023-07-01T00:00:00",
          "2023-07-01T00:00:00"
         ],
         "y": [
          11925000,
          23121000,
          25145000,
          55875000,
          51049000,
          34523000,
          70970000,
          65285000,
          35882000,
          7224000,
          13616000,
          41387000,
          52715000,
          54169000,
          76452000,
          135911000,
          100591000,
          13600000,
          65050000,
          42062000,
          87867000,
          125705000,
          62894000,
          130512000,
          192443000,
          118078000,
          261605000,
          264377000,
          118792000,
          252096000,
          199991000,
          156362000,
          224701000,
          220555000,
          147453000,
          363775000,
          428129000,
          258786000,
          207030000,
          207030000,
          275794000,
          275794000
         ]
        },
        {
         "legendgroup": "EQUITY RESIDENTIALSIC: 6798 - REAL ESTATE INVESTMENT TRUSTS",
         "line": {
          "color": "#EF553B"
         },
         "mode": "lines+markers",
         "name": "EQUITY RESIDENTIALSIC: 6798 - REAL ESTATE INVESTMENT TRUSTS",
         "type": "scatter",
         "visible": false,
         "x": [
          "2009-04-01T00:00:00",
          "2009-07-01T00:00:00",
          "2010-01-01T00:00:00",
          "2010-04-01T00:00:00",
          "2010-07-01T00:00:00",
          "2011-01-01T00:00:00",
          "2011-04-01T00:00:00",
          "2011-07-01T00:00:00",
          "2012-01-01T00:00:00",
          "2012-04-01T00:00:00",
          "2012-07-01T00:00:00",
          "2013-01-01T00:00:00",
          "2013-04-01T00:00:00",
          "2013-07-01T00:00:00",
          "2014-01-01T00:00:00",
          "2014-04-01T00:00:00",
          "2014-04-01T00:00:00",
          "2014-07-01T00:00:00",
          "2015-07-01T00:00:00",
          "2016-01-01T00:00:00",
          "2016-04-01T00:00:00",
          "2016-07-01T00:00:00",
          "2017-01-01T00:00:00",
          "2017-04-01T00:00:00",
          "2017-07-01T00:00:00",
          "2018-01-01T00:00:00",
          "2018-04-01T00:00:00",
          "2018-07-01T00:00:00",
          "2019-01-01T00:00:00",
          "2019-04-01T00:00:00",
          "2019-07-01T00:00:00",
          "2020-01-01T00:00:00",
          "2020-04-01T00:00:00",
          "2020-07-01T00:00:00",
          "2021-01-01T00:00:00",
          "2021-04-01T00:00:00",
          "2021-07-01T00:00:00",
          "2022-01-01T00:00:00",
          "2022-04-01T00:00:00",
          "2022-07-01T00:00:00",
          "2023-01-01T00:00:00",
          "2023-04-01T00:00:00",
          "2023-04-01T00:00:00",
          "2023-07-01T00:00:00",
          "2023-07-01T00:00:00",
          "2024-01-01T00:00:00"
         ],
         "y": [
          181000000,
          316981000,
          55483000,
          65444000,
          38744000,
          127331000,
          683255000,
          663772000,
          145299000,
          248563000,
          329403000,
          1017686000,
          1342445000,
          701951000,
          79135000,
          112690000,
          112690000,
          300879000,
          665634000,
          3587758000,
          3806597000,
          427155000,
          143742000,
          339783000,
          334270000,
          211809000,
          325411000,
          328539000,
          104539000,
          413507000,
          576074000,
          308606000,
          569494000,
          352174000,
          57539000,
          373925000,
          748337000,
          70765000,
          294866000,
          547126000,
          212035000,
          139203000,
          139203000,
          172508000,
          172508000,
          295787000
         ]
        },
        {
         "legendgroup": "ESSEX PROPERTY TRUST, INC. ",
         "line": {
          "color": "#00CC96"
         },
         "mode": "lines+markers",
         "name": "ESSEX PROPERTY TRUST, INC. ",
         "type": "scatter",
         "visible": false,
         "x": [
          "2010-04-01T00:00:00",
          "2010-07-01T00:00:00",
          "2011-01-01T00:00:00",
          "2011-04-01T00:00:00",
          "2011-07-01T00:00:00",
          "2012-01-01T00:00:00",
          "2012-04-01T00:00:00",
          "2012-07-01T00:00:00",
          "2013-01-01T00:00:00",
          "2013-04-01T00:00:00",
          "2013-07-01T00:00:00",
          "2014-01-01T00:00:00",
          "2014-04-01T00:00:00",
          "2014-07-01T00:00:00",
          "2015-01-01T00:00:00",
          "2015-04-01T00:00:00",
          "2015-07-01T00:00:00",
          "2016-01-01T00:00:00",
          "2016-04-01T00:00:00",
          "2016-07-01T00:00:00",
          "2017-01-01T00:00:00",
          "2017-01-01T00:00:00",
          "2017-04-01T00:00:00",
          "2017-04-01T00:00:00",
          "2017-07-01T00:00:00",
          "2017-07-01T00:00:00"
         ],
         "y": [
          23694000,
          30614000,
          8961000,
          22709000,
          22805000,
          24090000,
          62536000,
          56033000,
          26571000,
          52885000,
          96470000,
          23280000,
          29583000,
          57061000,
          60677000,
          107545000,
          90505000,
          81836000,
          153849000,
          137574000,
          178964000,
          178964000,
          70759000,
          70759000,
          79723000,
          79723000
         ]
        },
        {
         "legendgroup": "JLL Income Property Trust, Inc.SIC: 6798 - REAL ESTATE INVESTMENT TRUSTS",
         "line": {
          "color": "#AB63FA"
         },
         "mode": "lines+markers",
         "name": "JLL Income Property Trust, Inc.SIC: 6798 - REAL ESTATE INVESTMENT TRUSTS",
         "type": "scatter",
         "visible": false,
         "x": [
          "2011-04-01T00:00:00",
          "2011-07-01T00:00:00",
          "2012-01-01T00:00:00",
          "2012-04-01T00:00:00",
          "2012-07-01T00:00:00",
          "2013-01-01T00:00:00",
          "2013-04-01T00:00:00",
          "2013-07-01T00:00:00",
          "2014-01-01T00:00:00",
          "2014-04-01T00:00:00",
          "2014-07-01T00:00:00",
          "2015-01-01T00:00:00",
          "2015-04-01T00:00:00",
          "2015-07-01T00:00:00",
          "2016-01-01T00:00:00",
          "2016-04-01T00:00:00",
          "2016-07-01T00:00:00",
          "2017-01-01T00:00:00",
          "2017-04-01T00:00:00",
          "2017-07-01T00:00:00",
          "2018-01-01T00:00:00",
          "2018-04-01T00:00:00",
          "2018-07-01T00:00:00",
          "2019-01-01T00:00:00",
          "2019-04-01T00:00:00",
          "2019-07-01T00:00:00",
          "2020-01-01T00:00:00",
          "2020-04-01T00:00:00",
          "2020-07-01T00:00:00",
          "2021-01-01T00:00:00",
          "2021-04-01T00:00:00",
          "2021-07-01T00:00:00",
          "2022-01-01T00:00:00",
          "2022-04-01T00:00:00",
          "2022-07-01T00:00:00",
          "2023-04-01T00:00:00",
          "2023-04-01T00:00:00",
          "2023-07-01T00:00:00",
          "2023-07-01T00:00:00"
         ],
         "y": [
          -16379000,
          -18362000,
          8582000,
          5670000,
          -3269000,
          -2873000,
          -2247000,
          -10433000,
          1287000,
          2158000,
          1840000,
          23512000,
          23160000,
          -3641000,
          1486000,
          1315000,
          -1943000,
          -742000,
          3056000,
          14468000,
          32644000,
          35750000,
          -196000,
          106736000,
          103773000,
          -7845000,
          -18549000,
          -26753000,
          -18326000,
          30105000,
          26328000,
          -23029000,
          37935000,
          13861000,
          -49614000,
          -8919000,
          -98617000,
          -11871000,
          -11871000
         ]
        },
        {
         "legendgroup": "JONES LANG LASALLE INCSIC: 6531 - REAL ESTATE AGENTS & MANAGERS (FOR OTHERS)",
         "line": {
          "color": "#FFA15A"
         },
         "mode": "lines+markers",
         "name": "JONES LANG LASALLE INCSIC: 6531 - REAL ESTATE AGENTS & MANAGERS (FOR OTHERS)",
         "type": "scatter",
         "visible": false,
         "x": [
          "2010-04-01T00:00:00",
          "2010-07-01T00:00:00",
          "2011-01-01T00:00:00",
          "2011-04-01T00:00:00",
          "2011-07-01T00:00:00",
          "2012-01-01T00:00:00",
          "2012-04-01T00:00:00",
          "2012-07-01T00:00:00",
          "2013-01-01T00:00:00",
          "2013-04-01T00:00:00",
          "2013-07-01T00:00:00",
          "2014-01-01T00:00:00",
          "2014-04-01T00:00:00",
          "2014-07-01T00:00:00",
          "2015-01-01T00:00:00",
          "2015-04-01T00:00:00",
          "2015-07-01T00:00:00",
          "2016-01-01T00:00:00",
          "2016-04-01T00:00:00",
          "2016-07-01T00:00:00",
          "2017-01-01T00:00:00",
          "2017-04-01T00:00:00",
          "2017-07-01T00:00:00",
          "2018-01-01T00:00:00",
          "2018-04-01T00:00:00",
          "2018-07-01T00:00:00",
          "2019-01-01T00:00:00",
          "2019-04-01T00:00:00",
          "2019-07-01T00:00:00",
          "2020-01-01T00:00:00",
          "2020-04-01T00:00:00",
          "2020-07-01T00:00:00",
          "2021-01-01T00:00:00",
          "2021-04-01T00:00:00",
          "2021-07-01T00:00:00",
          "2022-01-01T00:00:00",
          "2022-04-01T00:00:00",
          "2022-07-01T00:00:00",
          "2023-01-01T00:00:00",
          "2023-04-01T00:00:00",
          "2023-04-01T00:00:00",
          "2023-07-01T00:00:00",
          "2023-07-01T00:00:00"
         ],
         "y": [
          32219000,
          69348000,
          1490000,
          45586000,
          77976000,
          14024000,
          51464000,
          86954000,
          13156000,
          59686000,
          109387000,
          15902000,
          87844000,
          176226000,
          41894000,
          90311000,
          110409000,
          25700000,
          104700000,
          127000000,
          10800000,
          89200000,
          165000000,
          40300000,
          148300000,
          242900000,
          21300000,
          132000000,
          239600000,
          5300000,
          20500000,
          147100000,
          103000000,
          303000000,
          437200000,
          145600000,
          339500000,
          334100000,
          -9200000,
          2500000,
          2500000,
          59700000,
          59700000
         ]
        },
        {
         "legendgroup": "NEWMARK GROUP, INC. ",
         "line": {
          "color": "#19D3F3"
         },
         "mode": "lines+markers",
         "name": "NEWMARK GROUP, INC. ",
         "type": "scatter",
         "visible": false,
         "x": [
          "2018-01-01T00:00:00",
          "2018-04-01T00:00:00",
          "2018-07-01T00:00:00",
          "2019-01-01T00:00:00",
          "2019-04-01T00:00:00",
          "2019-07-01T00:00:00",
          "2020-01-01T00:00:00",
          "2020-04-01T00:00:00",
          "2020-07-01T00:00:00",
          "2021-01-01T00:00:00",
          "2021-04-01T00:00:00",
          "2021-07-01T00:00:00",
          "2022-01-01T00:00:00",
          "2022-04-01T00:00:00",
          "2022-07-01T00:00:00",
          "2023-01-01T00:00:00",
          "2023-04-01T00:00:00",
          "2023-04-01T00:00:00",
          "2023-07-01T00:00:00",
          "2023-07-01T00:00:00"
         ],
         "y": [
          19997000,
          20736000,
          68976000,
          16904000,
          39572000,
          111366000,
          8182000,
          8493000,
          75659000,
          33105000,
          472849000,
          568293000,
          362000,
          48881000,
          76486000,
          -10350000,
          6429000,
          6429000,
          9947000,
          9948000
         ]
        },
        {
         "legendgroup": "PROLOGISSIC: 6798 - REAL ESTATE INVESTMENT TRUSTS",
         "line": {
          "color": "#FF6692"
         },
         "mode": "lines+markers",
         "name": "PROLOGISSIC: 6798 - REAL ESTATE INVESTMENT TRUSTS",
         "type": "scatter",
         "visible": false,
         "x": [
          "2009-04-01T00:00:00",
          "2009-07-01T00:00:00",
          "2010-01-01T00:00:00",
          "2010-04-01T00:00:00",
          "2010-04-01T00:00:00",
          "2010-07-01T00:00:00",
          "2010-07-01T00:00:00",
          "2011-01-01T00:00:00"
         ],
         "y": [
          430335000,
          424916000,
          -84760000,
          -16781000,
          -16781000,
          -8683000,
          -8683000,
          -40247000
         ]
        },
        {
         "legendgroup": "PS BUSINESS PARKS, INC./MDSIC: 6798 - REAL ESTATE INVESTMENT TRUSTS",
         "line": {
          "color": "#B6E880"
         },
         "mode": "lines+markers",
         "name": "PS BUSINESS PARKS, INC./MDSIC: 6798 - REAL ESTATE INVESTMENT TRUSTS",
         "type": "scatter",
         "visible": false,
         "x": [
          "2010-04-01T00:00:00",
          "2010-07-01T00:00:00",
          "2011-01-01T00:00:00",
          "2011-04-01T00:00:00",
          "2011-07-01T00:00:00",
          "2012-01-01T00:00:00",
          "2012-04-01T00:00:00",
          "2012-07-01T00:00:00",
          "2013-01-01T00:00:00",
          "2013-04-01T00:00:00",
          "2013-07-01T00:00:00",
          "2014-01-01T00:00:00",
          "2014-04-01T00:00:00",
          "2014-07-01T00:00:00",
          "2015-01-01T00:00:00",
          "2015-04-01T00:00:00",
          "2015-07-01T00:00:00",
          "2016-01-01T00:00:00",
          "2016-04-01T00:00:00",
          "2016-07-01T00:00:00",
          "2017-01-01T00:00:00",
          "2017-04-01T00:00:00",
          "2017-07-01T00:00:00",
          "2018-01-01T00:00:00",
          "2018-04-01T00:00:00",
          "2018-07-01T00:00:00",
          "2019-01-01T00:00:00",
          "2019-04-01T00:00:00",
          "2019-07-01T00:00:00",
          "2020-01-01T00:00:00",
          "2020-04-01T00:00:00",
          "2020-07-01T00:00:00",
          "2021-01-01T00:00:00",
          "2021-04-01T00:00:00",
          "2021-07-01T00:00:00",
          "2022-01-01T00:00:00",
          "2022-04-01T00:00:00",
          "2022-04-01T00:00:00",
          "2022-07-01T00:00:00",
          "2022-07-01T00:00:00",
          "2022-07-01T00:00:00"
         ],
         "y": [
          44936000,
          64660000,
          27062000,
          48908000,
          47777000,
          20697000,
          43404000,
          44844000,
          22423000,
          23863000,
          24151000,
          25098000,
          50079000,
          51401000,
          34991000,
          61285000,
          66483000,
          28544000,
          58224000,
          63358000,
          39931000,
          77462000,
          75298000,
          59625000,
          143584000,
          122288000,
          39548000,
          81298000,
          81240000,
          53936000,
          91624000,
          80463000,
          40096000,
          98052000,
          122569000,
          82096000,
          87132000,
          87132000,
          -39262000,
          -69956000,
          169228000
         ]
        },
        {
         "legendgroup": "Prologis, Inc.SIC: 6798 - REAL ESTATE INVESTMENT TRUSTS",
         "line": {
          "color": "#FF97FF"
         },
         "mode": "lines+markers",
         "name": "Prologis, Inc.SIC: 6798 - REAL ESTATE INVESTMENT TRUSTS",
         "type": "scatter",
         "visible": false,
         "x": [
          "2011-07-01T00:00:00",
          "2012-01-01T00:00:00",
          "2012-04-01T00:00:00",
          "2012-07-01T00:00:00",
          "2013-01-01T00:00:00",
          "2013-04-01T00:00:00",
          "2013-07-01T00:00:00",
          "2014-01-01T00:00:00",
          "2014-04-01T00:00:00",
          "2014-07-01T00:00:00",
          "2015-01-01T00:00:00",
          "2015-04-01T00:00:00",
          "2015-07-01T00:00:00",
          "2016-01-01T00:00:00",
          "2016-04-01T00:00:00",
          "2016-07-01T00:00:00",
          "2017-01-01T00:00:00",
          "2017-04-01T00:00:00",
          "2017-07-01T00:00:00",
          "2018-01-01T00:00:00",
          "2018-04-01T00:00:00",
          "2018-07-01T00:00:00",
          "2019-01-01T00:00:00",
          "2019-04-01T00:00:00",
          "2019-07-01T00:00:00",
          "2020-01-01T00:00:00",
          "2020-04-01T00:00:00",
          "2020-07-01T00:00:00",
          "2021-01-01T00:00:00",
          "2021-04-01T00:00:00",
          "2021-07-01T00:00:00",
          "2022-01-01T00:00:00",
          "2022-04-01T00:00:00",
          "2022-07-01T00:00:00",
          "2023-01-01T00:00:00",
          "2023-04-01T00:00:00",
          "2023-04-01T00:00:00",
          "2023-07-01T00:00:00",
          "2023-07-01T00:00:00",
          "2024-01-01T00:00:00"
         ],
         "y": [
          -118231000,
          212979000,
          214909000,
          -34291000,
          284829000,
          287128000,
          -3100000,
          6801000,
          87981000,
          219095000,
          346876000,
          488794000,
          402568000,
          209730000,
          486809000,
          558005000,
          204929000,
          473546000,
          1146510000,
          367378000,
          703465000,
          683923000,
          348546000,
          733822000,
          837422000,
          491053000,
          897226000,
          708867000,
          367347000,
          967523000,
          1323714000,
          1150785000,
          1762178000,
          1626857000,
          464623000,
          1216028000,
          1216028000,
          747627000,
          747627000,
          585715000
         ]
        },
        {
         "legendgroup": "Public StorageSIC: 6798 - REAL ESTATE INVESTMENT TRUSTS",
         "line": {
          "color": "#FECB52"
         },
         "mode": "lines+markers",
         "name": "Public StorageSIC: 6798 - REAL ESTATE INVESTMENT TRUSTS",
         "type": "scatter",
         "visible": false,
         "x": [
          "2009-07-01T00:00:00",
          "2010-01-01T00:00:00",
          "2010-04-01T00:00:00",
          "2010-07-01T00:00:00",
          "2011-01-01T00:00:00",
          "2011-04-01T00:00:00",
          "2011-07-01T00:00:00",
          "2012-01-01T00:00:00",
          "2012-04-01T00:00:00",
          "2012-07-01T00:00:00",
          "2013-01-01T00:00:00",
          "2013-04-01T00:00:00",
          "2013-07-01T00:00:00",
          "2014-01-01T00:00:00",
          "2014-04-01T00:00:00",
          "2014-07-01T00:00:00",
          "2015-01-01T00:00:00",
          "2015-04-01T00:00:00",
          "2015-07-01T00:00:00",
          "2016-01-01T00:00:00",
          "2016-04-01T00:00:00",
          "2016-07-01T00:00:00",
          "2017-01-01T00:00:00",
          "2017-04-01T00:00:00",
          "2017-07-01T00:00:00",
          "2018-01-01T00:00:00",
          "2018-04-01T00:00:00",
          "2018-07-01T00:00:00",
          "2019-01-01T00:00:00",
          "2019-04-01T00:00:00",
          "2019-07-01T00:00:00",
          "2020-01-01T00:00:00",
          "2020-04-01T00:00:00",
          "2020-07-01T00:00:00",
          "2021-01-01T00:00:00",
          "2021-04-01T00:00:00",
          "2021-07-01T00:00:00",
          "2022-01-01T00:00:00",
          "2022-04-01T00:00:00",
          "2022-07-01T00:00:00",
          "2023-01-01T00:00:00",
          "2023-04-01T00:00:00",
          "2023-04-01T00:00:00",
          "2023-07-01T00:00:00",
          "2023-07-01T00:00:00",
          "2024-01-01T00:00:00"
         ],
         "y": [
          653483000,
          123961000,
          248999000,
          364392000,
          206108000,
          412552000,
          397583000,
          205852000,
          403995000,
          462035000,
          211223000,
          471686000,
          544661000,
          227196000,
          504030000,
          570293000,
          281781000,
          608186000,
          665973000,
          315873000,
          672532000,
          723964000,
          342442000,
          696144000,
          710376000,
          342997000,
          746799000,
          781829000,
          366521000,
          736577000,
          767998000,
          366156000,
          681079000,
          639790000,
          433036000,
          843462000,
          900517000,
          513943000,
          1167793000,
          3422844000,
          517708000,
          578029000,
          578029000,
          613298000,
          613298000,
          508948000
         ]
        },
        {
         "legendgroup": "VICI PROPERTIES INC.SIC: 6798 - REAL ESTATE INVESTMENT TRUSTS",
         "line": {
          "color": "#636EFA"
         },
         "mode": "lines+markers",
         "name": "VICI PROPERTIES INC.SIC: 6798 - REAL ESTATE INVESTMENT TRUSTS",
         "type": "scatter",
         "visible": false,
         "x": [
          "2018-01-01T00:00:00",
          "2018-04-01T00:00:00",
          "2018-07-01T00:00:00",
          "2019-01-01T00:00:00",
          "2019-04-01T00:00:00",
          "2019-07-01T00:00:00",
          "2020-01-01T00:00:00",
          "2020-04-01T00:00:00",
          "2020-07-01T00:00:00",
          "2021-01-01T00:00:00",
          "2021-04-01T00:00:00",
          "2021-07-01T00:00:00",
          "2022-01-01T00:00:00",
          "2022-04-01T00:00:00",
          "2022-07-01T00:00:00",
          "2023-01-01T00:00:00",
          "2023-04-01T00:00:00",
          "2023-04-01T00:00:00",
          "2023-07-01T00:00:00",
          "2023-07-01T00:00:00",
          "2024-01-01T00:00:00"
         ],
         "y": [
          114103000,
          251166000,
          266975000,
          150849000,
          302898000,
          296484000,
          -24012000,
          205390000,
          627676000,
          269801000,
          570510000,
          462571000,
          240383000,
          182677000,
          273199000,
          518740000,
          690702000,
          690702000,
          556329000,
          556329000,
          590016000
         ]
        },
        {
         "legendgroup": "Ventas, Inc.SIC: 6798 - REAL ESTATE INVESTMENT TRUSTS",
         "line": {
          "color": "#EF553B"
         },
         "mode": "lines+markers",
         "name": "Ventas, Inc.SIC: 6798 - REAL ESTATE INVESTMENT TRUSTS",
         "type": "scatter",
         "visible": false,
         "x": [
          "2009-04-01T00:00:00",
          "2009-07-01T00:00:00",
          "2010-01-01T00:00:00",
          "2010-04-01T00:00:00",
          "2010-07-01T00:00:00",
          "2011-01-01T00:00:00",
          "2011-01-01T00:00:00",
          "2011-04-01T00:00:00",
          "2011-04-01T00:00:00",
          "2011-07-01T00:00:00",
          "2011-07-01T00:00:00"
         ],
         "y": [
          162609000,
          212414000,
          52619000,
          110686000,
          115965000,
          48984000,
          48984000,
          19676000,
          19676000,
          102885000,
          102885000
         ]
        },
        {
         "legendgroup": "WELLTOWER INC.SIC: 6798 - REAL ESTATE INVESTMENT TRUSTS",
         "line": {
          "color": "#00CC96"
         },
         "mode": "lines+markers",
         "name": "WELLTOWER INC.SIC: 6798 - REAL ESTATE INVESTMENT TRUSTS",
         "type": "scatter",
         "visible": false,
         "x": [
          "2011-01-01T00:00:00",
          "2011-04-01T00:00:00",
          "2011-07-01T00:00:00",
          "2012-01-01T00:00:00",
          "2012-04-01T00:00:00",
          "2012-04-01T00:00:00"
         ],
         "y": [
          32052000,
          119252000,
          141042000,
          58514000,
          77696000,
          77691000
         ]
        },
        {
         "legendgroup": "WEYERHAEUSER COSIC: 6798 - REAL ESTATE INVESTMENT TRUSTS",
         "line": {
          "color": "#AB63FA"
         },
         "mode": "lines+markers",
         "name": "WEYERHAEUSER COSIC: 6798 - REAL ESTATE INVESTMENT TRUSTS",
         "type": "scatter",
         "visible": false,
         "x": [
          "2009-04-01T00:00:00",
          "2009-07-01T00:00:00",
          "2009-07-01T00:00:00",
          "2010-01-01T00:00:00",
          "2010-07-01T00:00:00",
          "2011-01-01T00:00:00",
          "2011-04-01T00:00:00",
          "2011-07-01T00:00:00",
          "2012-01-01T00:00:00",
          "2012-04-01T00:00:00",
          "2012-07-01T00:00:00",
          "2013-01-01T00:00:00",
          "2013-01-01T00:00:00",
          "2013-04-01T00:00:00",
          "2013-07-01T00:00:00",
          "2014-04-01T00:00:00",
          "2014-07-01T00:00:00",
          "2015-01-01T00:00:00",
          "2015-04-01T00:00:00",
          "2015-07-01T00:00:00",
          "2016-01-01T00:00:00",
          "2016-04-01T00:00:00",
          "2016-07-01T00:00:00",
          "2017-01-01T00:00:00",
          "2017-04-01T00:00:00",
          "2017-07-01T00:00:00",
          "2018-01-01T00:00:00",
          "2018-04-01T00:00:00",
          "2018-07-01T00:00:00",
          "2019-01-01T00:00:00",
          "2019-04-01T00:00:00",
          "2019-07-01T00:00:00",
          "2020-01-01T00:00:00",
          "2020-04-01T00:00:00",
          "2020-07-01T00:00:00",
          "2021-01-01T00:00:00",
          "2021-04-01T00:00:00",
          "2021-07-01T00:00:00",
          "2022-01-01T00:00:00",
          "2022-04-01T00:00:00",
          "2022-07-01T00:00:00",
          "2023-01-01T00:00:00",
          "2023-04-01T00:00:00",
          "2023-04-01T00:00:00",
          "2023-07-01T00:00:00",
          "2023-07-01T00:00:00",
          "2024-01-01T00:00:00"
         ],
         "y": [
          -370000000,
          0,
          0,
          -20000000,
          1110000000,
          99000000,
          109000000,
          167000000,
          41000000,
          125000000,
          201000000,
          144000000,
          144000000,
          196000000,
          353000000,
          485000000,
          1649000000,
          101000000,
          245000000,
          335000000,
          81000000,
          249000000,
          395000000,
          157000000,
          181000000,
          154000000,
          269000000,
          586000000,
          572000000,
          -289000000,
          -161000000,
          227000000,
          150000000,
          222000000,
          355000000,
          681000000,
          1709000000,
          1510000000,
          771000000,
          1559000000,
          1098000000,
          151000000,
          230000000,
          230000000,
          239000000,
          239000000,
          114000000
         ]
        },
        {
         "legendgroup": "ALEXANDRIA REAL ESTATE EQUITIES, INC.SIC: 6798 - REAL ESTATE INVESTMENT TRUSTS",
         "line": {
          "color": "#636EFA"
         },
         "mode": "lines+markers",
         "name": "ALEXANDRIA REAL ESTATE EQUITIES, INC.SIC: 6798 - REAL ESTATE INVESTMENT TRUSTS",
         "type": "scatter",
         "visible": false,
         "x": [
          "2012-01-01T00:00:00",
          "2012-04-01T00:00:00",
          "2012-07-01T00:00:00",
          "2013-01-01T00:00:00",
          "2013-04-01T00:00:00",
          "2013-07-01T00:00:00",
          "2014-01-01T00:00:00",
          "2014-04-01T00:00:00",
          "2016-01-01T00:00:00",
          "2016-04-01T00:00:00",
          "2016-07-01T00:00:00",
          "2017-01-01T00:00:00",
          "2017-04-01T00:00:00",
          "2017-07-01T00:00:00",
          "2018-01-01T00:00:00",
          "2018-04-01T00:00:00",
          "2018-04-01T00:00:00",
          "2018-07-01T00:00:00",
          "2019-01-01T00:00:00",
          "2019-07-01T00:00:00",
          "2020-01-01T00:00:00",
          "2020-04-01T00:00:00",
          "2020-07-01T00:00:00",
          "2021-01-01T00:00:00",
          "2021-04-01T00:00:00",
          "2021-07-01T00:00:00",
          "2022-01-01T00:00:00",
          "2022-04-01T00:00:00",
          "2022-07-01T00:00:00",
          "2023-01-01T00:00:00",
          "2023-04-01T00:00:00",
          "2023-04-01T00:00:00",
          "2023-07-01T00:00:00",
          "2023-07-01T00:00:00",
          "2024-01-01T00:00:00"
         ],
         "y": [
          33.582367549668874,
          37.66627694072489,
          45.46469656443948,
          38.78521770947677,
          35.956553467367506,
          33.88157894736842,
          32.50055235473071,
          33.276069403882495,
          80.72163944009613,
          -89.39068100358423,
          -140.28290961230906,
          41.65885726274565,
          44.76226502938951,
          41.638091700768705,
          21.39441884725724,
          41.040860956402774,
          41.040860956402774,
          18.47674622162572,
          23.237984298016748,
          44.36806435311139,
          70.90878085079996,
          26.75722052527921,
          22.136015757739788,
          81.78657934870368,
          15.408859152808553,
          12.670395498213988,
          -24.50698832088838,
          30.45048825577571,
          7.112990871051914,
          15.012661543835138,
          15.95379827864946,
          15.95379827864946,
          31.981502242152466,
          31.981502242152466,
          19.32019774345389
         ]
        },
        {
         "legendgroup": "AMERICAN TOWER CORP /MA/SIC: 6798 - REAL ESTATE INVESTMENT TRUSTS",
         "line": {
          "color": "#EF553B"
         },
         "mode": "lines+markers",
         "name": "AMERICAN TOWER CORP /MA/SIC: 6798 - REAL ESTATE INVESTMENT TRUSTS",
         "type": "scatter",
         "visible": false,
         "x": [
          "2009-04-01T00:00:00",
          "2009-07-01T00:00:00",
          "2010-01-01T00:00:00",
          "2010-04-01T00:00:00",
          "2010-07-01T00:00:00",
          "2011-01-01T00:00:00",
          "2011-04-01T00:00:00",
          "2011-07-01T00:00:00",
          "2012-01-01T00:00:00",
          "2012-04-01T00:00:00",
          "2012-07-01T00:00:00",
          "2013-01-01T00:00:00",
          "2013-04-01T00:00:00",
          "2013-07-01T00:00:00",
          "2014-01-01T00:00:00",
          "2014-04-01T00:00:00",
          "2014-07-01T00:00:00",
          "2015-01-01T00:00:00",
          "2015-04-01T00:00:00",
          "2015-07-01T00:00:00",
          "2017-01-01T00:00:00",
          "2017-04-01T00:00:00",
          "2017-07-01T00:00:00",
          "2019-04-01T00:00:00",
          "2019-07-01T00:00:00",
          "2020-01-01T00:00:00",
          "2020-04-01T00:00:00",
          "2020-07-01T00:00:00",
          "2021-04-01T00:00:00",
          "2021-07-01T00:00:00",
          "2022-01-01T00:00:00",
          "2022-04-01T00:00:00",
          "2022-07-01T00:00:00"
         ],
         "y": [
          51.95138679781859,
          50.82301195391133,
          37.7529324328691,
          36.87619575230132,
          38.1239546016752,
          44.76300452880573,
          41.837737926694984,
          60.483364969938606,
          30.060077807239043,
          42.02295290030439,
          41.94360846970711,
          39.469158429652545,
          43.93903379226099,
          42.527725654596445,
          41.441444046662,
          39.85582356350081,
          39.57045401725293,
          43.350495676203145,
          48.76068333973595,
          59.25446820630889,
          36.75553999299685,
          33.75475338354278,
          37.30525716724763,
          33.266047638272106,
          39.79960674120846,
          33.47226675216415,
          47.67769176636172,
          29.91301670387191,
          23.217439293598233,
          17.21937277318821,
          26.937686069192075,
          23.544433094994893,
          25.93278645144218
         ]
        },
        {
         "legendgroup": "ANNALY CAPITAL MANAGEMENT INC ",
         "line": {
          "color": "#00CC96"
         },
         "mode": "lines+markers",
         "name": "ANNALY CAPITAL MANAGEMENT INC ",
         "type": "scatter",
         "visible": false,
         "x": [
          "2009-04-01T00:00:00",
          "2009-07-01T00:00:00",
          "2010-01-01T00:00:00",
          "2010-04-01T00:00:00",
          "2010-07-01T00:00:00",
          "2011-01-01T00:00:00",
          "2011-04-01T00:00:00",
          "2011-07-01T00:00:00",
          "2012-01-01T00:00:00",
          "2012-04-01T00:00:00",
          "2012-07-01T00:00:00",
          "2013-01-01T00:00:00",
          "2013-04-01T00:00:00",
          "2013-07-01T00:00:00",
          "2014-01-01T00:00:00",
          "2014-04-01T00:00:00",
          "2014-07-01T00:00:00",
          "2015-01-01T00:00:00",
          "2015-04-01T00:00:00",
          "2015-07-01T00:00:00",
          "2016-01-01T00:00:00",
          "2016-04-01T00:00:00",
          "2016-07-01T00:00:00",
          "2017-01-01T00:00:00",
          "2017-04-01T00:00:00",
          "2017-07-01T00:00:00",
          "2018-01-01T00:00:00",
          "2018-04-01T00:00:00",
          "2018-07-01T00:00:00",
          "2019-01-01T00:00:00",
          "2019-04-01T00:00:00",
          "2019-07-01T00:00:00",
          "2020-01-01T00:00:00",
          "2020-04-01T00:00:00",
          "2020-07-01T00:00:00",
          "2021-01-01T00:00:00",
          "2021-04-01T00:00:00",
          "2021-07-01T00:00:00",
          "2022-01-01T00:00:00",
          "2022-04-01T00:00:00",
          "2022-07-01T00:00:00",
          "2023-04-01T00:00:00",
          "2023-04-01T00:00:00",
          "2023-07-01T00:00:00",
          "2023-07-01T00:00:00",
          "2024-01-01T00:00:00"
         ],
         "y": [
          42.54548080050092,
          45.021761304768035,
          49.591444364335494,
          89.8584056799126,
          166.2696386236488,
          31.483535470910887,
          21.798819996036162,
          -3.7012870157831297,
          12.881695520750112,
          26.997347886188745,
          72.27862678576986,
          16.947745326701455,
          11.993147474543353,
          14.470692888532154,
          -159.44245981117632,
          -87.24499192105218,
          92.90180537208278,
          -37.29801232892109,
          36.393652737568345,
          45.00730412355555,
          -20.465362242199895,
          -35.492085861428095,
          41.91071174454785,
          31.05553607873089,
          48.03451768072059,
          56.242750939157695,
          21.673929239904414,
          29.632874295128595,
          49.017433338077524,
          -321.5085254771537,
          -113.87654288805182,
          -150.76734107349242,
          -16.05062130552904,
          -32.919035515061005,
          13.858871973471192,
          4.1588341491559495,
          8.605751445649423,
          33.270464088430764,
          3.5725167689708592,
          7.829283793631084,
          49.119664693160175,
          85.09286115895725,
          85.09286115895725,
          216.01088701523275,
          216.01088701523275,
          70.4001263563646
         ]
        },
        {
         "legendgroup": "AVALONBAY COMMUNITIES INC ",
         "line": {
          "color": "#AB63FA"
         },
         "mode": "lines+markers",
         "name": "AVALONBAY COMMUNITIES INC ",
         "type": "scatter",
         "visible": false,
         "x": [
          "2013-07-01T00:00:00",
          "2014-01-01T00:00:00"
         ],
         "y": [
          83.36182261831752,
          23.081640184075713
         ]
        },
        {
         "legendgroup": "BOSTON PROPERTIES INCSIC: 6798 - REAL ESTATE INVESTMENT TRUSTS",
         "line": {
          "color": "#FFA15A"
         },
         "mode": "lines+markers",
         "name": "BOSTON PROPERTIES INCSIC: 6798 - REAL ESTATE INVESTMENT TRUSTS",
         "type": "scatter",
         "visible": false,
         "x": [
          "2009-04-01T00:00:00",
          "2009-07-01T00:00:00",
          "2010-01-01T00:00:00",
          "2010-04-01T00:00:00",
          "2010-07-01T00:00:00",
          "2011-01-01T00:00:00",
          "2011-04-01T00:00:00",
          "2011-07-01T00:00:00",
          "2012-01-01T00:00:00",
          "2012-04-01T00:00:00",
          "2012-07-01T00:00:00",
          "2013-01-01T00:00:00",
          "2013-04-01T00:00:00",
          "2014-01-01T00:00:00",
          "2014-04-01T00:00:00",
          "2014-07-01T00:00:00",
          "2015-01-01T00:00:00",
          "2015-04-01T00:00:00",
          "2015-07-01T00:00:00",
          "2016-01-01T00:00:00",
          "2016-04-01T00:00:00",
          "2016-07-01T00:00:00",
          "2017-01-01T00:00:00",
          "2017-04-01T00:00:00",
          "2017-07-01T00:00:00",
          "2018-01-01T00:00:00",
          "2018-04-01T00:00:00",
          "2018-07-01T00:00:00",
          "2019-01-01T00:00:00",
          "2019-04-01T00:00:00",
          "2019-07-01T00:00:00",
          "2020-01-01T00:00:00",
          "2020-04-01T00:00:00",
          "2020-07-01T00:00:00",
          "2021-01-01T00:00:00",
          "2021-04-01T00:00:00",
          "2021-07-01T00:00:00",
          "2022-01-01T00:00:00",
          "2022-04-01T00:00:00",
          "2022-07-01T00:00:00",
          "2023-01-01T00:00:00",
          "2023-04-01T00:00:00",
          "2023-04-01T00:00:00",
          "2023-07-01T00:00:00",
          "2023-07-01T00:00:00"
         ],
         "y": [
          58.49097928576732,
          56.91910628564221,
          63.58096764610379,
          62.32222794438062,
          61.94931773879142,
          70.84035894944414,
          65.81893165750196,
          59.402162589136054,
          61.49854946416551,
          52.5162224347871,
          53.678897352346425,
          67.66217754811936,
          28.81715102699489,
          66.72699601003661,
          62.31225647458455,
          51.68000036867379,
          38.49423773926832,
          45.9202606975604,
          44.699678631240666,
          36.354315540918414,
          42.586900263647074,
          54.005651886065806,
          48.931070159084626,
          44.68737329824158,
          42.21091135426721,
          33.555748960448696,
          37.05123934713906,
          42.56820853588239,
          50.06914875160479,
          43.17318653977204,
          42.953434271339624,
          16.8836586273832,
          21.338151633332142,
          37.581620522715916,
          51.75205517558921,
          50.220013362559044,
          49.08103080045075,
          41.440180124859275,
          35.94066648699542,
          26.995631714130372,
          63.27623681617373,
          57.734670059812295,
          57.728587751926675,
          410.7486244650697,
          411.8817399058155
         ]
        },
        {
         "legendgroup": "BOSTON PROPERTIES LTD PARTNERSHIPSIC: 6798 - REAL ESTATE INVESTMENT TRUSTS",
         "line": {
          "color": "#19D3F3"
         },
         "mode": "lines+markers",
         "name": "BOSTON PROPERTIES LTD PARTNERSHIPSIC: 6798 - REAL ESTATE INVESTMENT TRUSTS",
         "type": "scatter",
         "visible": false,
         "x": [
          "2009-04-01T00:00:00",
          "2009-07-01T00:00:00",
          "2010-01-01T00:00:00",
          "2010-04-01T00:00:00",
          "2010-07-01T00:00:00",
          "2011-01-01T00:00:00",
          "2011-04-01T00:00:00",
          "2011-07-01T00:00:00",
          "2012-01-01T00:00:00",
          "2012-04-01T00:00:00",
          "2012-07-01T00:00:00",
          "2013-01-01T00:00:00",
          "2013-04-01T00:00:00",
          "2013-07-01T00:00:00",
          "2014-01-01T00:00:00",
          "2014-04-01T00:00:00",
          "2014-07-01T00:00:00",
          "2015-01-01T00:00:00",
          "2015-04-01T00:00:00",
          "2015-04-01T00:00:00",
          "2015-07-01T00:00:00",
          "2015-07-01T00:00:00"
         ],
         "y": [
          53.84652188028638,
          52.43361249899447,
          59.41341287057122,
          58.178142517712246,
          57.84457653012508,
          66.97219820598725,
          61.95937309750648,
          55.68064223686857,
          57.833262374795524,
          48.88507058251633,
          50.120206711521014,
          62.24311460373336,
          26.44887194111877,
          24.906316531843537,
          64.60264090616876,
          60.00518458734426,
          49.13832388330456,
          35.69138375203059,
          53.72863903685076,
          53.72863903685076,
          34.08369905956113,
          34.08369905956113
         ]
        },
        {
         "legendgroup": "CBRE GROUP, INC. ",
         "line": {
          "color": "#FF6692"
         },
         "mode": "lines+markers",
         "name": "CBRE GROUP, INC. ",
         "type": "scatter",
         "visible": false,
         "x": [
          "2010-04-01T00:00:00",
          "2010-07-01T00:00:00",
          "2011-01-01T00:00:00",
          "2011-04-01T00:00:00",
          "2011-07-01T00:00:00",
          "2012-01-01T00:00:00",
          "2012-04-01T00:00:00",
          "2012-07-01T00:00:00",
          "2013-01-01T00:00:00",
          "2013-04-01T00:00:00",
          "2013-07-01T00:00:00",
          "2014-01-01T00:00:00",
          "2014-04-01T00:00:00",
          "2014-07-01T00:00:00",
          "2015-01-01T00:00:00",
          "2015-04-01T00:00:00",
          "2015-07-01T00:00:00",
          "2016-01-01T00:00:00",
          "2016-04-01T00:00:00",
          "2016-07-01T00:00:00",
          "2017-01-01T00:00:00",
          "2017-04-01T00:00:00",
          "2017-07-01T00:00:00",
          "2018-01-01T00:00:00",
          "2018-04-01T00:00:00",
          "2018-07-01T00:00:00",
          "2019-01-01T00:00:00"
         ],
         "y": [
          67.5079268704041,
          58.74842661250162,
          49.52193517117805,
          41.54324083020437,
          36.957332876173574,
          61.98348272168668,
          46.22045597155407,
          43.24311052621241,
          53.032861735529956,
          42.65617078052035,
          28.439743796291054,
          29.28050335500324,
          24.60019511175374,
          20.943267106525735,
          22.00065463151799,
          19.371592178564295,
          17.175873476231477,
          29.74597501645904,
          26.042770271250888,
          24.74582709911327,
          20.7876191116517,
          17.5264132942287,
          15.087128691505088,
          16.108648811583848,
          10.52036376158277,
          8.404074167507568,
          12.144173992037834
         ]
        },
        {
         "legendgroup": "CROWN CASTLE INC. ",
         "line": {
          "color": "#B6E880"
         },
         "mode": "lines+markers",
         "name": "CROWN CASTLE INC. ",
         "type": "scatter",
         "visible": false,
         "x": [
          "2009-07-01T00:00:00",
          "2013-07-01T00:00:00",
          "2014-01-01T00:00:00",
          "2014-04-01T00:00:00",
          "2014-07-01T00:00:00"
         ],
         "y": [
          168.10400666234847,
          33.164762014960424,
          13.750966612564689,
          32.213828705826074,
          12.695937561230489
         ]
        },
        {
         "legendgroup": "Cushman & Wakefield plc ",
         "line": {
          "color": "#FF97FF"
         },
         "mode": "lines+markers",
         "name": "Cushman & Wakefield plc ",
         "type": "scatter",
         "visible": false,
         "x": [
          "2018-04-01T00:00:00",
          "2019-01-01T00:00:00",
          "2019-04-01T00:00:00",
          "2019-07-01T00:00:00",
          "2020-01-01T00:00:00",
          "2020-04-01T00:00:00",
          "2020-07-01T00:00:00",
          "2021-01-01T00:00:00",
          "2021-04-01T00:00:00",
          "2021-07-01T00:00:00",
          "2022-01-01T00:00:00",
          "2022-04-01T00:00:00",
          "2022-07-01T00:00:00",
          "2023-04-01T00:00:00",
          "2023-04-01T00:00:00",
          "2023-07-01T00:00:00",
          "2023-07-01T00:00:00",
          "2024-01-01T00:00:00"
         ],
         "y": [
          -346.76258992805754,
          228.22085889570553,
          124.01315789473684,
          80.76923076923077,
          -196.23655913978496,
          -93.42431761786601,
          -153.86029411764707,
          168.25396825396825,
          70.82990961380443,
          42.464454976303315,
          48.70349492671928,
          38.491379310344826,
          44.34742647058823,
          91.9047619047619,
          91.9047619047619,
          160.97122302158274,
          160.97122302158274,
          196.3210702341137
         ]
        },
        {
         "legendgroup": "DIGITAL REALTY TRUST, INC.SIC: 6798 - REAL ESTATE INVESTMENT TRUSTS",
         "line": {
          "color": "#FECB52"
         },
         "mode": "lines+markers",
         "name": "DIGITAL REALTY TRUST, INC.SIC: 6798 - REAL ESTATE INVESTMENT TRUSTS",
         "type": "scatter",
         "visible": false,
         "x": [
          "2011-04-01T00:00:00",
          "2011-07-01T00:00:00",
          "2012-01-01T00:00:00",
          "2012-04-01T00:00:00",
          "2012-07-01T00:00:00",
          "2013-01-01T00:00:00",
          "2013-04-01T00:00:00",
          "2013-07-01T00:00:00",
          "2014-01-01T00:00:00",
          "2014-04-01T00:00:00",
          "2014-07-01T00:00:00",
          "2015-01-01T00:00:00",
          "2015-04-01T00:00:00",
          "2015-07-01T00:00:00",
          "2016-01-01T00:00:00",
          "2016-04-01T00:00:00",
          "2016-07-01T00:00:00",
          "2017-01-01T00:00:00",
          "2017-04-01T00:00:00",
          "2017-07-01T00:00:00",
          "2018-01-01T00:00:00",
          "2018-04-01T00:00:00",
          "2018-07-01T00:00:00",
          "2019-01-01T00:00:00",
          "2019-04-01T00:00:00",
          "2019-07-01T00:00:00",
          "2020-01-01T00:00:00",
          "2020-04-01T00:00:00",
          "2020-07-01T00:00:00",
          "2021-01-01T00:00:00",
          "2021-04-01T00:00:00",
          "2021-07-01T00:00:00",
          "2022-01-01T00:00:00",
          "2022-04-01T00:00:00",
          "2022-07-01T00:00:00",
          "2023-01-01T00:00:00",
          "2023-04-01T00:00:00",
          "2023-04-01T00:00:00",
          "2023-07-01T00:00:00",
          "2023-07-01T00:00:00",
          "2024-01-01T00:00:00"
         ],
         "y": [
          50.4046891813315,
          50.436014580148225,
          44.183939027790686,
          42.996359753985246,
          -62.941110631425786,
          48.667361750802215,
          46.698527688822935,
          31.315805899493757,
          50.78361168878503,
          47.60049513983755,
          34.095009862554875,
          27.447192557757667,
          26.371107540443568,
          32.87008136262341,
          48.1954380944365,
          51.14494486979144,
          31.331325976421198,
          39.89553054939995,
          41.069540478379196,
          58.651589502880306,
          41.92808748883515,
          44.78347729853256,
          47.98645111069034,
          46.50583429503032,
          51.456869903423915,
          57.3934542029668,
          27.694035776304492,
          35.66571012165272,
          69.3963927790024,
          16.390256795783117,
          22.903254737846986,
          36.42924669121306,
          47.658671771209804,
          49.823824764365625,
          32.62694859279819,
          59.79666093386216,
          48.45878761447885,
          48.45878761447885,
          13.118068179799499,
          13.118068179799499,
          28.010986004096736
         ]
        },
        {
         "legendgroup": "EQUINIX INCSIC: 6798 - REAL ESTATE INVESTMENT TRUSTS",
         "line": {
          "color": "#636EFA"
         },
         "mode": "lines+markers",
         "name": "EQUINIX INCSIC: 6798 - REAL ESTATE INVESTMENT TRUSTS",
         "type": "scatter",
         "visible": false,
         "x": [
          "2010-04-01T00:00:00",
          "2010-07-01T00:00:00",
          "2011-01-01T00:00:00",
          "2011-04-01T00:00:00",
          "2011-07-01T00:00:00",
          "2012-01-01T00:00:00",
          "2012-04-01T00:00:00",
          "2012-07-01T00:00:00",
          "2013-01-01T00:00:00",
          "2013-04-01T00:00:00",
          "2013-07-01T00:00:00",
          "2014-01-01T00:00:00",
          "2014-04-01T00:00:00",
          "2014-07-01T00:00:00",
          "2015-01-01T00:00:00",
          "2015-04-01T00:00:00",
          "2015-07-01T00:00:00",
          "2016-04-01T00:00:00",
          "2016-07-01T00:00:00",
          "2017-01-01T00:00:00",
          "2017-04-01T00:00:00",
          "2017-07-01T00:00:00",
          "2018-01-01T00:00:00",
          "2018-04-01T00:00:00",
          "2018-07-01T00:00:00",
          "2019-01-01T00:00:00",
          "2019-04-01T00:00:00",
          "2019-07-01T00:00:00",
          "2020-01-01T00:00:00",
          "2020-04-01T00:00:00",
          "2020-07-01T00:00:00",
          "2021-01-01T00:00:00",
          "2021-04-01T00:00:00",
          "2021-07-01T00:00:00",
          "2022-01-01T00:00:00",
          "2022-04-01T00:00:00",
          "2022-07-01T00:00:00",
          "2023-01-01T00:00:00",
          "2023-04-01T00:00:00",
          "2023-04-01T00:00:00",
          "2023-07-01T00:00:00",
          "2023-07-01T00:00:00"
         ],
         "y": [
          84.14544971082896,
          81.4696972125603,
          59.77186190125748,
          57.318982835929205,
          63.49470823798627,
          60.47331722787694,
          58.39366847427818,
          59.76990245195004,
          62.70566347582967,
          94.38065901241482,
          90.03031323678006,
          62.44612411189852,
          72.02097564341406,
          70.68761194595209,
          47.362695620442985,
          51.32092636766739,
          59.98066487372492,
          93.66838148001582,
          74.74590615803899,
          72.64188987030558,
          72.4202979977589,
          65.70824524312897,
          66.75283209371415,
          66.66036550163234,
          57.95268330412819,
          50.989523667214556,
          48.19682454187937,
          47.50237292443576,
          47.46738601689294,
          46.12343293853144,
          51.007454551244834,
          36.4493198343379,
          44.05036689549392,
          42.969107566280265,
          35.16212437010263,
          31.949469289105554,
          29.849533263094767,
          27.36178203426082,
          32.56417689729416,
          32.56417689729416,
          26.879810381808106,
          26.879810381808106
         ]
        },
        {
         "legendgroup": "EQUITY RESIDENTIALSIC: 6798 - REAL ESTATE INVESTMENT TRUSTS",
         "line": {
          "color": "#EF553B"
         },
         "mode": "lines+markers",
         "name": "EQUITY RESIDENTIALSIC: 6798 - REAL ESTATE INVESTMENT TRUSTS",
         "type": "scatter",
         "visible": false,
         "x": [
          "2013-04-01T00:00:00",
          "2013-07-01T00:00:00",
          "2014-04-01T00:00:00",
          "2014-07-01T00:00:00"
         ],
         "y": [
          0.05211648779543534,
          0.09962271454818965,
          1.140450916747083,
          0.4302085849777781
         ]
        },
        {
         "legendgroup": "ESSEX PROPERTY TRUST, INC. ",
         "line": {
          "color": "#00CC96"
         },
         "mode": "lines+markers",
         "name": "ESSEX PROPERTY TRUST, INC. ",
         "type": "scatter",
         "visible": false,
         "x": [
          "2010-04-01T00:00:00",
          "2010-07-01T00:00:00",
          "2011-01-01T00:00:00",
          "2011-04-01T00:00:00",
          "2011-07-01T00:00:00",
          "2012-01-01T00:00:00",
          "2012-04-01T00:00:00",
          "2012-07-01T00:00:00",
          "2013-01-01T00:00:00",
          "2013-04-01T00:00:00",
          "2013-07-01T00:00:00",
          "2014-01-01T00:00:00",
          "2014-04-01T00:00:00",
          "2014-07-01T00:00:00",
          "2015-01-01T00:00:00",
          "2015-04-01T00:00:00",
          "2015-07-01T00:00:00",
          "2016-01-01T00:00:00",
          "2016-04-01T00:00:00",
          "2016-07-01T00:00:00",
          "2017-01-01T00:00:00",
          "2017-04-01T00:00:00",
          "2017-07-01T00:00:00"
         ],
         "y": [
          63.8452735179675,
          67.6579650738984,
          73.34860066026232,
          66.22041739182174,
          64.78264226700641,
          50.582588003610404,
          44.09040517827129,
          47.016216727341494,
          48.686802363755746,
          49.35405713410138,
          35.24764570454347,
          52.81240498631803,
          70.6445050855867,
          61.45230262046789,
          43.93335982184933,
          47.766558357982056,
          52.70432692307692,
          39.065687778290716,
          41.252773184971915,
          44.934056477275,
          23.371312840670186,
          44.53363225184407,
          41.23366332254664
         ]
        },
        {
         "legendgroup": "JLL Income Property Trust, Inc.SIC: 6798 - REAL ESTATE INVESTMENT TRUSTS",
         "line": {
          "color": "#AB63FA"
         },
         "mode": "lines+markers",
         "name": "JLL Income Property Trust, Inc.SIC: 6798 - REAL ESTATE INVESTMENT TRUSTS",
         "type": "scatter",
         "visible": false,
         "x": [
          "2011-07-01T00:00:00",
          "2012-01-01T00:00:00",
          "2012-04-01T00:00:00",
          "2012-07-01T00:00:00",
          "2013-01-01T00:00:00",
          "2013-04-01T00:00:00",
          "2013-07-01T00:00:00",
          "2014-01-01T00:00:00",
          "2014-04-01T00:00:00",
          "2014-07-01T00:00:00",
          "2015-01-01T00:00:00",
          "2015-04-01T00:00:00",
          "2015-07-01T00:00:00",
          "2016-01-01T00:00:00",
          "2016-04-01T00:00:00",
          "2016-07-01T00:00:00",
          "2017-01-01T00:00:00",
          "2017-04-01T00:00:00",
          "2017-07-01T00:00:00",
          "2018-01-01T00:00:00",
          "2018-04-01T00:00:00",
          "2018-07-01T00:00:00",
          "2019-01-01T00:00:00",
          "2019-04-01T00:00:00",
          "2019-07-01T00:00:00",
          "2020-01-01T00:00:00",
          "2020-04-01T00:00:00",
          "2021-01-01T00:00:00",
          "2021-04-01T00:00:00",
          "2022-01-01T00:00:00",
          "2022-04-01T00:00:00",
          "2023-04-01T00:00:00",
          "2023-04-01T00:00:00",
          "2023-07-01T00:00:00",
          "2023-07-01T00:00:00"
         ],
         "y": [
          369.435069699193,
          49.89783408255006,
          74.79663955194026,
          140.68956933034602,
          180.117122141662,
          121.136299501458,
          -471.984649122807,
          76.76475898176567,
          80.74417774605158,
          83.75132462027553,
          15.23847290817982,
          26.583402016103467,
          168.88006053726826,
          80.04565596884652,
          90.58697208303508,
          118.2870588235294,
          112.63193735103847,
          81.70169450931083,
          50.497827351421634,
          14.929768326688036,
          26.749308472492572,
          101.28651132261241,
          8.277189605389799,
          16.281715138558347,
          167.5827015851137,
          -362.10762331838566,
          -52.979185727355905,
          23.52731983641121,
          42.61301713239461,
          32.000286805169665,
          78.92440092446175,
          139.31672911615604,
          464.5999704229518,
          173.69629997516762,
          173.69629997516762
         ]
        },
        {
         "legendgroup": "JONES LANG LASALLE INCSIC: 6531 - REAL ESTATE AGENTS & MANAGERS (FOR OTHERS)",
         "line": {
          "color": "#FFA15A"
         },
         "mode": "lines+markers",
         "name": "JONES LANG LASALLE INCSIC: 6531 - REAL ESTATE AGENTS & MANAGERS (FOR OTHERS)",
         "type": "scatter",
         "visible": false,
         "x": [
          "2010-04-01T00:00:00",
          "2010-07-01T00:00:00",
          "2011-01-01T00:00:00",
          "2011-04-01T00:00:00",
          "2011-07-01T00:00:00",
          "2012-01-01T00:00:00",
          "2012-04-01T00:00:00",
          "2012-07-01T00:00:00",
          "2013-01-01T00:00:00",
          "2013-04-01T00:00:00",
          "2013-07-01T00:00:00",
          "2014-01-01T00:00:00",
          "2014-04-01T00:00:00",
          "2014-07-01T00:00:00",
          "2015-01-01T00:00:00",
          "2015-04-01T00:00:00",
          "2015-07-01T00:00:00"
         ],
         "y": [
          42.94189526626171,
          34.00833602953771,
          84.23780810324764,
          27.799423485064462,
          19.803354897100718,
          34.62004662004662,
          22.434399915597822,
          16.682795956498826,
          37.5871720669861,
          22.13989407498239,
          14.586115080387609,
          29.446736767380983,
          13.99984335839599,
          7.855686274509804,
          12.597012434281899,
          7.722567922426918,
          5.779897936543155
         ]
        },
        {
         "legendgroup": "NEWMARK GROUP, INC. ",
         "line": {
          "color": "#19D3F3"
         },
         "mode": "lines+markers",
         "name": "NEWMARK GROUP, INC. ",
         "type": "scatter",
         "visible": false,
         "x": [],
         "y": []
        },
        {
         "legendgroup": "PROLOGISSIC: 6798 - REAL ESTATE INVESTMENT TRUSTS",
         "line": {
          "color": "#FF6692"
         },
         "mode": "lines+markers",
         "name": "PROLOGISSIC: 6798 - REAL ESTATE INVESTMENT TRUSTS",
         "type": "scatter",
         "visible": false,
         "x": [
          "2009-04-01T00:00:00",
          "2009-07-01T00:00:00",
          "2010-01-01T00:00:00",
          "2010-04-01T00:00:00",
          "2010-04-01T00:00:00",
          "2010-07-01T00:00:00",
          "2010-07-01T00:00:00",
          "2011-01-01T00:00:00"
         ],
         "y": [
          -69.18743168969232,
          -167.07983180072534,
          436.0958007851223,
          116.42957146633509,
          116.42957146633509,
          107.78395338413267,
          107.78395338413267,
          179.99006260558482
         ]
        },
        {
         "legendgroup": "PS BUSINESS PARKS, INC./MDSIC: 6798 - REAL ESTATE INVESTMENT TRUSTS",
         "line": {
          "color": "#B6E880"
         },
         "mode": "lines+markers",
         "name": "PS BUSINESS PARKS, INC./MDSIC: 6798 - REAL ESTATE INVESTMENT TRUSTS",
         "type": "scatter",
         "visible": false,
         "x": [
          "2010-04-01T00:00:00",
          "2010-07-01T00:00:00",
          "2011-01-01T00:00:00",
          "2011-04-01T00:00:00",
          "2011-07-01T00:00:00",
          "2012-01-01T00:00:00",
          "2012-04-01T00:00:00",
          "2012-07-01T00:00:00",
          "2013-01-01T00:00:00",
          "2013-04-01T00:00:00",
          "2013-07-01T00:00:00"
         ],
         "y": [
          3.6679743606234054,
          3.845581893346816,
          4.296778300385473,
          4.603261293594445,
          4.794452304565291,
          20.533691687464003,
          19.57009172611878,
          18.803527132484746,
          16.98567250379475,
          14.235911443358251,
          14.26086339108208
         ]
        },
        {
         "legendgroup": "Prologis, Inc.SIC: 6798 - REAL ESTATE INVESTMENT TRUSTS",
         "line": {
          "color": "#FF97FF"
         },
         "mode": "lines+markers",
         "name": "Prologis, Inc.SIC: 6798 - REAL ESTATE INVESTMENT TRUSTS",
         "type": "scatter",
         "visible": false,
         "x": [
          "2011-07-01T00:00:00",
          "2012-01-01T00:00:00",
          "2012-04-01T00:00:00",
          "2012-07-01T00:00:00",
          "2013-01-01T00:00:00",
          "2013-04-01T00:00:00",
          "2013-07-01T00:00:00",
          "2014-01-01T00:00:00",
          "2014-04-01T00:00:00",
          "2014-07-01T00:00:00",
          "2015-01-01T00:00:00",
          "2015-04-01T00:00:00",
          "2015-07-01T00:00:00",
          "2016-01-01T00:00:00",
          "2016-04-01T00:00:00",
          "2016-07-01T00:00:00",
          "2017-01-01T00:00:00",
          "2017-04-01T00:00:00",
          "2017-07-01T00:00:00",
          "2018-01-01T00:00:00",
          "2018-04-01T00:00:00",
          "2018-07-01T00:00:00",
          "2019-01-01T00:00:00",
          "2019-04-01T00:00:00",
          "2019-07-01T00:00:00",
          "2020-01-01T00:00:00",
          "2020-04-01T00:00:00",
          "2020-07-01T00:00:00",
          "2021-01-01T00:00:00",
          "2021-04-01T00:00:00",
          "2021-07-01T00:00:00",
          "2022-01-01T00:00:00",
          "2022-04-01T00:00:00",
          "2022-07-01T00:00:00",
          "2023-01-01T00:00:00",
          "2023-04-01T00:00:00",
          "2023-04-01T00:00:00",
          "2023-07-01T00:00:00",
          "2023-07-01T00:00:00",
          "2024-01-01T00:00:00"
         ],
         "y": [
          153.41408099463288,
          38.521069434742195,
          54.87351885720765,
          115.82045757574359,
          28.76728430413873,
          41.95048379988112,
          101.77900203724427,
          92.63355140591828,
          65.31921099933777,
          40.52230803686561,
          16.543522352437343,
          21.97485222449426,
          27.137672962235637,
          27.814223072739914,
          24.417460051298296,
          21.382278766360933,
          26.242347241767774,
          23.84418441586846,
          10.850555264397919,
          11.394688668983632,
          12.725795245893504,
          14.875553713474202,
          14.791970722620297,
          14.017090612114814,
          12.475699946069557,
          13.347920839252154,
          14.887598347888284,
          18.60299284858005,
          16.250900535305544,
          12.616598748572997,
          9.070838405126105,
          5.273412580493543,
          6.591820453900935,
          7.091638426209885,
          22.644572235337993,
          10.968879361216418,
          10.968879361216418,
          19.49573588318904,
          19.49573588318904,
          24.815316385014793
         ]
        },
        {
         "legendgroup": "Public StorageSIC: 6798 - REAL ESTATE INVESTMENT TRUSTS",
         "line": {
          "color": "#FECB52"
         },
         "mode": "lines+markers",
         "name": "Public StorageSIC: 6798 - REAL ESTATE INVESTMENT TRUSTS",
         "type": "scatter",
         "visible": false,
         "x": [
          "2009-07-01T00:00:00",
          "2010-01-01T00:00:00",
          "2010-04-01T00:00:00",
          "2010-07-01T00:00:00",
          "2011-01-01T00:00:00",
          "2011-04-01T00:00:00",
          "2011-07-01T00:00:00",
          "2012-01-01T00:00:00",
          "2012-04-01T00:00:00",
          "2012-07-01T00:00:00",
          "2013-01-01T00:00:00",
          "2013-04-01T00:00:00",
          "2013-07-01T00:00:00",
          "2014-01-01T00:00:00",
          "2014-04-01T00:00:00",
          "2014-07-01T00:00:00",
          "2015-04-01T00:00:00",
          "2015-07-01T00:00:00",
          "2016-01-01T00:00:00",
          "2016-04-01T00:00:00",
          "2016-07-01T00:00:00",
          "2017-01-01T00:00:00",
          "2017-04-01T00:00:00",
          "2017-07-01T00:00:00",
          "2018-01-01T00:00:00",
          "2018-04-01T00:00:00",
          "2018-07-01T00:00:00",
          "2019-01-01T00:00:00",
          "2019-04-01T00:00:00",
          "2019-07-01T00:00:00",
          "2020-01-01T00:00:00",
          "2020-04-01T00:00:00",
          "2020-07-01T00:00:00",
          "2021-01-01T00:00:00",
          "2021-04-01T00:00:00",
          "2021-07-01T00:00:00",
          "2022-01-01T00:00:00",
          "2022-04-01T00:00:00",
          "2022-07-01T00:00:00",
          "2023-01-01T00:00:00",
          "2023-04-01T00:00:00",
          "2023-04-01T00:00:00",
          "2023-07-01T00:00:00",
          "2023-07-01T00:00:00",
          "2024-01-01T00:00:00"
         ],
         "y": [
          3.357793986287837,
          5.589489718202589,
          5.544807598931779,
          3.9830517406747683,
          3.277457623937079,
          3.0359438643003367,
          2.881200259906492,
          2.52573560747398,
          2.5099180494020215,
          2.117035430101604,
          1.6286326378539493,
          0.8708992707479563,
          0.20612474486337135,
          1.5086094782292045,
          1.0877734887837465,
          0.5754941648622545,
          0.9031673588831552,
          1.0079464410468018,
          0.22458494428019105,
          0.3096553472245898,
          0.3577115817898792,
          0.3051034964627791,
          0.3098919101599867,
          0.4909781882414576,
          2.309002460809333,
          2.16102838486874,
          2.064608905551846,
          2.1734140456515703,
          2.694544330452565,
          3.1343925514189968,
          3.586578439452626,
          3.917076370715742,
          4.2541569579941845,
          3.4018461428641538,
          4.228880012172053,
          4.832776220162389,
          6.054834234198005,
          5.354343854803389,
          1.9213742063521628,
          6.51867340545206,
          6.180572237335013,
          6.180572237335013,
          8.687586354757254,
          8.687586354757254,
          11.752201218602941
         ]
        },
        {
         "legendgroup": "VICI PROPERTIES INC.SIC: 6798 - REAL ESTATE INVESTMENT TRUSTS",
         "line": {
          "color": "#636EFA"
         },
         "mode": "lines+markers",
         "name": "VICI PROPERTIES INC.SIC: 6798 - REAL ESTATE INVESTMENT TRUSTS",
         "type": "scatter",
         "visible": false,
         "x": [
          "2018-01-01T00:00:00",
          "2018-04-01T00:00:00",
          "2018-07-01T00:00:00",
          "2019-01-01T00:00:00",
          "2019-04-01T00:00:00",
          "2019-07-01T00:00:00",
          "2020-01-01T00:00:00",
          "2020-04-01T00:00:00",
          "2020-07-01T00:00:00",
          "2021-01-01T00:00:00",
          "2021-04-01T00:00:00",
          "2021-07-01T00:00:00",
          "2022-01-01T00:00:00",
          "2022-04-01T00:00:00",
          "2022-07-01T00:00:00",
          "2023-01-01T00:00:00",
          "2023-04-01T00:00:00",
          "2023-04-01T00:00:00",
          "2023-07-01T00:00:00",
          "2023-07-01T00:00:00",
          "2024-01-01T00:00:00"
         ],
         "y": [
          31.665848195570675,
          29.344548216496005,
          28.322124226437385,
          26.21175434734757,
          26.356481717857637,
          29.380659975133028,
          146.10510550872678,
          42.81633516716039,
          19.813278008298756,
          22.213701062998595,
          21.56471862781221,
          34.61672198067496,
          22.08637873754153,
          52.42129773119728,
          52.54333563206011,
          28.26165122389711,
          22.76584039289005,
          22.76584039289005,
          26.91959078155049,
          26.91959078155049,
          25.774627688080734
         ]
        },
        {
         "legendgroup": "Ventas, Inc.SIC: 6798 - REAL ESTATE INVESTMENT TRUSTS",
         "line": {
          "color": "#EF553B"
         },
         "mode": "lines+markers",
         "name": "Ventas, Inc.SIC: 6798 - REAL ESTATE INVESTMENT TRUSTS",
         "type": "scatter",
         "visible": false,
         "x": [
          "2009-04-01T00:00:00",
          "2009-07-01T00:00:00",
          "2010-01-01T00:00:00",
          "2010-04-01T00:00:00",
          "2010-07-01T00:00:00",
          "2011-01-01T00:00:00",
          "2011-04-01T00:00:00",
          "2011-07-01T00:00:00"
         ],
         "y": [
          35.69996559782673,
          38.67177124115072,
          45.70827185587965,
          44.38755771713954,
          43.46314732295212,
          46.49013567542767,
          73.19638186573671,
          41.75474550076143
         ]
        },
        {
         "legendgroup": "WELLTOWER INC.SIC: 6798 - REAL ESTATE INVESTMENT TRUSTS",
         "line": {
          "color": "#00CC96"
         },
         "mode": "lines+markers",
         "name": "WELLTOWER INC.SIC: 6798 - REAL ESTATE INVESTMENT TRUSTS",
         "type": "scatter",
         "visible": false,
         "x": [],
         "y": []
        },
        {
         "legendgroup": "WEYERHAEUSER COSIC: 6798 - REAL ESTATE INVESTMENT TRUSTS",
         "line": {
          "color": "#AB63FA"
         },
         "mode": "lines+markers",
         "name": "WEYERHAEUSER COSIC: 6798 - REAL ESTATE INVESTMENT TRUSTS",
         "type": "scatter",
         "visible": false,
         "x": [
          "2010-07-01T00:00:00",
          "2011-01-01T00:00:00",
          "2011-04-01T00:00:00",
          "2011-07-01T00:00:00",
          "2012-01-01T00:00:00",
          "2012-04-01T00:00:00",
          "2012-07-01T00:00:00",
          "2013-01-01T00:00:00",
          "2013-04-01T00:00:00",
          "2013-07-01T00:00:00",
          "2014-04-01T00:00:00",
          "2014-07-01T00:00:00",
          "2015-01-01T00:00:00",
          "2015-04-01T00:00:00",
          "2015-07-01T00:00:00",
          "2016-01-01T00:00:00",
          "2016-04-01T00:00:00",
          "2016-07-01T00:00:00",
          "2017-01-01T00:00:00",
          "2017-04-01T00:00:00",
          "2017-07-01T00:00:00",
          "2018-01-01T00:00:00",
          "2018-04-01T00:00:00",
          "2018-07-01T00:00:00",
          "2019-01-01T00:00:00",
          "2019-07-01T00:00:00",
          "2020-01-01T00:00:00",
          "2020-04-01T00:00:00",
          "2020-07-01T00:00:00",
          "2021-01-01T00:00:00",
          "2021-04-01T00:00:00",
          "2021-07-01T00:00:00",
          "2022-01-01T00:00:00",
          "2022-04-01T00:00:00",
          "2022-07-01T00:00:00",
          "2023-01-01T00:00:00",
          "2023-04-01T00:00:00",
          "2023-04-01T00:00:00",
          "2023-07-01T00:00:00",
          "2023-07-01T00:00:00",
          "2024-01-01T00:00:00"
         ],
         "y": [
          22.755741127348642,
          48.4375,
          65.8307210031348,
          54.86486486486486,
          67.96875,
          58.053691275167786,
          46.25668449197861,
          36.283185840707965,
          45.40389972144847,
          33.2703213610586,
          25.499231950844855,
          9.395604395604396,
          45.108695652173914,
          41.10576923076923,
          34.44227005870842,
          54.49438202247191,
          45.633187772925766,
          36.39291465378422,
          38.671875,
          52.36842105263158,
          56.25,
          25.69060773480663,
          23.994811932555123,
          24.438573315719946,
          -58.79120879120879,
          44.49877750611247,
          36.170212765957444,
          45.853658536585364,
          37.609841827768015,
          10.394736842105264,
          8.413719185423366,
          9.418116376724655,
          8.540925266903914,
          8.077830188679245,
          10.731707317073171,
          30.4147465437788,
          23.333333333333332,
          23.333333333333332,
          23.15112540192926,
          23.15112540192926,
          37.01657458563536
         ]
        }
       ],
       "layout": {
        "autosize": true,
        "template": {
         "data": {
          "bar": [
           {
            "error_x": {
             "color": "#2a3f5f"
            },
            "error_y": {
             "color": "#2a3f5f"
            },
            "marker": {
             "line": {
              "color": "#E5ECF6",
              "width": 0.5
             },
             "pattern": {
              "fillmode": "overlay",
              "size": 10,
              "solidity": 0.2
             }
            },
            "type": "bar"
           }
          ],
          "barpolar": [
           {
            "marker": {
             "line": {
              "color": "#E5ECF6",
              "width": 0.5
             },
             "pattern": {
              "fillmode": "overlay",
              "size": 10,
              "solidity": 0.2
             }
            },
            "type": "barpolar"
           }
          ],
          "carpet": [
           {
            "aaxis": {
             "endlinecolor": "#2a3f5f",
             "gridcolor": "white",
             "linecolor": "white",
             "minorgridcolor": "white",
             "startlinecolor": "#2a3f5f"
            },
            "baxis": {
             "endlinecolor": "#2a3f5f",
             "gridcolor": "white",
             "linecolor": "white",
             "minorgridcolor": "white",
             "startlinecolor": "#2a3f5f"
            },
            "type": "carpet"
           }
          ],
          "choropleth": [
           {
            "colorbar": {
             "outlinewidth": 0,
             "ticks": ""
            },
            "type": "choropleth"
           }
          ],
          "contour": [
           {
            "colorbar": {
             "outlinewidth": 0,
             "ticks": ""
            },
            "colorscale": [
             [
              0,
              "#0d0887"
             ],
             [
              0.1111111111111111,
              "#46039f"
             ],
             [
              0.2222222222222222,
              "#7201a8"
             ],
             [
              0.3333333333333333,
              "#9c179e"
             ],
             [
              0.4444444444444444,
              "#bd3786"
             ],
             [
              0.5555555555555556,
              "#d8576b"
             ],
             [
              0.6666666666666666,
              "#ed7953"
             ],
             [
              0.7777777777777778,
              "#fb9f3a"
             ],
             [
              0.8888888888888888,
              "#fdca26"
             ],
             [
              1,
              "#f0f921"
             ]
            ],
            "type": "contour"
           }
          ],
          "contourcarpet": [
           {
            "colorbar": {
             "outlinewidth": 0,
             "ticks": ""
            },
            "type": "contourcarpet"
           }
          ],
          "heatmap": [
           {
            "colorbar": {
             "outlinewidth": 0,
             "ticks": ""
            },
            "colorscale": [
             [
              0,
              "#0d0887"
             ],
             [
              0.1111111111111111,
              "#46039f"
             ],
             [
              0.2222222222222222,
              "#7201a8"
             ],
             [
              0.3333333333333333,
              "#9c179e"
             ],
             [
              0.4444444444444444,
              "#bd3786"
             ],
             [
              0.5555555555555556,
              "#d8576b"
             ],
             [
              0.6666666666666666,
              "#ed7953"
             ],
             [
              0.7777777777777778,
              "#fb9f3a"
             ],
             [
              0.8888888888888888,
              "#fdca26"
             ],
             [
              1,
              "#f0f921"
             ]
            ],
            "type": "heatmap"
           }
          ],
          "heatmapgl": [
           {
            "colorbar": {
             "outlinewidth": 0,
             "ticks": ""
            },
            "colorscale": [
             [
              0,
              "#0d0887"
             ],
             [
              0.1111111111111111,
              "#46039f"
             ],
             [
              0.2222222222222222,
              "#7201a8"
             ],
             [
              0.3333333333333333,
              "#9c179e"
             ],
             [
              0.4444444444444444,
              "#bd3786"
             ],
             [
              0.5555555555555556,
              "#d8576b"
             ],
             [
              0.6666666666666666,
              "#ed7953"
             ],
             [
              0.7777777777777778,
              "#fb9f3a"
             ],
             [
              0.8888888888888888,
              "#fdca26"
             ],
             [
              1,
              "#f0f921"
             ]
            ],
            "type": "heatmapgl"
           }
          ],
          "histogram": [
           {
            "marker": {
             "pattern": {
              "fillmode": "overlay",
              "size": 10,
              "solidity": 0.2
             }
            },
            "type": "histogram"
           }
          ],
          "histogram2d": [
           {
            "colorbar": {
             "outlinewidth": 0,
             "ticks": ""
            },
            "colorscale": [
             [
              0,
              "#0d0887"
             ],
             [
              0.1111111111111111,
              "#46039f"
             ],
             [
              0.2222222222222222,
              "#7201a8"
             ],
             [
              0.3333333333333333,
              "#9c179e"
             ],
             [
              0.4444444444444444,
              "#bd3786"
             ],
             [
              0.5555555555555556,
              "#d8576b"
             ],
             [
              0.6666666666666666,
              "#ed7953"
             ],
             [
              0.7777777777777778,
              "#fb9f3a"
             ],
             [
              0.8888888888888888,
              "#fdca26"
             ],
             [
              1,
              "#f0f921"
             ]
            ],
            "type": "histogram2d"
           }
          ],
          "histogram2dcontour": [
           {
            "colorbar": {
             "outlinewidth": 0,
             "ticks": ""
            },
            "colorscale": [
             [
              0,
              "#0d0887"
             ],
             [
              0.1111111111111111,
              "#46039f"
             ],
             [
              0.2222222222222222,
              "#7201a8"
             ],
             [
              0.3333333333333333,
              "#9c179e"
             ],
             [
              0.4444444444444444,
              "#bd3786"
             ],
             [
              0.5555555555555556,
              "#d8576b"
             ],
             [
              0.6666666666666666,
              "#ed7953"
             ],
             [
              0.7777777777777778,
              "#fb9f3a"
             ],
             [
              0.8888888888888888,
              "#fdca26"
             ],
             [
              1,
              "#f0f921"
             ]
            ],
            "type": "histogram2dcontour"
           }
          ],
          "mesh3d": [
           {
            "colorbar": {
             "outlinewidth": 0,
             "ticks": ""
            },
            "type": "mesh3d"
           }
          ],
          "parcoords": [
           {
            "line": {
             "colorbar": {
              "outlinewidth": 0,
              "ticks": ""
             }
            },
            "type": "parcoords"
           }
          ],
          "pie": [
           {
            "automargin": true,
            "type": "pie"
           }
          ],
          "scatter": [
           {
            "fillpattern": {
             "fillmode": "overlay",
             "size": 10,
             "solidity": 0.2
            },
            "type": "scatter"
           }
          ],
          "scatter3d": [
           {
            "line": {
             "colorbar": {
              "outlinewidth": 0,
              "ticks": ""
             }
            },
            "marker": {
             "colorbar": {
              "outlinewidth": 0,
              "ticks": ""
             }
            },
            "type": "scatter3d"
           }
          ],
          "scattercarpet": [
           {
            "marker": {
             "colorbar": {
              "outlinewidth": 0,
              "ticks": ""
             }
            },
            "type": "scattercarpet"
           }
          ],
          "scattergeo": [
           {
            "marker": {
             "colorbar": {
              "outlinewidth": 0,
              "ticks": ""
             }
            },
            "type": "scattergeo"
           }
          ],
          "scattergl": [
           {
            "marker": {
             "colorbar": {
              "outlinewidth": 0,
              "ticks": ""
             }
            },
            "type": "scattergl"
           }
          ],
          "scattermapbox": [
           {
            "marker": {
             "colorbar": {
              "outlinewidth": 0,
              "ticks": ""
             }
            },
            "type": "scattermapbox"
           }
          ],
          "scatterpolar": [
           {
            "marker": {
             "colorbar": {
              "outlinewidth": 0,
              "ticks": ""
             }
            },
            "type": "scatterpolar"
           }
          ],
          "scatterpolargl": [
           {
            "marker": {
             "colorbar": {
              "outlinewidth": 0,
              "ticks": ""
             }
            },
            "type": "scatterpolargl"
           }
          ],
          "scatterternary": [
           {
            "marker": {
             "colorbar": {
              "outlinewidth": 0,
              "ticks": ""
             }
            },
            "type": "scatterternary"
           }
          ],
          "surface": [
           {
            "colorbar": {
             "outlinewidth": 0,
             "ticks": ""
            },
            "colorscale": [
             [
              0,
              "#0d0887"
             ],
             [
              0.1111111111111111,
              "#46039f"
             ],
             [
              0.2222222222222222,
              "#7201a8"
             ],
             [
              0.3333333333333333,
              "#9c179e"
             ],
             [
              0.4444444444444444,
              "#bd3786"
             ],
             [
              0.5555555555555556,
              "#d8576b"
             ],
             [
              0.6666666666666666,
              "#ed7953"
             ],
             [
              0.7777777777777778,
              "#fb9f3a"
             ],
             [
              0.8888888888888888,
              "#fdca26"
             ],
             [
              1,
              "#f0f921"
             ]
            ],
            "type": "surface"
           }
          ],
          "table": [
           {
            "cells": {
             "fill": {
              "color": "#EBF0F8"
             },
             "line": {
              "color": "white"
             }
            },
            "header": {
             "fill": {
              "color": "#C8D4E3"
             },
             "line": {
              "color": "white"
             }
            },
            "type": "table"
           }
          ]
         },
         "layout": {
          "annotationdefaults": {
           "arrowcolor": "#2a3f5f",
           "arrowhead": 0,
           "arrowwidth": 1
          },
          "autotypenumbers": "strict",
          "coloraxis": {
           "colorbar": {
            "outlinewidth": 0,
            "ticks": ""
           }
          },
          "colorscale": {
           "diverging": [
            [
             0,
             "#8e0152"
            ],
            [
             0.1,
             "#c51b7d"
            ],
            [
             0.2,
             "#de77ae"
            ],
            [
             0.3,
             "#f1b6da"
            ],
            [
             0.4,
             "#fde0ef"
            ],
            [
             0.5,
             "#f7f7f7"
            ],
            [
             0.6,
             "#e6f5d0"
            ],
            [
             0.7,
             "#b8e186"
            ],
            [
             0.8,
             "#7fbc41"
            ],
            [
             0.9,
             "#4d9221"
            ],
            [
             1,
             "#276419"
            ]
           ],
           "sequential": [
            [
             0,
             "#0d0887"
            ],
            [
             0.1111111111111111,
             "#46039f"
            ],
            [
             0.2222222222222222,
             "#7201a8"
            ],
            [
             0.3333333333333333,
             "#9c179e"
            ],
            [
             0.4444444444444444,
             "#bd3786"
            ],
            [
             0.5555555555555556,
             "#d8576b"
            ],
            [
             0.6666666666666666,
             "#ed7953"
            ],
            [
             0.7777777777777778,
             "#fb9f3a"
            ],
            [
             0.8888888888888888,
             "#fdca26"
            ],
            [
             1,
             "#f0f921"
            ]
           ],
           "sequentialminus": [
            [
             0,
             "#0d0887"
            ],
            [
             0.1111111111111111,
             "#46039f"
            ],
            [
             0.2222222222222222,
             "#7201a8"
            ],
            [
             0.3333333333333333,
             "#9c179e"
            ],
            [
             0.4444444444444444,
             "#bd3786"
            ],
            [
             0.5555555555555556,
             "#d8576b"
            ],
            [
             0.6666666666666666,
             "#ed7953"
            ],
            [
             0.7777777777777778,
             "#fb9f3a"
            ],
            [
             0.8888888888888888,
             "#fdca26"
            ],
            [
             1,
             "#f0f921"
            ]
           ]
          },
          "colorway": [
           "#636efa",
           "#EF553B",
           "#00cc96",
           "#ab63fa",
           "#FFA15A",
           "#19d3f3",
           "#FF6692",
           "#B6E880",
           "#FF97FF",
           "#FECB52"
          ],
          "font": {
           "color": "#2a3f5f"
          },
          "geo": {
           "bgcolor": "white",
           "lakecolor": "white",
           "landcolor": "#E5ECF6",
           "showlakes": true,
           "showland": true,
           "subunitcolor": "white"
          },
          "hoverlabel": {
           "align": "left"
          },
          "hovermode": "closest",
          "mapbox": {
           "style": "light"
          },
          "paper_bgcolor": "white",
          "plot_bgcolor": "#E5ECF6",
          "polar": {
           "angularaxis": {
            "gridcolor": "white",
            "linecolor": "white",
            "ticks": ""
           },
           "bgcolor": "#E5ECF6",
           "radialaxis": {
            "gridcolor": "white",
            "linecolor": "white",
            "ticks": ""
           }
          },
          "scene": {
           "xaxis": {
            "backgroundcolor": "#E5ECF6",
            "gridcolor": "white",
            "gridwidth": 2,
            "linecolor": "white",
            "showbackground": true,
            "ticks": "",
            "zerolinecolor": "white"
           },
           "yaxis": {
            "backgroundcolor": "#E5ECF6",
            "gridcolor": "white",
            "gridwidth": 2,
            "linecolor": "white",
            "showbackground": true,
            "ticks": "",
            "zerolinecolor": "white"
           },
           "zaxis": {
            "backgroundcolor": "#E5ECF6",
            "gridcolor": "white",
            "gridwidth": 2,
            "linecolor": "white",
            "showbackground": true,
            "ticks": "",
            "zerolinecolor": "white"
           }
          },
          "shapedefaults": {
           "line": {
            "color": "#2a3f5f"
           }
          },
          "ternary": {
           "aaxis": {
            "gridcolor": "white",
            "linecolor": "white",
            "ticks": ""
           },
           "baxis": {
            "gridcolor": "white",
            "linecolor": "white",
            "ticks": ""
           },
           "bgcolor": "#E5ECF6",
           "caxis": {
            "gridcolor": "white",
            "linecolor": "white",
            "ticks": ""
           }
          },
          "title": {
           "x": 0.05
          },
          "xaxis": {
           "automargin": true,
           "gridcolor": "white",
           "linecolor": "white",
           "ticks": "",
           "title": {
            "standoff": 15
           },
           "zerolinecolor": "white",
           "zerolinewidth": 2
          },
          "yaxis": {
           "automargin": true,
           "gridcolor": "white",
           "linecolor": "white",
           "ticks": "",
           "title": {
            "standoff": 15
           },
           "zerolinecolor": "white",
           "zerolinewidth": 2
          }
         }
        },
        "updatemenus": [
         {
          "buttons": [
           {
            "args": [
             {
              "visible": [
               true,
               true,
               true,
               true,
               true,
               true,
               true,
               true,
               true,
               true,
               true,
               true,
               true,
               true,
               true,
               true,
               true,
               true,
               true,
               true,
               true,
               true,
               true,
               true,
               false,
               false,
               false,
               false,
               false,
               false,
               false,
               false,
               false,
               false,
               false,
               false,
               false,
               false,
               false,
               false,
               false,
               false,
               false,
               false,
               false,
               false,
               false,
               false,
               false,
               false,
               false,
               false,
               false,
               false,
               false,
               false,
               false,
               false,
               false,
               false,
               false,
               false,
               false,
               false,
               false,
               false,
               false,
               false,
               false,
               false,
               false,
               false
              ]
             }
            ],
            "label": "facts.us-gaap.InterestExpense.units.USD",
            "method": "restyle"
           },
           {
            "args": [
             {
              "visible": [
               false,
               false,
               false,
               false,
               false,
               false,
               false,
               false,
               false,
               false,
               false,
               false,
               false,
               false,
               false,
               false,
               false,
               false,
               false,
               false,
               false,
               false,
               false,
               false,
               true,
               true,
               true,
               true,
               true,
               true,
               true,
               true,
               true,
               true,
               true,
               true,
               true,
               true,
               true,
               true,
               true,
               true,
               true,
               true,
               true,
               true,
               true,
               true,
               false,
               false,
               false,
               false,
               false,
               false,
               false,
               false,
               false,
               false,
               false,
               false,
               false,
               false,
               false,
               false,
               false,
               false,
               false,
               false,
               false,
               false,
               false,
               false
              ]
             }
            ],
            "label": "facts.us-gaap.NetIncomeLoss.units.USD",
            "method": "restyle"
           },
           {
            "args": [
             {
              "visible": [
               false,
               false,
               false,
               false,
               false,
               false,
               false,
               false,
               false,
               false,
               false,
               false,
               false,
               false,
               false,
               false,
               false,
               false,
               false,
               false,
               false,
               false,
               false,
               false,
               false,
               false,
               false,
               false,
               false,
               false,
               false,
               false,
               false,
               false,
               false,
               false,
               false,
               false,
               false,
               false,
               false,
               false,
               false,
               false,
               false,
               false,
               false,
               false,
               true,
               true,
               true,
               true,
               true,
               true,
               true,
               true,
               true,
               true,
               true,
               true,
               true,
               true,
               true,
               true,
               true,
               true,
               true,
               true,
               true,
               true,
               true,
               true
              ]
             }
            ],
            "label": "interest_fraction",
            "method": "restyle"
           }
          ],
          "direction": "down",
          "pad": {
           "r": 10,
           "t": 10
          },
          "showactive": true,
          "x": 0,
          "xanchor": "left",
          "y": 1.1,
          "yanchor": "top"
         }
        ]
       }
      },
      "text/html": [
       "<div>                            <div id=\"cf0316e2-0a2d-45ff-95c7-79843392538b\" class=\"plotly-graph-div\" style=\"height:525px; width:100%;\"></div>            <script type=\"text/javascript\">                require([\"plotly\"], function(Plotly) {                    window.PLOTLYENV=window.PLOTLYENV || {};                                    if (document.getElementById(\"cf0316e2-0a2d-45ff-95c7-79843392538b\")) {                    Plotly.newPlot(                        \"cf0316e2-0a2d-45ff-95c7-79843392538b\",                        [{\"legendgroup\":\"ALEXANDRIA REAL ESTATE EQUITIES, INC.SIC: 6798 - REAL ESTATE INVESTMENT TRUSTS\",\"line\":{\"color\":\"#636EFA\"},\"mode\":\"lines+markers\",\"name\":\"ALEXANDRIA REAL ESTATE EQUITIES, INC.SIC: 6798 - REAL ESTATE INVESTMENT TRUSTS\",\"visible\":true,\"x\":[\"2010-04-01T00:00:00\",\"2010-07-01T00:00:00\",\"2011-01-01T00:00:00\",\"2011-07-01T00:00:00\",\"2012-01-01T00:00:00\",\"2012-04-01T00:00:00\",\"2012-07-01T00:00:00\",\"2013-01-01T00:00:00\",\"2013-04-01T00:00:00\",\"2013-07-01T00:00:00\",\"2014-01-01T00:00:00\",\"2014-04-01T00:00:00\",\"2014-07-01T00:00:00\",\"2015-01-01T00:00:00\",\"2015-04-01T00:00:00\",\"2015-07-01T00:00:00\",\"2016-01-01T00:00:00\",\"2016-04-01T00:00:00\",\"2016-07-01T00:00:00\",\"2017-01-01T00:00:00\",\"2017-04-01T00:00:00\",\"2017-07-01T00:00:00\",\"2018-01-01T00:00:00\",\"2018-04-01T00:00:00\",\"2018-04-01T00:00:00\",\"2018-07-01T00:00:00\",\"2019-01-01T00:00:00\",\"2019-07-01T00:00:00\",\"2020-01-01T00:00:00\",\"2020-04-01T00:00:00\",\"2020-07-01T00:00:00\",\"2021-01-01T00:00:00\",\"2021-04-01T00:00:00\",\"2021-07-01T00:00:00\",\"2022-01-01T00:00:00\",\"2022-04-01T00:00:00\",\"2022-07-01T00:00:00\",\"2023-01-01T00:00:00\",\"2023-04-01T00:00:00\",\"2023-04-01T00:00:00\",\"2023-07-01T00:00:00\",\"2023-07-01T00:00:00\",\"2024-01-01T00:00:00\"],\"y\":[36340000.0,52451000.0,17842000.0,48650000.0,16227000.0,34149000.0,35016000.0,18020000.0,33998000.0,16171000.0,19123000.0,17433000.0,57111000.0,23236000.0,49904000.0,54347000.0,24855000.0,49880000.0,50875000.0,29784000.0,61532000.0,62779000.0,36915000.0,38097000.0,38097000.0,79159000.0,39100000.0,128182000.0,45739000.0,90753000.0,88332000.0,36467000.0,71625000.0,70836000.0,29440000.0,53697000.0,47241000.0,13754000.0,17072000.0,17072000.0,11411000.0,11411000.0,40840000.0],\"type\":\"scatter\"},{\"legendgroup\":\"AMERICAN TOWER CORP \\u002fMA\\u002fSIC: 6798 - REAL ESTATE INVESTMENT TRUSTS\",\"line\":{\"color\":\"#EF553B\"},\"mode\":\"lines+markers\",\"name\":\"AMERICAN TOWER CORP \\u002fMA\\u002fSIC: 6798 - REAL ESTATE INVESTMENT TRUSTS\",\"visible\":true,\"x\":[\"2009-04-01T00:00:00\",\"2009-07-01T00:00:00\",\"2010-01-01T00:00:00\",\"2010-04-01T00:00:00\",\"2010-07-01T00:00:00\",\"2011-01-01T00:00:00\",\"2011-04-01T00:00:00\",\"2011-07-01T00:00:00\",\"2012-01-01T00:00:00\",\"2012-04-01T00:00:00\",\"2012-07-01T00:00:00\",\"2013-01-01T00:00:00\",\"2013-04-01T00:00:00\",\"2013-07-01T00:00:00\",\"2014-01-01T00:00:00\",\"2014-04-01T00:00:00\",\"2014-07-01T00:00:00\",\"2015-01-01T00:00:00\",\"2015-01-01T00:00:00\",\"2015-04-01T00:00:00\",\"2015-04-01T00:00:00\",\"2015-07-01T00:00:00\",\"2015-07-01T00:00:00\",\"2017-01-01T00:00:00\",\"2017-01-01T00:00:00\",\"2017-04-01T00:00:00\",\"2017-04-01T00:00:00\",\"2017-07-01T00:00:00\",\"2017-07-01T00:00:00\",\"2019-04-01T00:00:00\",\"2019-07-01T00:00:00\",\"2020-01-01T00:00:00\",\"2020-04-01T00:00:00\",\"2020-07-01T00:00:00\",\"2021-01-01T00:00:00\",\"2021-04-01T00:00:00\",\"2021-07-01T00:00:00\",\"2022-01-01T00:00:00\",\"2022-04-01T00:00:00\",\"2022-07-01T00:00:00\",\"2023-01-01T00:00:00\",\"2023-04-01T00:00:00\",\"2023-04-01T00:00:00\",\"2023-07-01T00:00:00\",\"2023-07-01T00:00:00\",\"2024-01-01T00:00:00\"],\"y\":[124222000.0,188345000.0,58417000.0,114491000.0,118978000.0,74427000.0,148939000.0,152308000.0,95117000.0,195350000.0,202505000.0,111766000.0,212581000.0,207150000.0,143307000.0,289541000.0,289446000.0,147934000.0,147934000.0,148507000.0,148507000.0,149787000.0,149787000.0,183695000.0,183695000.0,187028000.0,187028000.0,188784000.0,188784000.0,412000000.0,613300000.0,208800000.0,406500000.0,388600000.0,207000000.0,420700000.0,439800000.0,262400000.0,276600000.0,294000000.0,340200000.0,348100000.0,348100000.0,359200000.0,359200000.0,366700000.0],\"type\":\"scatter\"},{\"legendgroup\":\"ANNALY CAPITAL MANAGEMENT INC \",\"line\":{\"color\":\"#00CC96\"},\"mode\":\"lines+markers\",\"name\":\"ANNALY CAPITAL MANAGEMENT INC \",\"visible\":true,\"x\":[\"2009-04-01T00:00:00\",\"2009-07-01T00:00:00\",\"2010-01-01T00:00:00\",\"2010-04-01T00:00:00\",\"2010-07-01T00:00:00\",\"2011-01-01T00:00:00\",\"2011-04-01T00:00:00\",\"2011-07-01T00:00:00\",\"2012-01-01T00:00:00\",\"2012-04-01T00:00:00\",\"2012-07-01T00:00:00\",\"2013-01-01T00:00:00\",\"2013-04-01T00:00:00\",\"2013-07-01T00:00:00\",\"2014-01-01T00:00:00\",\"2014-04-01T00:00:00\",\"2014-07-01T00:00:00\",\"2015-01-01T00:00:00\",\"2015-04-01T00:00:00\",\"2015-07-01T00:00:00\",\"2016-01-01T00:00:00\",\"2016-04-01T00:00:00\",\"2016-07-01T00:00:00\",\"2017-01-01T00:00:00\",\"2017-04-01T00:00:00\",\"2017-07-01T00:00:00\",\"2018-01-01T00:00:00\",\"2018-04-01T00:00:00\",\"2018-07-01T00:00:00\",\"2019-01-01T00:00:00\",\"2019-04-01T00:00:00\",\"2019-07-01T00:00:00\",\"2020-01-01T00:00:00\",\"2020-04-01T00:00:00\",\"2020-07-01T00:00:00\",\"2021-01-01T00:00:00\",\"2021-04-01T00:00:00\",\"2021-07-01T00:00:00\",\"2022-01-01T00:00:00\",\"2022-04-01T00:00:00\",\"2022-07-01T00:00:00\",\"2023-01-01T00:00:00\",\"2023-04-01T00:00:00\",\"2023-04-01T00:00:00\",\"2023-07-01T00:00:00\",\"2023-07-01T00:00:00\",\"2024-01-01T00:00:00\"],\"y\":[701221000.0,1008998000.0,276509000.0,556751000.0,582810000.0,321604000.0,228776000.0,28589000.0,133345000.0,299788000.0,348336000.0,177590000.0,341845000.0,309731000.0,124971000.0,251078000.0,253176000.0,129420000.0,242492000.0,223369000.0,147447000.0,300202000.0,326909000.0,198425000.0,420706000.0,491218000.0,367421000.0,810113000.0,943665000.0,647695000.0,1397912000.0,1517122000.0,503473000.0,689505000.0,301158000.0,75973000.0,137020000.0,111485000.0,74922000.0,245397000.0,570966000.0,798787000.0,953457000.0,953457000.0,1046819000.0,1046819000.0,1100939000.0],\"type\":\"scatter\"},{\"legendgroup\":\"AVALONBAY COMMUNITIES INC \",\"line\":{\"color\":\"#AB63FA\"},\"mode\":\"lines+markers\",\"name\":\"AVALONBAY COMMUNITIES INC \",\"visible\":true,\"x\":[\"2013-07-01T00:00:00\",\"2014-01-01T00:00:00\",\"2014-04-01T00:00:00\",\"2014-07-01T00:00:00\",\"2015-01-01T00:00:00\",\"2015-04-01T00:00:00\",\"2015-07-01T00:00:00\",\"2016-01-01T00:00:00\",\"2016-04-01T00:00:00\",\"2016-07-01T00:00:00\",\"2017-01-01T00:00:00\",\"2017-04-01T00:00:00\",\"2017-07-01T00:00:00\",\"2018-01-01T00:00:00\",\"2018-04-01T00:00:00\",\"2018-07-01T00:00:00\",\"2019-01-01T00:00:00\",\"2019-04-01T00:00:00\",\"2019-07-01T00:00:00\",\"2020-01-01T00:00:00\",\"2020-04-01T00:00:00\",\"2020-07-01T00:00:00\",\"2021-01-01T00:00:00\",\"2021-04-01T00:00:00\",\"2021-07-01T00:00:00\",\"2022-01-01T00:00:00\",\"2022-04-01T00:00:00\",\"2022-07-01T00:00:00\",\"2023-01-01T00:00:00\",\"2023-04-01T00:00:00\",\"2023-04-01T00:00:00\",\"2023-07-01T00:00:00\",\"2023-07-01T00:00:00\",\"2024-01-01T00:00:00\"],\"y\":[127772000.0,42533000.0,86255000.0,90098000.0,45573000.0,90164000.0,87825000.0,43410000.0,89991000.0,94452000.0,49295000.0,99397000.0,97843000.0,55113000.0,111698000.0,110682000.0,47892000.0,97902000.0,101503000.0,55914000.0,109313000.0,106648000.0,52613000.0,108717000.0,112091000.0,56526000.0,115323000.0,116087000.0,56821000.0,51585000.0,51585000.0,48115000.0,48115000.0,54766000.0],\"type\":\"scatter\"},{\"legendgroup\":\"BOSTON PROPERTIES INCSIC: 6798 - REAL ESTATE INVESTMENT TRUSTS\",\"line\":{\"color\":\"#FFA15A\"},\"mode\":\"lines+markers\",\"name\":\"BOSTON PROPERTIES INCSIC: 6798 - REAL ESTATE INVESTMENT TRUSTS\",\"visible\":true,\"x\":[\"2009-04-01T00:00:00\",\"2009-07-01T00:00:00\",\"2010-01-01T00:00:00\",\"2010-04-01T00:00:00\",\"2010-07-01T00:00:00\",\"2011-01-01T00:00:00\",\"2011-04-01T00:00:00\",\"2011-07-01T00:00:00\",\"2012-01-01T00:00:00\",\"2012-04-01T00:00:00\",\"2012-07-01T00:00:00\",\"2013-01-01T00:00:00\",\"2013-04-01T00:00:00\",\"2014-01-01T00:00:00\",\"2014-04-01T00:00:00\",\"2014-07-01T00:00:00\",\"2015-01-01T00:00:00\",\"2015-04-01T00:00:00\",\"2015-07-01T00:00:00\",\"2016-01-01T00:00:00\",\"2016-04-01T00:00:00\",\"2016-07-01T00:00:00\",\"2017-01-01T00:00:00\",\"2017-04-01T00:00:00\",\"2017-07-01T00:00:00\",\"2018-01-01T00:00:00\",\"2018-04-01T00:00:00\",\"2018-07-01T00:00:00\",\"2019-01-01T00:00:00\",\"2019-04-01T00:00:00\",\"2019-07-01T00:00:00\",\"2020-01-01T00:00:00\",\"2020-04-01T00:00:00\",\"2020-07-01T00:00:00\",\"2021-01-01T00:00:00\",\"2021-04-01T00:00:00\",\"2021-07-01T00:00:00\",\"2022-01-01T00:00:00\",\"2022-04-01T00:00:00\",\"2022-07-01T00:00:00\",\"2023-01-01T00:00:00\",\"2023-04-01T00:00:00\",\"2023-04-01T00:00:00\",\"2023-07-01T00:00:00\",\"2023-07-01T00:00:00\"],\"y\":[157563000.0,234653000.0,92029000.0,188784000.0,193858000.0,99151000.0,194387000.0,191013000.0,103237000.0,203138000.0,204931000.0,100433000.0,203573000.0,113554000.0,224531000.0,224285000.0,108757000.0,217291000.0,217261000.0,105309000.0,210312000.0,209644000.0,95534000.0,190677000.0,187175000.0,90220000.0,182424000.0,187570000.0,101009000.0,203366000.0,208828000.0,101591000.0,208733000.0,218135000.0,107902000.0,214221000.0,212113000.0,101228000.0,205370000.0,215988000.0,134207000.0,142473000.0,142473000.0,147812000.0,147812000.0],\"type\":\"scatter\"},{\"legendgroup\":\"BOSTON PROPERTIES LTD PARTNERSHIPSIC: 6798 - REAL ESTATE INVESTMENT TRUSTS\",\"line\":{\"color\":\"#19D3F3\"},\"mode\":\"lines+markers\",\"name\":\"BOSTON PROPERTIES LTD PARTNERSHIPSIC: 6798 - REAL ESTATE INVESTMENT TRUSTS\",\"visible\":true,\"x\":[\"2009-04-01T00:00:00\",\"2009-07-01T00:00:00\",\"2010-01-01T00:00:00\",\"2010-04-01T00:00:00\",\"2010-07-01T00:00:00\",\"2011-01-01T00:00:00\",\"2011-04-01T00:00:00\",\"2011-07-01T00:00:00\",\"2012-01-01T00:00:00\",\"2012-04-01T00:00:00\",\"2012-07-01T00:00:00\",\"2013-01-01T00:00:00\",\"2013-04-01T00:00:00\",\"2013-07-01T00:00:00\",\"2014-01-01T00:00:00\",\"2014-04-01T00:00:00\",\"2014-07-01T00:00:00\",\"2015-01-01T00:00:00\",\"2015-04-01T00:00:00\",\"2015-04-01T00:00:00\",\"2015-07-01T00:00:00\",\"2015-07-01T00:00:00\"],\"y\":[157563000.0,234653000.0,92029000.0,188784000.0,193858000.0,99151000.0,194387000.0,191013000.0,103237000.0,203138000.0,204931000.0,100433000.0,203573000.0,225313000.0,113554000.0,224531000.0,224285000.0,108757000.0,108534000.0,108534000.0,108727000.0,108727000.0],\"type\":\"scatter\"},{\"legendgroup\":\"CBRE GROUP, INC. \",\"line\":{\"color\":\"#FF6692\"},\"mode\":\"lines+markers\",\"name\":\"CBRE GROUP, INC. \",\"visible\":true,\"x\":[\"2010-04-01T00:00:00\",\"2010-07-01T00:00:00\",\"2011-01-01T00:00:00\",\"2011-04-01T00:00:00\",\"2011-07-01T00:00:00\",\"2012-01-01T00:00:00\",\"2012-04-01T00:00:00\",\"2012-07-01T00:00:00\",\"2013-01-01T00:00:00\",\"2013-04-01T00:00:00\",\"2013-07-01T00:00:00\",\"2014-01-01T00:00:00\",\"2014-04-01T00:00:00\",\"2014-07-01T00:00:00\",\"2015-01-01T00:00:00\",\"2015-04-01T00:00:00\",\"2015-07-01T00:00:00\",\"2016-01-01T00:00:00\",\"2016-04-01T00:00:00\",\"2016-07-01T00:00:00\",\"2017-01-01T00:00:00\",\"2017-04-01T00:00:00\",\"2017-07-01T00:00:00\",\"2018-01-01T00:00:00\",\"2018-04-01T00:00:00\",\"2018-04-01T00:00:00\",\"2018-07-01T00:00:00\",\"2018-07-01T00:00:00\",\"2019-01-01T00:00:00\",\"2019-01-01T00:00:00\"],\"y\":[100067000.0,149822000.0,33718000.0,67934000.0,73296000.0,43981000.0,88392000.0,88062000.0,42395000.0,79927000.0,65315000.0,28015000.0,56485000.0,56311000.0,26214000.0,52368000.0,56853000.0,34790000.0,71777000.0,74260000.0,34010000.0,69440000.0,69913000.0,28858000.0,26885000.0,26885000.0,26651000.0,26651000.0,22726000.0,22726000.0],\"type\":\"scatter\"},{\"legendgroup\":\"CROWN CASTLE INC. \",\"line\":{\"color\":\"#B6E880\"},\"mode\":\"lines+markers\",\"name\":\"CROWN CASTLE INC. \",\"visible\":true,\"x\":[\"2009-07-01T00:00:00\",\"2009-07-01T00:00:00\",\"2013-07-01T00:00:00\",\"2014-01-01T00:00:00\",\"2014-01-01T00:00:00\",\"2014-04-01T00:00:00\",\"2014-04-01T00:00:00\",\"2014-07-01T00:00:00\",\"2014-07-01T00:00:00\"],\"y\":[111169000.0,327006000.0,48726000.0,16182000.0,16182000.0,16162000.0,16162000.0,15551000.0,15551000.0],\"type\":\"scatter\"},{\"legendgroup\":\"Cushman & Wakefield plc \",\"line\":{\"color\":\"#FF97FF\"},\"mode\":\"lines+markers\",\"name\":\"Cushman & Wakefield plc \",\"visible\":true,\"x\":[\"2018-04-01T00:00:00\",\"2018-07-01T00:00:00\",\"2019-01-01T00:00:00\",\"2019-04-01T00:00:00\",\"2019-07-01T00:00:00\",\"2020-01-01T00:00:00\",\"2020-04-01T00:00:00\",\"2020-07-01T00:00:00\",\"2021-01-01T00:00:00\",\"2021-04-01T00:00:00\",\"2021-07-01T00:00:00\",\"2022-01-01T00:00:00\",\"2022-04-01T00:00:00\",\"2022-07-01T00:00:00\",\"2023-01-01T00:00:00\",\"2023-04-01T00:00:00\",\"2023-04-01T00:00:00\",\"2023-07-01T00:00:00\",\"2023-07-01T00:00:00\",\"2024-01-01T00:00:00\"],\"y\":[96400000.0,189100000.0,37200000.0,75400000.0,75600000.0,36500000.0,75300000.0,83700000.0,42400000.0,86200000.0,89600000.0,43200000.0,89300000.0,96500000.0,76800000.0,57900000.0,57900000.0,89500000.0,89500000.0,58700000.0],\"type\":\"scatter\"},{\"legendgroup\":\"DIGITAL REALTY TRUST, INC.SIC: 6798 - REAL ESTATE INVESTMENT TRUSTS\",\"line\":{\"color\":\"#FECB52\"},\"mode\":\"lines+markers\",\"name\":\"DIGITAL REALTY TRUST, INC.SIC: 6798 - REAL ESTATE INVESTMENT TRUSTS\",\"visible\":true,\"x\":[\"2011-04-01T00:00:00\",\"2011-07-01T00:00:00\",\"2012-01-01T00:00:00\",\"2012-04-01T00:00:00\",\"2012-07-01T00:00:00\",\"2013-01-01T00:00:00\",\"2013-04-01T00:00:00\",\"2013-07-01T00:00:00\",\"2014-01-01T00:00:00\",\"2014-04-01T00:00:00\",\"2014-07-01T00:00:00\",\"2015-01-01T00:00:00\",\"2015-04-01T00:00:00\",\"2015-07-01T00:00:00\",\"2016-01-01T00:00:00\",\"2016-04-01T00:00:00\",\"2016-07-01T00:00:00\",\"2017-01-01T00:00:00\",\"2017-04-01T00:00:00\",\"2017-07-01T00:00:00\",\"2018-01-01T00:00:00\",\"2018-04-01T00:00:00\",\"2018-07-01T00:00:00\",\"2019-01-01T00:00:00\",\"2019-04-01T00:00:00\",\"2019-07-01T00:00:00\",\"2020-01-01T00:00:00\",\"2020-04-01T00:00:00\",\"2020-07-01T00:00:00\",\"2021-01-01T00:00:00\",\"2021-04-01T00:00:00\",\"2021-07-01T00:00:00\",\"2022-01-01T00:00:00\",\"2022-04-01T00:00:00\",\"2022-07-01T00:00:00\",\"2023-01-01T00:00:00\",\"2023-04-01T00:00:00\",\"2023-04-01T00:00:00\",\"2023-07-01T00:00:00\",\"2023-07-01T00:00:00\",\"2024-01-01T00:00:00\"],\"y\":[75416000.0,112494000.0,38030000.0,75711000.0,78728000.0,48078000.0,95661000.0,95325000.0,47374000.0,96520000.0,97315000.0,45466000.0,91580000.0,94252000.0,57261000.0,117170000.0,122993000.0,55450000.0,113032000.0,129203000.0,76985000.0,155795000.0,159661000.0,101552000.0,187603000.0,170625000.0,85800000.0,165674000.0,169373000.0,75653000.0,150667000.0,146431000.0,66725000.0,135748000.0,145525000.0,102220000.0,111116000.0,111116000.0,110767000.0,110767000.0,109535000.0],\"type\":\"scatter\"},{\"legendgroup\":\"EQUINIX INCSIC: 6798 - REAL ESTATE INVESTMENT TRUSTS\",\"line\":{\"color\":\"#636EFA\"},\"mode\":\"lines+markers\",\"name\":\"EQUINIX INCSIC: 6798 - REAL ESTATE INVESTMENT TRUSTS\",\"visible\":true,\"x\":[\"2010-04-01T00:00:00\",\"2010-07-01T00:00:00\",\"2011-01-01T00:00:00\",\"2011-04-01T00:00:00\",\"2011-07-01T00:00:00\",\"2012-01-01T00:00:00\",\"2012-04-01T00:00:00\",\"2012-07-01T00:00:00\",\"2013-01-01T00:00:00\",\"2013-04-01T00:00:00\",\"2013-07-01T00:00:00\",\"2014-01-01T00:00:00\",\"2014-04-01T00:00:00\",\"2014-07-01T00:00:00\",\"2015-01-01T00:00:00\",\"2015-04-01T00:00:00\",\"2015-07-01T00:00:00\",\"2016-01-01T00:00:00\",\"2016-04-01T00:00:00\",\"2016-07-01T00:00:00\",\"2017-01-01T00:00:00\",\"2017-04-01T00:00:00\",\"2017-07-01T00:00:00\",\"2018-01-01T00:00:00\",\"2018-04-01T00:00:00\",\"2018-07-01T00:00:00\",\"2019-01-01T00:00:00\",\"2019-04-01T00:00:00\",\"2019-07-01T00:00:00\",\"2020-01-01T00:00:00\",\"2020-04-01T00:00:00\",\"2020-07-01T00:00:00\",\"2021-01-01T00:00:00\",\"2021-04-01T00:00:00\",\"2021-07-01T00:00:00\",\"2022-01-01T00:00:00\",\"2022-04-01T00:00:00\",\"2022-07-01T00:00:00\",\"2023-01-01T00:00:00\",\"2023-04-01T00:00:00\",\"2023-04-01T00:00:00\",\"2023-07-01T00:00:00\",\"2023-07-01T00:00:00\"],\"y\":[63290000.0,101653000.0,37361000.0,75038000.0,88791000.0,52818000.0,99605000.0,96994000.0,60331000.0,121332000.0,122958000.0,68820000.0,135694000.0,130630000.0,68791000.0,143287000.0,150765000.0,100863000.0,201195000.0,192532000.0,111684000.0,230726000.0,240870000.0,126277000.0,260950000.0,265239000.0,122846000.0,243393000.0,239221000.0,107338000.0,215818000.0,208216000.0,89681000.0,176912000.0,166174000.0,79965000.0,170791000.0,182172000.0,97481000.0,99973000.0,99973000.0,101385000.0,101385000.0],\"type\":\"scatter\"},{\"legendgroup\":\"EQUITY RESIDENTIALSIC: 6798 - REAL ESTATE INVESTMENT TRUSTS\",\"line\":{\"color\":\"#EF553B\"},\"mode\":\"lines+markers\",\"name\":\"EQUITY RESIDENTIALSIC: 6798 - REAL ESTATE INVESTMENT TRUSTS\",\"visible\":true,\"x\":[\"2013-04-01T00:00:00\",\"2013-07-01T00:00:00\",\"2014-04-01T00:00:00\",\"2014-07-01T00:00:00\"],\"y\":[700000.0,700000.0,1300000.0,1300000.0],\"type\":\"scatter\"},{\"legendgroup\":\"ESSEX PROPERTY TRUST, INC. \",\"line\":{\"color\":\"#00CC96\"},\"mode\":\"lines+markers\",\"name\":\"ESSEX PROPERTY TRUST, INC. \",\"visible\":true,\"x\":[\"2010-04-01T00:00:00\",\"2010-07-01T00:00:00\",\"2011-01-01T00:00:00\",\"2011-04-01T00:00:00\",\"2011-07-01T00:00:00\",\"2012-01-01T00:00:00\",\"2012-04-01T00:00:00\",\"2012-07-01T00:00:00\",\"2013-01-01T00:00:00\",\"2013-04-01T00:00:00\",\"2013-07-01T00:00:00\",\"2014-01-01T00:00:00\",\"2014-04-01T00:00:00\",\"2014-07-01T00:00:00\",\"2015-01-01T00:00:00\",\"2015-04-01T00:00:00\",\"2015-07-01T00:00:00\",\"2016-01-01T00:00:00\",\"2016-04-01T00:00:00\",\"2016-07-01T00:00:00\",\"2017-01-01T00:00:00\",\"2017-04-01T00:00:00\",\"2017-07-01T00:00:00\",\"2018-01-01T00:00:00\",\"2018-04-01T00:00:00\",\"2018-07-01T00:00:00\",\"2019-01-01T00:00:00\",\"2019-04-01T00:00:00\",\"2019-07-01T00:00:00\",\"2020-01-01T00:00:00\",\"2020-04-01T00:00:00\",\"2020-07-01T00:00:00\",\"2021-01-01T00:00:00\",\"2021-04-01T00:00:00\",\"2021-07-01T00:00:00\",\"2022-01-01T00:00:00\",\"2022-04-01T00:00:00\",\"2022-07-01T00:00:00\",\"2023-01-01T00:00:00\",\"2023-04-01T00:00:00\",\"2023-04-01T00:00:00\",\"2023-07-01T00:00:00\",\"2023-07-01T00:00:00\",\"2024-01-01T00:00:00\"],\"y\":[41841000.0,64043000.0,24662000.0,44518000.0,41950000.0,24658000.0,49316000.0,49722000.0,25211000.0,51536000.0,52513000.0,26055000.0,71192000.0,90966000.0,47546000.0,98348000.0,100855000.0,52466000.0,108034000.0,112261000.0,54583000.0,56812000.0,55938000.0,54861000.0,111139000.0,111474000.0,53643000.0,107755000.0,109008000.0,55147000.0,109594000.0,109877000.0,51649000.0,102620000.0,100990000.0,50377000.0,100854000.0,102122000.0,51045000.0,52600000.0,52600000.0,54161000.0,54161000.0,55933000.0],\"type\":\"scatter\"},{\"legendgroup\":\"JLL Income Property Trust, Inc.SIC: 6798 - REAL ESTATE INVESTMENT TRUSTS\",\"line\":{\"color\":\"#AB63FA\"},\"mode\":\"lines+markers\",\"name\":\"JLL Income Property Trust, Inc.SIC: 6798 - REAL ESTATE INVESTMENT TRUSTS\",\"visible\":true,\"x\":[\"2011-04-01T00:00:00\",\"2011-07-01T00:00:00\",\"2012-01-01T00:00:00\",\"2012-04-01T00:00:00\",\"2012-07-01T00:00:00\",\"2013-01-01T00:00:00\",\"2013-04-01T00:00:00\",\"2013-07-01T00:00:00\",\"2014-01-01T00:00:00\",\"2014-04-01T00:00:00\",\"2014-07-01T00:00:00\",\"2015-01-01T00:00:00\",\"2015-04-01T00:00:00\",\"2015-07-01T00:00:00\",\"2016-01-01T00:00:00\",\"2016-04-01T00:00:00\",\"2016-07-01T00:00:00\",\"2017-01-01T00:00:00\",\"2017-04-01T00:00:00\",\"2017-07-01T00:00:00\",\"2018-01-01T00:00:00\",\"2018-04-01T00:00:00\",\"2018-07-01T00:00:00\",\"2019-01-01T00:00:00\",\"2019-04-01T00:00:00\",\"2019-07-01T00:00:00\",\"2020-01-01T00:00:00\",\"2020-01-01T00:00:00\",\"2020-04-01T00:00:00\",\"2020-07-01T00:00:00\",\"2021-01-01T00:00:00\",\"2021-04-01T00:00:00\",\"2021-07-01T00:00:00\",\"2022-01-01T00:00:00\",\"2022-04-01T00:00:00\",\"2022-07-01T00:00:00\",\"2023-04-01T00:00:00\",\"2023-04-01T00:00:00\",\"2023-07-01T00:00:00\",\"2023-07-01T00:00:00\"],\"y\":[16722000.0,25177000.0,8547000.0,16827000.0,11303000.0,6459000.0,12878000.0,8609000.0,4252000.0,9049000.0,9484000.0,4227000.0,8386000.0,8927000.0,5961000.0,12655000.0,12568000.0,6616000.0,13645000.0,14759000.0,5729000.0,13055000.0,15431000.0,9632000.0,20182000.0,19453000.0,14535000.0,14535000.0,9265000.0,17656000.0,9262000.0,19550000.0,22002000.0,17852000.0,51907000.0,52491000.0,31604000.0,125665000.0,27979000.0,27979000.0],\"type\":\"scatter\"},{\"legendgroup\":\"JONES LANG LASALLE INCSIC: 6531 - REAL ESTATE AGENTS & MANAGERS (FOR OTHERS)\",\"line\":{\"color\":\"#FFA15A\"},\"mode\":\"lines+markers\",\"name\":\"JONES LANG LASALLE INCSIC: 6531 - REAL ESTATE AGENTS & MANAGERS (FOR OTHERS)\",\"visible\":true,\"x\":[\"2010-04-01T00:00:00\",\"2010-07-01T00:00:00\",\"2011-01-01T00:00:00\",\"2011-04-01T00:00:00\",\"2011-07-01T00:00:00\",\"2012-01-01T00:00:00\",\"2012-04-01T00:00:00\",\"2012-07-01T00:00:00\",\"2013-01-01T00:00:00\",\"2013-04-01T00:00:00\",\"2013-07-01T00:00:00\",\"2014-01-01T00:00:00\",\"2014-04-01T00:00:00\",\"2014-07-01T00:00:00\",\"2015-01-01T00:00:00\",\"2015-01-01T00:00:00\",\"2015-04-01T00:00:00\",\"2015-04-01T00:00:00\",\"2015-07-01T00:00:00\",\"2015-07-01T00:00:00\"],\"y\":[24248000.0,35738000.0,7963000.0,17552000.0,19255000.0,7426000.0,14885000.0,17411000.0,7923000.0,16972000.0,18680000.0,6637000.0,14300000.0,15024000.0,6038000.0,6038000.0,7558000.0,7558000.0,6774000.0,6773000.0],\"type\":\"scatter\"},{\"legendgroup\":\"NEWMARK GROUP, INC. \",\"line\":{\"color\":\"#19D3F3\"},\"mode\":\"lines+markers\",\"name\":\"NEWMARK GROUP, INC. \",\"visible\":true,\"x\":[],\"y\":[],\"type\":\"scatter\"},{\"legendgroup\":\"PROLOGISSIC: 6798 - REAL ESTATE INVESTMENT TRUSTS\",\"line\":{\"color\":\"#FF6692\"},\"mode\":\"lines+markers\",\"name\":\"PROLOGISSIC: 6798 - REAL ESTATE INVESTMENT TRUSTS\",\"visible\":true,\"x\":[\"2009-04-01T00:00:00\",\"2009-07-01T00:00:00\",\"2010-01-01T00:00:00\",\"2010-04-01T00:00:00\",\"2010-04-01T00:00:00\",\"2010-07-01T00:00:00\",\"2010-07-01T00:00:00\",\"2011-01-01T00:00:00\"],\"y\":[-175981000.0,-265819000.0,109979000.0,118920000.0,118920000.0,120233000.0,120233000.0,90562000.0],\"type\":\"scatter\"},{\"legendgroup\":\"PS BUSINESS PARKS, INC.\\u002fMDSIC: 6798 - REAL ESTATE INVESTMENT TRUSTS\",\"line\":{\"color\":\"#B6E880\"},\"mode\":\"lines+markers\",\"name\":\"PS BUSINESS PARKS, INC.\\u002fMDSIC: 6798 - REAL ESTATE INVESTMENT TRUSTS\",\"visible\":true,\"x\":[\"2010-04-01T00:00:00\",\"2010-07-01T00:00:00\",\"2011-01-01T00:00:00\",\"2011-04-01T00:00:00\",\"2011-07-01T00:00:00\",\"2012-01-01T00:00:00\",\"2012-04-01T00:00:00\",\"2012-07-01T00:00:00\",\"2013-01-01T00:00:00\",\"2013-01-01T00:00:00\",\"2013-04-01T00:00:00\",\"2013-04-01T00:00:00\",\"2013-07-01T00:00:00\",\"2013-07-01T00:00:00\"],\"y\":[1711000.0,2586000.0,1215000.0,2360000.0,2406000.0,5348000.0,10561000.0,10385000.0,4588000.0,4588000.0,3961000.0,3961000.0,4017000.0,4017000.0],\"type\":\"scatter\"},{\"legendgroup\":\"Prologis, Inc.SIC: 6798 - REAL ESTATE INVESTMENT TRUSTS\",\"line\":{\"color\":\"#FF97FF\"},\"mode\":\"lines+markers\",\"name\":\"Prologis, Inc.SIC: 6798 - REAL ESTATE INVESTMENT TRUSTS\",\"visible\":true,\"x\":[\"2011-07-01T00:00:00\",\"2012-01-01T00:00:00\",\"2012-04-01T00:00:00\",\"2012-07-01T00:00:00\",\"2013-01-01T00:00:00\",\"2013-04-01T00:00:00\",\"2013-07-01T00:00:00\",\"2014-01-01T00:00:00\",\"2014-04-01T00:00:00\",\"2014-07-01T00:00:00\",\"2015-01-01T00:00:00\",\"2015-04-01T00:00:00\",\"2015-07-01T00:00:00\",\"2016-01-01T00:00:00\",\"2016-04-01T00:00:00\",\"2016-07-01T00:00:00\",\"2017-01-01T00:00:00\",\"2017-04-01T00:00:00\",\"2017-07-01T00:00:00\",\"2018-01-01T00:00:00\",\"2018-04-01T00:00:00\",\"2018-07-01T00:00:00\",\"2019-01-01T00:00:00\",\"2019-04-01T00:00:00\",\"2019-07-01T00:00:00\",\"2020-01-01T00:00:00\",\"2020-04-01T00:00:00\",\"2020-07-01T00:00:00\",\"2021-01-01T00:00:00\",\"2021-04-01T00:00:00\",\"2021-07-01T00:00:00\",\"2022-01-01T00:00:00\",\"2022-04-01T00:00:00\",\"2022-07-01T00:00:00\",\"2023-01-01T00:00:00\",\"2023-04-01T00:00:00\",\"2023-04-01T00:00:00\",\"2023-07-01T00:00:00\",\"2023-07-01T00:00:00\",\"2024-01-01T00:00:00\"],\"y\":[339579000.0,133447000.0,261328000.0,251042000.0,115028000.0,207498000.0,177355000.0,85523000.0,165707000.0,149270000.0,68761000.0,137663000.0,149937000.0,80812000.0,157267000.0,151765000.0,72912000.0,148266000.0,139544000.0,47245000.0,102575000.0,119516000.0,60507000.0,119629000.0,119366000.0,75642000.0,156940000.0,162009000.0,71281000.0,139693000.0,132050000.0,64064000.0,124357000.0,124177000.0,136011000.0,149818000.0,149818000.0,181053000.0,181053000.0,193320000.0],\"type\":\"scatter\"},{\"legendgroup\":\"Public StorageSIC: 6798 - REAL ESTATE INVESTMENT TRUSTS\",\"line\":{\"color\":\"#FECB52\"},\"mode\":\"lines+markers\",\"name\":\"Public StorageSIC: 6798 - REAL ESTATE INVESTMENT TRUSTS\",\"visible\":true,\"x\":[\"2009-07-01T00:00:00\",\"2010-01-01T00:00:00\",\"2010-04-01T00:00:00\",\"2010-07-01T00:00:00\",\"2011-01-01T00:00:00\",\"2011-04-01T00:00:00\",\"2011-07-01T00:00:00\",\"2012-01-01T00:00:00\",\"2012-04-01T00:00:00\",\"2012-07-01T00:00:00\",\"2013-01-01T00:00:00\",\"2013-04-01T00:00:00\",\"2013-07-01T00:00:00\",\"2014-01-01T00:00:00\",\"2014-04-01T00:00:00\",\"2014-07-01T00:00:00\",\"2015-04-01T00:00:00\",\"2015-07-01T00:00:00\",\"2016-01-01T00:00:00\",\"2016-04-01T00:00:00\",\"2016-07-01T00:00:00\",\"2017-01-01T00:00:00\",\"2017-04-01T00:00:00\",\"2017-07-01T00:00:00\",\"2018-01-01T00:00:00\",\"2018-04-01T00:00:00\",\"2018-07-01T00:00:00\",\"2019-01-01T00:00:00\",\"2019-04-01T00:00:00\",\"2019-07-01T00:00:00\",\"2020-01-01T00:00:00\",\"2020-04-01T00:00:00\",\"2020-07-01T00:00:00\",\"2021-01-01T00:00:00\",\"2021-04-01T00:00:00\",\"2021-07-01T00:00:00\",\"2022-01-01T00:00:00\",\"2022-04-01T00:00:00\",\"2022-07-01T00:00:00\",\"2023-01-01T00:00:00\",\"2023-04-01T00:00:00\",\"2023-04-01T00:00:00\",\"2023-07-01T00:00:00\",\"2023-07-01T00:00:00\",\"2024-01-01T00:00:00\"],\"y\":[22705000.0,7339000.0,14617000.0,15116000.0,6984000.0,12917000.0,11795000.0,5334000.0,10401000.0,9993000.0,3497000.0,4144000.0,1125000.0,3480000.0,5543000.0,3301000.0,5543000.0,6781000.0,711000.0,2089000.0,2599000.0,1048000.0,2164000.0,3505000.0,8107000.0,16495000.0,16482000.0,8143000.0,20397000.0,24851000.0,13621000.0,27766000.0,28427000.0,15250000.0,37244000.0,45730000.0,33124000.0,66065000.0,67054000.0,36101000.0,38079000.0,38079000.0,58350000.0,58350000.0,67778000.0],\"type\":\"scatter\"},{\"legendgroup\":\"VICI PROPERTIES INC.SIC: 6798 - REAL ESTATE INVESTMENT TRUSTS\",\"line\":{\"color\":\"#636EFA\"},\"mode\":\"lines+markers\",\"name\":\"VICI PROPERTIES INC.SIC: 6798 - REAL ESTATE INVESTMENT TRUSTS\",\"visible\":true,\"x\":[\"2018-01-01T00:00:00\",\"2018-04-01T00:00:00\",\"2018-07-01T00:00:00\",\"2019-01-01T00:00:00\",\"2019-04-01T00:00:00\",\"2019-07-01T00:00:00\",\"2020-01-01T00:00:00\",\"2020-04-01T00:00:00\",\"2020-07-01T00:00:00\",\"2021-01-01T00:00:00\",\"2021-04-01T00:00:00\",\"2021-07-01T00:00:00\",\"2022-01-01T00:00:00\",\"2022-04-01T00:00:00\",\"2022-07-01T00:00:00\",\"2023-01-01T00:00:00\",\"2023-04-01T00:00:00\",\"2023-04-01T00:00:00\",\"2023-07-01T00:00:00\",\"2023-07-01T00:00:00\",\"2024-01-01T00:00:00\"],\"y\":[52875000.0,104314000.0,105490000.0,53586000.0,108405000.0,123350000.0,76093000.0,153786000.0,155092000.0,77048000.0,156854000.0,244905000.0,68142000.0,201270000.0,302482000.0,204360000.0,203594000.0,203594000.0,204927000.0,204927000.0,204882000.0],\"type\":\"scatter\"},{\"legendgroup\":\"Ventas, Inc.SIC: 6798 - REAL ESTATE INVESTMENT TRUSTS\",\"line\":{\"color\":\"#EF553B\"},\"mode\":\"lines+markers\",\"name\":\"Ventas, Inc.SIC: 6798 - REAL ESTATE INVESTMENT TRUSTS\",\"visible\":true,\"x\":[\"2009-04-01T00:00:00\",\"2009-07-01T00:00:00\",\"2010-01-01T00:00:00\",\"2010-04-01T00:00:00\",\"2010-07-01T00:00:00\",\"2011-01-01T00:00:00\",\"2011-04-01T00:00:00\",\"2011-07-01T00:00:00\",\"2012-01-01T00:00:00\",\"2012-04-01T00:00:00\",\"2012-07-01T00:00:00\",\"2013-01-01T00:00:00\",\"2013-04-01T00:00:00\",\"2013-07-01T00:00:00\",\"2014-01-01T00:00:00\",\"2014-04-01T00:00:00\",\"2014-07-01T00:00:00\",\"2015-01-01T00:00:00\",\"2015-04-01T00:00:00\",\"2015-07-01T00:00:00\",\"2016-01-01T00:00:00\",\"2016-04-01T00:00:00\",\"2016-07-01T00:00:00\",\"2017-01-01T00:00:00\",\"2017-04-01T00:00:00\",\"2017-07-01T00:00:00\",\"2018-01-01T00:00:00\",\"2018-04-01T00:00:00\",\"2018-07-01T00:00:00\",\"2019-01-01T00:00:00\",\"2019-04-01T00:00:00\",\"2019-07-01T00:00:00\",\"2020-01-01T00:00:00\",\"2020-04-01T00:00:00\",\"2020-07-01T00:00:00\",\"2021-01-01T00:00:00\",\"2021-04-01T00:00:00\",\"2021-07-01T00:00:00\",\"2022-01-01T00:00:00\",\"2022-04-01T00:00:00\",\"2022-07-01T00:00:00\",\"2023-01-01T00:00:00\",\"2023-04-01T00:00:00\",\"2023-04-01T00:00:00\",\"2023-07-01T00:00:00\",\"2023-07-01T00:00:00\",\"2024-01-01T00:00:00\"],\"y\":[90282000.0,133942000.0,44300000.0,88345000.0,89149000.0,42558000.0,53732000.0,73756000.0,70668000.0,144056000.0,146807000.0,79600000.0,162452000.0,166022000.0,87841000.0,179342000.0,189970000.0,106590000.0,214181000.0,156832000.0,103273000.0,206938000.0,208728000.0,108804000.0,222376000.0,227441000.0,111363000.0,224392000.0,220610000.0,110619000.0,220988000.0,224336000.0,116696000.0,239828000.0,238637000.0,110767000.0,220818000.0,218867000.0,110794000.0,224745000.0,233364000.0,128075000.0,143265000.0,143265000.0,147919000.0,147919000.0,149933000.0],\"type\":\"scatter\"},{\"legendgroup\":\"WELLTOWER INC.SIC: 6798 - REAL ESTATE INVESTMENT TRUSTS\",\"line\":{\"color\":\"#00CC96\"},\"mode\":\"lines+markers\",\"name\":\"WELLTOWER INC.SIC: 6798 - REAL ESTATE INVESTMENT TRUSTS\",\"visible\":true,\"x\":[],\"y\":[],\"type\":\"scatter\"},{\"legendgroup\":\"WEYERHAEUSER COSIC: 6798 - REAL ESTATE INVESTMENT TRUSTS\",\"line\":{\"color\":\"#AB63FA\"},\"mode\":\"lines+markers\",\"name\":\"WEYERHAEUSER COSIC: 6798 - REAL ESTATE INVESTMENT TRUSTS\",\"visible\":true,\"x\":[\"2010-07-01T00:00:00\",\"2011-01-01T00:00:00\",\"2011-04-01T00:00:00\",\"2011-07-01T00:00:00\",\"2012-01-01T00:00:00\",\"2012-04-01T00:00:00\",\"2012-07-01T00:00:00\",\"2013-01-01T00:00:00\",\"2013-04-01T00:00:00\",\"2013-07-01T00:00:00\",\"2014-01-01T00:00:00\",\"2014-04-01T00:00:00\",\"2014-07-01T00:00:00\",\"2015-01-01T00:00:00\",\"2015-04-01T00:00:00\",\"2015-07-01T00:00:00\",\"2016-01-01T00:00:00\",\"2016-04-01T00:00:00\",\"2016-07-01T00:00:00\",\"2017-01-01T00:00:00\",\"2017-04-01T00:00:00\",\"2017-07-01T00:00:00\",\"2018-01-01T00:00:00\",\"2018-04-01T00:00:00\",\"2018-07-01T00:00:00\",\"2019-01-01T00:00:00\",\"2019-04-01T00:00:00\",\"2019-07-01T00:00:00\",\"2020-01-01T00:00:00\",\"2020-04-01T00:00:00\",\"2020-07-01T00:00:00\",\"2021-01-01T00:00:00\",\"2021-04-01T00:00:00\",\"2021-07-01T00:00:00\",\"2022-01-01T00:00:00\",\"2022-04-01T00:00:00\",\"2022-07-01T00:00:00\",\"2023-01-01T00:00:00\",\"2023-04-01T00:00:00\",\"2023-04-01T00:00:00\",\"2023-07-01T00:00:00\",\"2023-07-01T00:00:00\",\"2024-01-01T00:00:00\"],\"y\":[327000000.0,93000000.0,210000000.0,203000000.0,87000000.0,173000000.0,173000000.0,82000000.0,163000000.0,176000000.0,83000000.0,166000000.0,171000000.0,83000000.0,171000000.0,176000000.0,97000000.0,209000000.0,226000000.0,99000000.0,199000000.0,198000000.0,93000000.0,185000000.0,185000000.0,107000000.0,198000000.0,182000000.0,85000000.0,188000000.0,214000000.0,79000000.0,157000000.0,157000000.0,72000000.0,137000000.0,132000000.0,66000000.0,70000000.0,70000000.0,72000000.0,72000000.0,67000000.0],\"type\":\"scatter\"},{\"legendgroup\":\"ALEXANDRIA REAL ESTATE EQUITIES, INC.SIC: 6798 - REAL ESTATE INVESTMENT TRUSTS\",\"line\":{\"color\":\"#636EFA\"},\"mode\":\"lines+markers\",\"name\":\"ALEXANDRIA REAL ESTATE EQUITIES, INC.SIC: 6798 - REAL ESTATE INVESTMENT TRUSTS\",\"visible\":false,\"x\":[\"2012-01-01T00:00:00\",\"2012-04-01T00:00:00\",\"2012-07-01T00:00:00\",\"2013-01-01T00:00:00\",\"2013-04-01T00:00:00\",\"2013-07-01T00:00:00\",\"2013-07-01T00:00:00\",\"2014-01-01T00:00:00\",\"2014-01-01T00:00:00\",\"2014-04-01T00:00:00\",\"2014-04-01T00:00:00\",\"2016-01-01T00:00:00\",\"2016-04-01T00:00:00\",\"2016-07-01T00:00:00\",\"2017-01-01T00:00:00\",\"2017-04-01T00:00:00\",\"2017-07-01T00:00:00\",\"2018-01-01T00:00:00\",\"2018-04-01T00:00:00\",\"2018-04-01T00:00:00\",\"2018-07-01T00:00:00\",\"2019-01-01T00:00:00\",\"2019-07-01T00:00:00\",\"2020-01-01T00:00:00\",\"2020-04-01T00:00:00\",\"2020-07-01T00:00:00\",\"2021-01-01T00:00:00\",\"2021-04-01T00:00:00\",\"2021-07-01T00:00:00\",\"2022-01-01T00:00:00\",\"2022-04-01T00:00:00\",\"2022-07-01T00:00:00\",\"2023-01-01T00:00:00\",\"2023-04-01T00:00:00\",\"2023-04-01T00:00:00\",\"2023-07-01T00:00:00\",\"2023-07-01T00:00:00\",\"2024-01-01T00:00:00\"],\"y\":[32093000.0,56513000.0,42002000.0,28441000.0,60555000.0,31557000.0,31557000.0,39716000.0,39716000.0,34956000.0,34956000.0,5936000.0,-105680000.0,-87141000.0,41711000.0,75932000.0,87994000.0,135630000.0,54730000.0,54730000.0,349266000.0,129159000.0,160724000.0,18765000.0,248419000.0,310710000.0,8121000.0,393205000.0,488231000.0,-149569000.0,122645000.0,616910000.0,77862000.0,89937000.0,89937000.0,24269000.0,24269000.0,170545000.0],\"type\":\"scatter\"},{\"legendgroup\":\"AMERICAN TOWER CORP \\u002fMA\\u002fSIC: 6798 - REAL ESTATE INVESTMENT TRUSTS\",\"line\":{\"color\":\"#EF553B\"},\"mode\":\"lines+markers\",\"name\":\"AMERICAN TOWER CORP \\u002fMA\\u002fSIC: 6798 - REAL ESTATE INVESTMENT TRUSTS\",\"visible\":false,\"x\":[\"2009-04-01T00:00:00\",\"2009-07-01T00:00:00\",\"2010-01-01T00:00:00\",\"2010-04-01T00:00:00\",\"2010-07-01T00:00:00\",\"2011-01-01T00:00:00\",\"2011-04-01T00:00:00\",\"2011-07-01T00:00:00\",\"2012-01-01T00:00:00\",\"2012-04-01T00:00:00\",\"2012-07-01T00:00:00\",\"2013-01-01T00:00:00\",\"2013-04-01T00:00:00\",\"2013-07-01T00:00:00\",\"2014-01-01T00:00:00\",\"2014-04-01T00:00:00\",\"2014-07-01T00:00:00\",\"2015-01-01T00:00:00\",\"2015-04-01T00:00:00\",\"2015-07-01T00:00:00\",\"2016-01-01T00:00:00\",\"2016-04-01T00:00:00\",\"2016-07-01T00:00:00\",\"2017-01-01T00:00:00\",\"2017-04-01T00:00:00\",\"2017-07-01T00:00:00\",\"2018-01-01T00:00:00\",\"2018-04-01T00:00:00\",\"2018-07-01T00:00:00\",\"2019-01-01T00:00:00\",\"2019-04-01T00:00:00\",\"2019-07-01T00:00:00\",\"2020-01-01T00:00:00\",\"2020-01-01T00:00:00\",\"2020-04-01T00:00:00\",\"2020-07-01T00:00:00\",\"2021-04-01T00:00:00\",\"2021-07-01T00:00:00\",\"2022-01-01T00:00:00\",\"2022-01-01T00:00:00\",\"2022-04-01T00:00:00\",\"2022-04-01T00:00:00\",\"2022-07-01T00:00:00\",\"2022-07-01T00:00:00\"],\"y\":[114890000.0,182245000.0,96318000.0,195983000.0,193104000.0,91842000.0,207053000.0,99510000.0,221306000.0,269515000.0,280298000.0,171407000.0,271228000.0,279944000.0,202499000.0,436930000.0,442024000.0,193317000.0,156056000.0,102999000.0,275159000.0,462709000.0,452059000.0,316080000.0,367051000.0,317268000.0,285200000.0,591900000.0,673600000.0,397430000.0,826500000.0,927670000.0,415000000.0,415000000.0,446100000.0,910500000.0,1391300000.0,2114300000.0,711700000.0,711700000.0,898200000.0,898200000.0,839700000.0,839700000.0],\"type\":\"scatter\"},{\"legendgroup\":\"ANNALY CAPITAL MANAGEMENT INC \",\"line\":{\"color\":\"#00CC96\"},\"mode\":\"lines+markers\",\"name\":\"ANNALY CAPITAL MANAGEMENT INC \",\"visible\":false,\"x\":[\"2009-04-01T00:00:00\",\"2009-07-01T00:00:00\",\"2010-01-01T00:00:00\",\"2010-04-01T00:00:00\",\"2010-07-01T00:00:00\",\"2011-01-01T00:00:00\",\"2011-04-01T00:00:00\",\"2011-07-01T00:00:00\",\"2012-01-01T00:00:00\",\"2012-04-01T00:00:00\",\"2012-07-01T00:00:00\",\"2013-01-01T00:00:00\",\"2013-04-01T00:00:00\",\"2013-07-01T00:00:00\",\"2014-01-01T00:00:00\",\"2014-04-01T00:00:00\",\"2014-07-01T00:00:00\",\"2015-01-01T00:00:00\",\"2015-04-01T00:00:00\",\"2015-07-01T00:00:00\",\"2016-01-01T00:00:00\",\"2016-04-01T00:00:00\",\"2016-07-01T00:00:00\",\"2017-01-01T00:00:00\",\"2017-04-01T00:00:00\",\"2017-07-01T00:00:00\",\"2018-01-01T00:00:00\",\"2018-04-01T00:00:00\",\"2018-07-01T00:00:00\",\"2019-01-01T00:00:00\",\"2019-04-01T00:00:00\",\"2019-07-01T00:00:00\",\"2020-01-01T00:00:00\",\"2020-04-01T00:00:00\",\"2020-07-01T00:00:00\",\"2021-01-01T00:00:00\",\"2021-04-01T00:00:00\",\"2021-07-01T00:00:00\",\"2022-01-01T00:00:00\",\"2022-04-01T00:00:00\",\"2022-07-01T00:00:00\",\"2023-01-01T00:00:00\",\"2023-04-01T00:00:00\",\"2023-04-01T00:00:00\",\"2023-07-01T00:00:00\",\"2023-07-01T00:00:00\",\"2024-01-01T00:00:00\"],\"y\":[946947000.0,1232136000.0,281065000.0,62836000.0,-232289000.0,699895000.0,820712000.0,-800996000.0,901806000.0,810647000.0,133599000.0,870278000.0,2508491000.0,1830671000.0,-203351000.0,-538863000.0,19344000.0,-476409000.0,423811000.0,272926000.0,-867918000.0,-1146030000.0,453104000.0,440511000.0,455135000.0,382171000.0,1327800000.0,1923719000.0,981497000.0,-849150000.0,-2625480000.0,-2523389000.0,-3640255000.0,-2784053000.0,1871876000.0,1750813000.0,1455171000.0,223602000.0,2022255000.0,2888951000.0,591432000.0,-844256000.0,167033000.0,167033000.0,-562205000.0,-562205000.0,462892000.0],\"type\":\"scatter\"},{\"legendgroup\":\"AVALONBAY COMMUNITIES INC \",\"line\":{\"color\":\"#AB63FA\"},\"mode\":\"lines+markers\",\"name\":\"AVALONBAY COMMUNITIES INC \",\"visible\":false,\"x\":[\"2009-04-01T00:00:00\",\"2009-07-01T00:00:00\",\"2010-01-01T00:00:00\",\"2010-04-01T00:00:00\",\"2010-04-01T00:00:00\",\"2010-07-01T00:00:00\",\"2010-07-01T00:00:00\",\"2011-01-01T00:00:00\",\"2011-04-01T00:00:00\",\"2011-07-01T00:00:00\",\"2012-01-01T00:00:00\",\"2012-04-01T00:00:00\",\"2012-07-01T00:00:00\",\"2013-01-01T00:00:00\",\"2013-04-01T00:00:00\",\"2013-07-01T00:00:00\",\"2014-01-01T00:00:00\",\"2014-01-01T00:00:00\"],\"y\":[65099000.0,123253000.0,72523000.0,51125000.0,51125000.0,24654000.0,24656000.0,30341000.0,73713000.0,88196000.0,57704000.0,214667000.0,243808000.0,75427000.0,111648000.0,25502000.0,141739000.0,141739000.0],\"type\":\"scatter\"},{\"legendgroup\":\"BOSTON PROPERTIES INCSIC: 6798 - REAL ESTATE INVESTMENT TRUSTS\",\"line\":{\"color\":\"#FFA15A\"},\"mode\":\"lines+markers\",\"name\":\"BOSTON PROPERTIES INCSIC: 6798 - REAL ESTATE INVESTMENT TRUSTS\",\"visible\":false,\"x\":[\"2009-04-01T00:00:00\",\"2009-07-01T00:00:00\",\"2010-01-01T00:00:00\",\"2010-04-01T00:00:00\",\"2010-07-01T00:00:00\",\"2011-01-01T00:00:00\",\"2011-04-01T00:00:00\",\"2011-07-01T00:00:00\",\"2012-01-01T00:00:00\",\"2012-04-01T00:00:00\",\"2012-07-01T00:00:00\",\"2013-01-01T00:00:00\",\"2013-04-01T00:00:00\",\"2014-01-01T00:00:00\",\"2014-04-01T00:00:00\",\"2014-07-01T00:00:00\",\"2015-01-01T00:00:00\",\"2015-04-01T00:00:00\",\"2015-07-01T00:00:00\",\"2016-01-01T00:00:00\",\"2016-04-01T00:00:00\",\"2016-07-01T00:00:00\",\"2017-01-01T00:00:00\",\"2017-04-01T00:00:00\",\"2017-07-01T00:00:00\",\"2018-01-01T00:00:00\",\"2018-04-01T00:00:00\",\"2018-07-01T00:00:00\",\"2019-01-01T00:00:00\",\"2019-04-01T00:00:00\",\"2019-07-01T00:00:00\",\"2020-01-01T00:00:00\",\"2020-04-01T00:00:00\",\"2020-07-01T00:00:00\",\"2021-01-01T00:00:00\",\"2021-04-01T00:00:00\",\"2021-07-01T00:00:00\",\"2022-01-01T00:00:00\",\"2022-04-01T00:00:00\",\"2022-07-01T00:00:00\",\"2023-01-01T00:00:00\",\"2023-04-01T00:00:00\",\"2023-04-01T00:00:00\",\"2023-07-01T00:00:00\",\"2023-07-01T00:00:00\"],\"y\":[111817000.0,177604000.0,52714000.0,114132000.0,119072000.0,40813000.0,100949000.0,130546000.0,64632000.0,183672000.0,176841000.0,48000000.0,502857000.0,56623000.0,135801000.0,209703000.0,173771000.0,255901000.0,268785000.0,184365000.0,283530000.0,178545000.0,99708000.0,236014000.0,256253000.0,178646000.0,309932000.0,253064000.0,100730000.0,267681000.0,277345000.0,500121000.0,769482000.0,362295000.0,100596000.0,212344000.0,220056000.0,143047000.0,366044000.0,584097000.0,77890000.0,104299000.0,104325000.0,-111826000.0,-111925000.0],\"type\":\"scatter\"},{\"legendgroup\":\"BOSTON PROPERTIES LTD PARTNERSHIPSIC: 6798 - REAL ESTATE INVESTMENT TRUSTS\",\"line\":{\"color\":\"#19D3F3\"},\"mode\":\"lines+markers\",\"name\":\"BOSTON PROPERTIES LTD PARTNERSHIPSIC: 6798 - REAL ESTATE INVESTMENT TRUSTS\",\"visible\":false,\"x\":[\"2009-04-01T00:00:00\",\"2009-07-01T00:00:00\",\"2010-01-01T00:00:00\",\"2010-04-01T00:00:00\",\"2010-07-01T00:00:00\",\"2011-01-01T00:00:00\",\"2011-04-01T00:00:00\",\"2011-07-01T00:00:00\",\"2012-01-01T00:00:00\",\"2012-04-01T00:00:00\",\"2012-07-01T00:00:00\",\"2013-01-01T00:00:00\",\"2013-04-01T00:00:00\",\"2013-07-01T00:00:00\",\"2014-01-01T00:00:00\",\"2014-04-01T00:00:00\",\"2014-07-01T00:00:00\",\"2015-01-01T00:00:00\",\"2015-04-01T00:00:00\",\"2015-04-01T00:00:00\",\"2015-07-01T00:00:00\",\"2015-07-01T00:00:00\"],\"y\":[135052000.0,212871000.0,62867000.0,135709000.0,141278000.0,48897000.0,119346000.0,152038000.0,75271000.0,212404000.0,203948000.0,60923000.0,566112000.0,679329000.0,62219000.0,149655000.0,232151000.0,195958000.0,93470000.0,93470000.0,210273000.0,210273000.0],\"type\":\"scatter\"},{\"legendgroup\":\"CBRE GROUP, INC. \",\"line\":{\"color\":\"#FF6692\"},\"mode\":\"lines+markers\",\"name\":\"CBRE GROUP, INC. \",\"visible\":false,\"x\":[\"2010-04-01T00:00:00\",\"2010-07-01T00:00:00\",\"2011-01-01T00:00:00\",\"2011-04-01T00:00:00\",\"2011-07-01T00:00:00\",\"2012-01-01T00:00:00\",\"2012-04-01T00:00:00\",\"2012-07-01T00:00:00\",\"2013-01-01T00:00:00\",\"2013-04-01T00:00:00\",\"2013-07-01T00:00:00\",\"2014-01-01T00:00:00\",\"2014-04-01T00:00:00\",\"2014-07-01T00:00:00\",\"2015-01-01T00:00:00\",\"2015-04-01T00:00:00\",\"2015-07-01T00:00:00\",\"2016-01-01T00:00:00\",\"2016-04-01T00:00:00\",\"2016-07-01T00:00:00\",\"2017-01-01T00:00:00\",\"2017-04-01T00:00:00\",\"2017-07-01T00:00:00\",\"2018-01-01T00:00:00\",\"2018-04-01T00:00:00\",\"2018-07-01T00:00:00\",\"2019-01-01T00:00:00\",\"2019-04-01T00:00:00\",\"2019-07-01T00:00:00\",\"2020-01-01T00:00:00\",\"2020-04-01T00:00:00\",\"2020-07-01T00:00:00\",\"2021-01-01T00:00:00\",\"2021-04-01T00:00:00\",\"2021-07-01T00:00:00\",\"2022-01-01T00:00:00\",\"2022-04-01T00:00:00\",\"2022-07-01T00:00:00\",\"2023-01-01T00:00:00\",\"2023-04-01T00:00:00\",\"2023-04-01T00:00:00\",\"2023-07-01T00:00:00\",\"2023-07-01T00:00:00\",\"2024-01-01T00:00:00\"],\"y\":[48163000.0,105201000.0,34369000.0,95592000.0,125030000.0,26975000.0,102848000.0,115582000.0,37546000.0,107448000.0,164346000.0,67663000.0,173127000.0,212563000.0,92937000.0,217966000.0,274152000.0,82167000.0,203835000.0,225831000.0,129597000.0,326762000.0,393482000.0,150288000.0,228667000.0,290469000.0,164409000.0,388140000.0,480330000.0,172195000.0,254092000.0,266029000.0,266202000.0,708839000.0,878380000.0,392297000.0,879619000.0,933961000.0,116892000.0,201403000.0,201403000.0,190553000.0,190554000.0,126000000.0],\"type\":\"scatter\"},{\"legendgroup\":\"CROWN CASTLE INC. \",\"line\":{\"color\":\"#B6E880\"},\"mode\":\"lines+markers\",\"name\":\"CROWN CASTLE INC. \",\"visible\":false,\"x\":[\"2009-07-01T00:00:00\",\"2010-01-01T00:00:00\",\"2010-07-01T00:00:00\",\"2011-01-01T00:00:00\",\"2011-04-01T00:00:00\",\"2011-07-01T00:00:00\",\"2012-01-01T00:00:00\",\"2012-04-01T00:00:00\",\"2012-07-01T00:00:00\",\"2013-01-01T00:00:00\",\"2013-04-01T00:00:00\",\"2013-07-01T00:00:00\",\"2014-01-01T00:00:00\",\"2014-04-01T00:00:00\",\"2014-07-01T00:00:00\",\"2015-01-01T00:00:00\",\"2015-04-01T00:00:00\",\"2015-07-01T00:00:00\",\"2016-01-01T00:00:00\",\"2016-04-01T00:00:00\",\"2016-07-01T00:00:00\",\"2023-01-01T00:00:00\",\"2023-04-01T00:00:00\",\"2023-04-01T00:00:00\",\"2023-07-01T00:00:00\",\"2023-07-01T00:00:00\",\"2024-01-01T00:00:00\"],\"y\":[-132480000.0,-119275000.0,-351813000.0,40017000.0,70888000.0,82149000.0,50031000.0,166044000.0,158058000.0,15462000.0,67821000.0,98195000.0,101497000.0,34009000.0,106937000.0,122787000.0,1276147000.0,1257139000.0,47840000.0,133898000.0,184423000.0,418000000.0,455000000.0,456000000.0,265000000.0,265000000.0,311000000.0],\"type\":\"scatter\"},{\"legendgroup\":\"Cushman & Wakefield plc \",\"line\":{\"color\":\"#FF97FF\"},\"mode\":\"lines+markers\",\"name\":\"Cushman & Wakefield plc \",\"visible\":false,\"x\":[\"2018-04-01T00:00:00\",\"2018-07-01T00:00:00\",\"2019-01-01T00:00:00\",\"2019-04-01T00:00:00\",\"2019-07-01T00:00:00\",\"2020-01-01T00:00:00\",\"2020-04-01T00:00:00\",\"2020-07-01T00:00:00\",\"2021-01-01T00:00:00\",\"2021-04-01T00:00:00\",\"2021-07-01T00:00:00\",\"2022-01-01T00:00:00\",\"2022-04-01T00:00:00\",\"2022-07-01T00:00:00\",\"2023-01-01T00:00:00\",\"2023-04-01T00:00:00\",\"2023-04-01T00:00:00\",\"2023-07-01T00:00:00\",\"2023-07-01T00:00:00\",\"2024-01-01T00:00:00\"],\"y\":[-124200000.0,-172900000.0,-20900000.0,-14600000.0,18000000.0,-55100000.0,-155900000.0,-138100000.0,-17200000.0,35500000.0,121400000.0,45500000.0,142700000.0,121100000.0,-76400000.0,5100000.0,5100000.0,-33900000.0,-33900000.0,-28800000.0],\"type\":\"scatter\"},{\"legendgroup\":\"DIGITAL REALTY TRUST, INC.SIC: 6798 - REAL ESTATE INVESTMENT TRUSTS\",\"line\":{\"color\":\"#FECB52\"},\"mode\":\"lines+markers\",\"name\":\"DIGITAL REALTY TRUST, INC.SIC: 6798 - REAL ESTATE INVESTMENT TRUSTS\",\"visible\":false,\"x\":[\"2011-04-01T00:00:00\",\"2011-07-01T00:00:00\",\"2012-01-01T00:00:00\",\"2012-04-01T00:00:00\",\"2012-07-01T00:00:00\",\"2013-01-01T00:00:00\",\"2013-04-01T00:00:00\",\"2013-07-01T00:00:00\",\"2014-01-01T00:00:00\",\"2014-04-01T00:00:00\",\"2014-07-01T00:00:00\",\"2015-01-01T00:00:00\",\"2015-04-01T00:00:00\",\"2015-07-01T00:00:00\",\"2016-01-01T00:00:00\",\"2016-04-01T00:00:00\",\"2016-07-01T00:00:00\",\"2017-01-01T00:00:00\",\"2017-04-01T00:00:00\",\"2017-07-01T00:00:00\",\"2018-01-01T00:00:00\",\"2018-04-01T00:00:00\",\"2018-07-01T00:00:00\",\"2019-01-01T00:00:00\",\"2019-04-01T00:00:00\",\"2019-07-01T00:00:00\",\"2020-01-01T00:00:00\",\"2020-04-01T00:00:00\",\"2020-07-01T00:00:00\",\"2021-01-01T00:00:00\",\"2021-04-01T00:00:00\",\"2021-07-01T00:00:00\",\"2022-01-01T00:00:00\",\"2022-04-01T00:00:00\",\"2022-07-01T00:00:00\",\"2023-01-01T00:00:00\",\"2023-04-01T00:00:00\",\"2023-04-01T00:00:00\",\"2023-07-01T00:00:00\",\"2023-07-01T00:00:00\",\"2024-01-01T00:00:00\"],\"y\":[74205000.0,110549000.0,48042000.0,100376000.0,-203810000.0,50711000.0,109187000.0,209074000.0,45912000.0,106251000.0,188108000.0,120183000.0,255694000.0,192489000.0,61549000.0,111924000.0,269563000.0,83538000.0,162189000.0,91086000.0,106627000.0,192090000.0,173060000.0,116812000.0,176980000.0,126665000.0,224014000.0,298845000.0,74693000.0,385920000.0,507174000.0,255529000.0,73281000.0,136708000.0,300502000.0,68726000.0,118184000.0,118184000.0,733618000.0,733618000.0,281508000.0],\"type\":\"scatter\"},{\"legendgroup\":\"EQUINIX INCSIC: 6798 - REAL ESTATE INVESTMENT TRUSTS\",\"line\":{\"color\":\"#636EFA\"},\"mode\":\"lines+markers\",\"name\":\"EQUINIX INCSIC: 6798 - REAL ESTATE INVESTMENT TRUSTS\",\"visible\":false,\"x\":[\"2010-04-01T00:00:00\",\"2010-07-01T00:00:00\",\"2011-01-01T00:00:00\",\"2011-04-01T00:00:00\",\"2011-07-01T00:00:00\",\"2012-01-01T00:00:00\",\"2012-04-01T00:00:00\",\"2012-07-01T00:00:00\",\"2013-01-01T00:00:00\",\"2013-04-01T00:00:00\",\"2013-07-01T00:00:00\",\"2014-01-01T00:00:00\",\"2014-04-01T00:00:00\",\"2014-07-01T00:00:00\",\"2015-01-01T00:00:00\",\"2015-04-01T00:00:00\",\"2015-07-01T00:00:00\",\"2016-04-01T00:00:00\",\"2016-07-01T00:00:00\",\"2017-01-01T00:00:00\",\"2017-04-01T00:00:00\",\"2017-07-01T00:00:00\",\"2018-01-01T00:00:00\",\"2018-04-01T00:00:00\",\"2018-07-01T00:00:00\",\"2019-01-01T00:00:00\",\"2019-04-01T00:00:00\",\"2019-07-01T00:00:00\",\"2020-01-01T00:00:00\",\"2020-04-01T00:00:00\",\"2020-07-01T00:00:00\",\"2021-01-01T00:00:00\",\"2021-04-01T00:00:00\",\"2021-07-01T00:00:00\",\"2022-01-01T00:00:00\",\"2022-04-01T00:00:00\",\"2022-07-01T00:00:00\",\"2023-01-01T00:00:00\",\"2023-04-01T00:00:00\",\"2023-04-01T00:00:00\",\"2023-07-01T00:00:00\",\"2023-07-01T00:00:00\"],\"y\":[11925000.0,23121000.0,25145000.0,55875000.0,51049000.0,34523000.0,70970000.0,65285000.0,35882000.0,7224000.0,13616000.0,41387000.0,52715000.0,54169000.0,76452000.0,135911000.0,100591000.0,13600000.0,65050000.0,42062000.0,87867000.0,125705000.0,62894000.0,130512000.0,192443000.0,118078000.0,261605000.0,264377000.0,118792000.0,252096000.0,199991000.0,156362000.0,224701000.0,220555000.0,147453000.0,363775000.0,428129000.0,258786000.0,207030000.0,207030000.0,275794000.0,275794000.0],\"type\":\"scatter\"},{\"legendgroup\":\"EQUITY RESIDENTIALSIC: 6798 - REAL ESTATE INVESTMENT TRUSTS\",\"line\":{\"color\":\"#EF553B\"},\"mode\":\"lines+markers\",\"name\":\"EQUITY RESIDENTIALSIC: 6798 - REAL ESTATE INVESTMENT TRUSTS\",\"visible\":false,\"x\":[\"2009-04-01T00:00:00\",\"2009-07-01T00:00:00\",\"2010-01-01T00:00:00\",\"2010-04-01T00:00:00\",\"2010-07-01T00:00:00\",\"2011-01-01T00:00:00\",\"2011-04-01T00:00:00\",\"2011-07-01T00:00:00\",\"2012-01-01T00:00:00\",\"2012-04-01T00:00:00\",\"2012-07-01T00:00:00\",\"2013-01-01T00:00:00\",\"2013-04-01T00:00:00\",\"2013-07-01T00:00:00\",\"2014-01-01T00:00:00\",\"2014-04-01T00:00:00\",\"2014-04-01T00:00:00\",\"2014-07-01T00:00:00\",\"2015-07-01T00:00:00\",\"2016-01-01T00:00:00\",\"2016-04-01T00:00:00\",\"2016-07-01T00:00:00\",\"2017-01-01T00:00:00\",\"2017-04-01T00:00:00\",\"2017-07-01T00:00:00\",\"2018-01-01T00:00:00\",\"2018-04-01T00:00:00\",\"2018-07-01T00:00:00\",\"2019-01-01T00:00:00\",\"2019-04-01T00:00:00\",\"2019-07-01T00:00:00\",\"2020-01-01T00:00:00\",\"2020-04-01T00:00:00\",\"2020-07-01T00:00:00\",\"2021-01-01T00:00:00\",\"2021-04-01T00:00:00\",\"2021-07-01T00:00:00\",\"2022-01-01T00:00:00\",\"2022-04-01T00:00:00\",\"2022-07-01T00:00:00\",\"2023-01-01T00:00:00\",\"2023-04-01T00:00:00\",\"2023-04-01T00:00:00\",\"2023-07-01T00:00:00\",\"2023-07-01T00:00:00\",\"2024-01-01T00:00:00\"],\"y\":[181000000.0,316981000.0,55483000.0,65444000.0,38744000.0,127331000.0,683255000.0,663772000.0,145299000.0,248563000.0,329403000.0,1017686000.0,1342445000.0,701951000.0,79135000.0,112690000.0,112690000.0,300879000.0,665634000.0,3587758000.0,3806597000.0,427155000.0,143742000.0,339783000.0,334270000.0,211809000.0,325411000.0,328539000.0,104539000.0,413507000.0,576074000.0,308606000.0,569494000.0,352174000.0,57539000.0,373925000.0,748337000.0,70765000.0,294866000.0,547126000.0,212035000.0,139203000.0,139203000.0,172508000.0,172508000.0,295787000.0],\"type\":\"scatter\"},{\"legendgroup\":\"ESSEX PROPERTY TRUST, INC. \",\"line\":{\"color\":\"#00CC96\"},\"mode\":\"lines+markers\",\"name\":\"ESSEX PROPERTY TRUST, INC. \",\"visible\":false,\"x\":[\"2010-04-01T00:00:00\",\"2010-07-01T00:00:00\",\"2011-01-01T00:00:00\",\"2011-04-01T00:00:00\",\"2011-07-01T00:00:00\",\"2012-01-01T00:00:00\",\"2012-04-01T00:00:00\",\"2012-07-01T00:00:00\",\"2013-01-01T00:00:00\",\"2013-04-01T00:00:00\",\"2013-07-01T00:00:00\",\"2014-01-01T00:00:00\",\"2014-04-01T00:00:00\",\"2014-07-01T00:00:00\",\"2015-01-01T00:00:00\",\"2015-04-01T00:00:00\",\"2015-07-01T00:00:00\",\"2016-01-01T00:00:00\",\"2016-04-01T00:00:00\",\"2016-07-01T00:00:00\",\"2017-01-01T00:00:00\",\"2017-01-01T00:00:00\",\"2017-04-01T00:00:00\",\"2017-04-01T00:00:00\",\"2017-07-01T00:00:00\",\"2017-07-01T00:00:00\"],\"y\":[23694000.0,30614000.0,8961000.0,22709000.0,22805000.0,24090000.0,62536000.0,56033000.0,26571000.0,52885000.0,96470000.0,23280000.0,29583000.0,57061000.0,60677000.0,107545000.0,90505000.0,81836000.0,153849000.0,137574000.0,178964000.0,178964000.0,70759000.0,70759000.0,79723000.0,79723000.0],\"type\":\"scatter\"},{\"legendgroup\":\"JLL Income Property Trust, Inc.SIC: 6798 - REAL ESTATE INVESTMENT TRUSTS\",\"line\":{\"color\":\"#AB63FA\"},\"mode\":\"lines+markers\",\"name\":\"JLL Income Property Trust, Inc.SIC: 6798 - REAL ESTATE INVESTMENT TRUSTS\",\"visible\":false,\"x\":[\"2011-04-01T00:00:00\",\"2011-07-01T00:00:00\",\"2012-01-01T00:00:00\",\"2012-04-01T00:00:00\",\"2012-07-01T00:00:00\",\"2013-01-01T00:00:00\",\"2013-04-01T00:00:00\",\"2013-07-01T00:00:00\",\"2014-01-01T00:00:00\",\"2014-04-01T00:00:00\",\"2014-07-01T00:00:00\",\"2015-01-01T00:00:00\",\"2015-04-01T00:00:00\",\"2015-07-01T00:00:00\",\"2016-01-01T00:00:00\",\"2016-04-01T00:00:00\",\"2016-07-01T00:00:00\",\"2017-01-01T00:00:00\",\"2017-04-01T00:00:00\",\"2017-07-01T00:00:00\",\"2018-01-01T00:00:00\",\"2018-04-01T00:00:00\",\"2018-07-01T00:00:00\",\"2019-01-01T00:00:00\",\"2019-04-01T00:00:00\",\"2019-07-01T00:00:00\",\"2020-01-01T00:00:00\",\"2020-04-01T00:00:00\",\"2020-07-01T00:00:00\",\"2021-01-01T00:00:00\",\"2021-04-01T00:00:00\",\"2021-07-01T00:00:00\",\"2022-01-01T00:00:00\",\"2022-04-01T00:00:00\",\"2022-07-01T00:00:00\",\"2023-04-01T00:00:00\",\"2023-04-01T00:00:00\",\"2023-07-01T00:00:00\",\"2023-07-01T00:00:00\"],\"y\":[-16379000.0,-18362000.0,8582000.0,5670000.0,-3269000.0,-2873000.0,-2247000.0,-10433000.0,1287000.0,2158000.0,1840000.0,23512000.0,23160000.0,-3641000.0,1486000.0,1315000.0,-1943000.0,-742000.0,3056000.0,14468000.0,32644000.0,35750000.0,-196000.0,106736000.0,103773000.0,-7845000.0,-18549000.0,-26753000.0,-18326000.0,30105000.0,26328000.0,-23029000.0,37935000.0,13861000.0,-49614000.0,-8919000.0,-98617000.0,-11871000.0,-11871000.0],\"type\":\"scatter\"},{\"legendgroup\":\"JONES LANG LASALLE INCSIC: 6531 - REAL ESTATE AGENTS & MANAGERS (FOR OTHERS)\",\"line\":{\"color\":\"#FFA15A\"},\"mode\":\"lines+markers\",\"name\":\"JONES LANG LASALLE INCSIC: 6531 - REAL ESTATE AGENTS & MANAGERS (FOR OTHERS)\",\"visible\":false,\"x\":[\"2010-04-01T00:00:00\",\"2010-07-01T00:00:00\",\"2011-01-01T00:00:00\",\"2011-04-01T00:00:00\",\"2011-07-01T00:00:00\",\"2012-01-01T00:00:00\",\"2012-04-01T00:00:00\",\"2012-07-01T00:00:00\",\"2013-01-01T00:00:00\",\"2013-04-01T00:00:00\",\"2013-07-01T00:00:00\",\"2014-01-01T00:00:00\",\"2014-04-01T00:00:00\",\"2014-07-01T00:00:00\",\"2015-01-01T00:00:00\",\"2015-04-01T00:00:00\",\"2015-07-01T00:00:00\",\"2016-01-01T00:00:00\",\"2016-04-01T00:00:00\",\"2016-07-01T00:00:00\",\"2017-01-01T00:00:00\",\"2017-04-01T00:00:00\",\"2017-07-01T00:00:00\",\"2018-01-01T00:00:00\",\"2018-04-01T00:00:00\",\"2018-07-01T00:00:00\",\"2019-01-01T00:00:00\",\"2019-04-01T00:00:00\",\"2019-07-01T00:00:00\",\"2020-01-01T00:00:00\",\"2020-04-01T00:00:00\",\"2020-07-01T00:00:00\",\"2021-01-01T00:00:00\",\"2021-04-01T00:00:00\",\"2021-07-01T00:00:00\",\"2022-01-01T00:00:00\",\"2022-04-01T00:00:00\",\"2022-07-01T00:00:00\",\"2023-01-01T00:00:00\",\"2023-04-01T00:00:00\",\"2023-04-01T00:00:00\",\"2023-07-01T00:00:00\",\"2023-07-01T00:00:00\"],\"y\":[32219000.0,69348000.0,1490000.0,45586000.0,77976000.0,14024000.0,51464000.0,86954000.0,13156000.0,59686000.0,109387000.0,15902000.0,87844000.0,176226000.0,41894000.0,90311000.0,110409000.0,25700000.0,104700000.0,127000000.0,10800000.0,89200000.0,165000000.0,40300000.0,148300000.0,242900000.0,21300000.0,132000000.0,239600000.0,5300000.0,20500000.0,147100000.0,103000000.0,303000000.0,437200000.0,145600000.0,339500000.0,334100000.0,-9200000.0,2500000.0,2500000.0,59700000.0,59700000.0],\"type\":\"scatter\"},{\"legendgroup\":\"NEWMARK GROUP, INC. \",\"line\":{\"color\":\"#19D3F3\"},\"mode\":\"lines+markers\",\"name\":\"NEWMARK GROUP, INC. \",\"visible\":false,\"x\":[\"2018-01-01T00:00:00\",\"2018-04-01T00:00:00\",\"2018-07-01T00:00:00\",\"2019-01-01T00:00:00\",\"2019-04-01T00:00:00\",\"2019-07-01T00:00:00\",\"2020-01-01T00:00:00\",\"2020-04-01T00:00:00\",\"2020-07-01T00:00:00\",\"2021-01-01T00:00:00\",\"2021-04-01T00:00:00\",\"2021-07-01T00:00:00\",\"2022-01-01T00:00:00\",\"2022-04-01T00:00:00\",\"2022-07-01T00:00:00\",\"2023-01-01T00:00:00\",\"2023-04-01T00:00:00\",\"2023-04-01T00:00:00\",\"2023-07-01T00:00:00\",\"2023-07-01T00:00:00\"],\"y\":[19997000.0,20736000.0,68976000.0,16904000.0,39572000.0,111366000.0,8182000.0,8493000.0,75659000.0,33105000.0,472849000.0,568293000.0,362000.0,48881000.0,76486000.0,-10350000.0,6429000.0,6429000.0,9947000.0,9948000.0],\"type\":\"scatter\"},{\"legendgroup\":\"PROLOGISSIC: 6798 - REAL ESTATE INVESTMENT TRUSTS\",\"line\":{\"color\":\"#FF6692\"},\"mode\":\"lines+markers\",\"name\":\"PROLOGISSIC: 6798 - REAL ESTATE INVESTMENT TRUSTS\",\"visible\":false,\"x\":[\"2009-04-01T00:00:00\",\"2009-07-01T00:00:00\",\"2010-01-01T00:00:00\",\"2010-04-01T00:00:00\",\"2010-04-01T00:00:00\",\"2010-07-01T00:00:00\",\"2010-07-01T00:00:00\",\"2011-01-01T00:00:00\"],\"y\":[430335000.0,424916000.0,-84760000.0,-16781000.0,-16781000.0,-8683000.0,-8683000.0,-40247000.0],\"type\":\"scatter\"},{\"legendgroup\":\"PS BUSINESS PARKS, INC.\\u002fMDSIC: 6798 - REAL ESTATE INVESTMENT TRUSTS\",\"line\":{\"color\":\"#B6E880\"},\"mode\":\"lines+markers\",\"name\":\"PS BUSINESS PARKS, INC.\\u002fMDSIC: 6798 - REAL ESTATE INVESTMENT TRUSTS\",\"visible\":false,\"x\":[\"2010-04-01T00:00:00\",\"2010-07-01T00:00:00\",\"2011-01-01T00:00:00\",\"2011-04-01T00:00:00\",\"2011-07-01T00:00:00\",\"2012-01-01T00:00:00\",\"2012-04-01T00:00:00\",\"2012-07-01T00:00:00\",\"2013-01-01T00:00:00\",\"2013-04-01T00:00:00\",\"2013-07-01T00:00:00\",\"2014-01-01T00:00:00\",\"2014-04-01T00:00:00\",\"2014-07-01T00:00:00\",\"2015-01-01T00:00:00\",\"2015-04-01T00:00:00\",\"2015-07-01T00:00:00\",\"2016-01-01T00:00:00\",\"2016-04-01T00:00:00\",\"2016-07-01T00:00:00\",\"2017-01-01T00:00:00\",\"2017-04-01T00:00:00\",\"2017-07-01T00:00:00\",\"2018-01-01T00:00:00\",\"2018-04-01T00:00:00\",\"2018-07-01T00:00:00\",\"2019-01-01T00:00:00\",\"2019-04-01T00:00:00\",\"2019-07-01T00:00:00\",\"2020-01-01T00:00:00\",\"2020-04-01T00:00:00\",\"2020-07-01T00:00:00\",\"2021-01-01T00:00:00\",\"2021-04-01T00:00:00\",\"2021-07-01T00:00:00\",\"2022-01-01T00:00:00\",\"2022-04-01T00:00:00\",\"2022-04-01T00:00:00\",\"2022-07-01T00:00:00\",\"2022-07-01T00:00:00\",\"2022-07-01T00:00:00\"],\"y\":[44936000.0,64660000.0,27062000.0,48908000.0,47777000.0,20697000.0,43404000.0,44844000.0,22423000.0,23863000.0,24151000.0,25098000.0,50079000.0,51401000.0,34991000.0,61285000.0,66483000.0,28544000.0,58224000.0,63358000.0,39931000.0,77462000.0,75298000.0,59625000.0,143584000.0,122288000.0,39548000.0,81298000.0,81240000.0,53936000.0,91624000.0,80463000.0,40096000.0,98052000.0,122569000.0,82096000.0,87132000.0,87132000.0,-39262000.0,-69956000.0,169228000.0],\"type\":\"scatter\"},{\"legendgroup\":\"Prologis, Inc.SIC: 6798 - REAL ESTATE INVESTMENT TRUSTS\",\"line\":{\"color\":\"#FF97FF\"},\"mode\":\"lines+markers\",\"name\":\"Prologis, Inc.SIC: 6798 - REAL ESTATE INVESTMENT TRUSTS\",\"visible\":false,\"x\":[\"2011-07-01T00:00:00\",\"2012-01-01T00:00:00\",\"2012-04-01T00:00:00\",\"2012-07-01T00:00:00\",\"2013-01-01T00:00:00\",\"2013-04-01T00:00:00\",\"2013-07-01T00:00:00\",\"2014-01-01T00:00:00\",\"2014-04-01T00:00:00\",\"2014-07-01T00:00:00\",\"2015-01-01T00:00:00\",\"2015-04-01T00:00:00\",\"2015-07-01T00:00:00\",\"2016-01-01T00:00:00\",\"2016-04-01T00:00:00\",\"2016-07-01T00:00:00\",\"2017-01-01T00:00:00\",\"2017-04-01T00:00:00\",\"2017-07-01T00:00:00\",\"2018-01-01T00:00:00\",\"2018-04-01T00:00:00\",\"2018-07-01T00:00:00\",\"2019-01-01T00:00:00\",\"2019-04-01T00:00:00\",\"2019-07-01T00:00:00\",\"2020-01-01T00:00:00\",\"2020-04-01T00:00:00\",\"2020-07-01T00:00:00\",\"2021-01-01T00:00:00\",\"2021-04-01T00:00:00\",\"2021-07-01T00:00:00\",\"2022-01-01T00:00:00\",\"2022-04-01T00:00:00\",\"2022-07-01T00:00:00\",\"2023-01-01T00:00:00\",\"2023-04-01T00:00:00\",\"2023-04-01T00:00:00\",\"2023-07-01T00:00:00\",\"2023-07-01T00:00:00\",\"2024-01-01T00:00:00\"],\"y\":[-118231000.0,212979000.0,214909000.0,-34291000.0,284829000.0,287128000.0,-3100000.0,6801000.0,87981000.0,219095000.0,346876000.0,488794000.0,402568000.0,209730000.0,486809000.0,558005000.0,204929000.0,473546000.0,1146510000.0,367378000.0,703465000.0,683923000.0,348546000.0,733822000.0,837422000.0,491053000.0,897226000.0,708867000.0,367347000.0,967523000.0,1323714000.0,1150785000.0,1762178000.0,1626857000.0,464623000.0,1216028000.0,1216028000.0,747627000.0,747627000.0,585715000.0],\"type\":\"scatter\"},{\"legendgroup\":\"Public StorageSIC: 6798 - REAL ESTATE INVESTMENT TRUSTS\",\"line\":{\"color\":\"#FECB52\"},\"mode\":\"lines+markers\",\"name\":\"Public StorageSIC: 6798 - REAL ESTATE INVESTMENT TRUSTS\",\"visible\":false,\"x\":[\"2009-07-01T00:00:00\",\"2010-01-01T00:00:00\",\"2010-04-01T00:00:00\",\"2010-07-01T00:00:00\",\"2011-01-01T00:00:00\",\"2011-04-01T00:00:00\",\"2011-07-01T00:00:00\",\"2012-01-01T00:00:00\",\"2012-04-01T00:00:00\",\"2012-07-01T00:00:00\",\"2013-01-01T00:00:00\",\"2013-04-01T00:00:00\",\"2013-07-01T00:00:00\",\"2014-01-01T00:00:00\",\"2014-04-01T00:00:00\",\"2014-07-01T00:00:00\",\"2015-01-01T00:00:00\",\"2015-04-01T00:00:00\",\"2015-07-01T00:00:00\",\"2016-01-01T00:00:00\",\"2016-04-01T00:00:00\",\"2016-07-01T00:00:00\",\"2017-01-01T00:00:00\",\"2017-04-01T00:00:00\",\"2017-07-01T00:00:00\",\"2018-01-01T00:00:00\",\"2018-04-01T00:00:00\",\"2018-07-01T00:00:00\",\"2019-01-01T00:00:00\",\"2019-04-01T00:00:00\",\"2019-07-01T00:00:00\",\"2020-01-01T00:00:00\",\"2020-04-01T00:00:00\",\"2020-07-01T00:00:00\",\"2021-01-01T00:00:00\",\"2021-04-01T00:00:00\",\"2021-07-01T00:00:00\",\"2022-01-01T00:00:00\",\"2022-04-01T00:00:00\",\"2022-07-01T00:00:00\",\"2023-01-01T00:00:00\",\"2023-04-01T00:00:00\",\"2023-04-01T00:00:00\",\"2023-07-01T00:00:00\",\"2023-07-01T00:00:00\",\"2024-01-01T00:00:00\"],\"y\":[653483000.0,123961000.0,248999000.0,364392000.0,206108000.0,412552000.0,397583000.0,205852000.0,403995000.0,462035000.0,211223000.0,471686000.0,544661000.0,227196000.0,504030000.0,570293000.0,281781000.0,608186000.0,665973000.0,315873000.0,672532000.0,723964000.0,342442000.0,696144000.0,710376000.0,342997000.0,746799000.0,781829000.0,366521000.0,736577000.0,767998000.0,366156000.0,681079000.0,639790000.0,433036000.0,843462000.0,900517000.0,513943000.0,1167793000.0,3422844000.0,517708000.0,578029000.0,578029000.0,613298000.0,613298000.0,508948000.0],\"type\":\"scatter\"},{\"legendgroup\":\"VICI PROPERTIES INC.SIC: 6798 - REAL ESTATE INVESTMENT TRUSTS\",\"line\":{\"color\":\"#636EFA\"},\"mode\":\"lines+markers\",\"name\":\"VICI PROPERTIES INC.SIC: 6798 - REAL ESTATE INVESTMENT TRUSTS\",\"visible\":false,\"x\":[\"2018-01-01T00:00:00\",\"2018-04-01T00:00:00\",\"2018-07-01T00:00:00\",\"2019-01-01T00:00:00\",\"2019-04-01T00:00:00\",\"2019-07-01T00:00:00\",\"2020-01-01T00:00:00\",\"2020-04-01T00:00:00\",\"2020-07-01T00:00:00\",\"2021-01-01T00:00:00\",\"2021-04-01T00:00:00\",\"2021-07-01T00:00:00\",\"2022-01-01T00:00:00\",\"2022-04-01T00:00:00\",\"2022-07-01T00:00:00\",\"2023-01-01T00:00:00\",\"2023-04-01T00:00:00\",\"2023-04-01T00:00:00\",\"2023-07-01T00:00:00\",\"2023-07-01T00:00:00\",\"2024-01-01T00:00:00\"],\"y\":[114103000.0,251166000.0,266975000.0,150849000.0,302898000.0,296484000.0,-24012000.0,205390000.0,627676000.0,269801000.0,570510000.0,462571000.0,240383000.0,182677000.0,273199000.0,518740000.0,690702000.0,690702000.0,556329000.0,556329000.0,590016000.0],\"type\":\"scatter\"},{\"legendgroup\":\"Ventas, Inc.SIC: 6798 - REAL ESTATE INVESTMENT TRUSTS\",\"line\":{\"color\":\"#EF553B\"},\"mode\":\"lines+markers\",\"name\":\"Ventas, Inc.SIC: 6798 - REAL ESTATE INVESTMENT TRUSTS\",\"visible\":false,\"x\":[\"2009-04-01T00:00:00\",\"2009-07-01T00:00:00\",\"2010-01-01T00:00:00\",\"2010-04-01T00:00:00\",\"2010-07-01T00:00:00\",\"2011-01-01T00:00:00\",\"2011-01-01T00:00:00\",\"2011-04-01T00:00:00\",\"2011-04-01T00:00:00\",\"2011-07-01T00:00:00\",\"2011-07-01T00:00:00\"],\"y\":[162609000.0,212414000.0,52619000.0,110686000.0,115965000.0,48984000.0,48984000.0,19676000.0,19676000.0,102885000.0,102885000.0],\"type\":\"scatter\"},{\"legendgroup\":\"WELLTOWER INC.SIC: 6798 - REAL ESTATE INVESTMENT TRUSTS\",\"line\":{\"color\":\"#00CC96\"},\"mode\":\"lines+markers\",\"name\":\"WELLTOWER INC.SIC: 6798 - REAL ESTATE INVESTMENT TRUSTS\",\"visible\":false,\"x\":[\"2011-01-01T00:00:00\",\"2011-04-01T00:00:00\",\"2011-07-01T00:00:00\",\"2012-01-01T00:00:00\",\"2012-04-01T00:00:00\",\"2012-04-01T00:00:00\"],\"y\":[32052000.0,119252000.0,141042000.0,58514000.0,77696000.0,77691000.0],\"type\":\"scatter\"},{\"legendgroup\":\"WEYERHAEUSER COSIC: 6798 - REAL ESTATE INVESTMENT TRUSTS\",\"line\":{\"color\":\"#AB63FA\"},\"mode\":\"lines+markers\",\"name\":\"WEYERHAEUSER COSIC: 6798 - REAL ESTATE INVESTMENT TRUSTS\",\"visible\":false,\"x\":[\"2009-04-01T00:00:00\",\"2009-07-01T00:00:00\",\"2009-07-01T00:00:00\",\"2010-01-01T00:00:00\",\"2010-07-01T00:00:00\",\"2011-01-01T00:00:00\",\"2011-04-01T00:00:00\",\"2011-07-01T00:00:00\",\"2012-01-01T00:00:00\",\"2012-04-01T00:00:00\",\"2012-07-01T00:00:00\",\"2013-01-01T00:00:00\",\"2013-01-01T00:00:00\",\"2013-04-01T00:00:00\",\"2013-07-01T00:00:00\",\"2014-04-01T00:00:00\",\"2014-07-01T00:00:00\",\"2015-01-01T00:00:00\",\"2015-04-01T00:00:00\",\"2015-07-01T00:00:00\",\"2016-01-01T00:00:00\",\"2016-04-01T00:00:00\",\"2016-07-01T00:00:00\",\"2017-01-01T00:00:00\",\"2017-04-01T00:00:00\",\"2017-07-01T00:00:00\",\"2018-01-01T00:00:00\",\"2018-04-01T00:00:00\",\"2018-07-01T00:00:00\",\"2019-01-01T00:00:00\",\"2019-04-01T00:00:00\",\"2019-07-01T00:00:00\",\"2020-01-01T00:00:00\",\"2020-04-01T00:00:00\",\"2020-07-01T00:00:00\",\"2021-01-01T00:00:00\",\"2021-04-01T00:00:00\",\"2021-07-01T00:00:00\",\"2022-01-01T00:00:00\",\"2022-04-01T00:00:00\",\"2022-07-01T00:00:00\",\"2023-01-01T00:00:00\",\"2023-04-01T00:00:00\",\"2023-04-01T00:00:00\",\"2023-07-01T00:00:00\",\"2023-07-01T00:00:00\",\"2024-01-01T00:00:00\"],\"y\":[-370000000.0,0.0,0.0,-20000000.0,1110000000.0,99000000.0,109000000.0,167000000.0,41000000.0,125000000.0,201000000.0,144000000.0,144000000.0,196000000.0,353000000.0,485000000.0,1649000000.0,101000000.0,245000000.0,335000000.0,81000000.0,249000000.0,395000000.0,157000000.0,181000000.0,154000000.0,269000000.0,586000000.0,572000000.0,-289000000.0,-161000000.0,227000000.0,150000000.0,222000000.0,355000000.0,681000000.0,1709000000.0,1510000000.0,771000000.0,1559000000.0,1098000000.0,151000000.0,230000000.0,230000000.0,239000000.0,239000000.0,114000000.0],\"type\":\"scatter\"},{\"legendgroup\":\"ALEXANDRIA REAL ESTATE EQUITIES, INC.SIC: 6798 - REAL ESTATE INVESTMENT TRUSTS\",\"line\":{\"color\":\"#636EFA\"},\"mode\":\"lines+markers\",\"name\":\"ALEXANDRIA REAL ESTATE EQUITIES, INC.SIC: 6798 - REAL ESTATE INVESTMENT TRUSTS\",\"visible\":false,\"x\":[\"2012-01-01T00:00:00\",\"2012-04-01T00:00:00\",\"2012-07-01T00:00:00\",\"2013-01-01T00:00:00\",\"2013-04-01T00:00:00\",\"2013-07-01T00:00:00\",\"2014-01-01T00:00:00\",\"2014-04-01T00:00:00\",\"2016-01-01T00:00:00\",\"2016-04-01T00:00:00\",\"2016-07-01T00:00:00\",\"2017-01-01T00:00:00\",\"2017-04-01T00:00:00\",\"2017-07-01T00:00:00\",\"2018-01-01T00:00:00\",\"2018-04-01T00:00:00\",\"2018-04-01T00:00:00\",\"2018-07-01T00:00:00\",\"2019-01-01T00:00:00\",\"2019-07-01T00:00:00\",\"2020-01-01T00:00:00\",\"2020-04-01T00:00:00\",\"2020-07-01T00:00:00\",\"2021-01-01T00:00:00\",\"2021-04-01T00:00:00\",\"2021-07-01T00:00:00\",\"2022-01-01T00:00:00\",\"2022-04-01T00:00:00\",\"2022-07-01T00:00:00\",\"2023-01-01T00:00:00\",\"2023-04-01T00:00:00\",\"2023-04-01T00:00:00\",\"2023-07-01T00:00:00\",\"2023-07-01T00:00:00\",\"2024-01-01T00:00:00\"],\"y\":[33.582367549668874,37.66627694072489,45.46469656443948,38.78521770947677,35.956553467367506,33.88157894736842,32.50055235473071,33.276069403882495,80.72163944009613,-89.39068100358423,-140.28290961230906,41.65885726274565,44.76226502938951,41.638091700768705,21.39441884725724,41.040860956402774,41.040860956402774,18.47674622162572,23.237984298016748,44.36806435311139,70.90878085079996,26.75722052527921,22.136015757739788,81.78657934870368,15.408859152808553,12.670395498213988,-24.50698832088838,30.45048825577571,7.112990871051914,15.012661543835138,15.95379827864946,15.95379827864946,31.981502242152466,31.981502242152466,19.32019774345389],\"type\":\"scatter\"},{\"legendgroup\":\"AMERICAN TOWER CORP \\u002fMA\\u002fSIC: 6798 - REAL ESTATE INVESTMENT TRUSTS\",\"line\":{\"color\":\"#EF553B\"},\"mode\":\"lines+markers\",\"name\":\"AMERICAN TOWER CORP \\u002fMA\\u002fSIC: 6798 - REAL ESTATE INVESTMENT TRUSTS\",\"visible\":false,\"x\":[\"2009-04-01T00:00:00\",\"2009-07-01T00:00:00\",\"2010-01-01T00:00:00\",\"2010-04-01T00:00:00\",\"2010-07-01T00:00:00\",\"2011-01-01T00:00:00\",\"2011-04-01T00:00:00\",\"2011-07-01T00:00:00\",\"2012-01-01T00:00:00\",\"2012-04-01T00:00:00\",\"2012-07-01T00:00:00\",\"2013-01-01T00:00:00\",\"2013-04-01T00:00:00\",\"2013-07-01T00:00:00\",\"2014-01-01T00:00:00\",\"2014-04-01T00:00:00\",\"2014-07-01T00:00:00\",\"2015-01-01T00:00:00\",\"2015-04-01T00:00:00\",\"2015-07-01T00:00:00\",\"2017-01-01T00:00:00\",\"2017-04-01T00:00:00\",\"2017-07-01T00:00:00\",\"2019-04-01T00:00:00\",\"2019-07-01T00:00:00\",\"2020-01-01T00:00:00\",\"2020-04-01T00:00:00\",\"2020-07-01T00:00:00\",\"2021-04-01T00:00:00\",\"2021-07-01T00:00:00\",\"2022-01-01T00:00:00\",\"2022-04-01T00:00:00\",\"2022-07-01T00:00:00\"],\"y\":[51.95138679781859,50.82301195391133,37.7529324328691,36.87619575230132,38.1239546016752,44.76300452880573,41.837737926694984,60.483364969938606,30.060077807239043,42.02295290030439,41.94360846970711,39.469158429652545,43.93903379226099,42.527725654596445,41.441444046662,39.85582356350081,39.57045401725293,43.350495676203145,48.76068333973595,59.25446820630889,36.75553999299685,33.75475338354278,37.30525716724763,33.266047638272106,39.79960674120846,33.47226675216415,47.67769176636172,29.91301670387191,23.217439293598233,17.21937277318821,26.937686069192075,23.544433094994893,25.93278645144218],\"type\":\"scatter\"},{\"legendgroup\":\"ANNALY CAPITAL MANAGEMENT INC \",\"line\":{\"color\":\"#00CC96\"},\"mode\":\"lines+markers\",\"name\":\"ANNALY CAPITAL MANAGEMENT INC \",\"visible\":false,\"x\":[\"2009-04-01T00:00:00\",\"2009-07-01T00:00:00\",\"2010-01-01T00:00:00\",\"2010-04-01T00:00:00\",\"2010-07-01T00:00:00\",\"2011-01-01T00:00:00\",\"2011-04-01T00:00:00\",\"2011-07-01T00:00:00\",\"2012-01-01T00:00:00\",\"2012-04-01T00:00:00\",\"2012-07-01T00:00:00\",\"2013-01-01T00:00:00\",\"2013-04-01T00:00:00\",\"2013-07-01T00:00:00\",\"2014-01-01T00:00:00\",\"2014-04-01T00:00:00\",\"2014-07-01T00:00:00\",\"2015-01-01T00:00:00\",\"2015-04-01T00:00:00\",\"2015-07-01T00:00:00\",\"2016-01-01T00:00:00\",\"2016-04-01T00:00:00\",\"2016-07-01T00:00:00\",\"2017-01-01T00:00:00\",\"2017-04-01T00:00:00\",\"2017-07-01T00:00:00\",\"2018-01-01T00:00:00\",\"2018-04-01T00:00:00\",\"2018-07-01T00:00:00\",\"2019-01-01T00:00:00\",\"2019-04-01T00:00:00\",\"2019-07-01T00:00:00\",\"2020-01-01T00:00:00\",\"2020-04-01T00:00:00\",\"2020-07-01T00:00:00\",\"2021-01-01T00:00:00\",\"2021-04-01T00:00:00\",\"2021-07-01T00:00:00\",\"2022-01-01T00:00:00\",\"2022-04-01T00:00:00\",\"2022-07-01T00:00:00\",\"2023-04-01T00:00:00\",\"2023-04-01T00:00:00\",\"2023-07-01T00:00:00\",\"2023-07-01T00:00:00\",\"2024-01-01T00:00:00\"],\"y\":[42.54548080050092,45.021761304768035,49.591444364335494,89.8584056799126,166.2696386236488,31.483535470910887,21.798819996036162,-3.7012870157831297,12.881695520750112,26.997347886188745,72.27862678576986,16.947745326701455,11.993147474543353,14.470692888532154,-159.44245981117632,-87.24499192105218,92.90180537208278,-37.29801232892109,36.393652737568345,45.00730412355555,-20.465362242199895,-35.492085861428095,41.91071174454785,31.05553607873089,48.03451768072059,56.242750939157695,21.673929239904414,29.632874295128595,49.017433338077524,-321.5085254771537,-113.87654288805182,-150.76734107349242,-16.05062130552904,-32.919035515061005,13.858871973471192,4.1588341491559495,8.605751445649423,33.270464088430764,3.5725167689708592,7.829283793631084,49.119664693160175,85.09286115895725,85.09286115895725,216.01088701523275,216.01088701523275,70.4001263563646],\"type\":\"scatter\"},{\"legendgroup\":\"AVALONBAY COMMUNITIES INC \",\"line\":{\"color\":\"#AB63FA\"},\"mode\":\"lines+markers\",\"name\":\"AVALONBAY COMMUNITIES INC \",\"visible\":false,\"x\":[\"2013-07-01T00:00:00\",\"2014-01-01T00:00:00\"],\"y\":[83.36182261831752,23.081640184075713],\"type\":\"scatter\"},{\"legendgroup\":\"BOSTON PROPERTIES INCSIC: 6798 - REAL ESTATE INVESTMENT TRUSTS\",\"line\":{\"color\":\"#FFA15A\"},\"mode\":\"lines+markers\",\"name\":\"BOSTON PROPERTIES INCSIC: 6798 - REAL ESTATE INVESTMENT TRUSTS\",\"visible\":false,\"x\":[\"2009-04-01T00:00:00\",\"2009-07-01T00:00:00\",\"2010-01-01T00:00:00\",\"2010-04-01T00:00:00\",\"2010-07-01T00:00:00\",\"2011-01-01T00:00:00\",\"2011-04-01T00:00:00\",\"2011-07-01T00:00:00\",\"2012-01-01T00:00:00\",\"2012-04-01T00:00:00\",\"2012-07-01T00:00:00\",\"2013-01-01T00:00:00\",\"2013-04-01T00:00:00\",\"2014-01-01T00:00:00\",\"2014-04-01T00:00:00\",\"2014-07-01T00:00:00\",\"2015-01-01T00:00:00\",\"2015-04-01T00:00:00\",\"2015-07-01T00:00:00\",\"2016-01-01T00:00:00\",\"2016-04-01T00:00:00\",\"2016-07-01T00:00:00\",\"2017-01-01T00:00:00\",\"2017-04-01T00:00:00\",\"2017-07-01T00:00:00\",\"2018-01-01T00:00:00\",\"2018-04-01T00:00:00\",\"2018-07-01T00:00:00\",\"2019-01-01T00:00:00\",\"2019-04-01T00:00:00\",\"2019-07-01T00:00:00\",\"2020-01-01T00:00:00\",\"2020-04-01T00:00:00\",\"2020-07-01T00:00:00\",\"2021-01-01T00:00:00\",\"2021-04-01T00:00:00\",\"2021-07-01T00:00:00\",\"2022-01-01T00:00:00\",\"2022-04-01T00:00:00\",\"2022-07-01T00:00:00\",\"2023-01-01T00:00:00\",\"2023-04-01T00:00:00\",\"2023-04-01T00:00:00\",\"2023-07-01T00:00:00\",\"2023-07-01T00:00:00\"],\"y\":[58.49097928576732,56.91910628564221,63.58096764610379,62.32222794438062,61.94931773879142,70.84035894944414,65.81893165750196,59.402162589136054,61.49854946416551,52.5162224347871,53.678897352346425,67.66217754811936,28.81715102699489,66.72699601003661,62.31225647458455,51.68000036867379,38.49423773926832,45.9202606975604,44.699678631240666,36.354315540918414,42.586900263647074,54.005651886065806,48.931070159084626,44.68737329824158,42.21091135426721,33.555748960448696,37.05123934713906,42.56820853588239,50.06914875160479,43.17318653977204,42.953434271339624,16.8836586273832,21.338151633332142,37.581620522715916,51.75205517558921,50.220013362559044,49.08103080045075,41.440180124859275,35.94066648699542,26.995631714130372,63.27623681617373,57.734670059812295,57.728587751926675,410.7486244650697,411.8817399058155],\"type\":\"scatter\"},{\"legendgroup\":\"BOSTON PROPERTIES LTD PARTNERSHIPSIC: 6798 - REAL ESTATE INVESTMENT TRUSTS\",\"line\":{\"color\":\"#19D3F3\"},\"mode\":\"lines+markers\",\"name\":\"BOSTON PROPERTIES LTD PARTNERSHIPSIC: 6798 - REAL ESTATE INVESTMENT TRUSTS\",\"visible\":false,\"x\":[\"2009-04-01T00:00:00\",\"2009-07-01T00:00:00\",\"2010-01-01T00:00:00\",\"2010-04-01T00:00:00\",\"2010-07-01T00:00:00\",\"2011-01-01T00:00:00\",\"2011-04-01T00:00:00\",\"2011-07-01T00:00:00\",\"2012-01-01T00:00:00\",\"2012-04-01T00:00:00\",\"2012-07-01T00:00:00\",\"2013-01-01T00:00:00\",\"2013-04-01T00:00:00\",\"2013-07-01T00:00:00\",\"2014-01-01T00:00:00\",\"2014-04-01T00:00:00\",\"2014-07-01T00:00:00\",\"2015-01-01T00:00:00\",\"2015-04-01T00:00:00\",\"2015-04-01T00:00:00\",\"2015-07-01T00:00:00\",\"2015-07-01T00:00:00\"],\"y\":[53.84652188028638,52.43361249899447,59.41341287057122,58.178142517712246,57.84457653012508,66.97219820598725,61.95937309750648,55.68064223686857,57.833262374795524,48.88507058251633,50.120206711521014,62.24311460373336,26.44887194111877,24.906316531843537,64.60264090616876,60.00518458734426,49.13832388330456,35.69138375203059,53.72863903685076,53.72863903685076,34.08369905956113,34.08369905956113],\"type\":\"scatter\"},{\"legendgroup\":\"CBRE GROUP, INC. \",\"line\":{\"color\":\"#FF6692\"},\"mode\":\"lines+markers\",\"name\":\"CBRE GROUP, INC. \",\"visible\":false,\"x\":[\"2010-04-01T00:00:00\",\"2010-07-01T00:00:00\",\"2011-01-01T00:00:00\",\"2011-04-01T00:00:00\",\"2011-07-01T00:00:00\",\"2012-01-01T00:00:00\",\"2012-04-01T00:00:00\",\"2012-07-01T00:00:00\",\"2013-01-01T00:00:00\",\"2013-04-01T00:00:00\",\"2013-07-01T00:00:00\",\"2014-01-01T00:00:00\",\"2014-04-01T00:00:00\",\"2014-07-01T00:00:00\",\"2015-01-01T00:00:00\",\"2015-04-01T00:00:00\",\"2015-07-01T00:00:00\",\"2016-01-01T00:00:00\",\"2016-04-01T00:00:00\",\"2016-07-01T00:00:00\",\"2017-01-01T00:00:00\",\"2017-04-01T00:00:00\",\"2017-07-01T00:00:00\",\"2018-01-01T00:00:00\",\"2018-04-01T00:00:00\",\"2018-07-01T00:00:00\",\"2019-01-01T00:00:00\"],\"y\":[67.5079268704041,58.74842661250162,49.52193517117805,41.54324083020437,36.957332876173574,61.98348272168668,46.22045597155407,43.24311052621241,53.032861735529956,42.65617078052035,28.439743796291054,29.28050335500324,24.60019511175374,20.943267106525735,22.00065463151799,19.371592178564295,17.175873476231477,29.74597501645904,26.042770271250888,24.74582709911327,20.7876191116517,17.5264132942287,15.087128691505088,16.108648811583848,10.52036376158277,8.404074167507568,12.144173992037834],\"type\":\"scatter\"},{\"legendgroup\":\"CROWN CASTLE INC. \",\"line\":{\"color\":\"#B6E880\"},\"mode\":\"lines+markers\",\"name\":\"CROWN CASTLE INC. \",\"visible\":false,\"x\":[\"2009-07-01T00:00:00\",\"2013-07-01T00:00:00\",\"2014-01-01T00:00:00\",\"2014-04-01T00:00:00\",\"2014-07-01T00:00:00\"],\"y\":[168.10400666234847,33.164762014960424,13.750966612564689,32.213828705826074,12.695937561230489],\"type\":\"scatter\"},{\"legendgroup\":\"Cushman & Wakefield plc \",\"line\":{\"color\":\"#FF97FF\"},\"mode\":\"lines+markers\",\"name\":\"Cushman & Wakefield plc \",\"visible\":false,\"x\":[\"2018-04-01T00:00:00\",\"2019-01-01T00:00:00\",\"2019-04-01T00:00:00\",\"2019-07-01T00:00:00\",\"2020-01-01T00:00:00\",\"2020-04-01T00:00:00\",\"2020-07-01T00:00:00\",\"2021-01-01T00:00:00\",\"2021-04-01T00:00:00\",\"2021-07-01T00:00:00\",\"2022-01-01T00:00:00\",\"2022-04-01T00:00:00\",\"2022-07-01T00:00:00\",\"2023-04-01T00:00:00\",\"2023-04-01T00:00:00\",\"2023-07-01T00:00:00\",\"2023-07-01T00:00:00\",\"2024-01-01T00:00:00\"],\"y\":[-346.76258992805754,228.22085889570553,124.01315789473684,80.76923076923077,-196.23655913978496,-93.42431761786601,-153.86029411764707,168.25396825396825,70.82990961380443,42.464454976303315,48.70349492671928,38.491379310344826,44.34742647058823,91.9047619047619,91.9047619047619,160.97122302158274,160.97122302158274,196.3210702341137],\"type\":\"scatter\"},{\"legendgroup\":\"DIGITAL REALTY TRUST, INC.SIC: 6798 - REAL ESTATE INVESTMENT TRUSTS\",\"line\":{\"color\":\"#FECB52\"},\"mode\":\"lines+markers\",\"name\":\"DIGITAL REALTY TRUST, INC.SIC: 6798 - REAL ESTATE INVESTMENT TRUSTS\",\"visible\":false,\"x\":[\"2011-04-01T00:00:00\",\"2011-07-01T00:00:00\",\"2012-01-01T00:00:00\",\"2012-04-01T00:00:00\",\"2012-07-01T00:00:00\",\"2013-01-01T00:00:00\",\"2013-04-01T00:00:00\",\"2013-07-01T00:00:00\",\"2014-01-01T00:00:00\",\"2014-04-01T00:00:00\",\"2014-07-01T00:00:00\",\"2015-01-01T00:00:00\",\"2015-04-01T00:00:00\",\"2015-07-01T00:00:00\",\"2016-01-01T00:00:00\",\"2016-04-01T00:00:00\",\"2016-07-01T00:00:00\",\"2017-01-01T00:00:00\",\"2017-04-01T00:00:00\",\"2017-07-01T00:00:00\",\"2018-01-01T00:00:00\",\"2018-04-01T00:00:00\",\"2018-07-01T00:00:00\",\"2019-01-01T00:00:00\",\"2019-04-01T00:00:00\",\"2019-07-01T00:00:00\",\"2020-01-01T00:00:00\",\"2020-04-01T00:00:00\",\"2020-07-01T00:00:00\",\"2021-01-01T00:00:00\",\"2021-04-01T00:00:00\",\"2021-07-01T00:00:00\",\"2022-01-01T00:00:00\",\"2022-04-01T00:00:00\",\"2022-07-01T00:00:00\",\"2023-01-01T00:00:00\",\"2023-04-01T00:00:00\",\"2023-04-01T00:00:00\",\"2023-07-01T00:00:00\",\"2023-07-01T00:00:00\",\"2024-01-01T00:00:00\"],\"y\":[50.4046891813315,50.436014580148225,44.183939027790686,42.996359753985246,-62.941110631425786,48.667361750802215,46.698527688822935,31.315805899493757,50.78361168878503,47.60049513983755,34.095009862554875,27.447192557757667,26.371107540443568,32.87008136262341,48.1954380944365,51.14494486979144,31.331325976421198,39.89553054939995,41.069540478379196,58.651589502880306,41.92808748883515,44.78347729853256,47.98645111069034,46.50583429503032,51.456869903423915,57.3934542029668,27.694035776304492,35.66571012165272,69.3963927790024,16.390256795783117,22.903254737846986,36.42924669121306,47.658671771209804,49.823824764365625,32.62694859279819,59.79666093386216,48.45878761447885,48.45878761447885,13.118068179799499,13.118068179799499,28.010986004096736],\"type\":\"scatter\"},{\"legendgroup\":\"EQUINIX INCSIC: 6798 - REAL ESTATE INVESTMENT TRUSTS\",\"line\":{\"color\":\"#636EFA\"},\"mode\":\"lines+markers\",\"name\":\"EQUINIX INCSIC: 6798 - REAL ESTATE INVESTMENT TRUSTS\",\"visible\":false,\"x\":[\"2010-04-01T00:00:00\",\"2010-07-01T00:00:00\",\"2011-01-01T00:00:00\",\"2011-04-01T00:00:00\",\"2011-07-01T00:00:00\",\"2012-01-01T00:00:00\",\"2012-04-01T00:00:00\",\"2012-07-01T00:00:00\",\"2013-01-01T00:00:00\",\"2013-04-01T00:00:00\",\"2013-07-01T00:00:00\",\"2014-01-01T00:00:00\",\"2014-04-01T00:00:00\",\"2014-07-01T00:00:00\",\"2015-01-01T00:00:00\",\"2015-04-01T00:00:00\",\"2015-07-01T00:00:00\",\"2016-04-01T00:00:00\",\"2016-07-01T00:00:00\",\"2017-01-01T00:00:00\",\"2017-04-01T00:00:00\",\"2017-07-01T00:00:00\",\"2018-01-01T00:00:00\",\"2018-04-01T00:00:00\",\"2018-07-01T00:00:00\",\"2019-01-01T00:00:00\",\"2019-04-01T00:00:00\",\"2019-07-01T00:00:00\",\"2020-01-01T00:00:00\",\"2020-04-01T00:00:00\",\"2020-07-01T00:00:00\",\"2021-01-01T00:00:00\",\"2021-04-01T00:00:00\",\"2021-07-01T00:00:00\",\"2022-01-01T00:00:00\",\"2022-04-01T00:00:00\",\"2022-07-01T00:00:00\",\"2023-01-01T00:00:00\",\"2023-04-01T00:00:00\",\"2023-04-01T00:00:00\",\"2023-07-01T00:00:00\",\"2023-07-01T00:00:00\"],\"y\":[84.14544971082896,81.4696972125603,59.77186190125748,57.318982835929205,63.49470823798627,60.47331722787694,58.39366847427818,59.76990245195004,62.70566347582967,94.38065901241482,90.03031323678006,62.44612411189852,72.02097564341406,70.68761194595209,47.362695620442985,51.32092636766739,59.98066487372492,93.66838148001582,74.74590615803899,72.64188987030558,72.4202979977589,65.70824524312897,66.75283209371415,66.66036550163234,57.95268330412819,50.989523667214556,48.19682454187937,47.50237292443576,47.46738601689294,46.12343293853144,51.007454551244834,36.4493198343379,44.05036689549392,42.969107566280265,35.16212437010263,31.949469289105554,29.849533263094767,27.36178203426082,32.56417689729416,32.56417689729416,26.879810381808106,26.879810381808106],\"type\":\"scatter\"},{\"legendgroup\":\"EQUITY RESIDENTIALSIC: 6798 - REAL ESTATE INVESTMENT TRUSTS\",\"line\":{\"color\":\"#EF553B\"},\"mode\":\"lines+markers\",\"name\":\"EQUITY RESIDENTIALSIC: 6798 - REAL ESTATE INVESTMENT TRUSTS\",\"visible\":false,\"x\":[\"2013-04-01T00:00:00\",\"2013-07-01T00:00:00\",\"2014-04-01T00:00:00\",\"2014-07-01T00:00:00\"],\"y\":[0.05211648779543534,0.09962271454818965,1.140450916747083,0.4302085849777781],\"type\":\"scatter\"},{\"legendgroup\":\"ESSEX PROPERTY TRUST, INC. \",\"line\":{\"color\":\"#00CC96\"},\"mode\":\"lines+markers\",\"name\":\"ESSEX PROPERTY TRUST, INC. \",\"visible\":false,\"x\":[\"2010-04-01T00:00:00\",\"2010-07-01T00:00:00\",\"2011-01-01T00:00:00\",\"2011-04-01T00:00:00\",\"2011-07-01T00:00:00\",\"2012-01-01T00:00:00\",\"2012-04-01T00:00:00\",\"2012-07-01T00:00:00\",\"2013-01-01T00:00:00\",\"2013-04-01T00:00:00\",\"2013-07-01T00:00:00\",\"2014-01-01T00:00:00\",\"2014-04-01T00:00:00\",\"2014-07-01T00:00:00\",\"2015-01-01T00:00:00\",\"2015-04-01T00:00:00\",\"2015-07-01T00:00:00\",\"2016-01-01T00:00:00\",\"2016-04-01T00:00:00\",\"2016-07-01T00:00:00\",\"2017-01-01T00:00:00\",\"2017-04-01T00:00:00\",\"2017-07-01T00:00:00\"],\"y\":[63.8452735179675,67.6579650738984,73.34860066026232,66.22041739182174,64.78264226700641,50.582588003610404,44.09040517827129,47.016216727341494,48.686802363755746,49.35405713410138,35.24764570454347,52.81240498631803,70.6445050855867,61.45230262046789,43.93335982184933,47.766558357982056,52.70432692307692,39.065687778290716,41.252773184971915,44.934056477275,23.371312840670186,44.53363225184407,41.23366332254664],\"type\":\"scatter\"},{\"legendgroup\":\"JLL Income Property Trust, Inc.SIC: 6798 - REAL ESTATE INVESTMENT TRUSTS\",\"line\":{\"color\":\"#AB63FA\"},\"mode\":\"lines+markers\",\"name\":\"JLL Income Property Trust, Inc.SIC: 6798 - REAL ESTATE INVESTMENT TRUSTS\",\"visible\":false,\"x\":[\"2011-07-01T00:00:00\",\"2012-01-01T00:00:00\",\"2012-04-01T00:00:00\",\"2012-07-01T00:00:00\",\"2013-01-01T00:00:00\",\"2013-04-01T00:00:00\",\"2013-07-01T00:00:00\",\"2014-01-01T00:00:00\",\"2014-04-01T00:00:00\",\"2014-07-01T00:00:00\",\"2015-01-01T00:00:00\",\"2015-04-01T00:00:00\",\"2015-07-01T00:00:00\",\"2016-01-01T00:00:00\",\"2016-04-01T00:00:00\",\"2016-07-01T00:00:00\",\"2017-01-01T00:00:00\",\"2017-04-01T00:00:00\",\"2017-07-01T00:00:00\",\"2018-01-01T00:00:00\",\"2018-04-01T00:00:00\",\"2018-07-01T00:00:00\",\"2019-01-01T00:00:00\",\"2019-04-01T00:00:00\",\"2019-07-01T00:00:00\",\"2020-01-01T00:00:00\",\"2020-04-01T00:00:00\",\"2021-01-01T00:00:00\",\"2021-04-01T00:00:00\",\"2022-01-01T00:00:00\",\"2022-04-01T00:00:00\",\"2023-04-01T00:00:00\",\"2023-04-01T00:00:00\",\"2023-07-01T00:00:00\",\"2023-07-01T00:00:00\"],\"y\":[369.435069699193,49.89783408255006,74.79663955194026,140.68956933034602,180.117122141662,121.136299501458,-471.984649122807,76.76475898176567,80.74417774605158,83.75132462027553,15.23847290817982,26.583402016103467,168.88006053726826,80.04565596884652,90.58697208303508,118.2870588235294,112.63193735103847,81.70169450931083,50.497827351421634,14.929768326688036,26.749308472492572,101.28651132261241,8.277189605389799,16.281715138558347,167.5827015851137,-362.10762331838566,-52.979185727355905,23.52731983641121,42.61301713239461,32.000286805169665,78.92440092446175,139.31672911615604,464.5999704229518,173.69629997516762,173.69629997516762],\"type\":\"scatter\"},{\"legendgroup\":\"JONES LANG LASALLE INCSIC: 6531 - REAL ESTATE AGENTS & MANAGERS (FOR OTHERS)\",\"line\":{\"color\":\"#FFA15A\"},\"mode\":\"lines+markers\",\"name\":\"JONES LANG LASALLE INCSIC: 6531 - REAL ESTATE AGENTS & MANAGERS (FOR OTHERS)\",\"visible\":false,\"x\":[\"2010-04-01T00:00:00\",\"2010-07-01T00:00:00\",\"2011-01-01T00:00:00\",\"2011-04-01T00:00:00\",\"2011-07-01T00:00:00\",\"2012-01-01T00:00:00\",\"2012-04-01T00:00:00\",\"2012-07-01T00:00:00\",\"2013-01-01T00:00:00\",\"2013-04-01T00:00:00\",\"2013-07-01T00:00:00\",\"2014-01-01T00:00:00\",\"2014-04-01T00:00:00\",\"2014-07-01T00:00:00\",\"2015-01-01T00:00:00\",\"2015-04-01T00:00:00\",\"2015-07-01T00:00:00\"],\"y\":[42.94189526626171,34.00833602953771,84.23780810324764,27.799423485064462,19.803354897100718,34.62004662004662,22.434399915597822,16.682795956498826,37.5871720669861,22.13989407498239,14.586115080387609,29.446736767380983,13.99984335839599,7.855686274509804,12.597012434281899,7.722567922426918,5.779897936543155],\"type\":\"scatter\"},{\"legendgroup\":\"NEWMARK GROUP, INC. \",\"line\":{\"color\":\"#19D3F3\"},\"mode\":\"lines+markers\",\"name\":\"NEWMARK GROUP, INC. \",\"visible\":false,\"x\":[],\"y\":[],\"type\":\"scatter\"},{\"legendgroup\":\"PROLOGISSIC: 6798 - REAL ESTATE INVESTMENT TRUSTS\",\"line\":{\"color\":\"#FF6692\"},\"mode\":\"lines+markers\",\"name\":\"PROLOGISSIC: 6798 - REAL ESTATE INVESTMENT TRUSTS\",\"visible\":false,\"x\":[\"2009-04-01T00:00:00\",\"2009-07-01T00:00:00\",\"2010-01-01T00:00:00\",\"2010-04-01T00:00:00\",\"2010-04-01T00:00:00\",\"2010-07-01T00:00:00\",\"2010-07-01T00:00:00\",\"2011-01-01T00:00:00\"],\"y\":[-69.18743168969232,-167.07983180072534,436.0958007851223,116.42957146633509,116.42957146633509,107.78395338413267,107.78395338413267,179.99006260558482],\"type\":\"scatter\"},{\"legendgroup\":\"PS BUSINESS PARKS, INC.\\u002fMDSIC: 6798 - REAL ESTATE INVESTMENT TRUSTS\",\"line\":{\"color\":\"#B6E880\"},\"mode\":\"lines+markers\",\"name\":\"PS BUSINESS PARKS, INC.\\u002fMDSIC: 6798 - REAL ESTATE INVESTMENT TRUSTS\",\"visible\":false,\"x\":[\"2010-04-01T00:00:00\",\"2010-07-01T00:00:00\",\"2011-01-01T00:00:00\",\"2011-04-01T00:00:00\",\"2011-07-01T00:00:00\",\"2012-01-01T00:00:00\",\"2012-04-01T00:00:00\",\"2012-07-01T00:00:00\",\"2013-01-01T00:00:00\",\"2013-04-01T00:00:00\",\"2013-07-01T00:00:00\"],\"y\":[3.6679743606234054,3.845581893346816,4.296778300385473,4.603261293594445,4.794452304565291,20.533691687464003,19.57009172611878,18.803527132484746,16.98567250379475,14.235911443358251,14.26086339108208],\"type\":\"scatter\"},{\"legendgroup\":\"Prologis, Inc.SIC: 6798 - REAL ESTATE INVESTMENT TRUSTS\",\"line\":{\"color\":\"#FF97FF\"},\"mode\":\"lines+markers\",\"name\":\"Prologis, Inc.SIC: 6798 - REAL ESTATE INVESTMENT TRUSTS\",\"visible\":false,\"x\":[\"2011-07-01T00:00:00\",\"2012-01-01T00:00:00\",\"2012-04-01T00:00:00\",\"2012-07-01T00:00:00\",\"2013-01-01T00:00:00\",\"2013-04-01T00:00:00\",\"2013-07-01T00:00:00\",\"2014-01-01T00:00:00\",\"2014-04-01T00:00:00\",\"2014-07-01T00:00:00\",\"2015-01-01T00:00:00\",\"2015-04-01T00:00:00\",\"2015-07-01T00:00:00\",\"2016-01-01T00:00:00\",\"2016-04-01T00:00:00\",\"2016-07-01T00:00:00\",\"2017-01-01T00:00:00\",\"2017-04-01T00:00:00\",\"2017-07-01T00:00:00\",\"2018-01-01T00:00:00\",\"2018-04-01T00:00:00\",\"2018-07-01T00:00:00\",\"2019-01-01T00:00:00\",\"2019-04-01T00:00:00\",\"2019-07-01T00:00:00\",\"2020-01-01T00:00:00\",\"2020-04-01T00:00:00\",\"2020-07-01T00:00:00\",\"2021-01-01T00:00:00\",\"2021-04-01T00:00:00\",\"2021-07-01T00:00:00\",\"2022-01-01T00:00:00\",\"2022-04-01T00:00:00\",\"2022-07-01T00:00:00\",\"2023-01-01T00:00:00\",\"2023-04-01T00:00:00\",\"2023-04-01T00:00:00\",\"2023-07-01T00:00:00\",\"2023-07-01T00:00:00\",\"2024-01-01T00:00:00\"],\"y\":[153.41408099463288,38.521069434742195,54.87351885720765,115.82045757574359,28.76728430413873,41.95048379988112,101.77900203724427,92.63355140591828,65.31921099933777,40.52230803686561,16.543522352437343,21.97485222449426,27.137672962235637,27.814223072739914,24.417460051298296,21.382278766360933,26.242347241767774,23.84418441586846,10.850555264397919,11.394688668983632,12.725795245893504,14.875553713474202,14.791970722620297,14.017090612114814,12.475699946069557,13.347920839252154,14.887598347888284,18.60299284858005,16.250900535305544,12.616598748572997,9.070838405126105,5.273412580493543,6.591820453900935,7.091638426209885,22.644572235337993,10.968879361216418,10.968879361216418,19.49573588318904,19.49573588318904,24.815316385014793],\"type\":\"scatter\"},{\"legendgroup\":\"Public StorageSIC: 6798 - REAL ESTATE INVESTMENT TRUSTS\",\"line\":{\"color\":\"#FECB52\"},\"mode\":\"lines+markers\",\"name\":\"Public StorageSIC: 6798 - REAL ESTATE INVESTMENT TRUSTS\",\"visible\":false,\"x\":[\"2009-07-01T00:00:00\",\"2010-01-01T00:00:00\",\"2010-04-01T00:00:00\",\"2010-07-01T00:00:00\",\"2011-01-01T00:00:00\",\"2011-04-01T00:00:00\",\"2011-07-01T00:00:00\",\"2012-01-01T00:00:00\",\"2012-04-01T00:00:00\",\"2012-07-01T00:00:00\",\"2013-01-01T00:00:00\",\"2013-04-01T00:00:00\",\"2013-07-01T00:00:00\",\"2014-01-01T00:00:00\",\"2014-04-01T00:00:00\",\"2014-07-01T00:00:00\",\"2015-04-01T00:00:00\",\"2015-07-01T00:00:00\",\"2016-01-01T00:00:00\",\"2016-04-01T00:00:00\",\"2016-07-01T00:00:00\",\"2017-01-01T00:00:00\",\"2017-04-01T00:00:00\",\"2017-07-01T00:00:00\",\"2018-01-01T00:00:00\",\"2018-04-01T00:00:00\",\"2018-07-01T00:00:00\",\"2019-01-01T00:00:00\",\"2019-04-01T00:00:00\",\"2019-07-01T00:00:00\",\"2020-01-01T00:00:00\",\"2020-04-01T00:00:00\",\"2020-07-01T00:00:00\",\"2021-01-01T00:00:00\",\"2021-04-01T00:00:00\",\"2021-07-01T00:00:00\",\"2022-01-01T00:00:00\",\"2022-04-01T00:00:00\",\"2022-07-01T00:00:00\",\"2023-01-01T00:00:00\",\"2023-04-01T00:00:00\",\"2023-04-01T00:00:00\",\"2023-07-01T00:00:00\",\"2023-07-01T00:00:00\",\"2024-01-01T00:00:00\"],\"y\":[3.357793986287837,5.589489718202589,5.544807598931779,3.9830517406747683,3.277457623937079,3.0359438643003367,2.881200259906492,2.52573560747398,2.5099180494020215,2.117035430101604,1.6286326378539493,0.8708992707479563,0.20612474486337135,1.5086094782292045,1.0877734887837465,0.5754941648622545,0.9031673588831552,1.0079464410468018,0.22458494428019105,0.3096553472245898,0.3577115817898792,0.3051034964627791,0.3098919101599867,0.4909781882414576,2.309002460809333,2.16102838486874,2.064608905551846,2.1734140456515703,2.694544330452565,3.1343925514189968,3.586578439452626,3.917076370715742,4.2541569579941845,3.4018461428641538,4.228880012172053,4.832776220162389,6.054834234198005,5.354343854803389,1.9213742063521628,6.51867340545206,6.180572237335013,6.180572237335013,8.687586354757254,8.687586354757254,11.752201218602941],\"type\":\"scatter\"},{\"legendgroup\":\"VICI PROPERTIES INC.SIC: 6798 - REAL ESTATE INVESTMENT TRUSTS\",\"line\":{\"color\":\"#636EFA\"},\"mode\":\"lines+markers\",\"name\":\"VICI PROPERTIES INC.SIC: 6798 - REAL ESTATE INVESTMENT TRUSTS\",\"visible\":false,\"x\":[\"2018-01-01T00:00:00\",\"2018-04-01T00:00:00\",\"2018-07-01T00:00:00\",\"2019-01-01T00:00:00\",\"2019-04-01T00:00:00\",\"2019-07-01T00:00:00\",\"2020-01-01T00:00:00\",\"2020-04-01T00:00:00\",\"2020-07-01T00:00:00\",\"2021-01-01T00:00:00\",\"2021-04-01T00:00:00\",\"2021-07-01T00:00:00\",\"2022-01-01T00:00:00\",\"2022-04-01T00:00:00\",\"2022-07-01T00:00:00\",\"2023-01-01T00:00:00\",\"2023-04-01T00:00:00\",\"2023-04-01T00:00:00\",\"2023-07-01T00:00:00\",\"2023-07-01T00:00:00\",\"2024-01-01T00:00:00\"],\"y\":[31.665848195570675,29.344548216496005,28.322124226437385,26.21175434734757,26.356481717857637,29.380659975133028,146.10510550872678,42.81633516716039,19.813278008298756,22.213701062998595,21.56471862781221,34.61672198067496,22.08637873754153,52.42129773119728,52.54333563206011,28.26165122389711,22.76584039289005,22.76584039289005,26.91959078155049,26.91959078155049,25.774627688080734],\"type\":\"scatter\"},{\"legendgroup\":\"Ventas, Inc.SIC: 6798 - REAL ESTATE INVESTMENT TRUSTS\",\"line\":{\"color\":\"#EF553B\"},\"mode\":\"lines+markers\",\"name\":\"Ventas, Inc.SIC: 6798 - REAL ESTATE INVESTMENT TRUSTS\",\"visible\":false,\"x\":[\"2009-04-01T00:00:00\",\"2009-07-01T00:00:00\",\"2010-01-01T00:00:00\",\"2010-04-01T00:00:00\",\"2010-07-01T00:00:00\",\"2011-01-01T00:00:00\",\"2011-04-01T00:00:00\",\"2011-07-01T00:00:00\"],\"y\":[35.69996559782673,38.67177124115072,45.70827185587965,44.38755771713954,43.46314732295212,46.49013567542767,73.19638186573671,41.75474550076143],\"type\":\"scatter\"},{\"legendgroup\":\"WELLTOWER INC.SIC: 6798 - REAL ESTATE INVESTMENT TRUSTS\",\"line\":{\"color\":\"#00CC96\"},\"mode\":\"lines+markers\",\"name\":\"WELLTOWER INC.SIC: 6798 - REAL ESTATE INVESTMENT TRUSTS\",\"visible\":false,\"x\":[],\"y\":[],\"type\":\"scatter\"},{\"legendgroup\":\"WEYERHAEUSER COSIC: 6798 - REAL ESTATE INVESTMENT TRUSTS\",\"line\":{\"color\":\"#AB63FA\"},\"mode\":\"lines+markers\",\"name\":\"WEYERHAEUSER COSIC: 6798 - REAL ESTATE INVESTMENT TRUSTS\",\"visible\":false,\"x\":[\"2010-07-01T00:00:00\",\"2011-01-01T00:00:00\",\"2011-04-01T00:00:00\",\"2011-07-01T00:00:00\",\"2012-01-01T00:00:00\",\"2012-04-01T00:00:00\",\"2012-07-01T00:00:00\",\"2013-01-01T00:00:00\",\"2013-04-01T00:00:00\",\"2013-07-01T00:00:00\",\"2014-04-01T00:00:00\",\"2014-07-01T00:00:00\",\"2015-01-01T00:00:00\",\"2015-04-01T00:00:00\",\"2015-07-01T00:00:00\",\"2016-01-01T00:00:00\",\"2016-04-01T00:00:00\",\"2016-07-01T00:00:00\",\"2017-01-01T00:00:00\",\"2017-04-01T00:00:00\",\"2017-07-01T00:00:00\",\"2018-01-01T00:00:00\",\"2018-04-01T00:00:00\",\"2018-07-01T00:00:00\",\"2019-01-01T00:00:00\",\"2019-07-01T00:00:00\",\"2020-01-01T00:00:00\",\"2020-04-01T00:00:00\",\"2020-07-01T00:00:00\",\"2021-01-01T00:00:00\",\"2021-04-01T00:00:00\",\"2021-07-01T00:00:00\",\"2022-01-01T00:00:00\",\"2022-04-01T00:00:00\",\"2022-07-01T00:00:00\",\"2023-01-01T00:00:00\",\"2023-04-01T00:00:00\",\"2023-04-01T00:00:00\",\"2023-07-01T00:00:00\",\"2023-07-01T00:00:00\",\"2024-01-01T00:00:00\"],\"y\":[22.755741127348642,48.4375,65.8307210031348,54.86486486486486,67.96875,58.053691275167786,46.25668449197861,36.283185840707965,45.40389972144847,33.2703213610586,25.499231950844855,9.395604395604396,45.108695652173914,41.10576923076923,34.44227005870842,54.49438202247191,45.633187772925766,36.39291465378422,38.671875,52.36842105263158,56.25,25.69060773480663,23.994811932555123,24.438573315719946,-58.79120879120879,44.49877750611247,36.170212765957444,45.853658536585364,37.609841827768015,10.394736842105264,8.413719185423366,9.418116376724655,8.540925266903914,8.077830188679245,10.731707317073171,30.4147465437788,23.333333333333332,23.333333333333332,23.15112540192926,23.15112540192926,37.01657458563536],\"type\":\"scatter\"}],                        {\"template\":{\"data\":{\"histogram2dcontour\":[{\"type\":\"histogram2dcontour\",\"colorbar\":{\"outlinewidth\":0,\"ticks\":\"\"},\"colorscale\":[[0.0,\"#0d0887\"],[0.1111111111111111,\"#46039f\"],[0.2222222222222222,\"#7201a8\"],[0.3333333333333333,\"#9c179e\"],[0.4444444444444444,\"#bd3786\"],[0.5555555555555556,\"#d8576b\"],[0.6666666666666666,\"#ed7953\"],[0.7777777777777778,\"#fb9f3a\"],[0.8888888888888888,\"#fdca26\"],[1.0,\"#f0f921\"]]}],\"choropleth\":[{\"type\":\"choropleth\",\"colorbar\":{\"outlinewidth\":0,\"ticks\":\"\"}}],\"histogram2d\":[{\"type\":\"histogram2d\",\"colorbar\":{\"outlinewidth\":0,\"ticks\":\"\"},\"colorscale\":[[0.0,\"#0d0887\"],[0.1111111111111111,\"#46039f\"],[0.2222222222222222,\"#7201a8\"],[0.3333333333333333,\"#9c179e\"],[0.4444444444444444,\"#bd3786\"],[0.5555555555555556,\"#d8576b\"],[0.6666666666666666,\"#ed7953\"],[0.7777777777777778,\"#fb9f3a\"],[0.8888888888888888,\"#fdca26\"],[1.0,\"#f0f921\"]]}],\"heatmap\":[{\"type\":\"heatmap\",\"colorbar\":{\"outlinewidth\":0,\"ticks\":\"\"},\"colorscale\":[[0.0,\"#0d0887\"],[0.1111111111111111,\"#46039f\"],[0.2222222222222222,\"#7201a8\"],[0.3333333333333333,\"#9c179e\"],[0.4444444444444444,\"#bd3786\"],[0.5555555555555556,\"#d8576b\"],[0.6666666666666666,\"#ed7953\"],[0.7777777777777778,\"#fb9f3a\"],[0.8888888888888888,\"#fdca26\"],[1.0,\"#f0f921\"]]}],\"heatmapgl\":[{\"type\":\"heatmapgl\",\"colorbar\":{\"outlinewidth\":0,\"ticks\":\"\"},\"colorscale\":[[0.0,\"#0d0887\"],[0.1111111111111111,\"#46039f\"],[0.2222222222222222,\"#7201a8\"],[0.3333333333333333,\"#9c179e\"],[0.4444444444444444,\"#bd3786\"],[0.5555555555555556,\"#d8576b\"],[0.6666666666666666,\"#ed7953\"],[0.7777777777777778,\"#fb9f3a\"],[0.8888888888888888,\"#fdca26\"],[1.0,\"#f0f921\"]]}],\"contourcarpet\":[{\"type\":\"contourcarpet\",\"colorbar\":{\"outlinewidth\":0,\"ticks\":\"\"}}],\"contour\":[{\"type\":\"contour\",\"colorbar\":{\"outlinewidth\":0,\"ticks\":\"\"},\"colorscale\":[[0.0,\"#0d0887\"],[0.1111111111111111,\"#46039f\"],[0.2222222222222222,\"#7201a8\"],[0.3333333333333333,\"#9c179e\"],[0.4444444444444444,\"#bd3786\"],[0.5555555555555556,\"#d8576b\"],[0.6666666666666666,\"#ed7953\"],[0.7777777777777778,\"#fb9f3a\"],[0.8888888888888888,\"#fdca26\"],[1.0,\"#f0f921\"]]}],\"surface\":[{\"type\":\"surface\",\"colorbar\":{\"outlinewidth\":0,\"ticks\":\"\"},\"colorscale\":[[0.0,\"#0d0887\"],[0.1111111111111111,\"#46039f\"],[0.2222222222222222,\"#7201a8\"],[0.3333333333333333,\"#9c179e\"],[0.4444444444444444,\"#bd3786\"],[0.5555555555555556,\"#d8576b\"],[0.6666666666666666,\"#ed7953\"],[0.7777777777777778,\"#fb9f3a\"],[0.8888888888888888,\"#fdca26\"],[1.0,\"#f0f921\"]]}],\"mesh3d\":[{\"type\":\"mesh3d\",\"colorbar\":{\"outlinewidth\":0,\"ticks\":\"\"}}],\"scatter\":[{\"fillpattern\":{\"fillmode\":\"overlay\",\"size\":10,\"solidity\":0.2},\"type\":\"scatter\"}],\"parcoords\":[{\"type\":\"parcoords\",\"line\":{\"colorbar\":{\"outlinewidth\":0,\"ticks\":\"\"}}}],\"scatterpolargl\":[{\"type\":\"scatterpolargl\",\"marker\":{\"colorbar\":{\"outlinewidth\":0,\"ticks\":\"\"}}}],\"bar\":[{\"error_x\":{\"color\":\"#2a3f5f\"},\"error_y\":{\"color\":\"#2a3f5f\"},\"marker\":{\"line\":{\"color\":\"#E5ECF6\",\"width\":0.5},\"pattern\":{\"fillmode\":\"overlay\",\"size\":10,\"solidity\":0.2}},\"type\":\"bar\"}],\"scattergeo\":[{\"type\":\"scattergeo\",\"marker\":{\"colorbar\":{\"outlinewidth\":0,\"ticks\":\"\"}}}],\"scatterpolar\":[{\"type\":\"scatterpolar\",\"marker\":{\"colorbar\":{\"outlinewidth\":0,\"ticks\":\"\"}}}],\"histogram\":[{\"marker\":{\"pattern\":{\"fillmode\":\"overlay\",\"size\":10,\"solidity\":0.2}},\"type\":\"histogram\"}],\"scattergl\":[{\"type\":\"scattergl\",\"marker\":{\"colorbar\":{\"outlinewidth\":0,\"ticks\":\"\"}}}],\"scatter3d\":[{\"type\":\"scatter3d\",\"line\":{\"colorbar\":{\"outlinewidth\":0,\"ticks\":\"\"}},\"marker\":{\"colorbar\":{\"outlinewidth\":0,\"ticks\":\"\"}}}],\"scattermapbox\":[{\"type\":\"scattermapbox\",\"marker\":{\"colorbar\":{\"outlinewidth\":0,\"ticks\":\"\"}}}],\"scatterternary\":[{\"type\":\"scatterternary\",\"marker\":{\"colorbar\":{\"outlinewidth\":0,\"ticks\":\"\"}}}],\"scattercarpet\":[{\"type\":\"scattercarpet\",\"marker\":{\"colorbar\":{\"outlinewidth\":0,\"ticks\":\"\"}}}],\"carpet\":[{\"aaxis\":{\"endlinecolor\":\"#2a3f5f\",\"gridcolor\":\"white\",\"linecolor\":\"white\",\"minorgridcolor\":\"white\",\"startlinecolor\":\"#2a3f5f\"},\"baxis\":{\"endlinecolor\":\"#2a3f5f\",\"gridcolor\":\"white\",\"linecolor\":\"white\",\"minorgridcolor\":\"white\",\"startlinecolor\":\"#2a3f5f\"},\"type\":\"carpet\"}],\"table\":[{\"cells\":{\"fill\":{\"color\":\"#EBF0F8\"},\"line\":{\"color\":\"white\"}},\"header\":{\"fill\":{\"color\":\"#C8D4E3\"},\"line\":{\"color\":\"white\"}},\"type\":\"table\"}],\"barpolar\":[{\"marker\":{\"line\":{\"color\":\"#E5ECF6\",\"width\":0.5},\"pattern\":{\"fillmode\":\"overlay\",\"size\":10,\"solidity\":0.2}},\"type\":\"barpolar\"}],\"pie\":[{\"automargin\":true,\"type\":\"pie\"}]},\"layout\":{\"autotypenumbers\":\"strict\",\"colorway\":[\"#636efa\",\"#EF553B\",\"#00cc96\",\"#ab63fa\",\"#FFA15A\",\"#19d3f3\",\"#FF6692\",\"#B6E880\",\"#FF97FF\",\"#FECB52\"],\"font\":{\"color\":\"#2a3f5f\"},\"hovermode\":\"closest\",\"hoverlabel\":{\"align\":\"left\"},\"paper_bgcolor\":\"white\",\"plot_bgcolor\":\"#E5ECF6\",\"polar\":{\"bgcolor\":\"#E5ECF6\",\"angularaxis\":{\"gridcolor\":\"white\",\"linecolor\":\"white\",\"ticks\":\"\"},\"radialaxis\":{\"gridcolor\":\"white\",\"linecolor\":\"white\",\"ticks\":\"\"}},\"ternary\":{\"bgcolor\":\"#E5ECF6\",\"aaxis\":{\"gridcolor\":\"white\",\"linecolor\":\"white\",\"ticks\":\"\"},\"baxis\":{\"gridcolor\":\"white\",\"linecolor\":\"white\",\"ticks\":\"\"},\"caxis\":{\"gridcolor\":\"white\",\"linecolor\":\"white\",\"ticks\":\"\"}},\"coloraxis\":{\"colorbar\":{\"outlinewidth\":0,\"ticks\":\"\"}},\"colorscale\":{\"sequential\":[[0.0,\"#0d0887\"],[0.1111111111111111,\"#46039f\"],[0.2222222222222222,\"#7201a8\"],[0.3333333333333333,\"#9c179e\"],[0.4444444444444444,\"#bd3786\"],[0.5555555555555556,\"#d8576b\"],[0.6666666666666666,\"#ed7953\"],[0.7777777777777778,\"#fb9f3a\"],[0.8888888888888888,\"#fdca26\"],[1.0,\"#f0f921\"]],\"sequentialminus\":[[0.0,\"#0d0887\"],[0.1111111111111111,\"#46039f\"],[0.2222222222222222,\"#7201a8\"],[0.3333333333333333,\"#9c179e\"],[0.4444444444444444,\"#bd3786\"],[0.5555555555555556,\"#d8576b\"],[0.6666666666666666,\"#ed7953\"],[0.7777777777777778,\"#fb9f3a\"],[0.8888888888888888,\"#fdca26\"],[1.0,\"#f0f921\"]],\"diverging\":[[0,\"#8e0152\"],[0.1,\"#c51b7d\"],[0.2,\"#de77ae\"],[0.3,\"#f1b6da\"],[0.4,\"#fde0ef\"],[0.5,\"#f7f7f7\"],[0.6,\"#e6f5d0\"],[0.7,\"#b8e186\"],[0.8,\"#7fbc41\"],[0.9,\"#4d9221\"],[1,\"#276419\"]]},\"xaxis\":{\"gridcolor\":\"white\",\"linecolor\":\"white\",\"ticks\":\"\",\"title\":{\"standoff\":15},\"zerolinecolor\":\"white\",\"automargin\":true,\"zerolinewidth\":2},\"yaxis\":{\"gridcolor\":\"white\",\"linecolor\":\"white\",\"ticks\":\"\",\"title\":{\"standoff\":15},\"zerolinecolor\":\"white\",\"automargin\":true,\"zerolinewidth\":2},\"scene\":{\"xaxis\":{\"backgroundcolor\":\"#E5ECF6\",\"gridcolor\":\"white\",\"linecolor\":\"white\",\"showbackground\":true,\"ticks\":\"\",\"zerolinecolor\":\"white\",\"gridwidth\":2},\"yaxis\":{\"backgroundcolor\":\"#E5ECF6\",\"gridcolor\":\"white\",\"linecolor\":\"white\",\"showbackground\":true,\"ticks\":\"\",\"zerolinecolor\":\"white\",\"gridwidth\":2},\"zaxis\":{\"backgroundcolor\":\"#E5ECF6\",\"gridcolor\":\"white\",\"linecolor\":\"white\",\"showbackground\":true,\"ticks\":\"\",\"zerolinecolor\":\"white\",\"gridwidth\":2}},\"shapedefaults\":{\"line\":{\"color\":\"#2a3f5f\"}},\"annotationdefaults\":{\"arrowcolor\":\"#2a3f5f\",\"arrowhead\":0,\"arrowwidth\":1},\"geo\":{\"bgcolor\":\"white\",\"landcolor\":\"#E5ECF6\",\"subunitcolor\":\"white\",\"showland\":true,\"showlakes\":true,\"lakecolor\":\"white\"},\"title\":{\"x\":0.05},\"mapbox\":{\"style\":\"light\"}}},\"updatemenus\":[{\"buttons\":[{\"args\":[{\"visible\":[true,true,true,true,true,true,true,true,true,true,true,true,true,true,true,true,true,true,true,true,true,true,true,true,false,false,false,false,false,false,false,false,false,false,false,false,false,false,false,false,false,false,false,false,false,false,false,false,false,false,false,false,false,false,false,false,false,false,false,false,false,false,false,false,false,false,false,false,false,false,false,false]}],\"label\":\"facts.us-gaap.InterestExpense.units.USD\",\"method\":\"restyle\"},{\"args\":[{\"visible\":[false,false,false,false,false,false,false,false,false,false,false,false,false,false,false,false,false,false,false,false,false,false,false,false,true,true,true,true,true,true,true,true,true,true,true,true,true,true,true,true,true,true,true,true,true,true,true,true,false,false,false,false,false,false,false,false,false,false,false,false,false,false,false,false,false,false,false,false,false,false,false,false]}],\"label\":\"facts.us-gaap.NetIncomeLoss.units.USD\",\"method\":\"restyle\"},{\"args\":[{\"visible\":[false,false,false,false,false,false,false,false,false,false,false,false,false,false,false,false,false,false,false,false,false,false,false,false,false,false,false,false,false,false,false,false,false,false,false,false,false,false,false,false,false,false,false,false,false,false,false,false,true,true,true,true,true,true,true,true,true,true,true,true,true,true,true,true,true,true,true,true,true,true,true,true]}],\"label\":\"interest_fraction\",\"method\":\"restyle\"}],\"direction\":\"down\",\"pad\":{\"r\":10,\"t\":10},\"showactive\":true,\"x\":0,\"xanchor\":\"left\",\"y\":1.1,\"yanchor\":\"top\"}],\"autosize\":true},                        {\"responsive\": true}                    ).then(function(){\n",
       "                            \n",
       "var gd = document.getElementById('cf0316e2-0a2d-45ff-95c7-79843392538b');\n",
       "var x = new MutationObserver(function (mutations, observer) {{\n",
       "        var display = window.getComputedStyle(gd).display;\n",
       "        if (!display || display === 'none') {{\n",
       "            console.log([gd, 'removed!']);\n",
       "            Plotly.purge(gd);\n",
       "            observer.disconnect();\n",
       "        }}\n",
       "}});\n",
       "\n",
       "// Listen for the removal of the full notebook cells\n",
       "var notebookContainer = gd.closest('#notebook-container');\n",
       "if (notebookContainer) {{\n",
       "    x.observe(notebookContainer, {childList: true});\n",
       "}}\n",
       "\n",
       "// Listen for the clearing of the current output cell\n",
       "var outputEl = gd.closest('.output');\n",
       "if (outputEl) {{\n",
       "    x.observe(outputEl, {childList: true});\n",
       "}}\n",
       "\n",
       "                        })                };                });            </script>        </div>"
      ]
     },
     "metadata": {},
     "output_type": "display_data"
    }
   ],
   "source": [
    "# Define the y-values\n",
    "y_values = plotting_values  # replace with your y-value column names\n",
    "title_list = plotting_data[\"company\"].unique().tolist()\n",
    "\n",
    "# Define the colormap\n",
    "color_sequence = px.colors.qualitative.Plotly\n",
    "\n",
    "# Create the base figure\n",
    "fig = go.Figure()\n",
    "\n",
    "# Add traces for each y-value and company\n",
    "for y_value in y_values:\n",
    "    for i, company in enumerate(title_list):\n",
    "        fig.add_trace(\n",
    "            go.Scatter(\n",
    "                x=plotting_data[\n",
    "                    (plotting_data[\"company\"] == company) & (plotting_data[y_value].notna())\n",
    "                ][\"date\"],\n",
    "                y=plotting_data[\n",
    "                    (plotting_data[\"company\"] == company) & (plotting_data[y_value].notna())\n",
    "                ][y_value],\n",
    "                mode=\"lines+markers\",\n",
    "                name=company,\n",
    "                legendgroup=company,\n",
    "                line=dict(color=color_sequence[i % len(color_sequence)]),\n",
    "                visible=(\n",
    "                    y_value == y_values[0]\n",
    "                ),  # only the traces for the first y-value are visible initially\n",
    "            )\n",
    "        )\n",
    "\n",
    "# Define the dropdown menu\n",
    "dropdown_menu = [\n",
    "    dict(\n",
    "        args=[\n",
    "            {\"visible\": [y_value == y for y in y_values for _ in title_list]}\n",
    "        ],  # update the 'visible' attribute of the traces\n",
    "        label=y_value,\n",
    "        method=\"restyle\",\n",
    "    )\n",
    "    for y_value in y_values\n",
    "]\n",
    "\n",
    "# Update the layout\n",
    "fig.update_layout(\n",
    "    updatemenus=[\n",
    "        dict(\n",
    "            buttons=dropdown_menu,\n",
    "            direction=\"down\",\n",
    "            pad={\"r\": 10, \"t\": 10},\n",
    "            showactive=True,\n",
    "            x=0,\n",
    "            xanchor=\"left\",\n",
    "            y=1.1,\n",
    "            yanchor=\"top\",\n",
    "        ),\n",
    "    ],\n",
    "    autosize=True,\n",
    ")\n",
    "\n",
    "fig.show()"
   ]
  },
  {
   "cell_type": "code",
   "execution_count": null,
   "metadata": {},
   "outputs": [],
   "source": []
  }
 ],
 "metadata": {
  "kernelspec": {
   "display_name": "Python 3",
   "language": "python",
   "name": "python3"
  },
  "language_info": {
   "codemirror_mode": {
    "name": "ipython",
    "version": 3
   },
   "file_extension": ".py",
   "mimetype": "text/x-python",
   "name": "python",
   "nbconvert_exporter": "python",
   "pygments_lexer": "ipython3",
   "version": "3.10.6"
  }
 },
 "nbformat": 4,
 "nbformat_minor": 2
}
